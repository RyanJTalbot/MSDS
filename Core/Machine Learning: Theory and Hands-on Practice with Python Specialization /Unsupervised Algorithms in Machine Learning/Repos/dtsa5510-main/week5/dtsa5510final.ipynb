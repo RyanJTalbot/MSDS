{
 "cells": [
  {
   "cell_type": "code",
   "execution_count": null,
   "metadata": {
    "id": "Ntd-Uqh2sxT_"
   },
   "outputs": [],
   "source": [
    "import pandas as pd\n",
    "import numpy as np\n",
    "import seaborn as sns\n",
    "import matplotlib.pyplot as plt\n",
    "%matplotlib inline\n",
    "import warnings\n",
    "warnings.filterwarnings(\"ignore\")\n",
    "from sklearn.ensemble import RandomForestClassifier\n",
    "from sklearn.model_selection import train_test_split\n",
    "from sklearn.cluster import AgglomerativeClustering, KMeans, Birch\n",
    "from sklearn.mixture import GaussianMixture\n",
    "from sklearn.preprocessing import StandardScaler\n",
    "from sklearn.metrics import accuracy_score"
   ]
  },
  {
   "cell_type": "markdown",
   "metadata": {
    "id": "9lb8hiz9-Wf5"
   },
   "source": [
    "# Step 1\n",
    "**Gather data, determine the method of data collection and provenance of the data** \n"
   ]
  },
  {
   "cell_type": "markdown",
   "metadata": {
    "id": "QQt4h4y3-nAU"
   },
   "source": [
    "I am using data from https://www.kaggle.com/datasets/andrewmvd/heart-failure-clinical-data?datasetId=727551, which dataset is from UCI Machine Learning Repository https://archive.ics.uci.edu/ml/datasets/Heart+failure+clinical+records.  \n",
    "The original dataset version was collected by Tanvir Ahmad, Assia Munir, Sajjad Haider Bhatti, Muhammad Aftab, and Muhammad Ali Raza (Government College University, Faisalabad, Pakistan) and made available by them on FigShare under the Attribution 4.0 International (CC BY 4.0: freedom to share and adapt the material) copyright in July 2017.  \n",
    "The current version of the dataset was elaborated by Davide Chicco (Krembil Research Institute, Toronto, Canada) and donated to the University of California Irvine Machine Learning Repository under the same Attribution 4.0 International (CC BY 4.0) copyright in January 2020.  \n",
    "\n"
   ]
  },
  {
   "cell_type": "markdown",
   "metadata": {
    "id": "PcFw1g0k_p6h"
   },
   "source": [
    "# Step 2\n",
    "**Identify an Unsupervised Learning Problem**"
   ]
  },
  {
   "cell_type": "markdown",
   "metadata": {
    "id": "vPiocc-bAKTp"
   },
   "source": [
    "Refer https://archive.ics.uci.edu/ml/datasets/Heart+failure+clinical+records.  \n",
    "This dataset contains Thirteen (13) clinical features:  \n",
    "  \n",
    "- age: age of the patient (years). \n",
    "- anaemia: decrease of red blood cells or hemoglobin (boolean). \n",
    "- high blood pressure: if the patient has hypertension (boolean). \n",
    "- creatinine phosphokinase (CPK): level of the CPK enzyme in the blood (mcg/L). \n",
    "- diabetes: if the patient has diabetes (boolean). \n",
    "- ejection fraction: percentage of blood leaving the heart at each contraction (percentage). \n",
    "- platelets: platelets in the blood (kiloplatelets/mL). \n",
    "- sex: woman or man (binary). \n",
    "- serum creatinine: level of serum creatinine in the blood (mg/dL). \n",
    "- serum sodium: level of serum sodium in the blood (mEq/L). \n",
    "- smoking: if the patient smokes or not (boolean). \n",
    "- time: follow-up period (days). \n",
    "- [target] death event: if the patient deceased during the follow-up period (boolean). \n",
    "  \n",
    "It can be used for both classification (supervised learning) and clustering (unsupervised learning), it is similar with our week2 programming assignment, that although the dataset has the target label - death event, we can apply clustering algorithm, permutate the model's labels to match original labels, and use accuracy score to measure the performance of clustering models.  \n",
    "Our target - death event is a boolean variable, when fitting clustering model, as clustering model's labels (0,1,2,...) do not have real world meaning, we need to permutate to know if each label corresponds to death event 0 or 1 to maximizing performance metrics such as accuracy score.  \n",
    "I will try multiple clustering models (K-Means, Agglomerative Clustering, Birch, GaussianMixture) and compare with one classification model (RandomForestClassifier). "
   ]
  },
  {
   "cell_type": "markdown",
   "metadata": {
    "id": "8wcxKkXhFc8c"
   },
   "source": [
    "# Step 3\n",
    "**Exploratory Data Analysis (EDA) - Inspect, Visualize, and Clean the Data**"
   ]
  },
  {
   "cell_type": "markdown",
   "metadata": {
    "id": "MuphXq2hFk4v"
   },
   "source": [
    "The dataset is first downloaded and uploaded to my github repo so I can read_csv from http link"
   ]
  },
  {
   "cell_type": "code",
   "execution_count": null,
   "metadata": {
    "id": "OxM9hqTGs0u1"
   },
   "outputs": [],
   "source": [
    "df = pd.read_csv('https://raw.githubusercontent.com/gt2onew/dtsa5510/main/week5/heart_failure_clinical_records_dataset.csv')"
   ]
  },
  {
   "cell_type": "code",
   "execution_count": null,
   "metadata": {
    "colab": {
     "base_uri": "https://localhost:8080/"
    },
    "id": "VW-OvuCQs6cN",
    "outputId": "d22c32a4-48a7-46dd-c3c2-87a9e491f015"
   },
   "outputs": [
    {
     "name": "stdout",
     "output_type": "stream",
     "text": [
      "<class 'pandas.core.frame.DataFrame'>\n",
      "RangeIndex: 299 entries, 0 to 298\n",
      "Data columns (total 13 columns):\n",
      " #   Column                    Non-Null Count  Dtype  \n",
      "---  ------                    --------------  -----  \n",
      " 0   age                       299 non-null    float64\n",
      " 1   anaemia                   299 non-null    int64  \n",
      " 2   creatinine_phosphokinase  299 non-null    int64  \n",
      " 3   diabetes                  299 non-null    int64  \n",
      " 4   ejection_fraction         299 non-null    int64  \n",
      " 5   high_blood_pressure       299 non-null    int64  \n",
      " 6   platelets                 299 non-null    float64\n",
      " 7   serum_creatinine          299 non-null    float64\n",
      " 8   serum_sodium              299 non-null    int64  \n",
      " 9   sex                       299 non-null    int64  \n",
      " 10  smoking                   299 non-null    int64  \n",
      " 11  time                      299 non-null    int64  \n",
      " 12  DEATH_EVENT               299 non-null    int64  \n",
      "dtypes: float64(3), int64(10)\n",
      "memory usage: 30.5 KB\n"
     ]
    }
   ],
   "source": [
    "df.info()"
   ]
  },
  {
   "cell_type": "code",
   "execution_count": null,
   "metadata": {
    "colab": {
     "base_uri": "https://localhost:8080/",
     "height": 270
    },
    "id": "BCVs6fCCtAOy",
    "outputId": "609d6c58-3cce-412a-8b03-ab6396025991"
   },
   "outputs": [
    {
     "data": {
      "text/html": [
       "\n",
       "  <div id=\"df-e59d275a-bf93-49a7-9b64-a1848c7b4b83\">\n",
       "    <div class=\"colab-df-container\">\n",
       "      <div>\n",
       "<style scoped>\n",
       "    .dataframe tbody tr th:only-of-type {\n",
       "        vertical-align: middle;\n",
       "    }\n",
       "\n",
       "    .dataframe tbody tr th {\n",
       "        vertical-align: top;\n",
       "    }\n",
       "\n",
       "    .dataframe thead th {\n",
       "        text-align: right;\n",
       "    }\n",
       "</style>\n",
       "<table border=\"1\" class=\"dataframe\">\n",
       "  <thead>\n",
       "    <tr style=\"text-align: right;\">\n",
       "      <th></th>\n",
       "      <th>age</th>\n",
       "      <th>anaemia</th>\n",
       "      <th>creatinine_phosphokinase</th>\n",
       "      <th>diabetes</th>\n",
       "      <th>ejection_fraction</th>\n",
       "      <th>high_blood_pressure</th>\n",
       "      <th>platelets</th>\n",
       "      <th>serum_creatinine</th>\n",
       "      <th>serum_sodium</th>\n",
       "      <th>sex</th>\n",
       "      <th>smoking</th>\n",
       "      <th>time</th>\n",
       "      <th>DEATH_EVENT</th>\n",
       "    </tr>\n",
       "  </thead>\n",
       "  <tbody>\n",
       "    <tr>\n",
       "      <th>0</th>\n",
       "      <td>75.0</td>\n",
       "      <td>0</td>\n",
       "      <td>582</td>\n",
       "      <td>0</td>\n",
       "      <td>20</td>\n",
       "      <td>1</td>\n",
       "      <td>265000.00</td>\n",
       "      <td>1.9</td>\n",
       "      <td>130</td>\n",
       "      <td>1</td>\n",
       "      <td>0</td>\n",
       "      <td>4</td>\n",
       "      <td>1</td>\n",
       "    </tr>\n",
       "    <tr>\n",
       "      <th>1</th>\n",
       "      <td>55.0</td>\n",
       "      <td>0</td>\n",
       "      <td>7861</td>\n",
       "      <td>0</td>\n",
       "      <td>38</td>\n",
       "      <td>0</td>\n",
       "      <td>263358.03</td>\n",
       "      <td>1.1</td>\n",
       "      <td>136</td>\n",
       "      <td>1</td>\n",
       "      <td>0</td>\n",
       "      <td>6</td>\n",
       "      <td>1</td>\n",
       "    </tr>\n",
       "    <tr>\n",
       "      <th>2</th>\n",
       "      <td>65.0</td>\n",
       "      <td>0</td>\n",
       "      <td>146</td>\n",
       "      <td>0</td>\n",
       "      <td>20</td>\n",
       "      <td>0</td>\n",
       "      <td>162000.00</td>\n",
       "      <td>1.3</td>\n",
       "      <td>129</td>\n",
       "      <td>1</td>\n",
       "      <td>1</td>\n",
       "      <td>7</td>\n",
       "      <td>1</td>\n",
       "    </tr>\n",
       "    <tr>\n",
       "      <th>3</th>\n",
       "      <td>50.0</td>\n",
       "      <td>1</td>\n",
       "      <td>111</td>\n",
       "      <td>0</td>\n",
       "      <td>20</td>\n",
       "      <td>0</td>\n",
       "      <td>210000.00</td>\n",
       "      <td>1.9</td>\n",
       "      <td>137</td>\n",
       "      <td>1</td>\n",
       "      <td>0</td>\n",
       "      <td>7</td>\n",
       "      <td>1</td>\n",
       "    </tr>\n",
       "    <tr>\n",
       "      <th>4</th>\n",
       "      <td>65.0</td>\n",
       "      <td>1</td>\n",
       "      <td>160</td>\n",
       "      <td>1</td>\n",
       "      <td>20</td>\n",
       "      <td>0</td>\n",
       "      <td>327000.00</td>\n",
       "      <td>2.7</td>\n",
       "      <td>116</td>\n",
       "      <td>0</td>\n",
       "      <td>0</td>\n",
       "      <td>8</td>\n",
       "      <td>1</td>\n",
       "    </tr>\n",
       "  </tbody>\n",
       "</table>\n",
       "</div>\n",
       "      <button class=\"colab-df-convert\" onclick=\"convertToInteractive('df-e59d275a-bf93-49a7-9b64-a1848c7b4b83')\"\n",
       "              title=\"Convert this dataframe to an interactive table.\"\n",
       "              style=\"display:none;\">\n",
       "        \n",
       "  <svg xmlns=\"http://www.w3.org/2000/svg\" height=\"24px\"viewBox=\"0 0 24 24\"\n",
       "       width=\"24px\">\n",
       "    <path d=\"M0 0h24v24H0V0z\" fill=\"none\"/>\n",
       "    <path d=\"M18.56 5.44l.94 2.06.94-2.06 2.06-.94-2.06-.94-.94-2.06-.94 2.06-2.06.94zm-11 1L8.5 8.5l.94-2.06 2.06-.94-2.06-.94L8.5 2.5l-.94 2.06-2.06.94zm10 10l.94 2.06.94-2.06 2.06-.94-2.06-.94-.94-2.06-.94 2.06-2.06.94z\"/><path d=\"M17.41 7.96l-1.37-1.37c-.4-.4-.92-.59-1.43-.59-.52 0-1.04.2-1.43.59L10.3 9.45l-7.72 7.72c-.78.78-.78 2.05 0 2.83L4 21.41c.39.39.9.59 1.41.59.51 0 1.02-.2 1.41-.59l7.78-7.78 2.81-2.81c.8-.78.8-2.07 0-2.86zM5.41 20L4 18.59l7.72-7.72 1.47 1.35L5.41 20z\"/>\n",
       "  </svg>\n",
       "      </button>\n",
       "      \n",
       "  <style>\n",
       "    .colab-df-container {\n",
       "      display:flex;\n",
       "      flex-wrap:wrap;\n",
       "      gap: 12px;\n",
       "    }\n",
       "\n",
       "    .colab-df-convert {\n",
       "      background-color: #E8F0FE;\n",
       "      border: none;\n",
       "      border-radius: 50%;\n",
       "      cursor: pointer;\n",
       "      display: none;\n",
       "      fill: #1967D2;\n",
       "      height: 32px;\n",
       "      padding: 0 0 0 0;\n",
       "      width: 32px;\n",
       "    }\n",
       "\n",
       "    .colab-df-convert:hover {\n",
       "      background-color: #E2EBFA;\n",
       "      box-shadow: 0px 1px 2px rgba(60, 64, 67, 0.3), 0px 1px 3px 1px rgba(60, 64, 67, 0.15);\n",
       "      fill: #174EA6;\n",
       "    }\n",
       "\n",
       "    [theme=dark] .colab-df-convert {\n",
       "      background-color: #3B4455;\n",
       "      fill: #D2E3FC;\n",
       "    }\n",
       "\n",
       "    [theme=dark] .colab-df-convert:hover {\n",
       "      background-color: #434B5C;\n",
       "      box-shadow: 0px 1px 3px 1px rgba(0, 0, 0, 0.15);\n",
       "      filter: drop-shadow(0px 1px 2px rgba(0, 0, 0, 0.3));\n",
       "      fill: #FFFFFF;\n",
       "    }\n",
       "  </style>\n",
       "\n",
       "      <script>\n",
       "        const buttonEl =\n",
       "          document.querySelector('#df-e59d275a-bf93-49a7-9b64-a1848c7b4b83 button.colab-df-convert');\n",
       "        buttonEl.style.display =\n",
       "          google.colab.kernel.accessAllowed ? 'block' : 'none';\n",
       "\n",
       "        async function convertToInteractive(key) {\n",
       "          const element = document.querySelector('#df-e59d275a-bf93-49a7-9b64-a1848c7b4b83');\n",
       "          const dataTable =\n",
       "            await google.colab.kernel.invokeFunction('convertToInteractive',\n",
       "                                                     [key], {});\n",
       "          if (!dataTable) return;\n",
       "\n",
       "          const docLinkHtml = 'Like what you see? Visit the ' +\n",
       "            '<a target=\"_blank\" href=https://colab.research.google.com/notebooks/data_table.ipynb>data table notebook</a>'\n",
       "            + ' to learn more about interactive tables.';\n",
       "          element.innerHTML = '';\n",
       "          dataTable['output_type'] = 'display_data';\n",
       "          await google.colab.output.renderOutput(dataTable, element);\n",
       "          const docLink = document.createElement('div');\n",
       "          docLink.innerHTML = docLinkHtml;\n",
       "          element.appendChild(docLink);\n",
       "        }\n",
       "      </script>\n",
       "    </div>\n",
       "  </div>\n",
       "  "
      ],
      "text/plain": [
       "    age  anaemia  creatinine_phosphokinase  diabetes  ejection_fraction  \\\n",
       "0  75.0        0                       582         0                 20   \n",
       "1  55.0        0                      7861         0                 38   \n",
       "2  65.0        0                       146         0                 20   \n",
       "3  50.0        1                       111         0                 20   \n",
       "4  65.0        1                       160         1                 20   \n",
       "\n",
       "   high_blood_pressure  platelets  serum_creatinine  serum_sodium  sex  \\\n",
       "0                    1  265000.00               1.9           130    1   \n",
       "1                    0  263358.03               1.1           136    1   \n",
       "2                    0  162000.00               1.3           129    1   \n",
       "3                    0  210000.00               1.9           137    1   \n",
       "4                    0  327000.00               2.7           116    0   \n",
       "\n",
       "   smoking  time  DEATH_EVENT  \n",
       "0        0     4            1  \n",
       "1        0     6            1  \n",
       "2        1     7            1  \n",
       "3        0     7            1  \n",
       "4        0     8            1  "
      ]
     },
     "execution_count": 4,
     "metadata": {},
     "output_type": "execute_result"
    }
   ],
   "source": [
    "df.head()"
   ]
  },
  {
   "cell_type": "code",
   "execution_count": null,
   "metadata": {
    "colab": {
     "base_uri": "https://localhost:8080/"
    },
    "id": "6ihekRuNtDaA",
    "outputId": "2d808018-15fb-4bf1-f69e-6bbd3da94be0"
   },
   "outputs": [
    {
     "data": {
      "text/plain": [
       "0    203\n",
       "1     96\n",
       "Name: DEATH_EVENT, dtype: int64"
      ]
     },
     "execution_count": 5,
     "metadata": {},
     "output_type": "execute_result"
    }
   ],
   "source": [
    "df.DEATH_EVENT.value_counts()"
   ]
  },
  {
   "cell_type": "markdown",
   "metadata": {
    "id": "2UuFC-ABLa1o"
   },
   "source": [
    "Since this project's target is DEATH_EVENT and time captures the time at which the patient died or were censored. Using the time column as a feature is wrong, no end user will be able to provide you the value of time when using the model in real life, since it is unknown what time in the future the patient will die/get censored. As our goal is to predict to death or survival of a patient, the time should not be used as an input of the model.\n",
    "\n",
    "\n",
    "\n"
   ]
  },
  {
   "cell_type": "code",
   "execution_count": null,
   "metadata": {
    "id": "wU6okI2Kt3fj"
   },
   "outputs": [],
   "source": [
    "df.drop('time', axis=1, inplace=True)"
   ]
  },
  {
   "cell_type": "markdown",
   "metadata": {
    "id": "Kyo8wR-EepJC"
   },
   "source": [
    "**First let\\'s visualize each single feature's data distribution**"
   ]
  },
  {
   "cell_type": "code",
   "execution_count": null,
   "metadata": {
    "colab": {
     "base_uri": "https://localhost:8080/",
     "height": 283
    },
    "id": "yM75OVVNeh8y",
    "outputId": "ea2a9fb5-cf1c-4a7c-b919-099a1a6a4785"
   },
   "outputs": [
    {
     "data": {
      "text/plain": [
       "<matplotlib.axes._subplots.AxesSubplot at 0x7f02e9c6edd0>"
      ]
     },
     "execution_count": 7,
     "metadata": {},
     "output_type": "execute_result"
    },
    {
     "data": {
      "image/png": "[encoded data removed]",
      "text/plain": [
       "<Figure size 432x288 with 1 Axes>"
      ]
     },
     "metadata": {
      "needs_background": "light"
     },
     "output_type": "display_data"
    }
   ],
   "source": [
    "df.age.plot.hist()"
   ]
  },
  {
   "cell_type": "markdown",
   "metadata": {
    "id": "250T26XvfKVA"
   },
   "source": [
    "We can see most of samples from ages between 40 to 70"
   ]
  },
  {
   "cell_type": "code",
   "execution_count": null,
   "metadata": {
    "colab": {
     "base_uri": "https://localhost:8080/",
     "height": 387
    },
    "id": "Qtb83wLZeh6V",
    "outputId": "01402892-e8e7-411a-ed04-bc099ee47737"
   },
   "outputs": [
    {
     "data": {
      "text/plain": [
       "<seaborn.axisgrid.FacetGrid at 0x7f02e9c5a410>"
      ]
     },
     "execution_count": 8,
     "metadata": {},
     "output_type": "execute_result"
    },
    {
     "data": {
      "image/png": "[encoded data removed]",
      "text/plain": [
       "<Figure size 360x360 with 1 Axes>"
      ]
     },
     "metadata": {
      "needs_background": "light"
     },
     "output_type": "display_data"
    }
   ],
   "source": [
    "sns.catplot(x=\"anaemia\", kind=\"count\", palette=\"ch:.25\", data=df)\n"
   ]
  },
  {
   "cell_type": "markdown",
   "metadata": {
    "id": "E9S7GZI1frS3"
   },
   "source": [
    "feature 'anaemia' is boolean and each class has fair amount of representation in our dataset\n",
    "\n"
   ]
  },
  {
   "cell_type": "code",
   "execution_count": null,
   "metadata": {
    "colab": {
     "base_uri": "https://localhost:8080/",
     "height": 283
    },
    "id": "IFAwz-5deh2_",
    "outputId": "5dfc89dc-03ab-4160-880e-b5444cd6f4e3"
   },
   "outputs": [
    {
     "data": {
      "text/plain": [
       "<matplotlib.axes._subplots.AxesSubplot at 0x7f02e6e9a550>"
      ]
     },
     "execution_count": 9,
     "metadata": {},
     "output_type": "execute_result"
    },
    {
     "data": {
      "image/png": "[encoded data removed]",
      "text/plain": [
       "<Figure size 432x288 with 1 Axes>"
      ]
     },
     "metadata": {
      "needs_background": "light"
     },
     "output_type": "display_data"
    }
   ],
   "source": [
    "df.creatinine_phosphokinase.plot.hist(bins = 50)"
   ]
  },
  {
   "cell_type": "markdown",
   "metadata": {
    "id": "K9clyAuttbFc"
   },
   "source": [
    "feature 'creatinine_phosphokinase' is not categorical and highly skewed"
   ]
  },
  {
   "cell_type": "code",
   "execution_count": null,
   "metadata": {
    "colab": {
     "base_uri": "https://localhost:8080/",
     "height": 387
    },
    "id": "KuM9evHuehz8",
    "outputId": "a48ceb02-358e-4beb-d290-2a6f7409bb8a"
   },
   "outputs": [
    {
     "data": {
      "text/plain": [
       "<seaborn.axisgrid.FacetGrid at 0x7f02e6d5e8d0>"
      ]
     },
     "execution_count": 10,
     "metadata": {},
     "output_type": "execute_result"
    },
    {
     "data": {
      "image/png": "[encoded data removed]",
      "text/plain": [
       "<Figure size 360x360 with 1 Axes>"
      ]
     },
     "metadata": {
      "needs_background": "light"
     },
     "output_type": "display_data"
    }
   ],
   "source": [
    "sns.catplot(x=\"diabetes\", kind=\"count\", palette=\"ch:.25\", data=df)\n"
   ]
  },
  {
   "cell_type": "markdown",
   "metadata": {
    "id": "8I9z2btOuDyg"
   },
   "source": [
    "feature 'diabetes' is boolean and each class has fair amount of representation in our dataset\n"
   ]
  },
  {
   "cell_type": "code",
   "execution_count": null,
   "metadata": {
    "colab": {
     "base_uri": "https://localhost:8080/",
     "height": 283
    },
    "id": "80INKkZoehu0",
    "outputId": "016bd24c-270e-4a3c-e684-c1b2681d46ab"
   },
   "outputs": [
    {
     "data": {
      "text/plain": [
       "<matplotlib.axes._subplots.AxesSubplot at 0x7f02e6d33990>"
      ]
     },
     "execution_count": 11,
     "metadata": {},
     "output_type": "execute_result"
    },
    {
     "data": {
      "image/png": "[encoded data removed]",
      "text/plain": [
       "<Figure size 432x288 with 1 Axes>"
      ]
     },
     "metadata": {
      "needs_background": "light"
     },
     "output_type": "display_data"
    }
   ],
   "source": [
    "df.ejection_fraction.plot.hist(bins = 50)"
   ]
  },
  {
   "cell_type": "markdown",
   "metadata": {
    "id": "VRzF0J4UvCTg"
   },
   "source": [
    "feature 'ejection_fraction' is not categorical and seems have low skewness"
   ]
  },
  {
   "cell_type": "code",
   "execution_count": null,
   "metadata": {
    "colab": {
     "base_uri": "https://localhost:8080/",
     "height": 387
    },
    "id": "nTbXjSOjehrx",
    "outputId": "dd375aac-6a62-49e8-926f-588c6c05eadf"
   },
   "outputs": [
    {
     "data": {
      "text/plain": [
       "<seaborn.axisgrid.FacetGrid at 0x7f02e6c3aed0>"
      ]
     },
     "execution_count": 12,
     "metadata": {},
     "output_type": "execute_result"
    },
    {
     "data": {
      "image/png": "[encoded data removed]",
      "text/plain": [
       "<Figure size 360x360 with 1 Axes>"
      ]
     },
     "metadata": {
      "needs_background": "light"
     },
     "output_type": "display_data"
    }
   ],
   "source": [
    "sns.catplot(x=\"high_blood_pressure\", kind=\"count\", palette=\"ch:.25\", data=df)\n"
   ]
  },
  {
   "cell_type": "markdown",
   "metadata": {
    "id": "H8AN8CsnvRza"
   },
   "source": [
    "feature 'high_blood_pressure' is boolean and each class has fair amount of representation in our dataset"
   ]
  },
  {
   "cell_type": "code",
   "execution_count": null,
   "metadata": {
    "colab": {
     "base_uri": "https://localhost:8080/",
     "height": 283
    },
    "id": "-JJ7GWAIeho6",
    "outputId": "a962fc92-7ef0-4e97-c1c6-988f5a421173"
   },
   "outputs": [
    {
     "data": {
      "text/plain": [
       "<matplotlib.axes._subplots.AxesSubplot at 0x7f02e6c23e50>"
      ]
     },
     "execution_count": 13,
     "metadata": {},
     "output_type": "execute_result"
    },
    {
     "data": {
      "image/png": "[encoded data removed]",
      "text/plain": [
       "<Figure size 432x288 with 1 Axes>"
      ]
     },
     "metadata": {
      "needs_background": "light"
     },
     "output_type": "display_data"
    }
   ],
   "source": [
    "df.platelets.plot.hist(bins = 50)"
   ]
  },
  {
   "cell_type": "markdown",
   "metadata": {
    "id": "pe0QtQZqv1_D"
   },
   "source": [
    "feature 'platelets' is numeric and continuous"
   ]
  },
  {
   "cell_type": "code",
   "execution_count": null,
   "metadata": {
    "colab": {
     "base_uri": "https://localhost:8080/",
     "height": 283
    },
    "id": "F6-r_ZGXehl-",
    "outputId": "f690fce9-557c-494d-8ecd-74fa372fd47d"
   },
   "outputs": [
    {
     "data": {
      "text/plain": [
       "<matplotlib.axes._subplots.AxesSubplot at 0x7f02e6abb1d0>"
      ]
     },
     "execution_count": 14,
     "metadata": {},
     "output_type": "execute_result"
    },
    {
     "data": {
      "image/png": "[encoded data removed]",
      "text/plain": [
       "<Figure size 432x288 with 1 Axes>"
      ]
     },
     "metadata": {
      "needs_background": "light"
     },
     "output_type": "display_data"
    }
   ],
   "source": [
    "df.serum_creatinine.plot.hist(bins = 50)"
   ]
  },
  {
   "cell_type": "markdown",
   "metadata": {
    "id": "Q25QTHJ3wNxk"
   },
   "source": [
    "feature \"serum_creatinine\" is highly skewed"
   ]
  },
  {
   "cell_type": "code",
   "execution_count": null,
   "metadata": {
    "colab": {
     "base_uri": "https://localhost:8080/",
     "height": 283
    },
    "id": "QKrRxUjAvwH-",
    "outputId": "f90ae1f1-1f8b-4b53-fba0-8ff8d2a84588"
   },
   "outputs": [
    {
     "data": {
      "text/plain": [
       "<matplotlib.axes._subplots.AxesSubplot at 0x7f02e6b8fc50>"
      ]
     },
     "execution_count": 15,
     "metadata": {},
     "output_type": "execute_result"
    },
    {
     "data": {
      "image/png": "[encoded data removed]",
      "text/plain": [
       "<Figure size 432x288 with 1 Axes>"
      ]
     },
     "metadata": {
      "needs_background": "light"
     },
     "output_type": "display_data"
    }
   ],
   "source": [
    "df.serum_sodium.plot.hist(bins = 50)"
   ]
  },
  {
   "cell_type": "markdown",
   "metadata": {
    "id": "il_kwTtawYbS"
   },
   "source": [
    "feature 'serum_sodium' is numeric and continuous"
   ]
  },
  {
   "cell_type": "code",
   "execution_count": null,
   "metadata": {
    "colab": {
     "base_uri": "https://localhost:8080/",
     "height": 387
    },
    "id": "7VWfUmGvvv6P",
    "outputId": "c3b7bf74-f946-4f6f-a961-a5d1c05efd4d"
   },
   "outputs": [
    {
     "data": {
      "text/plain": [
       "<seaborn.axisgrid.FacetGrid at 0x7f02e69caad0>"
      ]
     },
     "execution_count": 16,
     "metadata": {},
     "output_type": "execute_result"
    },
    {
     "data": {
      "image/png": "[encoded data removed]",
      "text/plain": [
       "<Figure size 360x360 with 1 Axes>"
      ]
     },
     "metadata": {
      "needs_background": "light"
     },
     "output_type": "display_data"
    }
   ],
   "source": [
    "sns.catplot(x=\"sex\", kind=\"count\", palette=\"ch:.25\", data=df)\n"
   ]
  },
  {
   "cell_type": "markdown",
   "metadata": {
    "id": "j1-o9KBwwiKe"
   },
   "source": [
    "feature 'sex' is boolean and each class has fair amount of representation in our dataset"
   ]
  },
  {
   "cell_type": "code",
   "execution_count": null,
   "metadata": {
    "colab": {
     "base_uri": "https://localhost:8080/",
     "height": 387
    },
    "id": "uORD5LwVvv3Q",
    "outputId": "5bc8ef25-6760-48be-b7e1-5fc0651272c6"
   },
   "outputs": [
    {
     "data": {
      "text/plain": [
       "<seaborn.axisgrid.FacetGrid at 0x7f02e6d1b750>"
      ]
     },
     "execution_count": 17,
     "metadata": {},
     "output_type": "execute_result"
    },
    {
     "data": {
      "image/png": "[encoded data removed]",
      "text/plain": [
       "<Figure size 360x360 with 1 Axes>"
      ]
     },
     "metadata": {
      "needs_background": "light"
     },
     "output_type": "display_data"
    }
   ],
   "source": [
    "sns.catplot(x=\"smoking\", kind=\"count\", palette=\"ch:.25\", data=df)\n"
   ]
  },
  {
   "cell_type": "markdown",
   "metadata": {
    "id": "49SCkUtawp03"
   },
   "source": [
    "feature 'smoking' is boolean and each class has fair amount of representation in our dataset"
   ]
  },
  {
   "cell_type": "markdown",
   "metadata": {
    "id": "hNPx2uANwrZ8"
   },
   "source": [
    "**Next lets visualize relationships between factors to determine their correlation**"
   ]
  },
  {
   "cell_type": "markdown",
   "metadata": {
    "id": "kZTWRpmK9iI_"
   },
   "source": [
    "**First between catogorical factor and target DEATH_EVENT**"
   ]
  },
  {
   "cell_type": "code",
   "execution_count": null,
   "metadata": {
    "colab": {
     "base_uri": "https://localhost:8080/",
     "height": 297
    },
    "id": "OJ08W8ljvv0O",
    "outputId": "60acaa0d-d5cd-4c04-84a8-42997cc58188"
   },
   "outputs": [
    {
     "data": {
      "text/plain": [
       "<matplotlib.axes._subplots.AxesSubplot at 0x7f02e67ee850>"
      ]
     },
     "execution_count": 18,
     "metadata": {},
     "output_type": "execute_result"
    },
    {
     "data": {
      "image/png": "[encoded data removed]",
      "text/plain": [
       "<Figure size 432x288 with 1 Axes>"
      ]
     },
     "metadata": {
      "needs_background": "light"
     },
     "output_type": "display_data"
    }
   ],
   "source": [
    "sns.countplot(x = \"anaemia\", hue ='DEATH_EVENT', data=df)"
   ]
  },
  {
   "cell_type": "markdown",
   "metadata": {
    "id": "WUXNu8qp4Me4"
   },
   "source": [
    "From above plot, it seems anaemia increases the relative chance of DEATH_EVENT\n",
    "\n"
   ]
  },
  {
   "cell_type": "code",
   "execution_count": null,
   "metadata": {
    "colab": {
     "base_uri": "https://localhost:8080/",
     "height": 297
    },
    "id": "TqOZKZNIvvxO",
    "outputId": "593e466d-f3d3-4aed-eb83-0af9b5f864a1"
   },
   "outputs": [
    {
     "data": {
      "text/plain": [
       "<matplotlib.axes._subplots.AxesSubplot at 0x7f02e6760990>"
      ]
     },
     "execution_count": 19,
     "metadata": {},
     "output_type": "execute_result"
    },
    {
     "data": {
      "image/png": "[encoded data removed]",
      "text/plain": [
       "<Figure size 432x288 with 1 Axes>"
      ]
     },
     "metadata": {
      "needs_background": "light"
     },
     "output_type": "display_data"
    }
   ],
   "source": [
    "sns.countplot(x = \"diabetes\", hue ='DEATH_EVENT', data=df)"
   ]
  },
  {
   "cell_type": "markdown",
   "metadata": {
    "id": "hbPgE5T5484i"
   },
   "source": [
    "From above plot, it does not seem to show significant impact from feature diabetes on DEATH_EVENT, later we will also check correlation matrix\n"
   ]
  },
  {
   "cell_type": "code",
   "execution_count": null,
   "metadata": {
    "colab": {
     "base_uri": "https://localhost:8080/",
     "height": 298
    },
    "id": "f2hu-DocvvpN",
    "outputId": "6574ae57-f94b-4a18-f595-831914be3ad2"
   },
   "outputs": [
    {
     "data": {
      "text/plain": [
       "<matplotlib.axes._subplots.AxesSubplot at 0x7f02e6725f50>"
      ]
     },
     "execution_count": 20,
     "metadata": {},
     "output_type": "execute_result"
    },
    {
     "data": {
      "image/png": "[encoded data removed]",
      "text/plain": [
       "<Figure size 432x288 with 1 Axes>"
      ]
     },
     "metadata": {
      "needs_background": "light"
     },
     "output_type": "display_data"
    }
   ],
   "source": [
    "sns.countplot(x = \"high_blood_pressure\", hue ='DEATH_EVENT', data=df)"
   ]
  },
  {
   "cell_type": "markdown",
   "metadata": {
    "id": "FvfVUo_e9OkH"
   },
   "source": [
    "Having high blood pressure seems increasing the relative chance of DEATH_EVENT"
   ]
  },
  {
   "cell_type": "code",
   "execution_count": null,
   "metadata": {
    "colab": {
     "base_uri": "https://localhost:8080/",
     "height": 297
    },
    "id": "mj_WykAJvvmF",
    "outputId": "3216a3af-bd93-4ba4-83e0-edb011495e33"
   },
   "outputs": [
    {
     "data": {
      "text/plain": [
       "<matplotlib.axes._subplots.AxesSubplot at 0x7f02e67369d0>"
      ]
     },
     "execution_count": 21,
     "metadata": {},
     "output_type": "execute_result"
    },
    {
     "data": {
      "image/png": "[encoded data removed]",
      "text/plain": [
       "<Figure size 432x288 with 1 Axes>"
      ]
     },
     "metadata": {
      "needs_background": "light"
     },
     "output_type": "display_data"
    }
   ],
   "source": [
    "sns.countplot(x = \"sex\", hue ='DEATH_EVENT', data=df)"
   ]
  },
  {
   "cell_type": "markdown",
   "metadata": {
    "id": "DfYGoDdQ91JF"
   },
   "source": [
    "From above plot, it does not seem to show significant impact from feature sex on DEATH_EVENT, later we will also check correlation matrix\n",
    "\n"
   ]
  },
  {
   "cell_type": "code",
   "execution_count": null,
   "metadata": {
    "colab": {
     "base_uri": "https://localhost:8080/",
     "height": 297
    },
    "id": "YQc9jmA_vvjZ",
    "outputId": "2f35f5cc-bd74-45ba-a3f0-cb7a96d14a52"
   },
   "outputs": [
    {
     "data": {
      "text/plain": [
       "<matplotlib.axes._subplots.AxesSubplot at 0x7f02e663a7d0>"
      ]
     },
     "execution_count": 22,
     "metadata": {},
     "output_type": "execute_result"
    },
    {
     "data": {
      "image/png": "[encoded data removed]",
      "text/plain": [
       "<Figure size 432x288 with 1 Axes>"
      ]
     },
     "metadata": {
      "needs_background": "light"
     },
     "output_type": "display_data"
    }
   ],
   "source": [
    "sns.countplot(x = \"smoking\", hue ='DEATH_EVENT', data=df)"
   ]
  },
  {
   "cell_type": "markdown",
   "metadata": {
    "id": "FZ_rCWoNApXR"
   },
   "source": [
    "From above plot, it does not seem to show significant impact from feature smoking on DEATH_EVENT, later we will also check correlation matrix\n"
   ]
  },
  {
   "cell_type": "markdown",
   "metadata": {
    "id": "pFvmu45mAxoE"
   },
   "source": [
    "**Next lets check other non-categorical factors**"
   ]
  },
  {
   "cell_type": "code",
   "execution_count": null,
   "metadata": {
    "colab": {
     "base_uri": "https://localhost:8080/",
     "height": 297
    },
    "id": "dMVPktOx9piD",
    "outputId": "9abf96c1-ad86-4189-d82a-a1641f3e8554"
   },
   "outputs": [
    {
     "data": {
      "text/plain": [
       "<matplotlib.axes._subplots.AxesSubplot at 0x7f02e6566590>"
      ]
     },
     "execution_count": 23,
     "metadata": {},
     "output_type": "execute_result"
    },
    {
     "data": {
      "image/png": "[encoded data removed]",
      "text/plain": [
       "<Figure size 432x288 with 1 Axes>"
      ]
     },
     "metadata": {
      "needs_background": "light"
     },
     "output_type": "display_data"
    }
   ],
   "source": [
    "sns.countplot(x = \"age\", hue ='DEATH_EVENT', data=df)"
   ]
  },
  {
   "cell_type": "markdown",
   "metadata": {
    "id": "oK-9FWj-EebI"
   },
   "source": [
    "The spread of DEATH_EVENT is going through all ages."
   ]
  },
  {
   "cell_type": "code",
   "execution_count": null,
   "metadata": {
    "colab": {
     "base_uri": "https://localhost:8080/",
     "height": 387
    },
    "id": "G_u5TC989pfZ",
    "outputId": "e1471fb6-6b26-4b45-b614-a95db65fe2b5"
   },
   "outputs": [
    {
     "data": {
      "text/plain": [
       "<seaborn.axisgrid.FacetGrid at 0x7f02e63b7f50>"
      ]
     },
     "execution_count": 24,
     "metadata": {},
     "output_type": "execute_result"
    },
    {
     "data": {
      "image/png": "[encoded data removed]",
      "text/plain": [
       "<Figure size 439.5x360 with 1 Axes>"
      ]
     },
     "metadata": {
      "needs_background": "light"
     },
     "output_type": "display_data"
    }
   ],
   "source": [
    "sns.displot(data=df, x=\"creatinine_phosphokinase\", hue=\"DEATH_EVENT\", kind=\"kde\")\n"
   ]
  },
  {
   "cell_type": "markdown",
   "metadata": {
    "id": "HIrCS5caJ5zH"
   },
   "source": [
    "feature \"creatinine_phosphokinase\" has significant difference on distribution between Survival and DEATH_EVENT"
   ]
  },
  {
   "cell_type": "code",
   "execution_count": null,
   "metadata": {
    "colab": {
     "base_uri": "https://localhost:8080/",
     "height": 387
    },
    "id": "sgxS_h8GA2_Z",
    "outputId": "7b2b4736-2b9a-44fe-fc5f-9276ffb5ac9a"
   },
   "outputs": [
    {
     "data": {
      "text/plain": [
       "<seaborn.axisgrid.FacetGrid at 0x7f02e656ae90>"
      ]
     },
     "execution_count": 25,
     "metadata": {},
     "output_type": "execute_result"
    },
    {
     "data": {
      "image/png": "[encoded data removed]",
      "text/plain": [
       "<Figure size 439.5x360 with 1 Axes>"
      ]
     },
     "metadata": {
      "needs_background": "light"
     },
     "output_type": "display_data"
    }
   ],
   "source": [
    "sns.displot(data=df, x=\"ejection_fraction\", hue=\"DEATH_EVENT\", kind=\"kde\")\n"
   ]
  },
  {
   "cell_type": "code",
   "execution_count": null,
   "metadata": {
    "colab": {
     "base_uri": "https://localhost:8080/",
     "height": 298
    },
    "id": "eGi-9MCNKr9-",
    "outputId": "ac3d83a5-e98d-4cbe-af66-0397acc409d7"
   },
   "outputs": [
    {
     "data": {
      "text/plain": [
       "<matplotlib.axes._subplots.AxesSubplot at 0x7f02e42c3490>"
      ]
     },
     "execution_count": 26,
     "metadata": {},
     "output_type": "execute_result"
    },
    {
     "data": {
      "image/png": "[encoded data removed]",
      "text/plain": [
       "<Figure size 432x288 with 1 Axes>"
      ]
     },
     "metadata": {
      "needs_background": "light"
     },
     "output_type": "display_data"
    }
   ],
   "source": [
    "sns.boxplot(x=\"DEATH_EVENT\", y=\"ejection_fraction\", data=df)"
   ]
  },
  {
   "cell_type": "markdown",
   "metadata": {
    "id": "ZOZx_U_JKNzO"
   },
   "source": [
    "feature \"ejection_fraction\" has significant difference on distribution between Survival and DEATH_EVENT"
   ]
  },
  {
   "cell_type": "code",
   "execution_count": null,
   "metadata": {
    "colab": {
     "base_uri": "https://localhost:8080/",
     "height": 387
    },
    "id": "BJk1YtWQA28K",
    "outputId": "62a62835-8634-4b5b-e282-4d54c7df4b86"
   },
   "outputs": [
    {
     "data": {
      "text/plain": [
       "<seaborn.axisgrid.FacetGrid at 0x7f02e6c26c90>"
      ]
     },
     "execution_count": 27,
     "metadata": {},
     "output_type": "execute_result"
    },
    {
     "data": {
      "image/png": "[encoded data removed]",
      "text/plain": [
       "<Figure size 439.5x360 with 1 Axes>"
      ]
     },
     "metadata": {
      "needs_background": "light"
     },
     "output_type": "display_data"
    }
   ],
   "source": [
    "sns.displot(data=df, x=\"platelets\", hue=\"DEATH_EVENT\", kind=\"kde\")\n"
   ]
  },
  {
   "cell_type": "code",
   "execution_count": null,
   "metadata": {
    "colab": {
     "base_uri": "https://localhost:8080/",
     "height": 298
    },
    "id": "cGXZGxTSA25V",
    "outputId": "0ec95920-49e3-40b6-a056-85d060560529"
   },
   "outputs": [
    {
     "data": {
      "text/plain": [
       "<matplotlib.axes._subplots.AxesSubplot at 0x7f02e6854d90>"
      ]
     },
     "execution_count": 28,
     "metadata": {},
     "output_type": "execute_result"
    },
    {
     "data": {
      "image/png": "[encoded data removed]",
      "text/plain": [
       "<Figure size 432x288 with 1 Axes>"
      ]
     },
     "metadata": {
      "needs_background": "light"
     },
     "output_type": "display_data"
    }
   ],
   "source": [
    "sns.boxplot(x=\"DEATH_EVENT\", y=\"platelets\", data=df)"
   ]
  },
  {
   "cell_type": "markdown",
   "metadata": {
    "id": "1A_o2FeYLlev"
   },
   "source": [
    "feature \"platelets\" has moderate difference on distribution between Survival and DEATH_EVENT"
   ]
  },
  {
   "cell_type": "code",
   "execution_count": null,
   "metadata": {
    "colab": {
     "base_uri": "https://localhost:8080/",
     "height": 387
    },
    "id": "n639VxyTA22q",
    "outputId": "83f6c4a6-a673-43a1-e01b-73fb7a321361"
   },
   "outputs": [
    {
     "data": {
      "text/plain": [
       "<seaborn.axisgrid.FacetGrid at 0x7f02e6325450>"
      ]
     },
     "execution_count": 29,
     "metadata": {},
     "output_type": "execute_result"
    },
    {
     "data": {
      "image/png": "[encoded data removed]",
      "text/plain": [
       "<Figure size 439.5x360 with 1 Axes>"
      ]
     },
     "metadata": {
      "needs_background": "light"
     },
     "output_type": "display_data"
    }
   ],
   "source": [
    "sns.displot(data=df, x=\"serum_creatinine\", hue=\"DEATH_EVENT\", kind=\"kde\")\n"
   ]
  },
  {
   "cell_type": "code",
   "execution_count": null,
   "metadata": {
    "colab": {
     "base_uri": "https://localhost:8080/",
     "height": 298
    },
    "id": "r64VpeVOA2xT",
    "outputId": "5fe5f7ce-e4b8-47e2-ff20-606fa35ce14e"
   },
   "outputs": [
    {
     "data": {
      "text/plain": [
       "<matplotlib.axes._subplots.AxesSubplot at 0x7f02e40cbf10>"
      ]
     },
     "execution_count": 30,
     "metadata": {},
     "output_type": "execute_result"
    },
    {
     "data": {
      "image/png": "[encoded data removed]",
      "text/plain": [
       "<Figure size 432x288 with 1 Axes>"
      ]
     },
     "metadata": {
      "needs_background": "light"
     },
     "output_type": "display_data"
    }
   ],
   "source": [
    "sns.boxplot(x=\"DEATH_EVENT\", y=\"serum_creatinine\", data=df)"
   ]
  },
  {
   "cell_type": "markdown",
   "metadata": {
    "id": "XXHBNdMRL5Kc"
   },
   "source": [
    "feature \"serum_creatinine\" has significant difference on distribution between Survival and DEATH_EVENT"
   ]
  },
  {
   "cell_type": "code",
   "execution_count": null,
   "metadata": {
    "colab": {
     "base_uri": "https://localhost:8080/",
     "height": 387
    },
    "id": "A0-CPfQBA2up",
    "outputId": "7606e08b-b709-42da-e3d9-6c392b0a988a"
   },
   "outputs": [
    {
     "data": {
      "text/plain": [
       "<seaborn.axisgrid.FacetGrid at 0x7f02e65b5e50>"
      ]
     },
     "execution_count": 31,
     "metadata": {},
     "output_type": "execute_result"
    },
    {
     "data": {
      "image/png": "[encoded data removed]",
      "text/plain": [
       "<Figure size 439.5x360 with 1 Axes>"
      ]
     },
     "metadata": {
      "needs_background": "light"
     },
     "output_type": "display_data"
    }
   ],
   "source": [
    "sns.displot(data=df, x=\"serum_sodium\", hue=\"DEATH_EVENT\", kind=\"kde\")\n"
   ]
  },
  {
   "cell_type": "code",
   "execution_count": null,
   "metadata": {
    "colab": {
     "base_uri": "https://localhost:8080/",
     "height": 298
    },
    "id": "o_xqEd669pdL",
    "outputId": "d790895d-5514-4078-da67-f8493b2b3673"
   },
   "outputs": [
    {
     "data": {
      "text/plain": [
       "<matplotlib.axes._subplots.AxesSubplot at 0x7f02e3f4e650>"
      ]
     },
     "execution_count": 32,
     "metadata": {},
     "output_type": "execute_result"
    },
    {
     "data": {
      "image/png": "[encoded data removed]",
      "text/plain": [
       "<Figure size 432x288 with 1 Axes>"
      ]
     },
     "metadata": {
      "needs_background": "light"
     },
     "output_type": "display_data"
    }
   ],
   "source": [
    "sns.boxplot(x=\"DEATH_EVENT\", y=\"serum_sodium\", data=df)"
   ]
  },
  {
   "cell_type": "markdown",
   "metadata": {
    "id": "uyBIN_qcMFdo"
   },
   "source": [
    "feature \"serum_sodium\" has significant difference on distribution between Survival and DEATH_EVENT"
   ]
  },
  {
   "cell_type": "markdown",
   "metadata": {
    "id": "5IWAVSPvRc9m"
   },
   "source": [
    "**Lets also check correlation matrix**"
   ]
  },
  {
   "cell_type": "code",
   "execution_count": null,
   "metadata": {
    "colab": {
     "base_uri": "https://localhost:8080/",
     "height": 987
    },
    "id": "UPxgqYRFRjGH",
    "outputId": "722901e2-9612-4c4d-90b4-735034d1f4bf"
   },
   "outputs": [
    {
     "data": {
      "image/png": "[encoded data removed]",
      "text/plain": [
       "<Figure size 1080x1080 with 2 Axes>"
      ]
     },
     "metadata": {
      "needs_background": "light"
     },
     "output_type": "display_data"
    }
   ],
   "source": [
    "plt.figure(figsize=(15,15))\n",
    "sns.heatmap(df.corr(), annot=True);"
   ]
  },
  {
   "cell_type": "markdown",
   "metadata": {
    "id": "5OqlKU2uRiDB"
   },
   "source": [
    "ejection_fraction, serum_creatinine are top 2 features with highest correlation with DEATH_EVENT,   \n",
    "which matches the academic paper:    \n",
    "Davide Chicco, Giuseppe Jurman: \"Machine learning can predict survival of patients with heart failure from serum creatinine and ejection fraction alone\". BMC Medical Informatics and Decision Making 20, 16 (2020)."
   ]
  },
  {
   "cell_type": "markdown",
   "metadata": {
    "id": "gDSX2rtXNmGC"
   },
   "source": [
    "**Data outlier**"
   ]
  },
  {
   "cell_type": "markdown",
   "metadata": {
    "id": "cWdYgyICNzWW"
   },
   "source": [
    "**lets check boxplot on non-categorical factor**"
   ]
  },
  {
   "cell_type": "code",
   "execution_count": null,
   "metadata": {
    "colab": {
     "base_uri": "https://localhost:8080/",
     "height": 298
    },
    "id": "4-Bh7OhCNr6l",
    "outputId": "e1792981-afbb-4881-a2a7-4fa03be8ae27"
   },
   "outputs": [
    {
     "data": {
      "text/plain": [
       "<matplotlib.axes._subplots.AxesSubplot at 0x7f02e3cf6a50>"
      ]
     },
     "execution_count": 34,
     "metadata": {},
     "output_type": "execute_result"
    },
    {
     "data": {
      "image/png": "[encoded data removed]",
      "text/plain": [
       "<Figure size 432x288 with 1 Axes>"
      ]
     },
     "metadata": {
      "needs_background": "light"
     },
     "output_type": "display_data"
    }
   ],
   "source": [
    "sns.boxplot(x=df.ejection_fraction)"
   ]
  },
  {
   "cell_type": "code",
   "execution_count": null,
   "metadata": {
    "colab": {
     "base_uri": "https://localhost:8080/",
     "height": 298
    },
    "id": "-OjR-HrEOCol",
    "outputId": "bb00a00b-30d8-4c83-f85c-28357b52906d"
   },
   "outputs": [
    {
     "data": {
      "text/plain": [
       "<matplotlib.axes._subplots.AxesSubplot at 0x7f02e246ca50>"
      ]
     },
     "execution_count": 35,
     "metadata": {},
     "output_type": "execute_result"
    },
    {
     "data": {
      "image/png": "[encoded data removed]",
      "text/plain": [
       "<Figure size 432x288 with 1 Axes>"
      ]
     },
     "metadata": {
      "needs_background": "light"
     },
     "output_type": "display_data"
    }
   ],
   "source": [
    "sns.boxplot(x=df.creatinine_phosphokinase)"
   ]
  },
  {
   "cell_type": "code",
   "execution_count": null,
   "metadata": {
    "colab": {
     "base_uri": "https://localhost:8080/",
     "height": 297
    },
    "id": "764JCqeLOCis",
    "outputId": "0ee2f432-55c7-44be-93ce-c528ebb3b8ec"
   },
   "outputs": [
    {
     "data": {
      "text/plain": [
       "<matplotlib.axes._subplots.AxesSubplot at 0x7f02e2486390>"
      ]
     },
     "execution_count": 36,
     "metadata": {},
     "output_type": "execute_result"
    },
    {
     "data": {
      "image/png": "[encoded data removed]",
      "text/plain": [
       "<Figure size 432x288 with 1 Axes>"
      ]
     },
     "metadata": {
      "needs_background": "light"
     },
     "output_type": "display_data"
    }
   ],
   "source": [
    "sns.boxplot(x=df.platelets)"
   ]
  },
  {
   "cell_type": "code",
   "execution_count": null,
   "metadata": {
    "colab": {
     "base_uri": "https://localhost:8080/",
     "height": 298
    },
    "id": "0Dnrl7XlOCao",
    "outputId": "831eaf24-b9f7-4210-e168-2990c38dcc54"
   },
   "outputs": [
    {
     "data": {
      "text/plain": [
       "<matplotlib.axes._subplots.AxesSubplot at 0x7f02e23bebd0>"
      ]
     },
     "execution_count": 37,
     "metadata": {},
     "output_type": "execute_result"
    },
    {
     "data": {
      "image/png": "[encoded data removed]",
      "text/plain": [
       "<Figure size 432x288 with 1 Axes>"
      ]
     },
     "metadata": {
      "needs_background": "light"
     },
     "output_type": "display_data"
    }
   ],
   "source": [
    "sns.boxplot(x=df.serum_creatinine)"
   ]
  },
  {
   "cell_type": "code",
   "execution_count": null,
   "metadata": {
    "colab": {
     "base_uri": "https://localhost:8080/",
     "height": 298
    },
    "id": "RG5XlDnxOKB4",
    "outputId": "d7a8cff4-1df8-4fe6-ae03-d8772a74bbf2"
   },
   "outputs": [
    {
     "data": {
      "text/plain": [
       "<matplotlib.axes._subplots.AxesSubplot at 0x7f02e23184d0>"
      ]
     },
     "execution_count": 38,
     "metadata": {},
     "output_type": "execute_result"
    },
    {
     "data": {
      "image/png": "[encoded data removed]",
      "text/plain": [
       "<Figure size 432x288 with 1 Axes>"
      ]
     },
     "metadata": {
      "needs_background": "light"
     },
     "output_type": "display_data"
    }
   ],
   "source": [
    "sns.boxplot(x=df.serum_sodium)"
   ]
  },
  {
   "cell_type": "markdown",
   "metadata": {
    "id": "owts9xWHObIY"
   },
   "source": [
    "At a glance, all those factors have outliers, however, before dealing with outliers we require knowledge about the outlier, the dataset and possibly some domain knowledge.  \n",
    "Removing outliers without a good reason will not always increase accuracy. Without a deep understanding of what are the possible ranges that exist within each feature, removing outliers becomes tricky.\n",
    "For example, refer https://www.mayoclinic.org/tests-procedures/creatinine-test/about/pac-20384646, all the values in serum_creatinine falls in possible range of values. \n",
    "So they are not outliers. They are actual data points that helps in predicting DEATH_EVENT.  \n",
    "Especially for machine learning in medical science, 'outliers' usually is a strong indicator highly correlated with anomaly which is very helpful for diagnosis.  \n",
    "**So, we will NOT remove any 'outlier' sample.**  \n"
   ]
  },
  {
   "cell_type": "markdown",
   "metadata": {
    "id": "XWTnjZkUNYwE"
   },
   "source": [
    "**Determine if any data needs to be transformed**  \n",
    "We noticed that some features are highly skewed.  "
   ]
  },
  {
   "cell_type": "code",
   "execution_count": null,
   "metadata": {
    "colab": {
     "base_uri": "https://localhost:8080/"
    },
    "id": "A3ZXEF1h9paW",
    "outputId": "d05fb430-3d61-4b3f-cb5f-ee232e373a9a"
   },
   "outputs": [
    {
     "name": "stdout",
     "output_type": "stream",
     "text": [
      "-1.04287046392733\n",
      "4.433610162782361\n",
      "1.4549745335147466\n",
      "4.440688625555512\n",
      "0.5525926588215331\n"
     ]
    }
   ],
   "source": [
    "from scipy.stats import skew\n",
    "print(skew(df['serum_sodium']))\n",
    "print(skew(df['serum_creatinine']))\n",
    "print(skew(df['platelets']))\n",
    "print(skew(df['creatinine_phosphokinase'])) \n",
    "print(skew(df['ejection_fraction'])) "
   ]
  },
  {
   "cell_type": "markdown",
   "metadata": {
    "id": "gTQLicF5QO5_"
   },
   "source": [
    "If skewness is less than -1 or greater than 1, the distribution is highly skewed, it affects models' performance and we might end up with wrong predictions."
   ]
  },
  {
   "cell_type": "markdown",
   "metadata": {
    "id": "Sp8lwsksQdXu"
   },
   "source": [
    "We will apply log-transform on features \"serum_creatinine\", \"platelets\" and creatinine_phosphokinase\""
   ]
  },
  {
   "cell_type": "code",
   "execution_count": null,
   "metadata": {
    "id": "HjwPfpHX9pWb"
   },
   "outputs": [],
   "source": [
    "df[\"serum_creatinine\"] = np.log(df[\"serum_creatinine\"])\n",
    "df['platelets'] = np.log(df['platelets'])\n",
    "df['creatinine_phosphokinase'] = np.log(df['creatinine_phosphokinase'])"
   ]
  },
  {
   "cell_type": "markdown",
   "metadata": {
    "id": "KafwAQuFS3k1"
   },
   "source": [
    "Also, consider the clustering models we plan to train, AgglomerativeClustering, KMeans, Birch clustering all require or will be benefited from data normalization. Gaussian Mixture Modelling does not require normalization, but will NOT be negatively impacted either. So we will also apply StandardScaler as part of data transformation."
   ]
  },
  {
   "cell_type": "code",
   "execution_count": null,
   "metadata": {
    "id": "yXBqBI9WwkKJ"
   },
   "outputs": [],
   "source": [
    "features = df.columns.tolist()\n",
    "features.remove('DEATH_EVENT')"
   ]
  },
  {
   "cell_type": "code",
   "execution_count": null,
   "metadata": {
    "colab": {
     "base_uri": "https://localhost:8080/"
    },
    "id": "oy4XYGY9wymY",
    "outputId": "9d5698dc-c96d-4895-809a-8f7bcac4f50c"
   },
   "outputs": [
    {
     "data": {
      "text/plain": [
       "['age',\n",
       " 'anaemia',\n",
       " 'creatinine_phosphokinase',\n",
       " 'diabetes',\n",
       " 'ejection_fraction',\n",
       " 'high_blood_pressure',\n",
       " 'platelets',\n",
       " 'serum_creatinine',\n",
       " 'serum_sodium',\n",
       " 'sex',\n",
       " 'smoking']"
      ]
     },
     "execution_count": 42,
     "metadata": {},
     "output_type": "execute_result"
    }
   ],
   "source": [
    "features"
   ]
  },
  {
   "cell_type": "code",
   "execution_count": null,
   "metadata": {
    "id": "-gifw4xbEZ8H"
   },
   "outputs": [],
   "source": [
    "scalar = StandardScaler()"
   ]
  },
  {
   "cell_type": "code",
   "execution_count": null,
   "metadata": {
    "id": "THrdRKr6Efnw"
   },
   "outputs": [],
   "source": [
    "df[features] = scalar.fit_transform(df[features])"
   ]
  },
  {
   "cell_type": "code",
   "execution_count": null,
   "metadata": {
    "colab": {
     "base_uri": "https://localhost:8080/",
     "height": 488
    },
    "id": "kG8ssbPvEu28",
    "outputId": "49a2216f-b97d-457a-a57c-2c35bf33c914"
   },
   "outputs": [
    {
     "data": {
      "text/html": [
       "\n",
       "  <div id=\"df-532a50e0-cdfc-45b7-a917-3bdcea7ea8e4\">\n",
       "    <div class=\"colab-df-container\">\n",
       "      <div>\n",
       "<style scoped>\n",
       "    .dataframe tbody tr th:only-of-type {\n",
       "        vertical-align: middle;\n",
       "    }\n",
       "\n",
       "    .dataframe tbody tr th {\n",
       "        vertical-align: top;\n",
       "    }\n",
       "\n",
       "    .dataframe thead th {\n",
       "        text-align: right;\n",
       "    }\n",
       "</style>\n",
       "<table border=\"1\" class=\"dataframe\">\n",
       "  <thead>\n",
       "    <tr style=\"text-align: right;\">\n",
       "      <th></th>\n",
       "      <th>age</th>\n",
       "      <th>anaemia</th>\n",
       "      <th>creatinine_phosphokinase</th>\n",
       "      <th>diabetes</th>\n",
       "      <th>ejection_fraction</th>\n",
       "      <th>high_blood_pressure</th>\n",
       "      <th>platelets</th>\n",
       "      <th>serum_creatinine</th>\n",
       "      <th>serum_sodium</th>\n",
       "      <th>sex</th>\n",
       "      <th>smoking</th>\n",
       "      <th>DEATH_EVENT</th>\n",
       "    </tr>\n",
       "  </thead>\n",
       "  <tbody>\n",
       "    <tr>\n",
       "      <th>0</th>\n",
       "      <td>1.192945</td>\n",
       "      <td>-0.871105</td>\n",
       "      <td>0.623884</td>\n",
       "      <td>-0.847579</td>\n",
       "      <td>-1.530560</td>\n",
       "      <td>1.359272</td>\n",
       "      <td>0.192828</td>\n",
       "      <td>0.979921</td>\n",
       "      <td>-1.504036</td>\n",
       "      <td>0.735688</td>\n",
       "      <td>-0.687682</td>\n",
       "      <td>1</td>\n",
       "    </tr>\n",
       "    <tr>\n",
       "      <th>1</th>\n",
       "      <td>-0.491279</td>\n",
       "      <td>-0.871105</td>\n",
       "      <td>2.922432</td>\n",
       "      <td>-0.847579</td>\n",
       "      <td>-0.007077</td>\n",
       "      <td>-0.735688</td>\n",
       "      <td>0.177306</td>\n",
       "      <td>-0.228312</td>\n",
       "      <td>-0.141976</td>\n",
       "      <td>0.735688</td>\n",
       "      <td>-0.687682</td>\n",
       "      <td>1</td>\n",
       "    </tr>\n",
       "    <tr>\n",
       "      <th>2</th>\n",
       "      <td>0.350833</td>\n",
       "      <td>-0.871105</td>\n",
       "      <td>-0.597144</td>\n",
       "      <td>-0.847579</td>\n",
       "      <td>-1.530560</td>\n",
       "      <td>-0.735688</td>\n",
       "      <td>-1.036190</td>\n",
       "      <td>0.140991</td>\n",
       "      <td>-1.731046</td>\n",
       "      <td>0.735688</td>\n",
       "      <td>1.454161</td>\n",
       "      <td>1</td>\n",
       "    </tr>\n",
       "    <tr>\n",
       "      <th>3</th>\n",
       "      <td>-0.912335</td>\n",
       "      <td>1.147968</td>\n",
       "      <td>-0.839145</td>\n",
       "      <td>-0.847579</td>\n",
       "      <td>-1.530560</td>\n",
       "      <td>-0.735688</td>\n",
       "      <td>-0.388106</td>\n",
       "      <td>0.979921</td>\n",
       "      <td>0.085034</td>\n",
       "      <td>0.735688</td>\n",
       "      <td>-0.687682</td>\n",
       "      <td>1</td>\n",
       "    </tr>\n",
       "    <tr>\n",
       "      <th>4</th>\n",
       "      <td>0.350833</td>\n",
       "      <td>1.147968</td>\n",
       "      <td>-0.516293</td>\n",
       "      <td>1.179830</td>\n",
       "      <td>-1.530560</td>\n",
       "      <td>-0.735688</td>\n",
       "      <td>0.717841</td>\n",
       "      <td>1.756749</td>\n",
       "      <td>-4.682176</td>\n",
       "      <td>-1.359272</td>\n",
       "      <td>-0.687682</td>\n",
       "      <td>1</td>\n",
       "    </tr>\n",
       "    <tr>\n",
       "      <th>...</th>\n",
       "      <td>...</td>\n",
       "      <td>...</td>\n",
       "      <td>...</td>\n",
       "      <td>...</td>\n",
       "      <td>...</td>\n",
       "      <td>...</td>\n",
       "      <td>...</td>\n",
       "      <td>...</td>\n",
       "      <td>...</td>\n",
       "      <td>...</td>\n",
       "      <td>...</td>\n",
       "      <td>...</td>\n",
       "    </tr>\n",
       "    <tr>\n",
       "      <th>294</th>\n",
       "      <td>0.098199</td>\n",
       "      <td>-0.871105</td>\n",
       "      <td>-1.367741</td>\n",
       "      <td>1.179830</td>\n",
       "      <td>-0.007077</td>\n",
       "      <td>1.359272</td>\n",
       "      <td>-1.146500</td>\n",
       "      <td>-0.228312</td>\n",
       "      <td>1.447094</td>\n",
       "      <td>0.735688</td>\n",
       "      <td>1.454161</td>\n",
       "      <td>0</td>\n",
       "    </tr>\n",
       "    <tr>\n",
       "      <th>295</th>\n",
       "      <td>-0.491279</td>\n",
       "      <td>-0.871105</td>\n",
       "      <td>1.630578</td>\n",
       "      <td>-0.847579</td>\n",
       "      <td>-0.007077</td>\n",
       "      <td>-0.735688</td>\n",
       "      <td>0.239508</td>\n",
       "      <td>-0.035958</td>\n",
       "      <td>0.539054</td>\n",
       "      <td>-1.359272</td>\n",
       "      <td>-0.687682</td>\n",
       "      <td>0</td>\n",
       "    </tr>\n",
       "    <tr>\n",
       "      <th>296</th>\n",
       "      <td>-1.333392</td>\n",
       "      <td>-0.871105</td>\n",
       "      <td>1.739951</td>\n",
       "      <td>1.179830</td>\n",
       "      <td>1.854958</td>\n",
       "      <td>-0.735688</td>\n",
       "      <td>2.764123</td>\n",
       "      <td>-0.932311</td>\n",
       "      <td>0.312044</td>\n",
       "      <td>-1.359272</td>\n",
       "      <td>-0.687682</td>\n",
       "      <td>0</td>\n",
       "    </tr>\n",
       "    <tr>\n",
       "      <th>297</th>\n",
       "      <td>-1.333392</td>\n",
       "      <td>-0.871105</td>\n",
       "      <td>1.879606</td>\n",
       "      <td>-0.847579</td>\n",
       "      <td>-0.007077</td>\n",
       "      <td>-0.735688</td>\n",
       "      <td>-1.400685</td>\n",
       "      <td>0.304820</td>\n",
       "      <td>0.766064</td>\n",
       "      <td>0.735688</td>\n",
       "      <td>1.454161</td>\n",
       "      <td>0</td>\n",
       "    </tr>\n",
       "    <tr>\n",
       "      <th>298</th>\n",
       "      <td>-0.912335</td>\n",
       "      <td>-0.871105</td>\n",
       "      <td>-0.337102</td>\n",
       "      <td>-0.847579</td>\n",
       "      <td>0.585389</td>\n",
       "      <td>-0.735688</td>\n",
       "      <td>1.189650</td>\n",
       "      <td>0.600015</td>\n",
       "      <td>-0.141976</td>\n",
       "      <td>0.735688</td>\n",
       "      <td>1.454161</td>\n",
       "      <td>0</td>\n",
       "    </tr>\n",
       "  </tbody>\n",
       "</table>\n",
       "<p>299 rows × 12 columns</p>\n",
       "</div>\n",
       "      <button class=\"colab-df-convert\" onclick=\"convertToInteractive('df-532a50e0-cdfc-45b7-a917-3bdcea7ea8e4')\"\n",
       "              title=\"Convert this dataframe to an interactive table.\"\n",
       "              style=\"display:none;\">\n",
       "        \n",
       "  <svg xmlns=\"http://www.w3.org/2000/svg\" height=\"24px\"viewBox=\"0 0 24 24\"\n",
       "       width=\"24px\">\n",
       "    <path d=\"M0 0h24v24H0V0z\" fill=\"none\"/>\n",
       "    <path d=\"M18.56 5.44l.94 2.06.94-2.06 2.06-.94-2.06-.94-.94-2.06-.94 2.06-2.06.94zm-11 1L8.5 8.5l.94-2.06 2.06-.94-2.06-.94L8.5 2.5l-.94 2.06-2.06.94zm10 10l.94 2.06.94-2.06 2.06-.94-2.06-.94-.94-2.06-.94 2.06-2.06.94z\"/><path d=\"M17.41 7.96l-1.37-1.37c-.4-.4-.92-.59-1.43-.59-.52 0-1.04.2-1.43.59L10.3 9.45l-7.72 7.72c-.78.78-.78 2.05 0 2.83L4 21.41c.39.39.9.59 1.41.59.51 0 1.02-.2 1.41-.59l7.78-7.78 2.81-2.81c.8-.78.8-2.07 0-2.86zM5.41 20L4 18.59l7.72-7.72 1.47 1.35L5.41 20z\"/>\n",
       "  </svg>\n",
       "      </button>\n",
       "      \n",
       "  <style>\n",
       "    .colab-df-container {\n",
       "      display:flex;\n",
       "      flex-wrap:wrap;\n",
       "      gap: 12px;\n",
       "    }\n",
       "\n",
       "    .colab-df-convert {\n",
       "      background-color: #E8F0FE;\n",
       "      border: none;\n",
       "      border-radius: 50%;\n",
       "      cursor: pointer;\n",
       "      display: none;\n",
       "      fill: #1967D2;\n",
       "      height: 32px;\n",
       "      padding: 0 0 0 0;\n",
       "      width: 32px;\n",
       "    }\n",
       "\n",
       "    .colab-df-convert:hover {\n",
       "      background-color: #E2EBFA;\n",
       "      box-shadow: 0px 1px 2px rgba(60, 64, 67, 0.3), 0px 1px 3px 1px rgba(60, 64, 67, 0.15);\n",
       "      fill: #174EA6;\n",
       "    }\n",
       "\n",
       "    [theme=dark] .colab-df-convert {\n",
       "      background-color: #3B4455;\n",
       "      fill: #D2E3FC;\n",
       "    }\n",
       "\n",
       "    [theme=dark] .colab-df-convert:hover {\n",
       "      background-color: #434B5C;\n",
       "      box-shadow: 0px 1px 3px 1px rgba(0, 0, 0, 0.15);\n",
       "      filter: drop-shadow(0px 1px 2px rgba(0, 0, 0, 0.3));\n",
       "      fill: #FFFFFF;\n",
       "    }\n",
       "  </style>\n",
       "\n",
       "      <script>\n",
       "        const buttonEl =\n",
       "          document.querySelector('#df-532a50e0-cdfc-45b7-a917-3bdcea7ea8e4 button.colab-df-convert');\n",
       "        buttonEl.style.display =\n",
       "          google.colab.kernel.accessAllowed ? 'block' : 'none';\n",
       "\n",
       "        async function convertToInteractive(key) {\n",
       "          const element = document.querySelector('#df-532a50e0-cdfc-45b7-a917-3bdcea7ea8e4');\n",
       "          const dataTable =\n",
       "            await google.colab.kernel.invokeFunction('convertToInteractive',\n",
       "                                                     [key], {});\n",
       "          if (!dataTable) return;\n",
       "\n",
       "          const docLinkHtml = 'Like what you see? Visit the ' +\n",
       "            '<a target=\"_blank\" href=https://colab.research.google.com/notebooks/data_table.ipynb>data table notebook</a>'\n",
       "            + ' to learn more about interactive tables.';\n",
       "          element.innerHTML = '';\n",
       "          dataTable['output_type'] = 'display_data';\n",
       "          await google.colab.output.renderOutput(dataTable, element);\n",
       "          const docLink = document.createElement('div');\n",
       "          docLink.innerHTML = docLinkHtml;\n",
       "          element.appendChild(docLink);\n",
       "        }\n",
       "      </script>\n",
       "    </div>\n",
       "  </div>\n",
       "  "
      ],
      "text/plain": [
       "          age   anaemia  creatinine_phosphokinase  diabetes  \\\n",
       "0    1.192945 -0.871105                  0.623884 -0.847579   \n",
       "1   -0.491279 -0.871105                  2.922432 -0.847579   \n",
       "2    0.350833 -0.871105                 -0.597144 -0.847579   \n",
       "3   -0.912335  1.147968                 -0.839145 -0.847579   \n",
       "4    0.350833  1.147968                 -0.516293  1.179830   \n",
       "..        ...       ...                       ...       ...   \n",
       "294  0.098199 -0.871105                 -1.367741  1.179830   \n",
       "295 -0.491279 -0.871105                  1.630578 -0.847579   \n",
       "296 -1.333392 -0.871105                  1.739951  1.179830   \n",
       "297 -1.333392 -0.871105                  1.879606 -0.847579   \n",
       "298 -0.912335 -0.871105                 -0.337102 -0.847579   \n",
       "\n",
       "     ejection_fraction  high_blood_pressure  platelets  serum_creatinine  \\\n",
       "0            -1.530560             1.359272   0.192828          0.979921   \n",
       "1            -0.007077            -0.735688   0.177306         -0.228312   \n",
       "2            -1.530560            -0.735688  -1.036190          0.140991   \n",
       "3            -1.530560            -0.735688  -0.388106          0.979921   \n",
       "4            -1.530560            -0.735688   0.717841          1.756749   \n",
       "..                 ...                  ...        ...               ...   \n",
       "294          -0.007077             1.359272  -1.146500         -0.228312   \n",
       "295          -0.007077            -0.735688   0.239508         -0.035958   \n",
       "296           1.854958            -0.735688   2.764123         -0.932311   \n",
       "297          -0.007077            -0.735688  -1.400685          0.304820   \n",
       "298           0.585389            -0.735688   1.189650          0.600015   \n",
       "\n",
       "     serum_sodium       sex   smoking  DEATH_EVENT  \n",
       "0       -1.504036  0.735688 -0.687682            1  \n",
       "1       -0.141976  0.735688 -0.687682            1  \n",
       "2       -1.731046  0.735688  1.454161            1  \n",
       "3        0.085034  0.735688 -0.687682            1  \n",
       "4       -4.682176 -1.359272 -0.687682            1  \n",
       "..            ...       ...       ...          ...  \n",
       "294      1.447094  0.735688  1.454161            0  \n",
       "295      0.539054 -1.359272 -0.687682            0  \n",
       "296      0.312044 -1.359272 -0.687682            0  \n",
       "297      0.766064  0.735688  1.454161            0  \n",
       "298     -0.141976  0.735688  1.454161            0  \n",
       "\n",
       "[299 rows x 12 columns]"
      ]
     },
     "execution_count": 45,
     "metadata": {},
     "output_type": "execute_result"
    }
   ],
   "source": [
    "df"
   ]
  },
  {
   "cell_type": "markdown",
   "metadata": {
    "id": "UhU_opKXUWQp"
   },
   "source": [
    "# Step 4  \n",
    "**Modelling, Tunning, Comparison**"
   ]
  },
  {
   "cell_type": "code",
   "execution_count": null,
   "metadata": {
    "id": "P7slF1BCUV2A"
   },
   "outputs": [],
   "source": [
    "# based on previous analysis, remove low correlation features  'diabetes','sex','smoking'\n",
    "features = ['age',\n",
    " 'anaemia',\n",
    " 'creatinine_phosphokinase',\n",
    " 'ejection_fraction',\n",
    " 'high_blood_pressure',\n",
    " 'platelets',\n",
    " 'serum_creatinine',\n",
    " 'serum_sodium',\n",
    "]"
   ]
  },
  {
   "cell_type": "code",
   "execution_count": null,
   "metadata": {
    "id": "GCZSmocZxDlI"
   },
   "outputs": [],
   "source": [
    "# split train and test datasets, 80% training data, 20% test data\n",
    "X = df[features]\n",
    "y = df[\"DEATH_EVENT\"]\n",
    "x_train,x_test,y_train,y_test = train_test_split(X,y, test_size=0.2, random_state=42)"
   ]
  },
  {
   "cell_type": "code",
   "execution_count": null,
   "metadata": {
    "id": "hANmbi00Q5Ep"
   },
   "outputs": [],
   "source": [
    "# use PCA to transform data into 2-D plane for visualization to get a rough view of how the cluster looks like\n",
    "from sklearn.decomposition import PCA \n",
    "pca = PCA(2) \n",
    "X_2d = pca.fit_transform(X)"
   ]
  },
  {
   "cell_type": "code",
   "execution_count": null,
   "metadata": {
    "colab": {
     "base_uri": "https://localhost:8080/"
    },
    "id": "GPliYr0cR1Kb",
    "outputId": "dcafcc21-6a12-43e7-d2a8-3de574226500"
   },
   "outputs": [
    {
     "data": {
      "text/plain": [
       "array([0.18319596, 0.17005224])"
      ]
     },
     "execution_count": 49,
     "metadata": {},
     "output_type": "execute_result"
    }
   ],
   "source": [
    "pca.explained_variance_ratio_"
   ]
  },
  {
   "cell_type": "code",
   "execution_count": null,
   "metadata": {
    "colab": {
     "base_uri": "https://localhost:8080/",
     "height": 283
    },
    "id": "Jjqvact8RX6-",
    "outputId": "4cef35c5-b8a3-4516-fe07-f40fb7933a97"
   },
   "outputs": [
    {
     "data": {
      "text/plain": [
       "<matplotlib.axes._subplots.AxesSubplot at 0x7f02e22ca310>"
      ]
     },
     "execution_count": 50,
     "metadata": {},
     "output_type": "execute_result"
    },
    {
     "data": {
      "image/png": "[encoded data removed]",
      "text/plain": [
       "<Figure size 432x288 with 1 Axes>"
      ]
     },
     "metadata": {
      "needs_background": "light"
     },
     "output_type": "display_data"
    }
   ],
   "source": [
    "sns.scatterplot(x=X_2d[:,0],y=X_2d[:,1],hue=y)\n"
   ]
  },
  {
   "cell_type": "markdown",
   "metadata": {
    "id": "lsfZd2XpSRqo"
   },
   "source": [
    "2-D Principal components can only catch around 1/3 variance and the cluster is not very obvious"
   ]
  },
  {
   "cell_type": "markdown",
   "metadata": {
    "id": "Qvc8mJxaCkn1"
   },
   "source": [
    "**At first, without any tuning, lets check default performance of each unsupervised model**  \n",
    "\n",
    "\n",
    "*   As our target DEATH_EVENT is binary, we anticipate the model to produce 2 clusters\n",
    "*   Clustering model's label 0 and 1 have no real world meaning by default, we need to permutate to match it to dataset's DEATH_EVENT 0 and 1 to maximize accuracy score\n",
    "\n"
   ]
  },
  {
   "cell_type": "code",
   "execution_count": null,
   "metadata": {
    "id": "G5mikQu7xG2q"
   },
   "outputs": [],
   "source": [
    "kmeans = KMeans(n_clusters=2, random_state=42).fit(x_train)"
   ]
  },
  {
   "cell_type": "code",
   "execution_count": null,
   "metadata": {
    "colab": {
     "base_uri": "https://localhost:8080/"
    },
    "id": "800T_2Oaxagl",
    "outputId": "1cc5a237-ba12-4ec9-f999-a686f32d0e9b"
   },
   "outputs": [
    {
     "data": {
      "text/plain": [
       "0.5523012552301255"
      ]
     },
     "execution_count": 52,
     "metadata": {},
     "output_type": "execute_result"
    }
   ],
   "source": [
    "accuracy_score(y_train,kmeans.labels_)"
   ]
  },
  {
   "cell_type": "markdown",
   "metadata": {
    "id": "Fd3sStUcDfCu"
   },
   "source": [
    "As the accuracy_score is above 0.5, we consider the model's label 0,1 matches target label 0,1"
   ]
  },
  {
   "cell_type": "code",
   "execution_count": null,
   "metadata": {
    "colab": {
     "base_uri": "https://localhost:8080/"
    },
    "id": "1v6C-7QKxfwV",
    "outputId": "3e1c11e5-c0da-4e68-8768-ceceb26813ff"
   },
   "outputs": [
    {
     "data": {
      "text/plain": [
       "0.5666666666666667"
      ]
     },
     "execution_count": 53,
     "metadata": {},
     "output_type": "execute_result"
    }
   ],
   "source": [
    "accuracy_score(y_test,kmeans.predict(x_test))"
   ]
  },
  {
   "cell_type": "code",
   "execution_count": null,
   "metadata": {
    "id": "seEKuP54yS1T"
   },
   "outputs": [],
   "source": [
    "# AgglomerativeClustering does not have predict function and needs to apply on entire dataset\n",
    "ac_model = AgglomerativeClustering(n_clusters=2).fit(X)"
   ]
  },
  {
   "cell_type": "code",
   "execution_count": null,
   "metadata": {
    "colab": {
     "base_uri": "https://localhost:8080/"
    },
    "id": "sdhUvpv_zGNw",
    "outputId": "4c03c444-2cf4-4a5a-dcfb-90d7f99da197"
   },
   "outputs": [
    {
     "data": {
      "text/plain": [
       "0.43478260869565216"
      ]
     },
     "execution_count": 56,
     "metadata": {},
     "output_type": "execute_result"
    }
   ],
   "source": [
    "accuracy_score(y,ac_model.labels_)"
   ]
  },
  {
   "cell_type": "code",
   "execution_count": null,
   "metadata": {
    "colab": {
     "base_uri": "https://localhost:8080/"
    },
    "id": "_UstVtuYognj",
    "outputId": "e294d595-7632-42ea-b8ac-1c0e9926d035"
   },
   "outputs": [
    {
     "data": {
      "text/plain": [
       "0.5652173913043478"
      ]
     },
     "execution_count": 57,
     "metadata": {},
     "output_type": "execute_result"
    }
   ],
   "source": [
    "# we need to permutate as the model's label 0,1 should match target label 1,0 here\n",
    "accuracy_score(y,1 - ac_model.labels_)"
   ]
  },
  {
   "cell_type": "markdown",
   "metadata": {
    "id": "DUhA-WlxEGDT"
   },
   "source": [
    "We also try another model BIRCH clustering https://scikit-learn.org/stable/modules/generated/sklearn.cluster.Birch.html#sklearn.cluster.Birch which is not covered in our course.  \n",
    "Balanced Iterative Reducing and Clustering using Hierarchies (BIRCH) is a clustering algorithm that can cluster large datasets by first generating a small and compact summary of the the large dataset that retains as much information as possible.  "
   ]
  },
  {
   "cell_type": "code",
   "execution_count": null,
   "metadata": {
    "id": "J--2p7g9agvJ"
   },
   "outputs": [],
   "source": [
    "brc = Birch(n_clusters=2).fit(x_train)"
   ]
  },
  {
   "cell_type": "code",
   "execution_count": null,
   "metadata": {
    "colab": {
     "base_uri": "https://localhost:8080/"
    },
    "id": "jVJvcC9aBVxA",
    "outputId": "28fe24dd-6e85-469e-ca57-ad7adaa72a6b"
   },
   "outputs": [
    {
     "data": {
      "text/plain": [
       "0.5732217573221757"
      ]
     },
     "execution_count": 57,
     "metadata": {},
     "output_type": "execute_result"
    }
   ],
   "source": [
    "accuracy_score(y_train,brc.labels_)"
   ]
  },
  {
   "cell_type": "code",
   "execution_count": null,
   "metadata": {
    "colab": {
     "base_uri": "https://localhost:8080/"
    },
    "id": "fF_xH8LiEvrK",
    "outputId": "2019677d-4056-48eb-eb98-8324e5513006"
   },
   "outputs": [
    {
     "data": {
      "text/plain": [
       "0.5333333333333333"
      ]
     },
     "execution_count": 58,
     "metadata": {},
     "output_type": "execute_result"
    }
   ],
   "source": [
    "accuracy_score(y_test,brc.predict(x_test))"
   ]
  },
  {
   "cell_type": "markdown",
   "metadata": {
    "id": "LUuyQxrkE3aC"
   },
   "source": [
    "Another clustering model we will try is Gaussian Mixture Models. It can address one drawback of k means clustering - all the clusters created have a circular shape. This is because the centroids of the clusters are updated iteratively using the mean value.Gaussian Mixture Models (GMMs) assume that there are a certain number of Gaussian distributions, and each of these distributions represent a cluster. Hence, a Gaussian Mixture Model tends to group the data points belonging to a single distribution together.  \n",
    "Reference : https://www.analyticsvidhya.com/blog/2019/10/gaussian-mixture-models-clustering/"
   ]
  },
  {
   "cell_type": "code",
   "execution_count": null,
   "metadata": {
    "id": "bQhMl7XMBaB1"
   },
   "outputs": [],
   "source": [
    "gm = GaussianMixture(n_components=2,init_params='random').fit(x_train)"
   ]
  },
  {
   "cell_type": "code",
   "execution_count": null,
   "metadata": {
    "colab": {
     "base_uri": "https://localhost:8080/"
    },
    "id": "Wiep8QnmCKmf",
    "outputId": "a242a3ff-09d9-4aab-bc16-9f5b8f28a15d"
   },
   "outputs": [
    {
     "data": {
      "text/plain": [
       "0.7196652719665272"
      ]
     },
     "execution_count": 60,
     "metadata": {},
     "output_type": "execute_result"
    }
   ],
   "source": [
    "accuracy_score(y_train,gm.predict(x_train))"
   ]
  },
  {
   "cell_type": "code",
   "execution_count": null,
   "metadata": {
    "colab": {
     "base_uri": "https://localhost:8080/"
    },
    "id": "j_kUxdfDCTaZ",
    "outputId": "9c17140e-213d-4baf-e747-50c70cc64fb2"
   },
   "outputs": [
    {
     "data": {
      "text/plain": [
       "0.6333333333333333"
      ]
     },
     "execution_count": 61,
     "metadata": {},
     "output_type": "execute_result"
    }
   ],
   "source": [
    "accuracy_score(y_test,gm.predict(x_test))\n"
   ]
  },
  {
   "cell_type": "markdown",
   "metadata": {
    "id": "tdK39NfvH96u"
   },
   "source": [
    "For comparison, we use one of the supervised classification model learned in DTSA-5509 - RandomForestClassifier"
   ]
  },
  {
   "cell_type": "code",
   "execution_count": null,
   "metadata": {
    "colab": {
     "base_uri": "https://localhost:8080/"
    },
    "id": "cjQtPgg96Gs7",
    "outputId": "e4ffec79-069c-45ea-ae9f-6b1698031ef1"
   },
   "outputs": [
    {
     "data": {
      "text/plain": [
       "0.65"
      ]
     },
     "execution_count": 62,
     "metadata": {},
     "output_type": "execute_result"
    }
   ],
   "source": [
    "r_clf = RandomForestClassifier(random_state=42)\n",
    "r_clf.fit(x_train, y_train)\n",
    "r_pred = r_clf.predict(x_test)\n",
    "accuracy_score(y_test, r_pred)"
   ]
  },
  {
   "cell_type": "markdown",
   "metadata": {
    "id": "z6DIS2DcQS2S"
   },
   "source": [
    "**Next, we will try to tune each model with different hyperparameters for better performance (accuracy)**"
   ]
  },
  {
   "cell_type": "code",
   "execution_count": null,
   "metadata": {
    "colab": {
     "base_uri": "https://localhost:8080/"
    },
    "id": "aKya0zJW6oGF",
    "outputId": "fbbd2ade-c792-44a4-c08d-b89497eb3804"
   },
   "outputs": [
    {
     "name": "stdout",
     "output_type": "stream",
     "text": [
      "max_acc :  0.5666666666666667\n",
      "best_algorithm :  auto\n",
      "best_tol :  1e-05\n"
     ]
    }
   ],
   "source": [
    "max_acc = 0\n",
    "best_algorithm = None\n",
    "best_tol = None\n",
    "algorithms = ['auto','elkan']\n",
    "tols = [0.00001,0.0001,0.01,0.1]\n",
    "for algorithm in algorithms:\n",
    "  for tol in tols:\n",
    "    kmeans = KMeans(n_clusters=2, algorithm=algorithm, tol=tol,random_state=42).fit(x_train)\n",
    "    acc = max(accuracy_score(y_test,kmeans.predict(x_test)), accuracy_score(y_test,1-kmeans.predict(x_test)))\n",
    "    if acc > max_acc:\n",
    "      max_acc = acc\n",
    "      best_algorithm = algorithm\n",
    "      best_tol = tol\n",
    "print(\"max_acc : \",max_acc)\n",
    "print(\"best_algorithm : \",best_algorithm)\n",
    "print(\"best_tol : \",best_tol)"
   ]
  },
  {
   "cell_type": "code",
   "execution_count": null,
   "metadata": {
    "colab": {
     "base_uri": "https://localhost:8080/"
    },
    "id": "huWKi_pNTjdK",
    "outputId": "b89d2bfa-fefe-4dcf-b390-95364d543258"
   },
   "outputs": [
    {
     "name": "stdout",
     "output_type": "stream",
     "text": [
      "max_acc :  0.68561872909699\n",
      "best_affinity :  euclidean\n",
      "best_linkage :  average\n"
     ]
    }
   ],
   "source": [
    "max_acc = 0\n",
    "best_affinity = None\n",
    "best_linkage = None\n",
    "affinities = ['euclidean', 'l1', 'l2', 'manhattan', 'cosine']\n",
    "linkages = ['ward', 'complete', 'average', 'single']\n",
    "for linkage in linkages:\n",
    "  for affinity in affinities:\n",
    "    if linkage == 'ward' and affinity != 'enclidean':\n",
    "      continue\n",
    "    ac_model = AgglomerativeClustering(n_clusters=2, linkage = linkage, affinity = affinity).fit(X)\n",
    "    acc = accuracy_score(y,ac_model.labels_)\n",
    "    if acc > max_acc:\n",
    "      max_acc = acc\n",
    "      best_affinity = affinity\n",
    "      best_linkage = linkage\n",
    "print(\"max_acc : \",max_acc)\n",
    "print(\"best_affinity : \",best_affinity)\n",
    "print(\"best_linkage : \",best_linkage)"
   ]
  },
  {
   "cell_type": "markdown",
   "metadata": {
    "id": "BBKhtHDtcfch"
   },
   "source": [
    "For Birch clustering:  \n",
    "\n",
    "threshold float, default=0.5\n",
    "The radius of the subcluster obtained by merging a new sample and the closest subcluster should be lesser than the threshold. Otherwise a new subcluster is started. Setting this value to be very low promotes splitting and vice-versa.\n",
    "\n",
    "branching_factor int, default=50\n",
    "Maximum number of CF subclusters in each node. If a new samples enters such that the number of subclusters exceed the branching_factor then that node is split into two nodes with the subclusters redistributed in each. The parent subcluster of that node is removed and two new subclusters are added as parents of the 2 split nodes."
   ]
  },
  {
   "cell_type": "code",
   "execution_count": null,
   "metadata": {
    "colab": {
     "base_uri": "https://localhost:8080/"
    },
    "id": "_pXd1u80XfjO",
    "outputId": "30f26d15-88b3-4363-a50c-ad93cb6f82e5"
   },
   "outputs": [
    {
     "name": "stdout",
     "output_type": "stream",
     "text": [
      "max_acc :  0.6833333333333333\n",
      "best_threshold :  1\n",
      "best_branching_factor :  10\n"
     ]
    }
   ],
   "source": [
    "max_acc = 0\n",
    "best_threshold = None\n",
    "best_branching_factor = None\n",
    "thresholds = [0.5,1,2,5]\n",
    "branching_factors = [5,10,20,50]\n",
    "for threshold in thresholds:\n",
    "  for branching_factor in branching_factors:\n",
    "    brc = Birch(n_clusters=2,threshold=threshold,branching_factor=branching_factor).fit(x_train)\n",
    "    acc = max(accuracy_score(y_test,brc.predict(x_test)), accuracy_score(y_test,1-brc.predict(x_test)))\n",
    "    if acc > max_acc:\n",
    "      max_acc = acc\n",
    "      best_threshold = threshold\n",
    "      best_branching_factor = branching_factor\n",
    "print(\"max_acc : \",max_acc)\n",
    "print(\"best_threshold : \",best_threshold)\n",
    "print(\"best_branching_factor : \",best_branching_factor)"
   ]
  },
  {
   "cell_type": "markdown",
   "metadata": {
    "id": "UiQdbU43dblx"
   },
   "source": [
    "For GaussianMixture:  \n",
    "covariance_type  {‘full’, ‘tied’, ‘diag’, ‘spherical’}, default=’full’\n",
    "String describing the type of covariance parameters to use. Must be one of:\n",
    "\n",
    "‘full’: each component has its own general covariance matrix.\n",
    "\n",
    "‘tied’: all components share the same general covariance matrix.\n",
    "\n",
    "‘diag’: each component has its own diagonal covariance matrix.\n",
    "\n",
    "‘spherical’: each component has its own single variance.\n",
    "\n",
    "tol  float, default=1e-3\n",
    "The convergence threshold. EM iterations will stop when the lower bound average gain is below this threshold."
   ]
  },
  {
   "cell_type": "code",
   "execution_count": null,
   "metadata": {
    "colab": {
     "base_uri": "https://localhost:8080/"
    },
    "id": "CP_8rJVpb8o8",
    "outputId": "6b803e01-c2f0-4116-e393-a4a4a0e0fe54"
   },
   "outputs": [
    {
     "name": "stdout",
     "output_type": "stream",
     "text": [
      "max_acc :  0.6666666666666666\n",
      "best_tol :  0.1\n",
      "best_covariance_type :  diag\n"
     ]
    }
   ],
   "source": [
    "max_acc = 0\n",
    "best_covariance_type = None\n",
    "best_tol = None\n",
    "covariance_types = ['full', 'tied', 'diag', 'spherical']\n",
    "tols = [0.00001,0.0001,0.01,0.1]\n",
    "for covariance_type in covariance_types:\n",
    "  for tol in tols:\n",
    "    gm = GaussianMixture(n_components=2,init_params='random',covariance_type=covariance_type,tol=tol).fit(x_train)\n",
    "    acc = max(accuracy_score(y_test,gm.predict(x_test)), accuracy_score(y_test,1-gm.predict(x_test)))\n",
    "    if acc > max_acc:\n",
    "      max_acc = acc\n",
    "      best_tol = tol\n",
    "      best_covariance_type = covariance_type\n",
    "print(\"max_acc : \",max_acc)\n",
    "print(\"best_tol : \",best_tol)\n",
    "print(\"best_covariance_type : \",best_covariance_type)"
   ]
  },
  {
   "cell_type": "code",
   "execution_count": null,
   "metadata": {
    "colab": {
     "base_uri": "https://localhost:8080/"
    },
    "id": "7AqfCOqldWCK",
    "outputId": "be55e192-ebb2-4b8f-ebbf-13eee2d04fa7"
   },
   "outputs": [
    {
     "name": "stdout",
     "output_type": "stream",
     "text": [
      "max_acc :  0.7333333333333333\n",
      "best_criterion :  gini\n",
      "best_max_depth :  5\n",
      "best_max_feature :  None\n",
      "best_bootstrap :  False\n",
      "best_ccp_alpha :  0.01\n"
     ]
    }
   ],
   "source": [
    "max_acc = 0\n",
    "best_criterion = None\n",
    "best_max_depth = None\n",
    "best_max_feature = None\n",
    "best_bootstrap = None\n",
    "best_ccp_alpha = None\n",
    "criterions = ['gini', 'entropy']\n",
    "max_depths = [5,10,20,None]\n",
    "max_features = ['sqrt', 'log2', None]\n",
    "bootstraps = [True, False]\n",
    "ccp_alphas = [0.0, 0.001, 0.01]\n",
    "\n",
    "for criterion in criterions:\n",
    "  for max_depth in max_depths:\n",
    "    for max_feature in max_features:\n",
    "      for bootstrap in bootstraps:\n",
    "        for ccp_alpha in ccp_alphas:\n",
    "          r_clf = RandomForestClassifier(criterion=criterion,max_depth=max_depth,max_features=max_feature,bootstrap=bootstrap,ccp_alpha=ccp_alpha,random_state=42)\n",
    "          r_clf.fit(x_train, y_train)\n",
    "          r_pred = r_clf.predict(x_test)\n",
    "          acc = accuracy_score(y_test, r_pred)\n",
    "          if acc > max_acc:\n",
    "            max_acc = acc\n",
    "            best_criterion = criterion\n",
    "            best_max_depth = max_depth\n",
    "            best_max_feature = max_feature\n",
    "            best_bootstrap =  bootstrap\n",
    "            best_ccp_alpha = ccp_alpha\n",
    "print(\"max_acc : \",max_acc)\n",
    "print(\"best_criterion : \",best_criterion)\n",
    "print(\"best_max_depth : \",best_max_depth)\n",
    "print(\"best_max_feature : \",best_max_feature)\n",
    "print(\"best_bootstrap : \",best_bootstrap)\n",
    "print(\"best_ccp_alpha : \",best_ccp_alpha)"
   ]
  },
  {
   "cell_type": "markdown",
   "metadata": {
    "id": "71hJ36O7iQpb"
   },
   "source": [
    "**Summarize each model's best score and analyze**"
   ]
  },
  {
   "cell_type": "code",
   "execution_count": null,
   "metadata": {
    "colab": {
     "base_uri": "https://localhost:8080/",
     "height": 206
    },
    "id": "Gi7AZMKshrW3",
    "outputId": "bbc2930d-9002-4c3b-9326-fdcf3aa219f3"
   },
   "outputs": [
    {
     "data": {
      "text/html": [
       "\n",
       "  <div id=\"df-cfdf8e5c-f2a3-4afd-85a1-afbbdc215a87\">\n",
       "    <div class=\"colab-df-container\">\n",
       "      <div>\n",
       "<style scoped>\n",
       "    .dataframe tbody tr th:only-of-type {\n",
       "        vertical-align: middle;\n",
       "    }\n",
       "\n",
       "    .dataframe tbody tr th {\n",
       "        vertical-align: top;\n",
       "    }\n",
       "\n",
       "    .dataframe thead th {\n",
       "        text-align: right;\n",
       "    }\n",
       "</style>\n",
       "<table border=\"1\" class=\"dataframe\">\n",
       "  <thead>\n",
       "    <tr style=\"text-align: right;\">\n",
       "      <th></th>\n",
       "      <th>model</th>\n",
       "      <th>score</th>\n",
       "    </tr>\n",
       "  </thead>\n",
       "  <tbody>\n",
       "    <tr>\n",
       "      <th>0</th>\n",
       "      <td>KMeans</td>\n",
       "      <td>0.57</td>\n",
       "    </tr>\n",
       "    <tr>\n",
       "      <th>1</th>\n",
       "      <td>Agglomerative</td>\n",
       "      <td>0.69</td>\n",
       "    </tr>\n",
       "    <tr>\n",
       "      <th>2</th>\n",
       "      <td>Birch</td>\n",
       "      <td>0.68</td>\n",
       "    </tr>\n",
       "    <tr>\n",
       "      <th>3</th>\n",
       "      <td>GaussianMixture</td>\n",
       "      <td>0.67</td>\n",
       "    </tr>\n",
       "    <tr>\n",
       "      <th>4</th>\n",
       "      <td>RandomForest</td>\n",
       "      <td>0.73</td>\n",
       "    </tr>\n",
       "  </tbody>\n",
       "</table>\n",
       "</div>\n",
       "      <button class=\"colab-df-convert\" onclick=\"convertToInteractive('df-cfdf8e5c-f2a3-4afd-85a1-afbbdc215a87')\"\n",
       "              title=\"Convert this dataframe to an interactive table.\"\n",
       "              style=\"display:none;\">\n",
       "        \n",
       "  <svg xmlns=\"http://www.w3.org/2000/svg\" height=\"24px\"viewBox=\"0 0 24 24\"\n",
       "       width=\"24px\">\n",
       "    <path d=\"M0 0h24v24H0V0z\" fill=\"none\"/>\n",
       "    <path d=\"M18.56 5.44l.94 2.06.94-2.06 2.06-.94-2.06-.94-.94-2.06-.94 2.06-2.06.94zm-11 1L8.5 8.5l.94-2.06 2.06-.94-2.06-.94L8.5 2.5l-.94 2.06-2.06.94zm10 10l.94 2.06.94-2.06 2.06-.94-2.06-.94-.94-2.06-.94 2.06-2.06.94z\"/><path d=\"M17.41 7.96l-1.37-1.37c-.4-.4-.92-.59-1.43-.59-.52 0-1.04.2-1.43.59L10.3 9.45l-7.72 7.72c-.78.78-.78 2.05 0 2.83L4 21.41c.39.39.9.59 1.41.59.51 0 1.02-.2 1.41-.59l7.78-7.78 2.81-2.81c.8-.78.8-2.07 0-2.86zM5.41 20L4 18.59l7.72-7.72 1.47 1.35L5.41 20z\"/>\n",
       "  </svg>\n",
       "      </button>\n",
       "      \n",
       "  <style>\n",
       "    .colab-df-container {\n",
       "      display:flex;\n",
       "      flex-wrap:wrap;\n",
       "      gap: 12px;\n",
       "    }\n",
       "\n",
       "    .colab-df-convert {\n",
       "      background-color: #E8F0FE;\n",
       "      border: none;\n",
       "      border-radius: 50%;\n",
       "      cursor: pointer;\n",
       "      display: none;\n",
       "      fill: #1967D2;\n",
       "      height: 32px;\n",
       "      padding: 0 0 0 0;\n",
       "      width: 32px;\n",
       "    }\n",
       "\n",
       "    .colab-df-convert:hover {\n",
       "      background-color: #E2EBFA;\n",
       "      box-shadow: 0px 1px 2px rgba(60, 64, 67, 0.3), 0px 1px 3px 1px rgba(60, 64, 67, 0.15);\n",
       "      fill: #174EA6;\n",
       "    }\n",
       "\n",
       "    [theme=dark] .colab-df-convert {\n",
       "      background-color: #3B4455;\n",
       "      fill: #D2E3FC;\n",
       "    }\n",
       "\n",
       "    [theme=dark] .colab-df-convert:hover {\n",
       "      background-color: #434B5C;\n",
       "      box-shadow: 0px 1px 3px 1px rgba(0, 0, 0, 0.15);\n",
       "      filter: drop-shadow(0px 1px 2px rgba(0, 0, 0, 0.3));\n",
       "      fill: #FFFFFF;\n",
       "    }\n",
       "  </style>\n",
       "\n",
       "      <script>\n",
       "        const buttonEl =\n",
       "          document.querySelector('#df-cfdf8e5c-f2a3-4afd-85a1-afbbdc215a87 button.colab-df-convert');\n",
       "        buttonEl.style.display =\n",
       "          google.colab.kernel.accessAllowed ? 'block' : 'none';\n",
       "\n",
       "        async function convertToInteractive(key) {\n",
       "          const element = document.querySelector('#df-cfdf8e5c-f2a3-4afd-85a1-afbbdc215a87');\n",
       "          const dataTable =\n",
       "            await google.colab.kernel.invokeFunction('convertToInteractive',\n",
       "                                                     [key], {});\n",
       "          if (!dataTable) return;\n",
       "\n",
       "          const docLinkHtml = 'Like what you see? Visit the ' +\n",
       "            '<a target=\"_blank\" href=https://colab.research.google.com/notebooks/data_table.ipynb>data table notebook</a>'\n",
       "            + ' to learn more about interactive tables.';\n",
       "          element.innerHTML = '';\n",
       "          dataTable['output_type'] = 'display_data';\n",
       "          await google.colab.output.renderOutput(dataTable, element);\n",
       "          const docLink = document.createElement('div');\n",
       "          docLink.innerHTML = docLinkHtml;\n",
       "          element.appendChild(docLink);\n",
       "        }\n",
       "      </script>\n",
       "    </div>\n",
       "  </div>\n",
       "  "
      ],
      "text/plain": [
       "             model  score\n",
       "0           KMeans   0.57\n",
       "1    Agglomerative   0.69\n",
       "2            Birch   0.68\n",
       "3  GaussianMixture   0.67\n",
       "4     RandomForest   0.73"
      ]
     },
     "execution_count": 69,
     "metadata": {},
     "output_type": "execute_result"
    }
   ],
   "source": [
    "d = {\n",
    "    'model' : ['KMeans','Agglomerative','Birch','GaussianMixture','RandomForest'],\n",
    "    'score' : [0.57, 0.69, 0.68, 0.67, 0.73]\n",
    "     }\n",
    "df_summary = pd.DataFrame(d)\n",
    "df_summary"
   ]
  },
  {
   "cell_type": "markdown",
   "metadata": {
    "id": "bCwu2CfAFIa3"
   },
   "source": [
    "\n",
    "\n",
    "*   Based on research on kagggle and UCL datasets, it is often to find out a dedicated dataset for clustering problem, and we have to use classification dataset for clustering modelling and permutate labels to calculate metrics so we can evaluate the performance of clustering models. So for this kind of usage, in most time, inevitably classification models perform better. \n",
    "*   Gaussian Mixture model performs better and as mentioned earlier, it addressed one drawback of kmeans about cluster's distribution, we can see significant improvement compared with KMeans' model\n",
    "*   Agglomerative clustering performs better than KMeans for high dimension datasets, KMeans usually performs well on 1,2,3D dimensions' data\n",
    "*   Agglomerative clustering is sensitive to outliers, in our dataset, those non-categorical features do have considerable amounts of outliers from statistical standpoint, however we explained that from medical reserch, those samples are valuable and should not be removed\n",
    "*   BIRCH, similar with Agglomerative clustering, is a balanced iterative hierarchical based clustering in which is used to divide a large data in small clusters. \n",
    "*   An advantage of BIRCH is its ability to incrementally and dynamically cluster incoming, multi-dimensional metric data points to produce the best quality clustering for a given set of resources (memory and time constraints). In most cases, BIRCH only requires a single scan of the database. Our dataset here is very small containing only 299 samples, so that such advantage cannot be illustrated clearly.\n",
    "\n"
   ]
  },
  {
   "cell_type": "code",
   "execution_count": null,
   "metadata": {
    "id": "D4XI3zu9dD7S"
   },
   "outputs": [],
   "source": []
  },
  {
   "cell_type": "code",
   "execution_count": null,
   "metadata": {
    "id": "4HNESioIja5K"
   },
   "outputs": [],
   "source": []
  }
 ],
 "metadata": {
  "colab": {
   "collapsed_sections": [],
   "name": "dtsa5510final.ipynb",
   "provenance": []
  },
  "kernelspec": {
   "display_name": "Python 3 (ipykernel)",
   "language": "python",
   "name": "python3"
  },
  "language_info": {
   "codemirror_mode": {
    "name": "ipython",
    "version": 3
   },
   "file_extension": ".py",
   "mimetype": "text/x-python",
   "name": "python",
   "nbconvert_exporter": "python",
   "pygments_lexer": "ipython3",
   "version": "3.8.18"
  }
 },
 "nbformat": 4,
 "nbformat_minor": 4
}
