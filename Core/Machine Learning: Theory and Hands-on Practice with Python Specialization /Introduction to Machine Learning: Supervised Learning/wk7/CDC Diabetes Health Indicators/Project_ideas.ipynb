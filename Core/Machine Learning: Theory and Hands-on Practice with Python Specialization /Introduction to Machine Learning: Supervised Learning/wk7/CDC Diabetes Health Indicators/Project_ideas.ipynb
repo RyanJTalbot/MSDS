{
 "cells": [
  {
   "cell_type": "markdown",
   "id": "ccbf7429-1537-46b3-a0b2-a5052f6812c9",
   "metadata": {},
   "source": [
    "Recommender Systems with Matrix Factorization\n",
    "\n",
    "    Problem Statement:\n",
    "    Recommend items to users based on their preferences without explicit labels, enhancing user experience.\n",
    "\n",
    "    Machine Learning Approach:\n",
    "        Matrix Factorization Techniques: Singular Value Decomposition (SVD), Non-negative Matrix Factorization (NMF)\n",
    "        Evaluation Metrics: Root Mean Squared Error (RMSE), Mean Absolute Error (MAE)\n",
    "\n",
    "    Data Sources:\n",
    "        MovieLens Dataset\n",
    "        Goodbooks-10k Dataset"
   ]
  },
  {
   "cell_type": "code",
   "execution_count": null,
   "id": "f5d99c9c-7c16-46b2-bdfb-bc14665996ab",
   "metadata": {},
   "outputs": [],
   "source": []
  },
  {
   "cell_type": "code",
   "execution_count": null,
   "id": "d7402b88-1003-4f68-9ada-3de022da31b9",
   "metadata": {},
   "outputs": [],
   "source": []
  }
 ],
 "metadata": {
  "kernelspec": {
   "display_name": "Python 3 (ipykernel)",
   "language": "python",
   "name": "python3"
  },
  "language_info": {
   "codemirror_mode": {
    "name": "ipython",
    "version": 3
   },
   "file_extension": ".py",
   "mimetype": "text/x-python",
   "name": "python",
   "nbconvert_exporter": "python",
   "pygments_lexer": "ipython3",
   "version": "3.8.18"
  }
 },
 "nbformat": 4,
 "nbformat_minor": 5
}
