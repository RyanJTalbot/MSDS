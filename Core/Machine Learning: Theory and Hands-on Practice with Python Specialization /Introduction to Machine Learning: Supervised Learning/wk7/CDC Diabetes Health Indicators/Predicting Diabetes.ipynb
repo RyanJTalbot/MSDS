{
 "cells": [
  {
   "cell_type": "markdown",
   "id": "3110b914-d264-4672-aac5-96c7d5f22235",
   "metadata": {},
   "source": [
    "\n",
    "### 2. Data Loading and Preprocessing\n",
    "\n",
    "**Data Loading:**\n",
    "\n",
    "- **Loading the Data:** Add code and explanations for loading the dataset into your working environment.\n",
    "\n",
    "**Data Preprocessing:**\n",
    "\n",
    "- **Handling Missing Values:** Describe how you dealt with any missing or null values in the dataset.\n",
    "- **Data Types and Encoding:** Explain any conversions or encoding performed on categorical variables.\n",
    "- **Feature Scaling:** If applicable, mention any scaling or normalization techniques applied to the features.\n",
    "- **Class Imbalance:** Discuss whether the target variable is imbalanced and how you addressed it (e.g., resampling techniques like SMOTE).\n",
    "\n",
    "### 3. Exploratory Data Analysis (EDA)\n",
    "\n",
    "**Statistical Summaries:**\n",
    "\n",
    "- Provide descriptive statistics for the dataset (mean, median, mode, standard deviation).\n",
    "- Discuss any noteworthy observations from the data summary.\n",
    "\n",
    "**Visualizations:**\n",
    "\n",
    "- **Univariate Analysis:** Histograms or box plots for individual features to understand their distributions.\n",
    "- **Bivariate Analysis:** Scatter plots or correlation heatmaps to explore relationships between features.\n",
    "- **Target Variable Distribution:** Analyze the distribution of the target variable to check for class imbalance.\n",
    "\n",
    "**Insights:**\n",
    "\n",
    "- Highlight any significant patterns or anomalies discovered during EDA that could impact model performance or require further investigation.\n",
    "\n",
    "### 4. Model Building and Training\n",
    "\n",
    "**Model Selection:**\n",
    "\n",
    "- **Justification:** Explain why you chose the Random Forest classifier over other algorithms.\n",
    "- **Algorithm Explanation:** Provide a brief overview of how Random Forest works.\n",
    "\n",
    "**Hyperparameter Tuning:**\n",
    "\n",
    "- Detail the hyperparameters you tuned and the rationale behind choosing specific values.\n",
    "- Include code snippets or tables showing the results of grid search or cross-validation.\n",
    "\n",
    "**Training Process:**\n",
    "\n",
    "- Discuss the train-test split strategy, including the proportion of data used for training and testing.\n",
    "- Mention any cross-validation techniques used to ensure model robustness.\n",
    "\n",
    "### 5. Results\n",
    "\n",
    "**Performance Metrics:**\n",
    "\n",
    "- **Accuracy, Precision, Recall, F1-Score:** Provide these metrics to give a comprehensive evaluation of model performance.\n",
    "- **Confusion Matrix:** Include a confusion matrix to visualize true vs. predicted classifications.\n",
    "- **ROC Curve and AUC:** Present the ROC curve and discuss the AUC score to evaluate the model's discriminative ability.\n",
    "\n",
    "**Feature Importance:**\n",
    "\n",
    "- Include a plot showing feature importances as determined by the Random Forest model.\n",
    "- Discuss how these features contribute to the model's predictions.\n",
    "\n",
    "**Validation:**\n",
    "\n",
    "- If possible, validate your model on a separate validation set or through cross-validation to assess its generalizability.\n",
    "\n",
    "### 6. Discussion and Conclusion\n",
    "\n",
    "**Interpretation of Results:**\n",
    "\n",
    "- **Deep Dive into Features:** Elaborate on how the top features contribute to diabetes risk based on domain knowledge.\n",
    "- **Comparison with Literature:** Compare your findings with existing research to validate your results.\n",
    "\n"
   ]
  },
  {
   "cell_type": "code",
   "execution_count": null,
   "id": "fb0c2267-c51c-4afe-a5e0-6c0cf6740248",
   "metadata": {},
   "outputs": [],
   "source": []
  },
  {
   "cell_type": "code",
   "execution_count": null,
   "id": "1241e51a-1b70-4838-86be-5b0772b40b09",
   "metadata": {},
   "outputs": [],
   "source": []
  },
  {
   "cell_type": "code",
   "execution_count": null,
   "id": "2c280d67-697b-4cb0-a8d6-7df8dbedde7f",
   "metadata": {},
   "outputs": [],
   "source": []
  },
  {
   "cell_type": "code",
   "execution_count": null,
   "id": "b679cab3-6b6e-416d-9731-5be6b1bbbf95",
   "metadata": {},
   "outputs": [],
   "source": []
  },
  {
   "cell_type": "code",
   "execution_count": null,
   "id": "636305aa-b368-4ec2-b517-08bf88d6f371",
   "metadata": {},
   "outputs": [],
   "source": []
  },
  {
   "cell_type": "code",
   "execution_count": null,
   "id": "96690c91-cea1-4b46-bb60-7095a60f7372",
   "metadata": {},
   "outputs": [],
   "source": []
  },
  {
   "cell_type": "markdown",
   "id": "edc077af-49cc-46e6-8b89-d0f9a7ba16c0",
   "metadata": {},
   "source": [
    "# Predicting Diabetes Status Using CDC Diabetes Health Indicators\n",
    "\n",
    "## Table of Contents\n",
    "1. [Problem Description](#1.Problem-Description)\n",
    "2. [Data Loading and Preprocessing](#Data-Loading-and-Preprocessing)\n",
    "3. [Exploratory Data Analysis (EDA)](#Exploratory-Data-Analysis-EDA)\n",
    "4. [Model Building and Training](#4.Model-Building-and-Training)\n",
    "5. [Results](#Results)\n",
    "6. [Discussion and Conclusion](#Discussion-and-Conclusion)\n"
   ]
  },
  {
   "cell_type": "markdown",
   "id": "ffade235-3035-417b-b1ce-9acbb4545fd5",
   "metadata": {},
   "source": [
    "---\n",
    "\n",
    "# 1. Problem Description\n",
    "\n",
    "Diabetes is a chronic condition that affects millions of individuals worldwide. Early prediction and intervention can significantly improve patient outcomes and reduce healthcare costs. This project aims to build a supervised machine learning model to predict whether an individual has diabetes, is pre-diabetic, or healthy based on various health indicators and lifestyle factors.\n",
    "\n",
    "### Objectives\n",
    "- **Predictive Modeling**: Develop a model to classify individuals into diabetic, pre-diabetic, or healthy categories.\n",
    "- **Feature Importance**: Identify key health indicators that contribute most to diabetes prediction.\n",
    "- **Model Evaluation**: Assess the performance of the model using appropriate metrics.\n",
    "\n",
    "### Dataset Overview\n",
    "The [CDC Diabetes Health Indicators Dataset](https://archive.ics.uci.edu/dataset/891/cdc+diabetes+health+indicators) contains healthcare statistics and lifestyle survey information about individuals, including demographics, lab test results, and survey responses related to health behaviors.\n",
    "\n",
    "- **Number of Instances**: 253,680\n",
    "- **Number of Features**: 21\n",
    "- **Target Variable**: `Diabetes_binary` (0 = No Diabetes, 1 = Prediabetes or Diabetes)\n",
    "- **Features Include**:\n",
    "  - Demographics: Sex, Age, Education Level, Income\n",
    "  - Health Indicators: BMI, High Blood Pressure, High Cholesterol, Smoking Status, Physical Activity, etc.\n",
    "    - ['ID', 'Diabetes_binary', 'HighBP', 'HighChol', 'CholCheck', 'BMI',\n",
    "       'Smoker', 'Stroke', 'HeartDiseaseorAttack', 'PhysActivity', 'Fruits',\n",
    "       'Veggies', 'HvyAlcoholConsump', 'AnyHealthcare', 'NoDocbcCost',\n",
    "       'GenHlth', 'MentHlth', 'PhysHlth', 'DiffWalk', 'Sex', 'Age',\n",
    "       'Education', 'Income']\n",
    "---\n"
   ]
  },
  {
   "cell_type": "markdown",
   "id": "dea85502-fbfa-48bc-a24e-7af4d8928113",
   "metadata": {},
   "source": [
    "# 2. Data Loading and Preprocessing"
   ]
  },
  {
   "cell_type": "code",
   "execution_count": 1,
   "id": "375fe2d4-f244-4230-bc7a-6e80bc426ac4",
   "metadata": {},
   "outputs": [],
   "source": [
    "# Import Libraries\n",
    "import pandas as pd\n",
    "import numpy as np\n",
    "import matplotlib.pyplot as plt\n",
    "import seaborn as sns\n",
    "import requests\n",
    "from io import StringIO\n",
    "\n",
    "# Machine Learning Libraries\n",
    "from sklearn.model_selection import train_test_split, GridSearchCV\n",
    "from sklearn.ensemble import RandomForestClassifier\n",
    "from sklearn.metrics import classification_report, accuracy_score, confusion_matrix, roc_auc_score, roc_curve\n",
    "from sklearn.preprocessing import StandardScaler, LabelEncoder\n",
    "\n",
    "# Suppress warnings for cleaner output\n",
    "import warnings\n",
    "warnings.filterwarnings('ignore')\n",
    "\n",
    "# Set visualizations style\n",
    "sns.set(style=\"whitegrid\")\n",
    "\n"
   ]
  },
  {
   "cell_type": "code",
   "execution_count": 2,
   "id": "6622df6a-b8c7-4ba7-8261-13dac35c2e0d",
   "metadata": {},
   "outputs": [
    {
     "name": "stdout",
     "output_type": "stream",
     "text": [
      "Requirement already satisfied: ucimlrepo in /Users/ryantalbot/opt/anaconda3/envs/tf2/lib/python3.8/site-packages (0.0.7)\n",
      "Requirement already satisfied: pandas>=1.0.0 in /Users/ryantalbot/opt/anaconda3/envs/tf2/lib/python3.8/site-packages (from ucimlrepo) (1.5.3)\n",
      "Requirement already satisfied: certifi>=2020.12.5 in /Users/ryantalbot/opt/anaconda3/envs/tf2/lib/python3.8/site-packages (from ucimlrepo) (2023.11.17)\n",
      "Requirement already satisfied: python-dateutil>=2.8.1 in /Users/ryantalbot/opt/anaconda3/envs/tf2/lib/python3.8/site-packages (from pandas>=1.0.0->ucimlrepo) (2.8.2)\n",
      "Requirement already satisfied: pytz>=2020.1 in /Users/ryantalbot/opt/anaconda3/envs/tf2/lib/python3.8/site-packages (from pandas>=1.0.0->ucimlrepo) (2023.3.post1)\n",
      "Requirement already satisfied: numpy>=1.20.3 in /Users/ryantalbot/opt/anaconda3/envs/tf2/lib/python3.8/site-packages (from pandas>=1.0.0->ucimlrepo) (1.24.3)\n",
      "Requirement already satisfied: six>=1.5 in /Users/ryantalbot/opt/anaconda3/envs/tf2/lib/python3.8/site-packages (from python-dateutil>=2.8.1->pandas>=1.0.0->ucimlrepo) (1.16.0)\n",
      "\u001b[33mDEPRECATION: beakerx-base 2.2.0 has a non-standard dependency specifier ipywidgets<8pandas,>=7.5.1. pip 24.0 will enforce this behaviour change. A possible replacement is to upgrade to a newer version of beakerx-base or contact the author to suggest that they release a version with a conforming dependency specifiers. Discussion can be found at https://github.com/pypa/pip/issues/12063\u001b[0m\u001b[33m\n",
      "\u001b[0m"
     ]
    }
   ],
   "source": [
    "!pip3 install -U ucimlrepo "
   ]
  },
  {
   "cell_type": "code",
   "execution_count": 3,
   "id": "57cbf4e2-a6d7-4493-90db-eb51d0289de7",
   "metadata": {},
   "outputs": [
    {
     "data": {
      "text/html": [
       "<div>\n",
       "<style scoped>\n",
       "    .dataframe tbody tr th:only-of-type {\n",
       "        vertical-align: middle;\n",
       "    }\n",
       "\n",
       "    .dataframe tbody tr th {\n",
       "        vertical-align: top;\n",
       "    }\n",
       "\n",
       "    .dataframe thead th {\n",
       "        text-align: right;\n",
       "    }\n",
       "</style>\n",
       "<table border=\"1\" class=\"dataframe\">\n",
       "  <thead>\n",
       "    <tr style=\"text-align: right;\">\n",
       "      <th></th>\n",
       "      <th>ID</th>\n",
       "      <th>Diabetes_binary</th>\n",
       "      <th>HighBP</th>\n",
       "      <th>HighChol</th>\n",
       "      <th>CholCheck</th>\n",
       "      <th>BMI</th>\n",
       "      <th>Smoker</th>\n",
       "      <th>Stroke</th>\n",
       "      <th>HeartDiseaseorAttack</th>\n",
       "      <th>PhysActivity</th>\n",
       "      <th>...</th>\n",
       "      <th>AnyHealthcare</th>\n",
       "      <th>NoDocbcCost</th>\n",
       "      <th>GenHlth</th>\n",
       "      <th>MentHlth</th>\n",
       "      <th>PhysHlth</th>\n",
       "      <th>DiffWalk</th>\n",
       "      <th>Sex</th>\n",
       "      <th>Age</th>\n",
       "      <th>Education</th>\n",
       "      <th>Income</th>\n",
       "    </tr>\n",
       "  </thead>\n",
       "  <tbody>\n",
       "    <tr>\n",
       "      <th>0</th>\n",
       "      <td>0</td>\n",
       "      <td>0</td>\n",
       "      <td>1</td>\n",
       "      <td>1</td>\n",
       "      <td>1</td>\n",
       "      <td>40</td>\n",
       "      <td>1</td>\n",
       "      <td>0</td>\n",
       "      <td>0</td>\n",
       "      <td>0</td>\n",
       "      <td>...</td>\n",
       "      <td>1</td>\n",
       "      <td>0</td>\n",
       "      <td>5</td>\n",
       "      <td>18</td>\n",
       "      <td>15</td>\n",
       "      <td>1</td>\n",
       "      <td>0</td>\n",
       "      <td>9</td>\n",
       "      <td>4</td>\n",
       "      <td>3</td>\n",
       "    </tr>\n",
       "    <tr>\n",
       "      <th>1</th>\n",
       "      <td>1</td>\n",
       "      <td>0</td>\n",
       "      <td>0</td>\n",
       "      <td>0</td>\n",
       "      <td>0</td>\n",
       "      <td>25</td>\n",
       "      <td>1</td>\n",
       "      <td>0</td>\n",
       "      <td>0</td>\n",
       "      <td>1</td>\n",
       "      <td>...</td>\n",
       "      <td>0</td>\n",
       "      <td>1</td>\n",
       "      <td>3</td>\n",
       "      <td>0</td>\n",
       "      <td>0</td>\n",
       "      <td>0</td>\n",
       "      <td>0</td>\n",
       "      <td>7</td>\n",
       "      <td>6</td>\n",
       "      <td>1</td>\n",
       "    </tr>\n",
       "    <tr>\n",
       "      <th>2</th>\n",
       "      <td>2</td>\n",
       "      <td>0</td>\n",
       "      <td>1</td>\n",
       "      <td>1</td>\n",
       "      <td>1</td>\n",
       "      <td>28</td>\n",
       "      <td>0</td>\n",
       "      <td>0</td>\n",
       "      <td>0</td>\n",
       "      <td>0</td>\n",
       "      <td>...</td>\n",
       "      <td>1</td>\n",
       "      <td>1</td>\n",
       "      <td>5</td>\n",
       "      <td>30</td>\n",
       "      <td>30</td>\n",
       "      <td>1</td>\n",
       "      <td>0</td>\n",
       "      <td>9</td>\n",
       "      <td>4</td>\n",
       "      <td>8</td>\n",
       "    </tr>\n",
       "    <tr>\n",
       "      <th>3</th>\n",
       "      <td>3</td>\n",
       "      <td>0</td>\n",
       "      <td>1</td>\n",
       "      <td>0</td>\n",
       "      <td>1</td>\n",
       "      <td>27</td>\n",
       "      <td>0</td>\n",
       "      <td>0</td>\n",
       "      <td>0</td>\n",
       "      <td>1</td>\n",
       "      <td>...</td>\n",
       "      <td>1</td>\n",
       "      <td>0</td>\n",
       "      <td>2</td>\n",
       "      <td>0</td>\n",
       "      <td>0</td>\n",
       "      <td>0</td>\n",
       "      <td>0</td>\n",
       "      <td>11</td>\n",
       "      <td>3</td>\n",
       "      <td>6</td>\n",
       "    </tr>\n",
       "    <tr>\n",
       "      <th>4</th>\n",
       "      <td>4</td>\n",
       "      <td>0</td>\n",
       "      <td>1</td>\n",
       "      <td>1</td>\n",
       "      <td>1</td>\n",
       "      <td>24</td>\n",
       "      <td>0</td>\n",
       "      <td>0</td>\n",
       "      <td>0</td>\n",
       "      <td>1</td>\n",
       "      <td>...</td>\n",
       "      <td>1</td>\n",
       "      <td>0</td>\n",
       "      <td>2</td>\n",
       "      <td>3</td>\n",
       "      <td>0</td>\n",
       "      <td>0</td>\n",
       "      <td>0</td>\n",
       "      <td>11</td>\n",
       "      <td>5</td>\n",
       "      <td>4</td>\n",
       "    </tr>\n",
       "  </tbody>\n",
       "</table>\n",
       "<p>5 rows × 23 columns</p>\n",
       "</div>"
      ],
      "text/plain": [
       "   ID  Diabetes_binary  HighBP  HighChol  CholCheck  BMI  Smoker  Stroke  \\\n",
       "0   0                0       1         1          1   40       1       0   \n",
       "1   1                0       0         0          0   25       1       0   \n",
       "2   2                0       1         1          1   28       0       0   \n",
       "3   3                0       1         0          1   27       0       0   \n",
       "4   4                0       1         1          1   24       0       0   \n",
       "\n",
       "   HeartDiseaseorAttack  PhysActivity  ...  AnyHealthcare  NoDocbcCost  \\\n",
       "0                     0             0  ...              1            0   \n",
       "1                     0             1  ...              0            1   \n",
       "2                     0             0  ...              1            1   \n",
       "3                     0             1  ...              1            0   \n",
       "4                     0             1  ...              1            0   \n",
       "\n",
       "   GenHlth  MentHlth  PhysHlth  DiffWalk  Sex  Age  Education  Income  \n",
       "0        5        18        15         1    0    9          4       3  \n",
       "1        3         0         0         0    0    7          6       1  \n",
       "2        5        30        30         1    0    9          4       8  \n",
       "3        2         0         0         0    0   11          3       6  \n",
       "4        2         3         0         0    0   11          5       4  \n",
       "\n",
       "[5 rows x 23 columns]"
      ]
     },
     "execution_count": 3,
     "metadata": {},
     "output_type": "execute_result"
    }
   ],
   "source": [
    "# Load Dataset\n",
    "data_url = 'https://archive.ics.uci.edu/static/public/891/data.csv'\n",
    "response = requests.get(data_url)\n",
    "data = pd.read_csv(StringIO(response.text))\n",
    "\n",
    "# Display first few rows\n",
    "data.head()\n"
   ]
  },
  {
   "cell_type": "markdown",
   "id": "88d2a388-835d-4df9-a8e5-06b34644456a",
   "metadata": {},
   "source": [
    "---\n",
    "\n",
    "# 3. Exploratory Data Analysis (EDA)"
   ]
  },
  {
   "cell_type": "markdown",
   "id": "fe055832-c1a4-4666-95cb-1b1f9eddca9e",
   "metadata": {},
   "source": [
    "### Understanding the Data"
   ]
  },
  {
   "cell_type": "code",
   "execution_count": 4,
   "id": "f7ffcfc8-c8e0-41d4-8cc1-9d952e6fb90f",
   "metadata": {},
   "outputs": [
    {
     "name": "stdout",
     "output_type": "stream",
     "text": [
      "<class 'pandas.core.frame.DataFrame'>\n",
      "RangeIndex: 253680 entries, 0 to 253679\n",
      "Data columns (total 23 columns):\n",
      " #   Column                Non-Null Count   Dtype\n",
      "---  ------                --------------   -----\n",
      " 0   ID                    253680 non-null  int64\n",
      " 1   Diabetes_binary       253680 non-null  int64\n",
      " 2   HighBP                253680 non-null  int64\n",
      " 3   HighChol              253680 non-null  int64\n",
      " 4   CholCheck             253680 non-null  int64\n",
      " 5   BMI                   253680 non-null  int64\n",
      " 6   Smoker                253680 non-null  int64\n",
      " 7   Stroke                253680 non-null  int64\n",
      " 8   HeartDiseaseorAttack  253680 non-null  int64\n",
      " 9   PhysActivity          253680 non-null  int64\n",
      " 10  Fruits                253680 non-null  int64\n",
      " 11  Veggies               253680 non-null  int64\n",
      " 12  HvyAlcoholConsump     253680 non-null  int64\n",
      " 13  AnyHealthcare         253680 non-null  int64\n",
      " 14  NoDocbcCost           253680 non-null  int64\n",
      " 15  GenHlth               253680 non-null  int64\n",
      " 16  MentHlth              253680 non-null  int64\n",
      " 17  PhysHlth              253680 non-null  int64\n",
      " 18  DiffWalk              253680 non-null  int64\n",
      " 19  Sex                   253680 non-null  int64\n",
      " 20  Age                   253680 non-null  int64\n",
      " 21  Education             253680 non-null  int64\n",
      " 22  Income                253680 non-null  int64\n",
      "dtypes: int64(23)\n",
      "memory usage: 44.5 MB\n"
     ]
    }
   ],
   "source": [
    "# Display dataset information\n",
    "data.info()\n"
   ]
  },
  {
   "cell_type": "code",
   "execution_count": 6,
   "id": "47bc5fe0-fcd3-462f-9736-db1581c73bcd",
   "metadata": {},
   "outputs": [
    {
     "data": {
      "text/plain": [
       "Index(['ID', 'Diabetes_binary', 'HighBP', 'HighChol', 'CholCheck', 'BMI',\n",
       "       'Smoker', 'Stroke', 'HeartDiseaseorAttack', 'PhysActivity', 'Fruits',\n",
       "       'Veggies', 'HvyAlcoholConsump', 'AnyHealthcare', 'NoDocbcCost',\n",
       "       'GenHlth', 'MentHlth', 'PhysHlth', 'DiffWalk', 'Sex', 'Age',\n",
       "       'Education', 'Income'],\n",
       "      dtype='object')"
      ]
     },
     "execution_count": 6,
     "metadata": {},
     "output_type": "execute_result"
    }
   ],
   "source": [
    "data.columns"
   ]
  },
  {
   "cell_type": "code",
   "execution_count": null,
   "id": "74ac46db-f362-4782-a54a-1cc525b486f4",
   "metadata": {},
   "outputs": [],
   "source": [
    "# Summary statistics\n",
    "data.describe()\n"
   ]
  },
  {
   "cell_type": "markdown",
   "id": "a50696a2-ab6f-46eb-8396-197a536912aa",
   "metadata": {},
   "source": [
    "### Checking for Missing Values"
   ]
  },
  {
   "cell_type": "code",
   "execution_count": null,
   "id": "35e765ca-9ec5-4771-ae16-c27bb92a8aa5",
   "metadata": {},
   "outputs": [],
   "source": [
    "# Check for missing values\n",
    "missing_values = data.isnull().sum()\n",
    "missing_values[missing_values > 0]\n"
   ]
  },
  {
   "cell_type": "markdown",
   "id": "2fb375ab-aa27-4669-afda-cabb3bdad5e6",
   "metadata": {},
   "source": [
    "### Distribution of Target Variable"
   ]
  },
  {
   "cell_type": "code",
   "execution_count": null,
   "id": "f3c01740-b63a-4dbe-80e7-343934e648a2",
   "metadata": {},
   "outputs": [],
   "source": [
    "# Distribution of the target variable\n",
    "plt.figure(figsize=(6,4))\n",
    "sns.countplot(x='Diabetes_binary', data=data)\n",
    "plt.title('Distribution of Diabetes Status')\n",
    "plt.xlabel('Diabetes Binary (0 = No, 1 = Yes)')\n",
    "plt.ylabel('Count')\n",
    "plt.show()\n"
   ]
  },
  {
   "cell_type": "markdown",
   "id": "4354d94d-27ba-46ff-8dbe-467cbe02aae9",
   "metadata": {},
   "source": [
    "### Correlation Analysis"
   ]
  },
  {
   "cell_type": "code",
   "execution_count": null,
   "id": "01e58623-837b-4b7e-ad89-adda105579ef",
   "metadata": {},
   "outputs": [],
   "source": [
    "# Compute correlation matrix\n",
    "corr_matrix = data.corr()\n",
    "\n",
    "# Plot heatmap\n",
    "plt.figure(figsize=(12,10))\n",
    "sns.heatmap(corr_matrix, annot=True, fmt=\".2f\", cmap='coolwarm')\n",
    "plt.title('Correlation Matrix')\n",
    "plt.show()\n"
   ]
  },
  {
   "cell_type": "markdown",
   "id": "622421a1-c899-41b5-bb21-2d3dc6d87e4f",
   "metadata": {},
   "source": [
    "#### 1. **Target Variable (`Diabetes_binary`) Correlations**\n",
    "   - **Strong Positive Correlations**:\n",
    "     - `HighBP` (High Blood Pressure) shows a moderate correlation with `Diabetes_binary` (~0.26). This suggests individuals with high blood pressure are more likely to have diabetes.\n",
    "     - `HighChol` (High Cholesterol) also exhibits a moderate positive correlation with `Diabetes_binary` (~0.22), indicating a potential link between high cholesterol levels and diabetes.\n",
    "     - `GenHlth` (General Health) correlates positively (~0.29). Poor general health appears to be a strong indicator of diabetes.\n",
    "\n",
    "   - **Moderate Negative Correlations**:\n",
    "     - `PhysActivity` (Physical Activity) has a weak negative correlation (~-0.13). Individuals with higher physical activity levels tend to have a lower likelihood of diabetes.\n",
    "     - `Income` correlates negatively (~-0.17), suggesting that higher income levels may be associated with a reduced likelihood of diabetes.\n",
    "\n",
    "#### 2. **Strong Inter-Feature Correlations**\n",
    "   - **`PhysHlth` (Physical Health) and `GenHlth`**: Correlation is very high (~0.52). This indicates a strong relationship between perceived general health and the physical health days reported by respondents.\n",
    "   - **`Age` and `HighBP`**: A moderately strong correlation (~0.34) suggests that older individuals are more likely to have high blood pressure.\n",
    "   - **`Age` and `Diabetes_binary`**: Correlation (~0.18) suggests that age is a factor influencing diabetes, albeit weaker than some health indicators.\n",
    "\n",
    "#### 3. **Features with Weak or No Correlation**\n",
    "   - Variables like `Smoker`, `Veggies`, and `Fruits` exhibit minimal or near-zero correlation with `Diabetes_binary`, suggesting these lifestyle factors may have limited direct influence in this dataset.\n",
    "   - `AnyHealthcare` and `HvyAlcoholConsump` also have weak correlations, indicating healthcare access or heavy alcohol consumption might not strongly predict diabetes in this dataset.\n",
    "\n",
    "#### 4. **Insights on Multicollinearity**\n",
    "   - Some features show significant correlations with each other, such as `PhysHlth` and `GenHlth` or `Age` and `HighBP`. These relationships may lead to multicollinearity issues, which could impact model performance if not addressed (e.g., through feature selection or dimensionality reduction)."
   ]
  },
  {
   "cell_type": "markdown",
   "id": "5ce9df72-35f7-4d0c-99f3-abdf2093c693",
   "metadata": {},
   "source": [
    "### Feature Distributions"
   ]
  },
  {
   "cell_type": "code",
   "execution_count": null,
   "id": "10d515b1-bdf9-44f4-b6eb-ed1c0ed2dec9",
   "metadata": {},
   "outputs": [],
   "source": [
    "# Distribution of numerical features\n",
    "numerical_features = ['BMI', 'Age', 'GenHlth', 'MentHlth', 'PhysHlth']\n",
    "\n",
    "data[numerical_features].hist(bins=30, figsize=(15,10))\n",
    "plt.suptitle('Distribution of Numerical Features')\n",
    "plt.show()\n"
   ]
  },
  {
   "cell_type": "markdown",
   "id": "0c3dff6d-6052-43b1-94b7-14b7093ceb63",
   "metadata": {
    "jp-MarkdownHeadingCollapsed": true
   },
   "source": [
    "From the visualization of the numerical feature distributions, I have the following comments:\n",
    "\n",
    "#### **BMI (Body Mass Index)**\n",
    "   - The distribution of BMI is unimodal and slightly right-skewed, with most values concentrated between 20 and 40.\n",
    "   - There are a few outliers with BMI exceeding 60, which might represent individuals with severe obesity.\n",
    "   - The skewness suggests that the majority of individuals have a healthy BMI or are moderately overweight.\n",
    "\n",
    "#### **Age**\n",
    "   - Age appears to be evenly distributed across the predefined age categories, with slightly higher frequencies in the middle-age groups (values 8–10 in this representation, corresponding to age ranges of 40–59 based on dataset coding).\n",
    "   - The distribution suggests a good representation of both younger and older individuals, which helps in building a generalized model.\n",
    "   - Fewer samples in the youngest and oldest age brackets may slightly reduce their predictive power.\n",
    "\n",
    "#### **GenHlth (General Health Rating)**\n",
    "   - The distribution of `GenHlth` is skewed toward lower values (better health ratings), with a significant concentration at values 1 and 2.\n",
    "   - This indicates that most individuals report their health as \"good\" or \"very good,\" with relatively few reporting \"poor\" general health (value 5).\n",
    "   - The skewness highlights a potential imbalance in health ratings, which might influence how this feature correlates with diabetes.\n",
    "\n",
    "#### **MentHlth (Mental Health)**\n",
    "   - The distribution of `MentHlth` is heavily right-skewed, with the majority of individuals reporting few or no days of poor mental health in the past month (value near 0).\n",
    "   - A small proportion of individuals reported significantly worse mental health (values closer to 30 days), representing a minority of the sample.\n",
    "   - This feature has a long tail and a concentration near 0, which suggests it may require normalization or transformation for effective modeling.\n",
    "\n",
    "#### **PhysHlth (Physical Health)**\n",
    "   - Similar to `MentHlth`, the distribution of `PhysHlth` is highly skewed to the right, with most individuals reporting very few days of poor physical health.\n",
    "   - There is a noticeable concentration at higher values (near 30 days), likely reflecting individuals with chronic health issues or disabilities.\n",
    "   - This feature also exhibits a long tail, which might require scaling or special handling to ensure its impact is proportional during model training.\n",
    "\n",
    "---\n",
    "\n",
    "#### General Insights:\n",
    " **Skewness**:\n",
    "   - `MentHlth` and `PhysHlth` are highly right-skewed, indicating the presence of a large proportion of healthy individuals with occasional outliers representing worse health.\n",
    "\n",
    "**Diversity in Data**:\n",
    "   - The `BMI` and `Age` features display broader distributions, which indicate diverse representation across different categories.\n",
    "\n",
    "**Outliers**:\n",
    "   - Both `BMI` and `PhysHlth` show extreme values (e.g., BMI > 60 or PhysHlth = 30).\n",
    "\n"
   ]
  },
  {
   "cell_type": "markdown",
   "id": "28d89c31-0963-4bd7-a657-06feb4c34b04",
   "metadata": {},
   "source": [
    "### Categorical Features Analysis"
   ]
  },
  {
   "cell_type": "code",
   "execution_count": null,
   "id": "90bc176d-247e-4bd2-84ec-deab346a30b4",
   "metadata": {},
   "outputs": [],
   "source": [
    "# Categorical features\n",
    "categorical_features = ['HighBP', 'HighChol', 'Smoker', 'Stroke', \n",
    "                        'HeartDiseaseorAttack', 'PhysActivity', 'Fruits', \n",
    "                        'Veggies', 'HvyAlcoholConsump', 'AnyHealthcare', \n",
    "                        'NoDocbcCost', 'DiffWalk', 'Sex', 'Education', 'Income']\n",
    "\n",
    "plt.figure(figsize=(20, 15))\n",
    "for idx, feature in enumerate(categorical_features):\n",
    "    plt.subplot(5, 4, idx+1)\n",
    "    sns.countplot(x=feature, hue='Diabetes_binary', data=data)\n",
    "    plt.title(f'Diabetes Status by {feature}')\n",
    "    plt.legend(title='Diabetes Binary')\n",
    "plt.tight_layout()\n",
    "plt.show()\n"
   ]
  },
  {
   "cell_type": "markdown",
   "id": "7a9e165c-b72b-4354-ae17-d0fe367df23e",
   "metadata": {},
   "source": [
    "Based on the categorical feature analysis above\n",
    "\n",
    "---\n",
    "\n",
    "#### **1. HighBP (High Blood Pressure)**\n",
    "- A significantly larger proportion of individuals with diabetes (`Diabetes_binary = 1`) have high blood pressure (`HighBP = 1`) compared to those without diabetes.\n",
    "- This indicates a strong association between high blood pressure and diabetes.\n",
    "\n",
    "---\n",
    "\n",
    "#### **2. HighChol (High Cholesterol)**\n",
    "- A higher proportion of individuals with diabetes have high cholesterol (`HighChol = 1`).\n",
    "\n",
    "---\n",
    "\n",
    "#### **3. Smoker**\n",
    "- There is no clear difference in the proportions of smokers (`Smoker = 1`) between individuals with and without diabetes.\n",
    "- This suggests that smoking might not be a significant predictor of diabetes in this dataset.\n",
    "\n",
    "---\n",
    "\n",
    "#### **4. Stroke**\n",
    "- A higher proportion of individuals who have experienced a stroke (`Stroke = 1`) also have diabetes.\n",
    "\n",
    "---\n",
    "\n",
    "#### **5. HeartDiseaseorAttack**\n",
    "- A higher proportion of individuals with diabetes have a history of heart disease or attack (`HeartDiseaseorAttack = 1`).\n",
    "\n",
    "---\n",
    "\n",
    "#### **6. PhysActivity (Physical Activity)**\n",
    "- Individuals without diabetes (`Diabetes_binary = 0`) are more likely to report regular physical activity (`PhysActivity = 1`).\n",
    "\n",
    "---\n",
    "\n",
    "#### **7. Fruits and Veggies**\n",
    "- The distributions of fruit consumption (`Fruits = 1`) and vegetable consumption (`Veggies = 1`) show little variation between individuals with and without diabetes.\n",
    "- This might suggest that these factors, have a limited direct impact on diabetes prediction.\n",
    "\n",
    "---\n",
    "\n",
    "#### **8. HvyAlcoholConsump (Heavy Alcohol Consumption)**\n",
    "- Heavy alcohol consumption (`HvyAlcoholConsump = 1`) is rare in both diabetic and non-diabetic groups.\n",
    "- This feature may have limited predictive value for this dataset.\n",
    "\n",
    "---\n",
    "\n",
    "#### **9. AnyHealthcare**\n",
    "- Almost everyone reports having healthcare coverage (`AnyHealthcare = 1`), making this feature unlikely to be a strong predictor.\n",
    "\n",
    "---\n",
    "\n",
    "#### **10. NoDocbcCost (Couldn’t See a Doctor Due to Cost)**\n",
    "- Individuals with diabetes are more likely to report not being able to see a doctor due to cost (`NoDocbcCost = 1`).\n",
    "- This suggests that economic barriers to healthcare access may be associated with diabetes prevalence.\n",
    "\n",
    "---\n",
    "\n",
    "#### **11. DiffWalk (Difficulty Walking)**\n",
    "- A large proportion of individuals with diabetes report difficulty walking or climbing stairs (`DiffWalk = 1`).\n",
    "- This feature shows a clear association with diabetes.\n",
    "\n",
    "---\n",
    "\n",
    "#### **12. Sex**\n",
    "- There is no significant difference in diabetes prevalence between males (`Sex = 1`) and females (`Sex = 0`).\n",
    "\n",
    "---\n",
    "\n",
    "#### **13. Education**\n",
    "- Lower education levels (e.g., `Education = 1` or `2`) are more common among individuals with diabetes compared to higher education levels.\n",
    "- This highlights a potential socioeconomic factor in diabetes prevalence.\n",
    "\n",
    "---\n",
    "\n",
    "#### **14. Income**\n",
    "- Individuals with higher income levels (`Income = 6`, `7`, `8`) are less likely to have diabetes compared to those with lower income.\n",
    "- This supports the idea that economic factors and access to resources may influence diabetes risk.\n",
    "\n",
    "---\n",
    "\n",
    "#### General Observations:\n",
    "- **Strong Predictors**:\n",
    "  - `HighBP`, `HighChol`, `DiffWalk`, `HeartDiseaseorAttack`, and `PhysActivity` show clear differences between the diabetic and non-diabetic groups, making them likely strong predictors.\n",
    "- **Weak Predictors**:\n",
    "  - Features like `Smoker`, `Fruits`, `Veggies`, and `HvyAlcoholConsump` exhibit little variation between the groups and may have limited predictive power.\n",
    "- **Socioeconomic Factors**:\n",
    "  - Features like `Education`, `Income`, and `NoDocbcCost` suggest that socioeconomic status plays a role in diabetes prevalence.\n"
   ]
  },
  {
   "cell_type": "markdown",
   "id": "dade7528-66bd-49f2-a295-6679a4398dde",
   "metadata": {},
   "source": [
    "___\n",
    "\n",
    "# 4. Model Building and Training "
   ]
  },
  {
   "cell_type": "markdown",
   "id": "715294b7-1120-4b83-b3ce-060056253b4b",
   "metadata": {},
   "source": [
    "### Data Preprocessing"
   ]
  },
  {
   "cell_type": "code",
   "execution_count": null,
   "id": "b02318fd-3858-4a3e-a9d5-ffe7ac007b0f",
   "metadata": {},
   "outputs": [],
   "source": [
    "# Drop ID column as it's not useful for modeling\n",
    "data.drop('ID', axis=1, inplace=True)\n",
    "\n",
    "# Encode categorical variables\n",
    "label_encoder = LabelEncoder()\n",
    "for column in categorical_features:\n",
    "    data[column] = label_encoder.fit_transform(data[column])\n",
    "\n",
    "# Feature and Target Separation\n",
    "X = data.drop('Diabetes_binary', axis=1)\n",
    "y = data['Diabetes_binary']\n",
    "\n",
    "# Feature Scaling\n",
    "scaler = StandardScaler()\n",
    "X_scaled = scaler.fit_transform(X)\n"
   ]
  },
  {
   "cell_type": "markdown",
   "id": "28c726c8-196f-48c5-8255-e06dbc524341",
   "metadata": {},
   "source": [
    "### Train-Test Split"
   ]
  },
  {
   "cell_type": "code",
   "execution_count": null,
   "id": "0dc5ec72-8486-4429-81b8-05a4f760163c",
   "metadata": {},
   "outputs": [],
   "source": [
    "# Split data into training and testing sets\n",
    "X_train, X_test, y_train, y_test = train_test_split(\n",
    "    X_scaled, y, test_size=0.2, random_state=42, stratify=y)\n",
    "\n",
    "print(f\"Training set size: {X_train.shape[0]} samples\")\n",
    "print(f\"Testing set size: {X_test.shape[0]} samples\")\n"
   ]
  },
  {
   "cell_type": "markdown",
   "id": "303f5e85-8ac5-4ba0-86a4-e7ec70197cbe",
   "metadata": {},
   "source": [
    "### Handling Class Imbalance"
   ]
  },
  {
   "cell_type": "code",
   "execution_count": null,
   "id": "e2d100e3-8405-4dcd-91de-ad6dbf59c0e2",
   "metadata": {},
   "outputs": [],
   "source": [
    "# Check class distribution\n",
    "sns.countplot(x=y_train)\n",
    "plt.title('Training Set Class Distribution')\n",
    "plt.show()\n",
    "\n"
   ]
  },
  {
   "cell_type": "markdown",
   "id": "1c0d85e4-8f24-47f8-aae4-5dca45c1d4ab",
   "metadata": {},
   "source": [
    "### Model Selection and Training"
   ]
  },
  {
   "cell_type": "code",
   "execution_count": null,
   "id": "1c48f8c9-43f6-4677-a90b-40db2cbb27d2",
   "metadata": {},
   "outputs": [],
   "source": [
    "# Initialize Random Forest Classifier\n",
    "rf_classifier = RandomForestClassifier(random_state=42)\n",
    "\n",
    "# Hyperparameter Tuning using Grid Search\n",
    "param_grid = {\n",
    "    'n_estimators': [100, 200],\n",
    "    'max_depth': [None, 10, 20],\n",
    "    'min_samples_split': [2, 5],\n",
    "    'min_samples_leaf': [1, 2]\n",
    "}\n",
    "\n",
    "grid_search = GridSearchCV(estimator=rf_classifier, param_grid=param_grid,\n",
    "                           cv=3, n_jobs=-1, verbose=2, scoring='accuracy')\n",
    "\n",
    "# Fit Grid Search\n",
    "grid_search.fit(X_train, y_train)\n",
    "\n",
    "# Best Parameters\n",
    "print(f\"Best Parameters: {grid_search.best_params_}\")\n"
   ]
  },
  {
   "cell_type": "markdown",
   "id": "ded97a0c-6181-4fe6-8ca2-ebcf5d22a4ec",
   "metadata": {},
   "source": [
    "### Final Model Training"
   ]
  },
  {
   "cell_type": "code",
   "execution_count": null,
   "id": "f054c96c-a9da-44a6-a886-ba5678040777",
   "metadata": {},
   "outputs": [],
   "source": [
    "# Best estimator from Grid Search\n",
    "best_rf = grid_search.best_estimator_\n",
    "\n",
    "# Train the model\n",
    "best_rf.fit(X_train, y_train)\n"
   ]
  },
  {
   "cell_type": "markdown",
   "id": "8b1fb92c-13e8-48cd-9b60-96d1252b49e8",
   "metadata": {},
   "source": [
    "---\n",
    "\n",
    "# 5. Results"
   ]
  },
  {
   "cell_type": "markdown",
   "id": "e921d642-311a-4ac5-a791-a6c42cf8d7a0",
   "metadata": {},
   "source": [
    "### Model Performance on Test Set"
   ]
  },
  {
   "cell_type": "code",
   "execution_count": null,
   "id": "3f344630-0c5f-4894-b544-5ea3648b174f",
   "metadata": {},
   "outputs": [],
   "source": [
    "# Predictions\n",
    "y_pred = best_rf.predict(X_test)\n",
    "y_pred_proba = best_rf.predict_proba(X_test)[:,1]\n",
    "\n",
    "# Accuracy\n",
    "accuracy = accuracy_score(y_test, y_pred)\n",
    "print(f\"Test Set Accuracy: {accuracy:.2f}\")\n",
    "\n",
    "# Classification Report\n",
    "print(\"\\nClassification Report:\")\n",
    "print(classification_report(y_test, y_pred))\n"
   ]
  },
  {
   "cell_type": "markdown",
   "id": "8c8a579d-8d54-4d61-8ce9-a59b7919ea7a",
   "metadata": {},
   "source": [
    "### Confusion Matrix"
   ]
  },
  {
   "cell_type": "code",
   "execution_count": null,
   "id": "89dd32d1-f90e-4d9a-9f41-b0e008b54233",
   "metadata": {},
   "outputs": [],
   "source": [
    "# Confusion Matrix\n",
    "cm = confusion_matrix(y_test, y_pred)\n",
    "plt.figure(figsize=(6,4))\n",
    "sns.heatmap(cm, annot=True, fmt='d', cmap='Blues', xticklabels=['No Diabetes', 'Diabetes'], yticklabels=['No Diabetes', 'Diabetes'])\n",
    "plt.ylabel('Actual')\n",
    "plt.xlabel('Predicted')\n",
    "plt.title('Confusion Matrix')\n",
    "plt.show()\n"
   ]
  },
  {
   "cell_type": "markdown",
   "id": "2c9e2b65-0c74-4239-b585-f4052084c7b5",
   "metadata": {},
   "source": [
    "### ROC Curve and AUC"
   ]
  },
  {
   "cell_type": "code",
   "execution_count": null,
   "id": "79604ecd-e10d-4cd9-b67c-d18a22d2ee07",
   "metadata": {},
   "outputs": [],
   "source": [
    "# ROC Curve\n",
    "fpr, tpr, thresholds = roc_curve(y_test, y_pred_proba)\n",
    "auc_score = roc_auc_score(y_test, y_pred_proba)\n",
    "\n",
    "plt.figure(figsize=(8,6))\n",
    "plt.plot(fpr, tpr, label=f'Random Forest (AUC = {auc_score:.2f})')\n",
    "plt.plot([0,1], [0,1], 'k--')\n",
    "plt.xlabel('False Positive Rate')\n",
    "plt.ylabel('True Positive Rate')\n",
    "plt.title('ROC Curve')\n",
    "plt.legend(loc='lower right')\n",
    "plt.show()\n"
   ]
  },
  {
   "cell_type": "markdown",
   "id": "a9b49b27-38e3-428d-b053-6ea1c05ae286",
   "metadata": {},
   "source": [
    "### Feature Importance"
   ]
  },
  {
   "cell_type": "code",
   "execution_count": null,
   "id": "0b5711da-7b63-4e47-a230-3051de7135b2",
   "metadata": {},
   "outputs": [],
   "source": [
    "# Feature Importance\n",
    "importances = best_rf.feature_importances_\n",
    "feature_names = X.columns\n",
    "feature_importance_df = pd.DataFrame({'Feature': feature_names, 'Importance': importances})\n",
    "feature_importance_df = feature_importance_df.sort_values(by='Importance', ascending=False).head(10)\n",
    "\n",
    "# Plot\n",
    "plt.figure(figsize=(10,6))\n",
    "sns.barplot(x='Importance', y='Feature', data=feature_importance_df, palette='viridis')\n",
    "plt.title('Top 10 Feature Importances')\n",
    "plt.xlabel('Importance Score')\n",
    "plt.ylabel('Feature')\n",
    "plt.show()\n"
   ]
  },
  {
   "cell_type": "markdown",
   "id": "b2d8bcfb-3e0c-4fb9-86f0-2838f1b5451a",
   "metadata": {},
   "source": [
    "---\n",
    "\n",
    "# 6. Discussion and Conclusion\n",
    "\n",
    "The Random Forest classifier achieved an accuracy of **{accuracy:.2f}** on the test set, indicating a strong ability to distinguish between individuals with and without diabetes based on the provided health indicators.\n",
    "\n",
    "### Key Findings\n",
    "\n",
    "- **Top Features**: The most significant features contributing to diabetes prediction include:\n",
    "  - **BMI**: Higher Body Mass Index is strongly associated with diabetes.\n",
    "  - **HighBP**: Presence of high blood pressure increases diabetes risk.\n",
    "  - **HighChol**: High cholesterol levels are indicative of diabetes.\n",
    "  - **Age**: Older age groups show a higher prevalence of diabetes.\n",
    "  - **GenHlth**: General health status correlates with diabetes status.\n",
    "  \n",
    "- **Model Performance**: The model exhibits high accuracy and a robust AUC score, demonstrating its effectiveness in predicting diabetes status.\n",
    "\n",
    "### Recommendations for Improvement\n",
    "\n",
    "- **Hyperparameter Tuning**: Further fine-tuning of hyperparameters using more extensive grid search or randomized search could enhance model performance.\n",
    "  \n",
    "- **Feature Engineering**: Creating new features or transforming existing ones (e.g., interaction terms) might capture more complex relationships.\n",
    "  \n",
    "- **Alternative Models**: Exploring other algorithms such as Support Vector Machines (SVM), Gradient Boosting Machines (e.g., XGBoost), or Neural Networks could potentially yield better performance.\n",
    "  \n",
    "- **Handling Imbalanced Data**: Although the dataset is large, ensuring balanced classes through techniques like SMOTE could be beneficial, especially if class imbalance is detected in specific subsets.\n",
    "\n",
    "### Conclusion\n",
    "\n",
    "This supervised learning approach effectively utilizes health indicators to predict diabetes likelihood. The Random Forest model not only provides high accuracy but also offers insights into the most influential factors affecting diabetes risk. Implementing the recommended improvements can further enhance the model's predictive capabilities and reliability.\n",
    "\n",
    "---"
   ]
  },
  {
   "cell_type": "code",
   "execution_count": null,
   "id": "f79dd7bc-7cff-43c1-a214-269bec3abea4",
   "metadata": {},
   "outputs": [],
   "source": []
  },
  {
   "cell_type": "code",
   "execution_count": null,
   "id": "bf86e804-8380-45a5-bcc1-2c334a054d85",
   "metadata": {},
   "outputs": [],
   "source": []
  }
 ],
 "metadata": {
  "kernelspec": {
   "display_name": "Python 3 (ipykernel)",
   "language": "python",
   "name": "python3"
  },
  "language_info": {
   "codemirror_mode": {
    "name": "ipython",
    "version": 3
   },
   "file_extension": ".py",
   "mimetype": "text/x-python",
   "name": "python",
   "nbconvert_exporter": "python",
   "pygments_lexer": "ipython3",
   "version": "3.8.18"
  }
 },
 "nbformat": 4,
 "nbformat_minor": 5
}
