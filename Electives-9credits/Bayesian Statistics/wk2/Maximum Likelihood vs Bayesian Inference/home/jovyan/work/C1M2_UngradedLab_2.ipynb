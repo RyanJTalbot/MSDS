{
 "cells": [
  {
   "cell_type": "markdown",
   "metadata": {
    "nbgrader": {
     "grade": false,
     "grade_id": "cell-56b299edad3309f5",
     "locked": true,
     "schema_version": 3,
     "solution": false,
     "task": false
    }
   },
   "source": [
    "# Module 2 Ungraded Lab 2: Posterior Predictive Distribution\n",
    "\n",
    "Ungraded labs are designed to give learners an opportunity to apply theoretical material presented in previous videos. The goals of this ungraded lab are to (1) introduce the posterior predictive distribution, (2) estimate the posterior predictive distribution using Monte Carlo simulation, and (3) compare that estimate to the true posterior predictive distribution.  Unlike previous ungraded labs, the answers to this ungraded lab are given in the code below. Ungraded labs can be completed when assigned or in conjunction with upcoming videos. Answers to the lab will be reviewed in upcoming videos.\n",
    "\n",
    "**NOTE**: The problem presented below builds on the problem from the ungraded labs in Module 1.  Please have those ungraded labs available when viewing the video covering this ungraded lab."
   ]
  },
  {
   "cell_type": "markdown",
   "metadata": {
    "nbgrader": {
     "grade": false,
     "grade_id": "cell-43c6aebf6470e048",
     "locked": true,
     "schema_version": 3,
     "solution": false,
     "task": false
    }
   },
   "source": [
    "### Problem #3: Posterior predictive distribution simulation\n",
    "\n",
    "Let's continue with the setup from problem #1:\n",
    "\n",
    "Suppose health researches are studying the prevalence of a particular disease, $D$. If the percentage of people infected by $D$ in the population, $p$, is greater than 0.5, certain policies will be set to stop the spread of $D$. Researchers let $\\alpha = 0.05$, and collected the following data, where `1` = \"doesn't have $D$\" and `0` = \"does have $D$\".\n",
    "$$ 0, \\, 0, \\, 1,\\, 0,\\, 0, \\, 0,\\,  0,\\,  1,\\,  0,\\,  0, \\, 0, \\, 1$$\n",
    "\n",
    "If the sampling distribution for $X$ is Binomial$(n, p)$ with $n$ known, and the prior distribution is $beta(\\alpha, \\beta)$, then, as mentioned above, the posterior distribution for $p$ is $beta(\\alpha + n\\bar{x}, \\beta + n – n\\bar{x})$.\n",
    "\n",
    "Suppose that we want to predict $\\mathbf{X^*} = $ the number of individuals that do not have $D$ (i.e., the number of `1`s) among the next $n^*$ tests. For example, we might ask: What is the probability that, if we test $n^* = 10$ people, $\\mathbf{X^*} = 3$ test negative for $D$. In class, we saw that the posterior predictive distribution is given by:\n",
    "\n",
    "\\begin{align*}\n",
    "f(x^* \\, | \\, \\mathbf{x}) = \\int f(x^* \\, | \\, p)\\pi(p \\, | \\, \\mathbf{x})dp.\n",
    "\\end{align*}\n",
    "\n",
    "It's not always easy to compute this integral (I don't want to do it!). In *Bayesian Statistical Methods*, Reich and Ghosh (page 31) give us a method for estimating the posterior predictive distribution:\n",
    "\n",
    "1. draw a posterior sample: $p^* \\sim \\pi(p \\, | \\, \\mathbf{x})$. That is, generate a random number from the posterior.\n",
    "\n",
    "2. then generate a random number from the likelihood function, with parameter $p^*$: $x^* \\, | \\, p^* \\sim f(\\mathbf{x} \\, | \\, p^*)$ \n",
    "\n",
    "3. repeat 1-2 $m$ (many) times.\n",
    "\n",
    "The values of $x^*$ will follow the posterior predictive distribution.\n",
    "\n",
    "First, we code the data, and the posterior parameters $A$ and $B$."
   ]
  },
  {
   "cell_type": "code",
   "execution_count": 1,
   "metadata": {
    "nbgrader": {
     "grade": true,
     "grade_id": "cell-6eea88a54648b6de",
     "locked": false,
     "points": 0,
     "schema_version": 3,
     "solution": true,
     "task": false
    }
   },
   "outputs": [],
   "source": [
    "x = c(0,0,1,0,0,0,0,1,0,0,0,1); n = length(x); \n",
    "\n",
    "alpha = 1; beta = 1; #parameters for a beta(1,1) = uniform(0,1)\n",
    "\n",
    "A = alpha + n*mean(x) #posterior \"alpha\"\n",
    "B =  beta + n - n*mean(x) #posterior \"beta\"\n",
    "\n",
    "m = 500000 #\"many times\", as given in step 3 above"
   ]
  },
  {
   "cell_type": "markdown",
   "metadata": {
    "nbgrader": {
     "grade": false,
     "grade_id": "cell-c9a593fe77fea5ab",
     "locked": true,
     "schema_version": 3,
     "solution": false,
     "task": false
    }
   },
   "source": [
    "Next, we sample from the posterior (first line in the loop) and use the sample to create a predicted value (second line in the loop). "
   ]
  },
  {
   "cell_type": "code",
   "execution_count": 2,
   "metadata": {
    "nbgrader": {
     "grade": true,
     "grade_id": "cell-98e81f87bebf9127",
     "locked": false,
     "points": 0,
     "schema_version": 3,
     "solution": true,
     "task": false
    }
   },
   "outputs": [],
   "source": [
    "pred_sim = matrix(NA, nrow = m) #initializing vector of simulated predictions\n",
    "n_star = 10; x_star = 0:n_star #fixing the number of future trials and possible values for x^*\n",
    "\n",
    "for (i in 1:m){\n",
    "    p_star = rbeta(1, A, B); #draw a posterior sample\n",
    "    pred_sim[i] = rbinom(1, n_star, p_star) #prediction from the likelihood\n",
    "}\n"
   ]
  },
  {
   "cell_type": "code",
   "execution_count": 3,
   "metadata": {
    "nbgrader": {
     "grade": true,
     "grade_id": "cell-3c7b23b0aaef014a",
     "locked": false,
     "points": 0,
     "schema_version": 3,
     "solution": true,
     "task": false
    }
   },
   "outputs": [
    {
     "data": {
      "text/html": [
       "<table>\n",
       "<tbody>\n",
       "\t<tr><td>8</td></tr>\n",
       "\t<tr><td>5</td></tr>\n",
       "\t<tr><td>5</td></tr>\n",
       "\t<tr><td>6</td></tr>\n",
       "\t<tr><td>3</td></tr>\n",
       "\t<tr><td>1</td></tr>\n",
       "</tbody>\n",
       "</table>\n"
      ],
      "text/latex": [
       "\\begin{tabular}{l}\n",
       "\t 8\\\\\n",
       "\t 5\\\\\n",
       "\t 5\\\\\n",
       "\t 6\\\\\n",
       "\t 3\\\\\n",
       "\t 1\\\\\n",
       "\\end{tabular}\n"
      ],
      "text/markdown": [
       "\n",
       "| 8 |\n",
       "| 5 |\n",
       "| 5 |\n",
       "| 6 |\n",
       "| 3 |\n",
       "| 1 |\n",
       "\n"
      ],
      "text/plain": [
       "     [,1]\n",
       "[1,] 8   \n",
       "[2,] 5   \n",
       "[3,] 5   \n",
       "[4,] 6   \n",
       "[5,] 3   \n",
       "[6,] 1   "
      ]
     },
     "metadata": {},
     "output_type": "display_data"
    }
   ],
   "source": [
    "head(pred_sim)"
   ]
  },
  {
   "cell_type": "markdown",
   "metadata": {
    "nbgrader": {
     "grade": false,
     "grade_id": "cell-0b0f627775fb2e47",
     "locked": true,
     "schema_version": 3,
     "solution": false,
     "task": false
    }
   },
   "source": [
    "Then, we calculate the relative frequency of predicted values (e.g., what proportion of predicted values were 0? 1? ...). These relative frequencies are our estimated/simulated posterior predictive distribution. Finally, we plot these relative frequencies. "
   ]
  },
  {
   "cell_type": "code",
   "execution_count": 3,
   "metadata": {
    "nbgrader": {
     "grade": true,
     "grade_id": "cell-64bca77076440379",
     "locked": false,
     "points": 0,
     "schema_version": 3,
     "solution": true,
     "task": false
    }
   },
   "outputs": [],
   "source": [
    "#ppd_sim = matrix(0,ncol = n_star)\n",
    "ppd_sim = tabulate(as.factor(pred_sim))/m #count up the number of x^* values in each category and divide by m"
   ]
  },
  {
   "cell_type": "code",
   "execution_count": 4,
   "metadata": {
    "nbgrader": {
     "grade": true,
     "grade_id": "cell-ef138b497f0cbd8f",
     "locked": false,
     "points": 0,
     "schema_version": 3,
     "solution": true,
     "task": false
    }
   },
   "outputs": [
    {
     "name": "stderr",
     "output_type": "stream",
     "text": [
      "Registered S3 methods overwritten by 'ggplot2':\n",
      "  method         from \n",
      "  [.quosures     rlang\n",
      "  c.quosures     rlang\n",
      "  print.quosures rlang\n"
     ]
    },
    {
     "data": {
      "text/html": [
       "<table>\n",
       "<thead><tr><th scope=col>x_star</th><th scope=col>ppd_sim</th></tr></thead>\n",
       "<tbody>\n",
       "\t<tr><td> 0      </td><td>0.080698</td></tr>\n",
       "\t<tr><td> 1      </td><td>0.170686</td></tr>\n",
       "\t<tr><td> 2      </td><td>0.212102</td></tr>\n",
       "\t<tr><td> 3      </td><td>0.199596</td></tr>\n",
       "\t<tr><td> 4      </td><td>0.152770</td></tr>\n",
       "\t<tr><td> 5      </td><td>0.098466</td></tr>\n",
       "\t<tr><td> 6      </td><td>0.052122</td></tr>\n",
       "\t<tr><td> 7      </td><td>0.023478</td></tr>\n",
       "\t<tr><td> 8      </td><td>0.007902</td></tr>\n",
       "\t<tr><td> 9      </td><td>0.001940</td></tr>\n",
       "\t<tr><td>10      </td><td>0.000240</td></tr>\n",
       "</tbody>\n",
       "</table>\n"
      ],
      "text/latex": [
       "\\begin{tabular}{r|ll}\n",
       " x\\_star & ppd\\_sim\\\\\n",
       "\\hline\n",
       "\t  0       & 0.080698\\\\\n",
       "\t  1       & 0.170686\\\\\n",
       "\t  2       & 0.212102\\\\\n",
       "\t  3       & 0.199596\\\\\n",
       "\t  4       & 0.152770\\\\\n",
       "\t  5       & 0.098466\\\\\n",
       "\t  6       & 0.052122\\\\\n",
       "\t  7       & 0.023478\\\\\n",
       "\t  8       & 0.007902\\\\\n",
       "\t  9       & 0.001940\\\\\n",
       "\t 10       & 0.000240\\\\\n",
       "\\end{tabular}\n"
      ],
      "text/markdown": [
       "\n",
       "| x_star | ppd_sim |\n",
       "|---|---|\n",
       "|  0       | 0.080698 |\n",
       "|  1       | 0.170686 |\n",
       "|  2       | 0.212102 |\n",
       "|  3       | 0.199596 |\n",
       "|  4       | 0.152770 |\n",
       "|  5       | 0.098466 |\n",
       "|  6       | 0.052122 |\n",
       "|  7       | 0.023478 |\n",
       "|  8       | 0.007902 |\n",
       "|  9       | 0.001940 |\n",
       "| 10       | 0.000240 |\n",
       "\n"
      ],
      "text/plain": [
       "   x_star ppd_sim \n",
       "1   0     0.080698\n",
       "2   1     0.170686\n",
       "3   2     0.212102\n",
       "4   3     0.199596\n",
       "5   4     0.152770\n",
       "6   5     0.098466\n",
       "7   6     0.052122\n",
       "8   7     0.023478\n",
       "9   8     0.007902\n",
       "10  9     0.001940\n",
       "11 10     0.000240"
      ]
     },
     "metadata": {},
     "output_type": "display_data"
    },
    {
     "data": {
      "image/png": "[encoded data removed]",
      "text/plain": [
       "plot without title"
      ]
     },
     "metadata": {},
     "output_type": "display_data"
    }
   ],
   "source": [
    "library(ggplot2)\n",
    "df = data.frame(x_star, ppd_sim); df\n",
    "ggplot(data=df, aes(x=x_star, y=ppd_sim)) +\n",
    "  geom_bar(stat=\"identity\") + \n",
    "    ylim(c(0,0.3)) + \n",
    "    xlab(\"Number without D\") +\n",
    "    theme_bw()"
   ]
  },
  {
   "cell_type": "markdown",
   "metadata": {
    "nbgrader": {
     "grade": false,
     "grade_id": "cell-41236e41be5bcd03",
     "locked": true,
     "schema_version": 3,
     "solution": false,
     "task": false
    }
   },
   "source": [
    "It turns out that the [true posterior predictive is beta-binomial](http://www.statslab.cam.ac.uk/Dept/People/djsteaching/ABS-lect3-4.pdf): \n",
    "\n",
    "\\begin{align*}\n",
    "f(x^* \\, | \\, \\mathbf{x}) = \\frac{\\Gamma(A,B)}{\\Gamma(A)\\Gamma(B)} {n^* \\choose x^* } \\frac{\\Gamma(A + x^*)\\Gamma(B + n^* - x^*)}{\\Gamma(A + B + n^*)}\n",
    "\\end{align*}\n",
    "\n",
    "We can code that!"
   ]
  },
  {
   "cell_type": "code",
   "execution_count": 15,
   "metadata": {
    "nbgrader": {
     "grade": true,
     "grade_id": "cell-ebcbb1bad5e3c763",
     "locked": false,
     "points": 0,
     "schema_version": 3,
     "solution": true,
     "task": false
    }
   },
   "outputs": [],
   "source": [
    " ppd = gamma(A+B)/(gamma(A)*gamma(B))*choose(n_star, x_star)*\n",
    "    gamma(A + x_star)*gamma(B + n_star - x_star)/gamma(A + B + n_star)"
   ]
  },
  {
   "cell_type": "code",
   "execution_count": 16,
   "metadata": {
    "nbgrader": {
     "grade": true,
     "grade_id": "cell-4482808a4fa21dc4",
     "locked": false,
     "points": 0,
     "schema_version": 3,
     "solution": true,
     "task": false
    }
   },
   "outputs": [
    {
     "data": {
      "text/html": [
       "<table>\n",
       "<thead><tr><th scope=col>x_star</th><th scope=col>ppd</th></tr></thead>\n",
       "<tbody>\n",
       "\t<tr><td> 0          </td><td>0.0807453416</td></tr>\n",
       "\t<tr><td> 1          </td><td>0.1699901929</td></tr>\n",
       "\t<tr><td> 2          </td><td>0.2124877411</td></tr>\n",
       "\t<tr><td> 3          </td><td>0.1999884622</td></tr>\n",
       "\t<tr><td> 4          </td><td>0.1531161664</td></tr>\n",
       "\t<tr><td> 5          </td><td>0.0979943465</td></tr>\n",
       "\t<tr><td> 6          </td><td>0.0524969713</td></tr>\n",
       "\t<tr><td> 7          </td><td>0.0230755918</td></tr>\n",
       "\t<tr><td> 8          </td><td>0.0079322347</td></tr>\n",
       "\t<tr><td> 9          </td><td>0.0019229660</td></tr>\n",
       "\t<tr><td>10          </td><td>0.0002499856</td></tr>\n",
       "</tbody>\n",
       "</table>\n"
      ],
      "text/latex": [
       "\\begin{tabular}{r|ll}\n",
       " x\\_star & ppd\\\\\n",
       "\\hline\n",
       "\t  0           & 0.0807453416\\\\\n",
       "\t  1           & 0.1699901929\\\\\n",
       "\t  2           & 0.2124877411\\\\\n",
       "\t  3           & 0.1999884622\\\\\n",
       "\t  4           & 0.1531161664\\\\\n",
       "\t  5           & 0.0979943465\\\\\n",
       "\t  6           & 0.0524969713\\\\\n",
       "\t  7           & 0.0230755918\\\\\n",
       "\t  8           & 0.0079322347\\\\\n",
       "\t  9           & 0.0019229660\\\\\n",
       "\t 10           & 0.0002499856\\\\\n",
       "\\end{tabular}\n"
      ],
      "text/markdown": [
       "\n",
       "| x_star | ppd |\n",
       "|---|---|\n",
       "|  0           | 0.0807453416 |\n",
       "|  1           | 0.1699901929 |\n",
       "|  2           | 0.2124877411 |\n",
       "|  3           | 0.1999884622 |\n",
       "|  4           | 0.1531161664 |\n",
       "|  5           | 0.0979943465 |\n",
       "|  6           | 0.0524969713 |\n",
       "|  7           | 0.0230755918 |\n",
       "|  8           | 0.0079322347 |\n",
       "|  9           | 0.0019229660 |\n",
       "| 10           | 0.0002499856 |\n",
       "\n"
      ],
      "text/plain": [
       "   x_star ppd         \n",
       "1   0     0.0807453416\n",
       "2   1     0.1699901929\n",
       "3   2     0.2124877411\n",
       "4   3     0.1999884622\n",
       "5   4     0.1531161664\n",
       "6   5     0.0979943465\n",
       "7   6     0.0524969713\n",
       "8   7     0.0230755918\n",
       "9   8     0.0079322347\n",
       "10  9     0.0019229660\n",
       "11 10     0.0002499856"
      ]
     },
     "metadata": {},
     "output_type": "display_data"
    },
    {
     "data": {
      "image/png": "[encoded data removed]",
      "text/plain": [
       "plot without title"
      ]
     },
     "metadata": {},
     "output_type": "display_data"
    }
   ],
   "source": [
    "df$ppd = ppd\n",
    "df[,c(1,3)]\n",
    "ggplot(data=df, aes(x=x_star, y=ppd)) +\n",
    "  geom_bar(stat=\"identity\") + \n",
    "    ylim(c(0,0.3)) + \n",
    "    xlab(\"Number without D\") +\n",
    "    theme_bw()"
   ]
  },
  {
   "cell_type": "markdown",
   "metadata": {
    "nbgrader": {
     "grade": false,
     "grade_id": "cell-133c8768788a8b20",
     "locked": true,
     "schema_version": 3,
     "solution": false,
     "task": false
    }
   },
   "source": [
    "That looks very similar to the simulated distribution. How similar? We can calculate the mean squared error, which should be small."
   ]
  },
  {
   "cell_type": "code",
   "execution_count": 17,
   "metadata": {
    "nbgrader": {
     "grade": true,
     "grade_id": "cell-51c2482dba3bb5b3",
     "locked": false,
     "points": 0,
     "schema_version": 3,
     "solution": true,
     "task": false
    }
   },
   "outputs": [
    {
     "data": {
      "text/html": [
       "<table>\n",
       "<thead><tr><th scope=col>x_star</th><th scope=col>ppd_sim</th><th scope=col>ppd</th></tr></thead>\n",
       "<tbody>\n",
       "\t<tr><td> 0          </td><td>0.081038    </td><td>0.0807453416</td></tr>\n",
       "\t<tr><td> 1          </td><td>0.170656    </td><td>0.1699901929</td></tr>\n",
       "\t<tr><td> 2          </td><td>0.211912    </td><td>0.2124877411</td></tr>\n",
       "\t<tr><td> 3          </td><td>0.200580    </td><td>0.1999884622</td></tr>\n",
       "\t<tr><td> 4          </td><td>0.152602    </td><td>0.1531161664</td></tr>\n",
       "\t<tr><td> 5          </td><td>0.097586    </td><td>0.0979943465</td></tr>\n",
       "\t<tr><td> 6          </td><td>0.052476    </td><td>0.0524969713</td></tr>\n",
       "\t<tr><td> 7          </td><td>0.022830    </td><td>0.0230755918</td></tr>\n",
       "\t<tr><td> 8          </td><td>0.008166    </td><td>0.0079322347</td></tr>\n",
       "\t<tr><td> 9          </td><td>0.001934    </td><td>0.0019229660</td></tr>\n",
       "\t<tr><td>10          </td><td>0.000220    </td><td>0.0002499856</td></tr>\n",
       "</tbody>\n",
       "</table>\n"
      ],
      "text/latex": [
       "\\begin{tabular}{r|lll}\n",
       " x\\_star & ppd\\_sim & ppd\\\\\n",
       "\\hline\n",
       "\t  0           & 0.081038     & 0.0807453416\\\\\n",
       "\t  1           & 0.170656     & 0.1699901929\\\\\n",
       "\t  2           & 0.211912     & 0.2124877411\\\\\n",
       "\t  3           & 0.200580     & 0.1999884622\\\\\n",
       "\t  4           & 0.152602     & 0.1531161664\\\\\n",
       "\t  5           & 0.097586     & 0.0979943465\\\\\n",
       "\t  6           & 0.052476     & 0.0524969713\\\\\n",
       "\t  7           & 0.022830     & 0.0230755918\\\\\n",
       "\t  8           & 0.008166     & 0.0079322347\\\\\n",
       "\t  9           & 0.001934     & 0.0019229660\\\\\n",
       "\t 10           & 0.000220     & 0.0002499856\\\\\n",
       "\\end{tabular}\n"
      ],
      "text/markdown": [
       "\n",
       "| x_star | ppd_sim | ppd |\n",
       "|---|---|---|\n",
       "|  0           | 0.081038     | 0.0807453416 |\n",
       "|  1           | 0.170656     | 0.1699901929 |\n",
       "|  2           | 0.211912     | 0.2124877411 |\n",
       "|  3           | 0.200580     | 0.1999884622 |\n",
       "|  4           | 0.152602     | 0.1531161664 |\n",
       "|  5           | 0.097586     | 0.0979943465 |\n",
       "|  6           | 0.052476     | 0.0524969713 |\n",
       "|  7           | 0.022830     | 0.0230755918 |\n",
       "|  8           | 0.008166     | 0.0079322347 |\n",
       "|  9           | 0.001934     | 0.0019229660 |\n",
       "| 10           | 0.000220     | 0.0002499856 |\n",
       "\n"
      ],
      "text/plain": [
       "   x_star ppd_sim  ppd         \n",
       "1   0     0.081038 0.0807453416\n",
       "2   1     0.170656 0.1699901929\n",
       "3   2     0.211912 0.2124877411\n",
       "4   3     0.200580 0.1999884622\n",
       "5   4     0.152602 0.1531161664\n",
       "6   5     0.097586 0.0979943465\n",
       "7   6     0.052476 0.0524969713\n",
       "8   7     0.022830 0.0230755918\n",
       "9   8     0.008166 0.0079322347\n",
       "10  9     0.001934 0.0019229660\n",
       "11 10     0.000220 0.0002499856"
      ]
     },
     "metadata": {},
     "output_type": "display_data"
    },
    {
     "data": {
      "text/html": [
       "1.59807179360856e-07"
      ],
      "text/latex": [
       "1.59807179360856e-07"
      ],
      "text/markdown": [
       "1.59807179360856e-07"
      ],
      "text/plain": [
       "[1] 1.598072e-07"
      ]
     },
     "metadata": {},
     "output_type": "display_data"
    }
   ],
   "source": [
    "df; \n",
    "mean((ppd-ppd_sim)^2)"
   ]
  }
 ],
 "metadata": {
  "celltoolbar": "Create Assignment",
  "colab": {
   "name": "Dice Game Exercise.ipynb",
   "provenance": []
  },
  "kernelspec": {
   "display_name": "R",
   "language": "R",
   "name": "ir"
  },
  "language_info": {
   "codemirror_mode": "r",
   "file_extension": ".r",
   "mimetype": "text/x-r-source",
   "name": "R",
   "pygments_lexer": "r",
   "version": "4.2.2"
  }
 },
 "nbformat": 4,
 "nbformat_minor": 4
}
