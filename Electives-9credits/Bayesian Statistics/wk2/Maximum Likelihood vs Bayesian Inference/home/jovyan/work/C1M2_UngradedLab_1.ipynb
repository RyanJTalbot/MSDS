{
 "cells": [
  {
   "cell_type": "markdown",
   "metadata": {
    "nbgrader": {
     "grade": false,
     "grade_id": "cell-56b299edad3309f5",
     "locked": true,
     "schema_version": 3,
     "solution": false,
     "task": false
    }
   },
   "source": [
    "# Module 2 Ungraded Lab 1: Introduction to Bayesian Inference\n",
    "\n",
    "Ungraded labs are designed to give learners an opportunity to apply theoretical material presented in previous videos. The goals of this ungraded lab are to (1) apply Bayes' theorem in order to infer the value of an unknown parameter, (2) quantify your uncertainty about your inference, and (3) compare this \"Bayesian\" inference method with a frequentist method.  Ungraded labs can be completed when assigned or in conjunction with upcoming videos. Answers to the lab will be provided in upcoming videos."
   ]
  },
  {
   "cell_type": "markdown",
   "metadata": {
    "id": "MSxBEO62K_uN",
    "nbgrader": {
     "grade": false,
     "grade_id": "cell-2247018971e8b2f4",
     "locked": true,
     "schema_version": 3,
     "solution": false,
     "task": false
    }
   },
   "source": [
    "# Problem #2: Maximum likelihood vs Bayesian inference\n",
    "\n",
    "Imagine that, before class, I rolled a six-sided die and secretly recorded the outcome; this number is the target, $T$. Your goal in this problem is to guess $T$. \n",
    "\n",
    "There’s some evidence to take into account, however. Imagine that, after setting $T$, I roll the same six-sided die $10$ times. I don’t let you see how it lands, but each time I tell you (accurately) whether the number you just rolled was greater than, equal to, or less than $T$. After $10$ trials, you must guess what the target is. Here is the outcome of those $10$ trials:\n",
    "\n",
    "$\\mathbf{x} = (G, G, G, E, L, G, L, E, G, E)$\n",
    "\n",
    "where \n",
    "- $G$ = the roll was greater than $T$\n",
    "- $L$ = the roll was less than $T$, and \n",
    "- $E$ = the roll was equal to $T$.\n",
    "\n",
    "Let's use Bayes' theorem to come up with a strategy for guessing $T$."
   ]
  },
  {
   "cell_type": "markdown",
   "metadata": {
    "id": "g6xRlkd2K_uR",
    "nbgrader": {
     "grade": false,
     "grade_id": "cell-655b20dbbd0fd8fa",
     "locked": true,
     "schema_version": 3,
     "solution": false,
     "task": false
    }
   },
   "source": [
    "Bayes' theorem tells us that, for $t = 1,...,6$:\n",
    "\n",
    "\\begin{align*}\n",
    "P(T = t \\, | \\, \\mathbf{x}) = \\frac{P(\\mathbf{x} \\, | \\, T = t)P(T=t)}{P(\\mathbf{x})}  = \\frac{P(\\mathbf{x} \\, | \\, T = t)P(T=t)}{\\sum^6_{t=1} P(\\mathbf{x} \\, | \\, T = t)P(T=t)},\n",
    "\\end{align*}\n",
    "\n",
    "where \n",
    "\n",
    "- $P(\\mathbf{x} \\, | \\, T = t)$ is the *likelihood function* of the data conditioned on $T = t$.\n",
    "\n",
    "- $P(T=t)$ is the *prior distribution* on $T=t$. Because I rolled the die in my office, the probability that $T=t$ for $t = 1,...,6$ is $P(T=t) = 1/6$. \n",
    "\n",
    "- $P(\\mathbf{x}) = \\sum^6_{t=1} P(\\mathbf{x} \\, | \\, T = t)P(T=t)$ is the probability of the *evidence*. The equality is given by the Law of Total Probability. \n",
    "\n",
    "- $P(T = t \\, | \\, \\mathbf{x})$ is the *posterior probability* of $T = t$ given the observations $\\mathbf{x}$.\n",
    "\n",
    "In order to compute the likelihood function for a given $T=t$, we'll need to calculate the probabilities of being less than ($p_l$), equal to ($p_e$), or greater than ($p_g$), $T = t$. \n",
    "\n",
    "For example, if $T = 1$, then $p_l = 0$ because it is not possible to roll less than a $1$. $p_e = 1/6$, because that's the probability of rolling a $1$. And $p_g = 5*(1/6) = 5/6$, because rolling greater than $1$ means rolling a $2$ **or** a $3$ **or** ... a $6$. The word **or** suggests summing each of the probabilities, and since each face has probability $1/6$, we multiply by $5$.\n",
    "\n",
    "**(a) Write down general formula (as a function of $t$) for $P(l \\, | \\, T = t)$, $P(e \\, | \\, T = t)$, and $P(g \\, | \\, T = t)$. This question is asking for a mathematical expression, not R code.**"
   ]
  },
  {
   "cell_type": "markdown",
   "metadata": {
    "nbgrader": {
     "grade": true,
     "grade_id": "cell-247ba8f16f787b09",
     "locked": false,
     "points": 1,
     "schema_version": 3,
     "solution": true,
     "task": false
    }
   },
   "source": []
  },
  {
   "cell_type": "markdown",
   "metadata": {
    "nbgrader": {
     "grade": false,
     "grade_id": "cell-56245db92125dd5e",
     "locked": true,
     "schema_version": 3,
     "solution": false,
     "task": false
    }
   },
   "source": [
    "**(b) Now, write an R function, called `p`, that takes in a value of $T$ and returns $P(l \\, | \\, T = t)$, $P(e \\, | \\, T = t)$, and $P(g \\, | \\, T = t)$.**"
   ]
  },
  {
   "cell_type": "code",
   "execution_count": 5,
   "metadata": {
    "id": "E0zD6u6vK_uR",
    "nbgrader": {
     "grade": true,
     "grade_id": "cell-e164cfffb6a23f03",
     "locked": false,
     "points": 1,
     "schema_version": 3,
     "solution": true,
     "task": false
    }
   },
   "outputs": [],
   "source": []
  },
  {
   "cell_type": "markdown",
   "metadata": {
    "id": "K7xeW9BWK_uT",
    "nbgrader": {
     "grade": false,
     "grade_id": "cell-8c61d356eae717d7",
     "locked": true,
     "schema_version": 3,
     "solution": false,
     "task": false
    }
   },
   "source": [
    "Next, calculate the likelihood function for a given $T=t$ together (we don't quite know how to do this on our own...yet).\n",
    "\n",
    "Note that all of our rolls are independent, so the likelihood function - which is a joint probability density function (pdf) of the data given $T = t$ - is the product of the marginal pdfs, interpreted as a function of $t$.\n",
    "\n",
    "**(c) Write down the likelihood function for our data, $\\mathbf{x}$, given above in the problem description.**"
   ]
  },
  {
   "cell_type": "markdown",
   "metadata": {
    "nbgrader": {
     "grade": true,
     "grade_id": "cell-1d535a99a5c7cf7d",
     "locked": false,
     "points": 1,
     "schema_version": 3,
     "solution": true,
     "task": false
    }
   },
   "source": []
  },
  {
   "cell_type": "markdown",
   "metadata": {
    "nbgrader": {
     "grade": false,
     "grade_id": "cell-c8e62fbc4c923c6b",
     "locked": true,
     "schema_version": 3,
     "solution": false,
     "task": false
    }
   },
   "source": [
    "**(d) Now, write an R function, called `likelihood`, that takes in a value of $T$ and returns the likelihood function.**"
   ]
  },
  {
   "cell_type": "code",
   "execution_count": 6,
   "metadata": {
    "id": "11nZnGg8K_uT",
    "nbgrader": {
     "grade": true,
     "grade_id": "cell-a7d1a43a0e38b082",
     "locked": false,
     "points": 1,
     "schema_version": 3,
     "solution": true,
     "task": false
    }
   },
   "outputs": [],
   "source": []
  },
  {
   "cell_type": "markdown",
   "metadata": {
    "id": "GsMMiQNxK_uU",
    "nbgrader": {
     "grade": false,
     "grade_id": "cell-76d5ffce4b669071",
     "locked": true,
     "schema_version": 3,
     "solution": false,
     "task": false
    }
   },
   "source": [
    "**(e) Now, compute the probability of the data/evidence, $P(\\mathbf{x}) = \\sum^6_{t=1} P(\\mathbf{x} \\, | \\, T = t)P(T=t)$. (Note that this is tricky in general, since it requires that we change $T$, and thus change $p_l$, $p_e$, and $p_g$. Luckily, we wrote a function to do that above and took it into account in our likelihood function!)**"
   ]
  },
  {
   "cell_type": "code",
   "execution_count": 7,
   "metadata": {
    "id": "6JG9u2BFK_uU",
    "nbgrader": {
     "grade": true,
     "grade_id": "cell-c1b832eb65215f32",
     "locked": false,
     "points": 1,
     "schema_version": 3,
     "solution": true,
     "task": false
    }
   },
   "outputs": [],
   "source": []
  },
  {
   "cell_type": "markdown",
   "metadata": {
    "id": "sDsvQuqvK_uU",
    "nbgrader": {
     "grade": false,
     "grade_id": "cell-a986cb2c0ad3b062",
     "locked": true,
     "schema_version": 3,
     "solution": false,
     "task": false
    }
   },
   "source": [
    "**(f) Now we have all of the components for computing the posterior. So, compute the posterior for each $T=t$ and plot it using a bar chart.**"
   ]
  },
  {
   "cell_type": "code",
   "execution_count": null,
   "metadata": {
    "nbgrader": {
     "grade": true,
     "grade_id": "cell-e0594d065a5d975e",
     "locked": false,
     "points": 1,
     "schema_version": 3,
     "solution": true,
     "task": false
    }
   },
   "outputs": [],
   "source": []
  },
  {
   "cell_type": "markdown",
   "metadata": {
    "id": "AjrNKsuvK_uW",
    "nbgrader": {
     "grade": false,
     "grade_id": "cell-c7c80503d61c84db",
     "locked": true,
     "schema_version": 3,
     "solution": false,
     "task": false
    }
   },
   "source": [
    "**(g) Interpret the posterior distribution from the previous part. What value of $T$ would you guess and why? How does did your belief update from your prior?**"
   ]
  },
  {
   "cell_type": "markdown",
   "metadata": {
    "nbgrader": {
     "grade": true,
     "grade_id": "cell-2fa15fbb79591275",
     "locked": false,
     "points": 1,
     "schema_version": 3,
     "solution": true,
     "task": false
    }
   },
   "source": []
  },
  {
   "cell_type": "markdown",
   "metadata": {
    "id": "IesUtV2WK_uW",
    "nbgrader": {
     "grade": false,
     "grade_id": "cell-a00ccd5a66b9fa77",
     "locked": true,
     "schema_version": 3,
     "solution": false,
     "task": false
    }
   },
   "source": [
    "**(h) Another strategy, as you know, is maximum likelihood estimation (MLE). MLE says that our best guess about $T$ should be the value of $T$ that maximizes the likelihood function over all values of $T$ ($1,...,6$). Calculate the MLE for the data $\\mathbf{x}$. In the first (markdown) cell, give a mathematical description of MLE for this problem. In the second (R) cell, compute the MLE.**\n"
   ]
  },
  {
   "cell_type": "markdown",
   "metadata": {
    "nbgrader": {
     "grade": false,
     "grade_id": "cell-48c58905bfbf272b",
     "locked": true,
     "schema_version": 3,
     "solution": false,
     "task": false
    }
   },
   "source": [
    "Luckily, we've already found the likelihood function. So MLE is just a matter of computing $P(\\mathbf{x} \\, ; \\, T = t)$ for $t = 1,...,6$, and choosing the \"argmax\", i.e., the value of $T = t$ that gives the highest probability. We can do this easily in R:"
   ]
  },
  {
   "cell_type": "code",
   "execution_count": null,
   "metadata": {
    "id": "lsm-d8eTK_uW",
    "nbgrader": {
     "grade": true,
     "grade_id": "cell-fbd41b397fc38a0e",
     "locked": false,
     "points": 1,
     "schema_version": 3,
     "solution": true,
     "task": false
    },
    "outputId": "6515f40b-383f-4dd1-ca67-cd8f679c8cc6"
   },
   "outputs": [],
   "source": []
  },
  {
   "cell_type": "markdown",
   "metadata": {
    "nbgrader": {
     "grade": false,
     "grade_id": "cell-1e8ece908a63ec04",
     "locked": true,
     "schema_version": 3,
     "solution": false,
     "task": false
    }
   },
   "source": [
    "**(i) Now change your prior to be `prior = c(1/6, 1/6, 2/6, 1/6,1/6, 0)` and recompute the posterior distribution. Do you have a different guess? What might justify this prior? Can maximum likelihood estimation take into account this kind of adjustment?**"
   ]
  },
  {
   "cell_type": "code",
   "execution_count": null,
   "metadata": {
    "nbgrader": {
     "grade": true,
     "grade_id": "cell-e5fcacbc61c392ff",
     "locked": false,
     "points": 1,
     "schema_version": 3,
     "solution": true,
     "task": false
    }
   },
   "outputs": [],
   "source": []
  },
  {
   "cell_type": "markdown",
   "metadata": {
    "nbgrader": {
     "grade": false,
     "grade_id": "cell-ec9ebd6aa0850988",
     "locked": true,
     "schema_version": 3,
     "solution": false,
     "task": false
    }
   },
   "source": [
    "- Our guess is now $T = 3$.\n",
    "- This prior may be justified, if, for example, we have prior information that $T = 3$ is more likely.\n",
    "- Maximum likelihood estimation does not formally take into account prior information, so it cannot take into account this adjustment."
   ]
  }
 ],
 "metadata": {
  "celltoolbar": "Create Assignment",
  "colab": {
   "name": "Dice Game Exercise.ipynb",
   "provenance": []
  },
  "kernelspec": {
   "display_name": "R",
   "language": "R",
   "name": "ir"
  },
  "language_info": {
   "codemirror_mode": "r",
   "file_extension": ".r",
   "mimetype": "text/x-r-source",
   "name": "R",
   "pygments_lexer": "r",
   "version": "4.2.2"
  }
 },
 "nbformat": 4,
 "nbformat_minor": 4
}
