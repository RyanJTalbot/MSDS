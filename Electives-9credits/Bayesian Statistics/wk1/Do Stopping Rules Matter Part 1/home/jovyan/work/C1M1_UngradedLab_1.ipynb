{
 "cells": [
  {
   "cell_type": "markdown",
   "metadata": {
    "nbgrader": {
     "grade": false,
     "grade_id": "cell-56b299edad3309f5",
     "locked": true,
     "schema_version": 3,
     "solution": false,
     "task": false
    }
   },
   "source": [
    "# Module 1 Ungraded Lab 1: Introduction to Bayesian Inference\n",
    "\n",
    "Ungraded labs are designed to give learners an opportunity to apply theoretical material presented in previous videos. The goals of this ungraded lab are to (1) introduce learners to Bayesian inference, (2) compare Bayesian inference methods with frequentist inference, and (3) introduce learners to the likelihood principle and how it relates to Bayesian inference.  These goals will be achieved over a series of two ungraded labs.  Ungraded labs can be completed when assigned or in conjunction with upcoming videos. Answers to ungraded labs will be provided in upcoming videos."
   ]
  },
  {
   "cell_type": "markdown",
   "metadata": {
    "nbgrader": {
     "grade": false,
     "grade_id": "cell-aeb490fe81092084",
     "locked": true,
     "schema_version": 3,
     "solution": false,
     "task": false
    }
   },
   "source": [
    "# Problem #1: Stopping Rules \n",
    "\n",
    "\n",
    "(This question is modified from [this website](https://www2.isye.gatech.edu/~brani/isyebayes/bank/handout2.pdf).)\n",
    "\n",
    "Suppose health researches are studying the prevalence of a particular disease, $D$. If the percentage of people infected by $D$ in the population, $p$, is greater than 0.5, certain policies will be set to stop the spread of $D$. Researchers let $\\alpha = 0.05$, and collected the following data, where `1` = \"doesn't have $D$\" and `0` = \"does have $D$\".\n",
    "$$ 0, \\, 0, \\, 1,\\, 0,\\, 0, \\, 0,\\,  0,\\,  1,\\,  0,\\,  0, \\, 0, \\, 1$$\n",
    "\n",
    "After the data collection, a disagreement arose among researchers. Because of a lack of documentation, they could not remember which of the following methods were used to collect the data:\n",
    "\n",
    "\n",
    "- [Method \\#1]: Choose a random sample of size $n = 12$ from the population. Let $X$ be the number of people in their sample with $D$. (\"Stop when $n = 12$\".)\n",
    "\n",
    "- [Method \\#2]: Choose individuals from the population until $r=3$ individuals are found to not have $D$. Let $Y$ be the number of people chosen in order to obtain three people without $D$. (\"Stop when $r = 3$\".)\n",
    "\n",
    "\n",
    "Notice that the data collected cannot distinguish between Method \\#1 and Method \\#2!\n",
    "\n",
    "**(a) What is the distribution of $X$?**"
   ]
  },
  {
   "cell_type": "markdown",
   "metadata": {
    "nbgrader": {
     "grade": true,
     "grade_id": "cell-0a4595ecc29a38e1",
     "locked": false,
     "points": 1,
     "schema_version": 3,
     "solution": true,
     "task": false
    }
   },
   "source": []
  },
  {
   "cell_type": "markdown",
   "metadata": {
    "nbgrader": {
     "grade": false,
     "grade_id": "cell-33c7a987b18d694a",
     "locked": true,
     "schema_version": 3,
     "solution": false,
     "task": false
    }
   },
   "source": [
    "**(b) What is the distribution of $Y$?**\n"
   ]
  },
  {
   "cell_type": "markdown",
   "metadata": {
    "nbgrader": {
     "grade": true,
     "grade_id": "cell-5e3b0007892987f8",
     "locked": false,
     "points": 1,
     "schema_version": 3,
     "solution": true,
     "task": false
    }
   },
   "source": []
  },
  {
   "cell_type": "markdown",
   "metadata": {
    "nbgrader": {
     "grade": false,
     "grade_id": "cell-ec06886c2628579d",
     "locked": true,
     "schema_version": 3,
     "solution": false,
     "task": false
    }
   },
   "source": [
    "**(c) What is the $p$-value for Method \\#1?**\n"
   ]
  },
  {
   "cell_type": "markdown",
   "metadata": {
    "nbgrader": {
     "grade": false,
     "grade_id": "cell-75f5e0083a970508",
     "locked": true,
     "schema_version": 3,
     "solution": false,
     "task": false
    }
   },
   "source": [
    "Note that $H_0: p = 0.5$ and, because we are interested in whether $p$ is greater than $0.5$, $H_1: p > 0.5$. "
   ]
  },
  {
   "cell_type": "code",
   "execution_count": null,
   "metadata": {
    "nbgrader": {
     "grade": true,
     "grade_id": "cell-518bdfa37f077610",
     "locked": false,
     "points": 1,
     "schema_version": 3,
     "solution": true,
     "task": false
    }
   },
   "outputs": [],
   "source": []
  },
  {
   "cell_type": "markdown",
   "metadata": {
    "nbgrader": {
     "grade": false,
     "grade_id": "cell-8cfe235ebd1dd714",
     "locked": true,
     "schema_version": 3,
     "solution": false,
     "task": false
    }
   },
   "source": [
    "**(d) What is the $p$-value for Method \\#2?**\n",
    "\n",
    "\n"
   ]
  },
  {
   "cell_type": "code",
   "execution_count": null,
   "metadata": {
    "nbgrader": {
     "grade": true,
     "grade_id": "cell-bb6fda7816b474a2",
     "locked": false,
     "points": 1,
     "schema_version": 3,
     "solution": true,
     "task": false
    }
   },
   "outputs": [],
   "source": []
  },
  {
   "cell_type": "markdown",
   "metadata": {
    "nbgrader": {
     "grade": false,
     "grade_id": "cell-595c3710984466d6",
     "locked": true,
     "schema_version": 3,
     "solution": false,
     "task": false
    }
   },
   "source": [
    "**(e) Do you find the combination of these results troubling? Why or why not?**\n",
    "\n"
   ]
  },
  {
   "cell_type": "markdown",
   "metadata": {
    "nbgrader": {
     "grade": true,
     "grade_id": "cell-290e5736224b4ddb",
     "locked": false,
     "points": 1,
     "schema_version": 3,
     "solution": true,
     "task": false
    }
   },
   "source": []
  }
 ],
 "metadata": {
  "celltoolbar": "Create Assignment",
  "colab": {
   "name": "Dice Game Exercise.ipynb",
   "provenance": []
  },
  "kernelspec": {
   "display_name": "R",
   "language": "R",
   "name": "ir"
  },
  "language_info": {
   "codemirror_mode": "r",
   "file_extension": ".r",
   "mimetype": "text/x-r-source",
   "name": "R",
   "pygments_lexer": "r",
   "version": "4.2.2"
  }
 },
 "nbformat": 4,
 "nbformat_minor": 4
}
