{
 "cells": [
  {
   "cell_type": "markdown",
   "metadata": {
    "nbgrader": {
     "grade": false,
     "grade_id": "cell-56b299edad3309f5",
     "locked": true,
     "schema_version": 3,
     "solution": false,
     "task": false
    }
   },
   "source": [
    "# Module 1 Ungraded Lab 2: Introduction to Bayesian Inference\n",
    "\n",
    "Ungraded labs are designed to give learners an opportunity to apply theoretical material presented in previous videos. This ungraded lab builds on the material presented in Ungraded Lab 1 for Module 5. Material covered previously is provided here again for completeness. Ungraded labs can be completed when assigned or in conjunction with upcoming videos. Answers to ungraded labs will be provided in upcoming videos."
   ]
  },
  {
   "cell_type": "markdown",
   "metadata": {
    "nbgrader": {
     "grade": false,
     "grade_id": "cell-c0615f31aa3d46fc",
     "locked": true,
     "schema_version": 3,
     "solution": false,
     "task": false
    }
   },
   "source": [
    "# Problem #1: Stopping Rules \n",
    "\n",
    "\n",
    "(This question is modified from [this website](https://www2.isye.gatech.edu/~brani/isyebayes/bank/handout2.pdf).)\n",
    "\n",
    "Suppose health researches are studying the prevalence of a particular disease, $D$. If the percentage of people infected by $D$ in the population, $p$, is greater than 0.5, certain policies will be set to stop the spread of $D$. Researchers let $\\alpha = 0.05$, and collected the following data, where `1` = \"doesn't have $D$\" and `0` = \"does have $D$\".\n",
    "$$ 0, \\, 0, \\, 1,\\, 0,\\, 0, \\, 0,\\,  0,\\,  1,\\,  0,\\,  0, \\, 0, \\, 1$$\n",
    "\n",
    "After the data collection, a disagreement arose among researchers. Because of a lack of documentation, they could not remember which of the following methods were used to collect the data:\n",
    "\n",
    "\n",
    "- [Method \\#1]: Choose a random sample of size $n = 12$ from the population. Let $X$ be the number of people in their sample with $D$. (\"Stop when $n = 12$\".)\n",
    "\n",
    "- [Method \\#2]: Choose individuals from the population until $r=3$ individuals are found to not have $D$. Let $Y$ be the number of people chosen in order to obtain three people without $D$. (\"Stop when $r = 3$\".)\n",
    "\n",
    "\n",
    "Notice that the data collected cannot distinguish between Method \\#1 and Method \\#2!\n",
    "\n",
    "**(a) What is the distribution of $X$?** \n",
    "\n"
   ]
  },
  {
   "cell_type": "markdown",
   "metadata": {
    "nbgrader": {
     "grade": false,
     "grade_id": "cell-0a4595ecc29a38e1",
     "locked": true,
     "schema_version": 3,
     "solution": false,
     "task": false
    }
   },
   "source": [
    "$X \\sim Binomial(12, p)$, since the number of trials is fixed."
   ]
  },
  {
   "cell_type": "markdown",
   "metadata": {
    "nbgrader": {
     "grade": false,
     "grade_id": "cell-33c7a987b18d694a",
     "locked": true,
     "schema_version": 3,
     "solution": false,
     "task": false
    }
   },
   "source": [
    "**(b) What is the distribution of $Y$?** \n"
   ]
  },
  {
   "cell_type": "markdown",
   "metadata": {
    "nbgrader": {
     "grade": false,
     "grade_id": "cell-5e3b0007892987f8",
     "locked": true,
     "schema_version": 3,
     "solution": false,
     "task": false
    }
   },
   "source": [
    "$Y \\sim NB(r,p)$; that is, $Y$ is [negative binomial](https://en.wikipedia.org/wiki/Negative_binomial_distribution), which is the number of \"failures\" until $r$ successes are observed."
   ]
  },
  {
   "cell_type": "markdown",
   "metadata": {
    "nbgrader": {
     "grade": false,
     "grade_id": "cell-ec06886c2628579d",
     "locked": true,
     "schema_version": 3,
     "solution": false,
     "task": false
    }
   },
   "source": [
    "**(c) What is the $p$-value for Method \\#1?**\n"
   ]
  },
  {
   "cell_type": "markdown",
   "metadata": {
    "nbgrader": {
     "grade": false,
     "grade_id": "cell-75f5e0083a970508",
     "locked": true,
     "schema_version": 3,
     "solution": false,
     "task": false
    }
   },
   "source": [
    "Note that $H_0: p = 0.5$ and, because we are interested in whether $p$ is greater than $0.5$, $H_1: p > 0.5$. "
   ]
  },
  {
   "cell_type": "code",
   "execution_count": 2,
   "metadata": {
    "nbgrader": {
     "grade": false,
     "grade_id": "cell-518bdfa37f077610",
     "locked": true,
     "schema_version": 3,
     "solution": false,
     "task": false
    }
   },
   "outputs": [
    {
     "data": {
      "text/html": [
       "9"
      ],
      "text/latex": [
       "9"
      ],
      "text/markdown": [
       "9"
      ],
      "text/plain": [
       "[1] 9"
      ]
     },
     "metadata": {},
     "output_type": "display_data"
    },
    {
     "data": {
      "text/html": [
       "0.072998046875"
      ],
      "text/latex": [
       "0.072998046875"
      ],
      "text/markdown": [
       "0.072998046875"
      ],
      "text/plain": [
       "[1] 0.07299805"
      ]
     },
     "metadata": {},
     "output_type": "display_data"
    },
    {
     "data": {
      "text/html": [
       "0.0729980468749999"
      ],
      "text/latex": [
       "0.0729980468749999"
      ],
      "text/markdown": [
       "0.0729980468749999"
      ],
      "text/plain": [
       "[1] 0.07299805"
      ]
     },
     "metadata": {},
     "output_type": "display_data"
    }
   ],
   "source": [
    "p0 = 0.5; \n",
    "x = c(0,0,1,0,0,0,0,1,0,0,0,1); n = length(x); \n",
    "s = n - sum(x); s; #1 represents \"does not have D\" so (n -sum) = # of people who have D\n",
    "1-pbinom(s-1,n,p0) #1 - cdf of binomial \n",
    "1-pbinom(s,n,p0) + dbinom(s,n,p0) #same as previous line"
   ]
  },
  {
   "cell_type": "markdown",
   "metadata": {
    "nbgrader": {
     "grade": false,
     "grade_id": "cell-8cfe235ebd1dd714",
     "locked": true,
     "schema_version": 3,
     "solution": false,
     "task": false
    }
   },
   "source": [
    "**(d) What is the $p$-value for Method \\#2?**\n",
    "\n",
    "\n"
   ]
  },
  {
   "cell_type": "code",
   "execution_count": 3,
   "metadata": {
    "nbgrader": {
     "grade": false,
     "grade_id": "cell-bb6fda7816b474a2",
     "locked": true,
     "schema_version": 3,
     "solution": false,
     "task": false
    }
   },
   "outputs": [
    {
     "data": {
      "text/html": [
       "0.03271484375"
      ],
      "text/latex": [
       "0.03271484375"
      ],
      "text/markdown": [
       "0.03271484375"
      ],
      "text/plain": [
       "[1] 0.03271484"
      ]
     },
     "metadata": {},
     "output_type": "display_data"
    }
   ],
   "source": [
    "1-pnbinom(s-1,3, p0) #1 - cdf of the negative binomial\n",
    "#1-pnbinom(s,3, p0) + dnbinom(s,3,p0) #same as previous line"
   ]
  },
  {
   "cell_type": "markdown",
   "metadata": {
    "nbgrader": {
     "grade": false,
     "grade_id": "cell-595c3710984466d6",
     "locked": true,
     "schema_version": 3,
     "solution": false,
     "task": false
    }
   },
   "source": [
    "**(e) Do you find the combination of these results troubling? Why or why not?**\n",
    "\n"
   ]
  },
  {
   "cell_type": "markdown",
   "metadata": {
    "nbgrader": {
     "grade": false,
     "grade_id": "cell-290e5736224b4ddb",
     "locked": true,
     "schema_version": 3,
     "solution": false,
     "task": false
    }
   },
   "source": [
    "This does seem troubling. Note that, if we assume that the data were generated according to the binomial distribution, the results are not statistically significant at $\\alpha = 0.05$. However, if we assume that the data were generated according to the *negative* binomial distribution, the results *are* statistically significant at $\\alpha = 0.05$. Information about the rule for stopping data collection impacts the inference made. Should this matter? It doesn't seem like it should! How often do we collect data and not know the stopping rule?!"
   ]
  },
  {
   "cell_type": "markdown",
   "metadata": {
    "nbgrader": {
     "grade": false,
     "grade_id": "cell-84ba876d50c5c708",
     "locked": true,
     "schema_version": 3,
     "solution": false,
     "task": false
    }
   },
   "source": [
    "**(f) Compute the Bayesian posterior distribution for $p$, and show that the posterior is the same, independent of the stopping rule used, and for any beta prior (maybe start with a $beta(1,1)$ prior). Note that both the binomial and the negative binomial have a beta conjugate prior:**\n",
    "\n",
    "- Binomial: If the sampling distribution for $x$ is Binomial$(n, p)$ with $n$ known, and the prior distribution is $beta(\\alpha, \\beta)$, the posterior distribution for $p$ is $beta(\\alpha + n\\bar{x}, \\beta + n – n\\bar{x})$.\n",
    "\n",
    "- Negative binomial: If the sampling distribution for $x$ is negative binomial$(r, p)$ with $r$ known, and the prior distribution is $beta(\\alpha, \\beta)$, the posterior distribution for $p$ is $beta(\\alpha + r, \\beta + n - r)$. "
   ]
  },
  {
   "cell_type": "code",
   "execution_count": 4,
   "metadata": {
    "nbgrader": {
     "grade": true,
     "grade_id": "cell-b3e29b825aade4ee",
     "locked": false,
     "points": 1,
     "schema_version": 3,
     "solution": true,
     "task": false
    }
   },
   "outputs": [],
   "source": [
    "# use this cell block to write functions for the posterior distribution for p if the data is binomially and negative binomially distributed\n",
    "# assuming a beta(1,1) prior\n"
   ]
  },
  {
   "cell_type": "code",
   "execution_count": 5,
   "metadata": {
    "nbgrader": {
     "grade": true,
     "grade_id": "cell-da1c40e1c3bc7ecd",
     "locked": false,
     "points": 1,
     "schema_version": 3,
     "solution": true,
     "task": false
    }
   },
   "outputs": [],
   "source": [
    "# use this cell block to plot the prior and two posterior functions on the same plot"
   ]
  },
  {
   "cell_type": "markdown",
   "metadata": {
    "nbgrader": {
     "grade": false,
     "grade_id": "cell-e21512598e5ebb01",
     "locked": true,
     "schema_version": 3,
     "solution": false,
     "task": false
    }
   },
   "source": [
    "#### Describe the differences between the two posteriors"
   ]
  },
  {
   "cell_type": "markdown",
   "metadata": {
    "nbgrader": {
     "grade": true,
     "grade_id": "cell-057b053640fcedc4",
     "locked": false,
     "points": 1,
     "schema_version": 3,
     "solution": true,
     "task": false
    }
   },
   "source": []
  }
 ],
 "metadata": {
  "celltoolbar": "Create Assignment",
  "colab": {
   "name": "Dice Game Exercise.ipynb",
   "provenance": []
  },
  "kernelspec": {
   "display_name": "R",
   "language": "R",
   "name": "ir"
  },
  "language_info": {
   "codemirror_mode": "r",
   "file_extension": ".r",
   "mimetype": "text/x-r-source",
   "name": "R",
   "pygments_lexer": "r",
   "version": "4.2.2"
  }
 },
 "nbformat": 4,
 "nbformat_minor": 4
}
