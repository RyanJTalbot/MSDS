{
 "cells": [
  {
   "cell_type": "markdown",
   "metadata": {
    "nbgrader": {
     "grade": false,
     "grade_id": "cell-56b299edad3309f5",
     "locked": true,
     "schema_version": 3,
     "solution": false,
     "task": false
    }
   },
   "source": [
    "# Module 4 Ungraded Lab 2: Jeffrey's Prior\n",
    "\n",
    "Ungraded labs are designed to give learners an opportunity to apply theoretical material presented in previous videos. The goal of this ungraded lab is to utilize Jeffrey's Prior to conduct Bayesian inference in R. Ungraded labs can be completed when assigned or in conjunction with upcoming videos. Answers to ungraded labs will be provided in upcoming videos."
   ]
  },
  {
   "cell_type": "markdown",
   "metadata": {
    "nbgrader": {
     "grade": false,
     "grade_id": "cell-dce162c61e8ba91d",
     "locked": true,
     "schema_version": 3,
     "solution": false,
     "task": false
    }
   },
   "source": [
    "## Problem #4\n",
    "\n",
    "Let $Y \\, | \\, \\lambda \\sim Poisson(\\lambda)$. Note here that the sample size $n = 1$, since there is only one $Y$ value.\n",
    "\n",
    "**(a) Derive and plot the Jeffrey's prior for $\\lambda$. The derivation was completed in a previous video and is provided below.**"
   ]
  },
  {
   "cell_type": "markdown",
   "metadata": {
    "nbgrader": {
     "grade": true,
     "grade_id": "cell-29dc390f84047fec",
     "locked": false,
     "points": 1,
     "schema_version": 3,
     "solution": true,
     "task": false
    }
   },
   "source": [
    "Note that $f(y \\, | \\, \\lambda) = \\frac{e^{-\\lambda}\\lambda^y}{y!}$ which implies that $\\log f(y \\, | \\, \\lambda) = \\log\\left(\\frac{e^{-\\lambda}\\lambda^y}{y!}\\right)= \\log\\left(e^{-\\lambda}\\right)+\\log\\left(\\lambda^y\\right) - \\log\\left(y!\\right)$ and $\\frac{d^2\\log f(y \\, | \\, \\lambda)}{d\\lambda^2} = \\left(-1 + \\frac{y}{\\lambda}\\right)' = - \\frac{y}{\\lambda^2}$. So\n",
    "\n",
    "\\begin{align*}\n",
    "I(\\lambda) = -E\\left(\\frac{d^2\\log f(y \\, | \\, \\lambda)}{d\\lambda^2} \\right) = -E\\left(- \\frac{y}{\\lambda^2} \\right) =  \\frac{1}{\\lambda}.\n",
    "\\end{align*}\n",
    "\n",
    "Thus, the Jeffrey's prior is \n",
    "$$\\pi(\\lambda) \\propto \\sqrt{I(\\lambda)} = \\lambda^{-1/2}$$"
   ]
  },
  {
   "cell_type": "code",
   "execution_count": 6,
   "metadata": {
    "nbgrader": {
     "grade": true,
     "grade_id": "cell-676a2447ebfa5bd3",
     "locked": false,
     "points": 1,
     "schema_version": 3,
     "solution": true,
     "task": false
    }
   },
   "outputs": [],
   "source": [
    "# plot Jeffrey's prior for 2500 evenly spaced lambda values from 0.01 to 25.\n"
   ]
  },
  {
   "cell_type": "markdown",
   "metadata": {
    "nbgrader": {
     "grade": false,
     "grade_id": "cell-97f9237ed7742ebe",
     "locked": true,
     "schema_version": 3,
     "solution": false,
     "task": false
    }
   },
   "source": [
    "**(b) Is the prior proper?**"
   ]
  },
  {
   "cell_type": "code",
   "execution_count": null,
   "metadata": {
    "nbgrader": {
     "grade": true,
     "grade_id": "cell-630fd8cf060ef3d2",
     "locked": false,
     "points": 1,
     "schema_version": 3,
     "solution": true,
     "task": false
    }
   },
   "outputs": [],
   "source": []
  },
  {
   "cell_type": "markdown",
   "metadata": {
    "nbgrader": {
     "grade": false,
     "grade_id": "cell-02481ca654d2deb3",
     "locked": true,
     "schema_version": 3,
     "solution": false,
     "task": false
    }
   },
   "source": [
    "**(c) Derive the posterior and give conditions on $Y$ to ensure it is proper.**"
   ]
  },
  {
   "cell_type": "markdown",
   "metadata": {
    "nbgrader": {
     "grade": true,
     "grade_id": "cell-dceb5a531d6e8d0e",
     "locked": false,
     "points": 1,
     "schema_version": 3,
     "solution": true,
     "task": false
    }
   },
   "source": []
  },
  {
   "cell_type": "markdown",
   "metadata": {
    "nbgrader": {
     "grade": false,
     "grade_id": "cell-050978f3ab77b80d",
     "locked": true,
     "schema_version": 3,
     "solution": false,
     "task": false
    }
   },
   "source": [
    "**(d) Conduct an \"objective\" Bayesian analysis using the distribution above and $Y = 10$.**"
   ]
  },
  {
   "cell_type": "code",
   "execution_count": null,
   "metadata": {
    "nbgrader": {
     "grade": true,
     "grade_id": "cell-8def5da7a61608b8",
     "locked": false,
     "points": 1,
     "schema_version": 3,
     "solution": true,
     "task": false
    }
   },
   "outputs": [],
   "source": []
  }
 ],
 "metadata": {
  "celltoolbar": "Create Assignment",
  "colab": {
   "name": "Dice Game Exercise.ipynb",
   "provenance": []
  },
  "kernelspec": {
   "display_name": "R",
   "language": "R",
   "name": "ir"
  },
  "language_info": {
   "codemirror_mode": "r",
   "file_extension": ".r",
   "mimetype": "text/x-r-source",
   "name": "R",
   "pygments_lexer": "r",
   "version": "4.2.2"
  }
 },
 "nbformat": 4,
 "nbformat_minor": 4
}
