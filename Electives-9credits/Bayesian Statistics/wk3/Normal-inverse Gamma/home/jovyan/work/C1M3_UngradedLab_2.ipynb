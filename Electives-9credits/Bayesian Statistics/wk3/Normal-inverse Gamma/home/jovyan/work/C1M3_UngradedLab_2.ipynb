{
 "cells": [
  {
   "cell_type": "markdown",
   "metadata": {
    "nbgrader": {
     "grade": false,
     "grade_id": "cell-56b299edad3309f5",
     "locked": true,
     "schema_version": 3,
     "solution": false,
     "task": false
    }
   },
   "source": [
    "# Module 3 Ungraded Lab 2: Prior Information\n",
    "\n",
    "Ungraded labs are designed to give learners an opportunity to apply theoretical material presented in previous videos. The goal of this ungraded lab is to utilize different priors to conduct Bayesian inference in R. Ungraded labs can be completed when assigned or in conjunction with upcoming videos. Answers to ungraded labs will be provided in upcoming videos."
   ]
  },
  {
   "cell_type": "markdown",
   "metadata": {
    "nbgrader": {
     "grade": false,
     "grade_id": "cell-79f794848f4a1d67",
     "locked": true,
     "schema_version": 3,
     "solution": false,
     "task": false
    }
   },
   "source": [
    "## Problem #2: Normal-inverse Gamma\n",
    "\n",
    "An assembly line relies on accurate measurements from an image recognition algorithm at the first stage of the process. It is known that the algorithm is unbiased, so assume that measurements follow a normal distribution with mean zero: $Y_i \\, | \\, \\sigma^2 \\sim N(0,\\sigma^2)$. Some errors are permissible, but if $\\sigma$ exceeds the threshold $c$ then the algorithm must be replaced. You make $n = 20$ measurements and observe $\\sum^n_{i=1}y_i = -2$ and $\\sum^n_{i=1}y^2_i = 15$. \n",
    "\n",
    "**(a) Conduct a Bayesian inference with an inverse gamma prior on $\\sigma^2$ with $a = b = 0.1$. Compute and plot the prior, likelihood, and posterior using data provided above for 200 evenly spaced $\\sigma^2 $ values between 0.001 and 5.**"
   ]
  },
  {
   "cell_type": "code",
   "execution_count": null,
   "metadata": {
    "nbgrader": {
     "grade": true,
     "grade_id": "cell-f1155273d41d8056",
     "locked": false,
     "points": 1,
     "schema_version": 3,
     "solution": true,
     "task": false
    }
   },
   "outputs": [],
   "source": []
  },
  {
   "cell_type": "markdown",
   "metadata": {
    "nbgrader": {
     "grade": false,
     "grade_id": "cell-89d0235926923695",
     "locked": true,
     "schema_version": 3,
     "solution": false,
     "task": false
    }
   },
   "source": [
    "**(b) Compute the posterior probability that $\\sigma^2 > c = 1$**"
   ]
  },
  {
   "cell_type": "code",
   "execution_count": null,
   "metadata": {
    "nbgrader": {
     "grade": true,
     "grade_id": "cell-130eb33d940964af",
     "locked": false,
     "points": 1,
     "schema_version": 3,
     "solution": true,
     "task": false
    }
   },
   "outputs": [],
   "source": []
  }
 ],
 "metadata": {
  "celltoolbar": "Create Assignment",
  "colab": {
   "name": "Dice Game Exercise.ipynb",
   "provenance": []
  },
  "kernelspec": {
   "display_name": "R",
   "language": "R",
   "name": "ir"
  },
  "language_info": {
   "codemirror_mode": "r",
   "file_extension": ".r",
   "mimetype": "text/x-r-source",
   "name": "R",
   "pygments_lexer": "r",
   "version": "4.2.2"
  }
 },
 "nbformat": 4,
 "nbformat_minor": 4
}
