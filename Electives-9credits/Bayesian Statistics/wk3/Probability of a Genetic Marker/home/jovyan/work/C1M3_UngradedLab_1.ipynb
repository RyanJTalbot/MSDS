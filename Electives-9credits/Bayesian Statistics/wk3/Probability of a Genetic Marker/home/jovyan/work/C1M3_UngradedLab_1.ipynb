{
 "cells": [
  {
   "cell_type": "markdown",
   "metadata": {
    "nbgrader": {
     "grade": false,
     "grade_id": "cell-56b299edad3309f5",
     "locked": true,
     "schema_version": 3,
     "solution": false,
     "task": false
    }
   },
   "source": [
    "# Module 3 Ungraded Lab 1: Prior Information\n",
    "\n",
    "Ungraded labs are designed to give learners an opportunity to apply theoretical material presented in previous videos. The goal of this ungraded lab is to utilize different priors to conduct Bayesian inference in R. Ungraded labs can be completed when assigned or in conjunction with upcoming videos. Answers to ungraded labs will be provided in upcoming videos."
   ]
  },
  {
   "cell_type": "markdown",
   "metadata": {
    "nbgrader": {
     "grade": false,
     "grade_id": "cell-2c6b3b4502740cc5",
     "locked": true,
     "schema_version": 3,
     "solution": false,
     "task": false
    }
   },
   "source": [
    "## Problem #1: Probability of a Genetic Marker\n",
    "\n",
    "Suppose researchers would like to know the probability, $p$, that an individual in a given population has a genetic marker that predisposes them for disease $D$ (this genetic marker is such that an individual has it or doesn’t; assume that our test for the marker is completely accurate). Researchers collected data in the following way: they tested people for this genetic marker until they found one person who had it. They stopped data collection at that point. Here’s the data: $\\mathbf{x} = (0,0,0,0,1)$. Suppose your prior beliefs are best represented by a beta$(2,2)$ distribution. What is the posterior distribution for $p \\, | \\, \\mathbf{x}$?\n",
    "\n",
    "**(a) Compute and plot the prior distribution for 100 evenly spaced $p$ values between $0.0001$ and $0.999$.  Also compute and plot the likelihood function for the same grid of $p$ values.** "
   ]
  },
  {
   "cell_type": "code",
   "execution_count": null,
   "metadata": {
    "nbgrader": {
     "grade": true,
     "grade_id": "cell-d057faa01d1769a7",
     "locked": false,
     "points": 1,
     "schema_version": 3,
     "solution": true,
     "task": false
    }
   },
   "outputs": [],
   "source": []
  },
  {
   "cell_type": "markdown",
   "metadata": {
    "nbgrader": {
     "grade": false,
     "grade_id": "cell-96462b14e4eac841",
     "locked": true,
     "schema_version": 3,
     "solution": false,
     "task": false
    }
   },
   "source": [
    "**(b) Compute and plot the posterior distribution for the same grid of $p$ values.** "
   ]
  },
  {
   "cell_type": "code",
   "execution_count": null,
   "metadata": {
    "nbgrader": {
     "grade": true,
     "grade_id": "cell-feb2d2731a7d05d0",
     "locked": false,
     "points": 1,
     "schema_version": 3,
     "solution": true,
     "task": false
    }
   },
   "outputs": [],
   "source": []
  },
  {
   "cell_type": "markdown",
   "metadata": {
    "nbgrader": {
     "grade": false,
     "grade_id": "cell-0db6f9ba399daacc",
     "locked": true,
     "schema_version": 3,
     "solution": false,
     "task": false
    }
   },
   "source": [
    "**(c) Compute and interpret a $95\\%$ credible interval for $p \\, | \\, \\mathbf{x}$?**"
   ]
  },
  {
   "cell_type": "code",
   "execution_count": null,
   "metadata": {
    "nbgrader": {
     "grade": true,
     "grade_id": "cell-f15477c17dcc6a96",
     "locked": false,
     "points": 1,
     "schema_version": 3,
     "solution": true,
     "task": false
    }
   },
   "outputs": [],
   "source": []
  }
 ],
 "metadata": {
  "celltoolbar": "Create Assignment",
  "colab": {
   "name": "Dice Game Exercise.ipynb",
   "provenance": []
  },
  "kernelspec": {
   "display_name": "R",
   "language": "R",
   "name": "ir"
  },
  "language_info": {
   "codemirror_mode": "r",
   "file_extension": ".r",
   "mimetype": "text/x-r-source",
   "name": "R",
   "pygments_lexer": "r",
   "version": "4.2.2"
  }
 },
 "nbformat": 4,
 "nbformat_minor": 4
}
