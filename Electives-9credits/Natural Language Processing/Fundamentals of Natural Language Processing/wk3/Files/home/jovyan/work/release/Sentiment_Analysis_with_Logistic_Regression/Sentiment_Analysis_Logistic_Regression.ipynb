{
 "cells": [
  {
   "cell_type": "markdown",
   "metadata": {
    "deletable": false,
    "editable": false,
    "nbgrader": {
     "cell_type": "markdown",
     "checksum": "bada11b83ab22daa6e80e6029c2a69ff",
     "grade": false,
     "grade_id": "title",
     "locked": true,
     "schema_version": 3,
     "solution": false,
     "task": false
    }
   },
   "source": [
    "# Sentiment Classification Using Logistic Regression\n",
    "In this lab, you will implement a logistic regression classifier with hand-engineered features to predict the sentiment of hotel reviews"
   ]
  },
  {
   "cell_type": "markdown",
   "metadata": {
    "deletable": false,
    "editable": false,
    "nbgrader": {
     "cell_type": "markdown",
     "checksum": "ce6a2e9021d0094940b92eeae5acf2e6",
     "grade": false,
     "grade_id": "Outline",
     "locked": true,
     "schema_version": 3,
     "solution": false,
     "task": false
    }
   },
   "source": [
    "# Outline\n",
    "\n",
    "- [1 - Packages](#1---Packages)\n",
    "- [2 - Problem Statement](#2---Problem-Statement)\n",
    "- [3 - Dataset](#3---Dataset)\n",
    "    - [3.1 - Load and View the data](#3.1---View-the-data)\n",
    "    - [3.2 - Label Distribution](#3.2---Label-Distribution)\n",
    "         - [Exercise 1](#Exercise-1)\n",
    "    - [3.3 - Training and Development Sets](#3.3---Split-Training-and-Development-Sets)\n",
    "- [4 - Random Classifier](#4---Random-Classifier)\n",
    "    - [4.1 - Random Classifier](#4.1---Random-Classifier)\n",
    "        - [Exercise 2](#Exercise-2)\n",
    "    - [4.2 - Text Preprocessing](#4.2---Text-Preprocessing)\n",
    "        - [Exercise 3](#Exercise-3)\n",
    "- [5 - Evaluation Metrics](#5---Evaluation-Metrics)\n",
    "    - [5.1 - Accuracy, Precision, Recall and F1 score](#5.1---Accuracy,-Precision,-Recall-and-F1-score)\n",
    "        - [Exercise 4](#Exercise-4)\n",
    "- [6 - Logistic Regression](#6---Logistic-Regression)\n",
    "    - [6.1 - Feauture Extraction](#6.1---Feature-Extraction)\n",
    "        - [Exercise 5](#Exercise-5)\n",
    "    - [6.2 - Feature Scaling](#6.2---Standardization-of-Features)\n",
    "        - [Exercise 6](#Exercise-6)\n",
    "    - [6.3 - Training a Logistic Regression Classifier](#6.3---Training-a-Logistic-Regression-Classifier)\n",
    "    - [6.4 - Weight Initialization](#6.4---Weight-Initialization)\n",
    "        - [Exercise 7](#Exercise-7)\n",
    "    - [6.5 - Logistic Loss Function](#6.5---Logistic-Loss-Function)\n",
    "        - [Exercise 8](#Exercise-8)\n",
    "    - [6.6 - SGD Optimizer](#6.6---SGD-Optimizer)\n",
    "    - [6.7 - Converting Logits into Predictions](#6.7---Converting-Logits-into-Predictions)\n",
    "        - [Exercise 9](#Exercise-9)\n",
    "    - [6.8 - Training Function](#6.8---Training-Function)\n",
    "    - [6.9 - Train the Classifier](#6.9---Train-the-Classifier)\n",
    "- [7 - Predict on the Test Set](#7---Predict-on-the-Test-Set)\n",
    "    - [Exercise 10](#Exercise-10)"
   ]
  },
  {
   "cell_type": "markdown",
   "metadata": {
    "deletable": false,
    "editable": false,
    "nbgrader": {
     "cell_type": "markdown",
     "checksum": "90e18abc1e5c5728cb4bdaa08d5a47f3",
     "grade": false,
     "grade_id": "packages",
     "locked": true,
     "schema_version": 3,
     "solution": false,
     "task": false
    }
   },
   "source": [
    "# 1 - Packages\n",
    "\n",
    "First, let's run the cell below to import all the packages that you will need during this assignment.\n",
    "\n",
    "- numpy\n",
    "- random\n",
    "- spacy\n",
    "- torch\n",
    "\n",
    "We have provided a `util.py` file for loading the data, and some of the basic modeling. While this file is already complete, we suggest browsing the script to see how some of the data loading and modeling works. Your task is to fill in the functions below in order to train as accurate a classifier as possible! "
   ]
  },
  {
   "cell_type": "code",
   "execution_count": 1,
   "metadata": {
    "deletable": false,
    "editable": false,
    "nbgrader": {
     "cell_type": "code",
     "checksum": "0959e0c1eb8dbc1560364b6e634f39ca",
     "grade": false,
     "grade_id": "Imports",
     "locked": true,
     "schema_version": 3,
     "solution": false,
     "task": false
    }
   },
   "outputs": [
    {
     "name": "stderr",
     "output_type": "stream",
     "text": [
      "2025-09-27 06:46:43.598349: I tensorflow/core/platform/cpu_feature_guard.cc:193] This TensorFlow binary is optimized with oneAPI Deep Neural Network Library (oneDNN) to use the following CPU instructions in performance-critical operations:  SSE4.1 SSE4.2 AVX AVX2 AVX512F FMA\n",
      "To enable them in other operations, rebuild TensorFlow with the appropriate compiler flags.\n"
     ]
    }
   ],
   "source": [
    "import numpy as np\n",
    "import random\n",
    "import spacy\n",
    "import torch\n",
    "from typing import List\n",
    "from util import *"
   ]
  },
  {
   "cell_type": "markdown",
   "metadata": {
    "deletable": false,
    "editable": false,
    "nbgrader": {
     "cell_type": "markdown",
     "checksum": "842c5d57a731f666beacda92d6420493",
     "grade": false,
     "grade_id": "cell-83ac07404d16bfc7",
     "locked": true,
     "schema_version": 3,
     "solution": false,
     "task": false
    }
   },
   "source": [
    "# 2 - Problem Statement\n",
    "For this assignment we will be implementing a naive bayes baseline classifier. Additionally, we will be using pytorch to implement a binary logistic regression classifier. Our task is sentiment classification for hotel reviews. The input to your model will be a text review, and the output label is a 1 or 0 marking it as positive or negative."
   ]
  },
  {
   "cell_type": "markdown",
   "metadata": {
    "deletable": false,
    "editable": false,
    "nbgrader": {
     "cell_type": "markdown",
     "checksum": "f569cbf0a577d08a96d4cf6a65b00573",
     "grade": false,
     "grade_id": "cell-d307b9490b73e567",
     "locked": true,
     "schema_version": 3,
     "solution": false,
     "task": false
    }
   },
   "source": [
    "# 3 - Dataset\n",
    "\n",
    "The training data for this task consists of a collection of short hotel reviews. The data is formatted as one review per line. Each line starts with a unique identifier for the review (as in ID-2001) followed by tab and the text of the review.  The reviews are not tokenized or sentence segmented in any way (the words are space separated). The positive reviews and negative reviews appear in separate files namely [hotelPosT-train.txt](data/hotelPosT-train.txt) and [hotelNegT-train.txt](data/hotelNegT-train.txt).\n",
    "\n",
    "Let's run the cell below to load the dataset:"
   ]
  },
  {
   "cell_type": "code",
   "execution_count": 2,
   "metadata": {
    "deletable": false,
    "editable": false,
    "nbgrader": {
     "cell_type": "code",
     "checksum": "36abfff495564b7ed928a92f4a2ca400",
     "grade": false,
     "grade_id": "LoadData",
     "locked": true,
     "schema_version": 3,
     "solution": false,
     "task": false
    }
   },
   "outputs": [],
   "source": [
    "# load the dataset\n",
    "pos_datapath = \"data/hotelPosT-train.txt\"\n",
    "neg_datapath = \"data/hotelNegT-train.txt\"\n",
    "all_texts, all_labels = load_train_data(pos_datapath, neg_datapath)"
   ]
  },
  {
   "cell_type": "markdown",
   "metadata": {
    "deletable": false,
    "editable": false,
    "nbgrader": {
     "cell_type": "markdown",
     "checksum": "a05c7bf450745fc33b79f4718188b3eb",
     "grade": false,
     "grade_id": "cell-5bd794eb419ea7d0",
     "locked": true,
     "schema_version": 3,
     "solution": false,
     "task": false
    }
   },
   "source": [
    "### 3.1 - View the data\n",
    "Before starting on any task, it is useful to get more familiar with your dataset. A good place to start is to print out the data points and see what it contains.\n",
    "\n",
    "The code below randomly selects a positive and a negative sample from the `all_texts` and prints them."
   ]
  },
  {
   "cell_type": "code",
   "execution_count": 3,
   "metadata": {
    "deletable": false,
    "editable": false,
    "nbgrader": {
     "cell_type": "code",
     "checksum": "c34812c736e0fe774d9a8e5f78321790",
     "grade": false,
     "grade_id": "PrintSamples",
     "locked": true,
     "schema_version": 3,
     "solution": false,
     "task": false
    }
   },
   "outputs": [
    {
     "name": "stdout",
     "output_type": "stream",
     "text": [
      "--- Positive Example ---\n",
      "My husband and I stayed at the Marriott Fairfield Inn and Suites in downtown Louisville, Kentucky a few weekends ago. The hotel was conveniently located right off I-65 and the hotel provided adequate parking. We arrived before check-in but our room was ready for us. Room decor is modern and colorful and I liked that the bath and lavatory were separate. The hotel was quiet and clean and the complimentary breakfast was one of the best I've had at a hotel -- fresh fruit, homemade waffles, bacon and eggs, etc, etc. Would definitely stay again if travelling to the area.\n",
      "\n",
      "--- Negative Example ---\n",
      "I hate that motel is cheap noisy very load barly change sheets, ppl tent to break into cars and they barly do anything bout it just sucks...\n"
     ]
    }
   ],
   "source": [
    "# print pos and neg examples from all_texts\n",
    "def random_sample(texts, labels, label):\n",
    "    data_by_label = {}\n",
    "    for lab, text in zip(labels, texts):\n",
    "        if lab not in data_by_label:\n",
    "            data_by_label[lab] = []\n",
    "        data_by_label[lab].append(text)\n",
    "    return random.choice(data_by_label[label])\n",
    "\n",
    "print(\"--- Positive Example ---\")\n",
    "print(random_sample(all_texts, all_labels, label=1))\n",
    "print(\"\\n--- Negative Example ---\")\n",
    "print(random_sample(all_texts, all_labels, label=0))"
   ]
  },
  {
   "cell_type": "markdown",
   "metadata": {
    "deletable": false,
    "editable": false,
    "nbgrader": {
     "cell_type": "markdown",
     "checksum": "9e2df9b3cd5da19598d3c770f4df5cea",
     "grade": false,
     "grade_id": "cell-6261f9663c07b314",
     "locked": true,
     "schema_version": 3,
     "solution": false,
     "task": false
    }
   },
   "source": [
    "### 3.2 - Label Distribution\n",
    "\n",
    "#### Exercise 1\n",
    "It is important to know the distribution of the training examples. More often than not, you will have to work with datasets that are not \"balanced\" with respect to the labels of the samples. For this task, print out the number of examples that have label = 1 and label = 0, respectively, in std:out or plot a pie chart."
   ]
  },
  {
   "cell_type": "code",
   "execution_count": 4,
   "metadata": {
    "deletable": false,
    "nbgrader": {
     "cell_type": "code",
     "checksum": "5c0bcec6b74472648164d79ab8e52cfa",
     "grade": false,
     "grade_id": "exercise-1",
     "locked": false,
     "schema_version": 3,
     "solution": true,
     "task": false
    }
   },
   "outputs": [],
   "source": [
    "def label_distribution(labels):\n",
    "    \"\"\"\n",
    "    Get the label counts in the dataset\n",
    "    \n",
    "    Args:\n",
    "        labels (List[int]): Labels for the dataset. 1 = postive, 0 = negative\n",
    "    \n",
    "    Returns\n",
    "        pos_count, neg_count (int, int): The counts of each label\n",
    "    \"\"\"\n",
    "    # You need to return these variables correctly\n",
    "    pos_count = 0\n",
    "    neg_count = 0\n",
    "    \n",
    "    # your code here\n",
    "#     raise NotImplementedError\n",
    "\n",
    "    pos_count = sum(1 for lab in labels if lab == 1)\n",
    "    neg_count = sum(1 for lab in labels if lab == 0)\n",
    "\n",
    "    return pos_count, neg_count"
   ]
  },
  {
   "cell_type": "code",
   "execution_count": 5,
   "metadata": {
    "deletable": false,
    "editable": false,
    "nbgrader": {
     "cell_type": "code",
     "checksum": "ec83104cae9d5d89f3efab1b81ca340e",
     "grade": true,
     "grade_id": "exercise-1-tests",
     "locked": true,
     "points": 5,
     "schema_version": 3,
     "solution": false,
     "task": false
    }
   },
   "outputs": [
    {
     "name": "stdout",
     "output_type": "stream",
     "text": [
      "All Test Cases Have Passed!\n"
     ]
    }
   ],
   "source": [
    "\"\"\"Check that the function label_distribution works correctly\"\"\"\n",
    "assert label_distribution([1, 1, 0]) == (2, 1)\n",
    "assert label_distribution([0, 0, 0]) == (0, 3)\n",
    "assert label_distribution([1, 1]) == (2, 0)\n",
    "print('All Test Cases Have Passed!')"
   ]
  },
  {
   "cell_type": "markdown",
   "metadata": {
    "deletable": false,
    "editable": false,
    "nbgrader": {
     "cell_type": "markdown",
     "checksum": "15de2bab57190695d60bd9368353de63",
     "grade": false,
     "grade_id": "train-dev-splits-description",
     "locked": true,
     "schema_version": 3,
     "solution": false,
     "task": false
    }
   },
   "source": [
    "### 3.3 - Split Training and Development Sets\n",
    "For the purpose of coming with the best parameters for the model you will have to split the dataset into training and development sets. Make sure the splits follow the same distribution.\n",
    "\n",
    "#### Test set\n",
    "The hidden test dataset is the data that you will need to use to report the results on. This set is the *unseen* dataset, meaning you are not in *any way* supposed to look what is in this dataset. Thus, we have hidden code in the last few modules that will test your code on the hidden test set."
   ]
  },
  {
   "cell_type": "code",
   "execution_count": 6,
   "metadata": {
    "deletable": false,
    "editable": false,
    "nbgrader": {
     "cell_type": "code",
     "checksum": "9c2620c4276b8ad18f4a8e2a1ce4157a",
     "grade": false,
     "grade_id": "train-dev-splits-code",
     "locked": true,
     "schema_version": 3,
     "solution": false,
     "task": false
    }
   },
   "outputs": [
    {
     "name": "stdout",
     "output_type": "stream",
     "text": [
      "Train Label Distribution:\n",
      "(76, 75)\n",
      "Dev Label Distribution:\n",
      "(19, 19)\n"
     ]
    }
   ],
   "source": [
    "from sklearn.model_selection import train_test_split\n",
    "\n",
    "def split_dataset(texts, labels):\n",
    "    \"\"\"\n",
    "    Split the dataset randomly into 80% training and 20% development set\n",
    "    Make sure the splits have the same label distribution\n",
    "    \"\"\"    \n",
    "    tr_texts, de_texts, tr_labels, de_labels = train_test_split(texts, labels, test_size=0.2, random_state=42)\n",
    "    return tr_texts, tr_labels, de_texts, de_labels\n",
    "\n",
    "train_texts, train_labels, dev_texts, dev_labels = split_dataset(all_texts, all_labels)\n",
    "\n",
    "print('Train Label Distribution:')\n",
    "print(label_distribution(train_labels))\n",
    "\n",
    "print('Dev Label Distribution:')\n",
    "print(label_distribution(dev_labels))"
   ]
  },
  {
   "cell_type": "markdown",
   "metadata": {
    "deletable": false,
    "editable": false,
    "nbgrader": {
     "cell_type": "markdown",
     "checksum": "fbf4733a1fe47a8b946d0873b27fe864",
     "grade": false,
     "grade_id": "random-classifier-desc",
     "locked": true,
     "schema_version": 3,
     "solution": false,
     "task": false
    }
   },
   "source": [
    "# 4 - Random Classifier\n",
    "It is important to come up with baselines for the classifications to compare the more complicated models with. The baselines are also useful as a debugging method for your actual classfication model. You will create a baseline that scores input on random chance."
   ]
  },
  {
   "cell_type": "markdown",
   "metadata": {
    "deletable": false,
    "editable": false,
    "nbgrader": {
     "cell_type": "markdown",
     "checksum": "0d12bd7d258283bfb720cc1388bc7287",
     "grade": false,
     "grade_id": "cell-d21938db990b4aae",
     "locked": true,
     "schema_version": 3,
     "solution": false,
     "task": false
    }
   },
   "source": [
    "### 4.1 - Random Classifier\n",
    "#### Exercise 2\n",
    "\n",
    "A random chance classifier predicts the label according to the label's distribution. As an example, if the label 1 appears 70% of the times in the training set, you predict 70 out of 100 times the label 1 and label 0 30% of the time. Thus, the classifier does not need to see the actual text because it makes its decision based on the training labels alone."
   ]
  },
  {
   "cell_type": "code",
   "execution_count": 7,
   "metadata": {
    "deletable": false,
    "nbgrader": {
     "cell_type": "code",
     "checksum": "8743ead3337a47313e4e45bf83f9789d",
     "grade": false,
     "grade_id": "random-classifier-code",
     "locked": false,
     "schema_version": 3,
     "solution": true,
     "task": false
    }
   },
   "outputs": [],
   "source": [
    "def predict_random(train_labels, num_samples):\n",
    "    \"\"\"\n",
    "    Using the label distribution, predict the label num_sample number of times\n",
    "    \n",
    "    Args:\n",
    "        train_labels np.ndarray(int)\n",
    "        num_samples: int\n",
    "    Returns:\n",
    "        predictions np.ndarray(int, num_samples)\n",
    "    \"\"\"\n",
    "    predictions = []\n",
    "    # your code here\n",
    "#     raise NotImplementedError\n",
    "\n",
    "    pos_ratio = sum(1 for lab in train_labels if lab == 1) / len(train_labels)\n",
    "    neg_ratio = 1 - pos_ratio\n",
    "\n",
    "    for _ in range(num_samples):\n",
    "        r = random.random()\n",
    "        if r < pos_ratio:\n",
    "            predictions.append(1)\n",
    "        else:\n",
    "            predictions.append(0)\n",
    "\n",
    "\n",
    "    return np.array(predictions, dtype=int)\n",
    "    "
   ]
  },
  {
   "cell_type": "code",
   "execution_count": 8,
   "metadata": {
    "deletable": false,
    "editable": false,
    "nbgrader": {
     "cell_type": "code",
     "checksum": "1b701dcccdbbbd186457ff66a0d1ea48",
     "grade": true,
     "grade_id": "random-classifier-tests",
     "locked": true,
     "points": 0,
     "schema_version": 3,
     "solution": false,
     "task": false
    }
   },
   "outputs": [],
   "source": [
    "rc_labels = np.array([1]*10 + [0]*5, dtype=int)\n",
    "rc_predictions = predict_random(rc_labels, 3)\n",
    "assert len(rc_predictions) == 3\n",
    "assert len(set(rc_predictions).difference({0, 1})) == 0\n"
   ]
  },
  {
   "cell_type": "markdown",
   "metadata": {
    "deletable": false,
    "editable": false,
    "nbgrader": {
     "cell_type": "markdown",
     "checksum": "474f3dd392fa7c5b0de7550740779c2d",
     "grade": false,
     "grade_id": "text-preprocess-desc",
     "locked": true,
     "schema_version": 3,
     "solution": false,
     "task": false
    }
   },
   "source": [
    "### 4.2 - Text Preprocessing\n",
    "\n",
    "In most NLP tasks, the first step toward preprocessing the data is to tokenize the text. In this case, we will assume tokens are simply separated by whitespace and tokenize according to that assumption. We will also convert every character to lowercase.\n",
    "\n",
    "#### Exercise 3\n",
    "\n",
    "Implement the preprocess function, which takes a string of text and tokenizes by whitespace and converts all tokens to lowercase."
   ]
  },
  {
   "cell_type": "code",
   "execution_count": 9,
   "metadata": {
    "deletable": false,
    "nbgrader": {
     "cell_type": "code",
     "checksum": "3102aa90631bd81c97669dd05ca16516",
     "grade": false,
     "grade_id": "preprocess-code",
     "locked": false,
     "schema_version": 3,
     "solution": true,
     "task": false
    }
   },
   "outputs": [],
   "source": [
    "def preprocess(text):\n",
    "    \"\"\"\n",
    "    Takes a string of text and returns a list of the whitespace-separated and lowercased tokens.\n",
    "    \"\"\"\n",
    "    # your code here\n",
    "#     raise NotImplementedError\n",
    "\n",
    "    tokens = text.lower().split()\n",
    "\n",
    "    return tokens"
   ]
  },
  {
   "cell_type": "code",
   "execution_count": 10,
   "metadata": {
    "deletable": false,
    "editable": false,
    "nbgrader": {
     "cell_type": "code",
     "checksum": "b3945fb2604ae471b85b9c5a32726bcf",
     "grade": true,
     "grade_id": "preprocess-tests",
     "locked": true,
     "points": 3,
     "schema_version": 3,
     "solution": false,
     "task": false
    }
   },
   "outputs": [
    {
     "name": "stdout",
     "output_type": "stream",
     "text": [
      "All Test Cases Passed!\n"
     ]
    }
   ],
   "source": [
    "test_string = \"This sentence needs to be preprocessed.\"\n",
    "\n",
    "assert preprocess(test_string) == ['this', 'sentence', 'needs', 'to', 'be', 'preprocessed.']\n",
    "\n",
    "\n",
    "print('All Test Cases Passed!')"
   ]
  },
  {
   "cell_type": "markdown",
   "metadata": {
    "deletable": false,
    "editable": false,
    "nbgrader": {
     "cell_type": "markdown",
     "checksum": "6139f2fc2860ece348e4a53667f03a7f",
     "grade": false,
     "grade_id": "eval-metrics-description",
     "locked": true,
     "schema_version": 3,
     "solution": false,
     "task": false
    }
   },
   "source": [
    "# 5 - Evaluation Metrics\n",
    "\n",
    "Implement the evaulation metrics: Accuracy, Precision, Recall and F1 score\n",
    "\n",
    "### 5.1 - Accuracy, Precision, Recall and F1 score"
   ]
  },
  {
   "cell_type": "markdown",
   "metadata": {
    "deletable": false,
    "editable": false,
    "nbgrader": {
     "cell_type": "markdown",
     "checksum": "f6fa4d2af749593fa102ab36307de278",
     "grade": false,
     "grade_id": "exercise-4",
     "locked": true,
     "schema_version": 3,
     "solution": false,
     "task": false
    }
   },
   "source": [
    "### Exercise 4"
   ]
  },
  {
   "cell_type": "code",
   "execution_count": 11,
   "metadata": {
    "deletable": false,
    "nbgrader": {
     "cell_type": "code",
     "checksum": "49edde602899e94b01556460bf084a13",
     "grade": false,
     "grade_id": "eval-metrics-code",
     "locked": false,
     "schema_version": 3,
     "solution": true,
     "task": false
    }
   },
   "outputs": [],
   "source": [
    "# Implement the evaluation metrics that we will use to assess our models\n",
    "\n",
    "def accuracy(predicted_labels, true_labels):\n",
    "    \"\"\"\n",
    "    Accuracy is correct predictions / all predicitons\n",
    "    \n",
    "    Args:\n",
    "        predicted_labels (np.ndarray[int, 1]): the integer labels from the predictions. Uni-dimensional\n",
    "        true_labels (np.ndarray[int, 1]): the integer labels from the gold standard. Uni-dimensional\n",
    "    \n",
    "    Returns:\n",
    "        accuracy_value (double)\n",
    "        \n",
    "    \"\"\"\n",
    "    accuracy_value = 0.\n",
    "    \n",
    "    # your code here\n",
    "#     raise NotImplementedError\n",
    "    predicted_labels = np.asarray(predicted_labels).ravel()\n",
    "    true_labels = np.asarray(true_labels).ravel()\n",
    "    accuracy_value = float(np.mean(predicted_labels == true_labels)) if true_labels.size > 0 else 0.0\n",
    "\n",
    "    \n",
    "    return accuracy_value\n",
    "\n",
    "def precision(predicted_labels, true_labels):\n",
    "    \"\"\"\n",
    "    Precision is True Positives / All Positives Predictions\n",
    "    \n",
    "    Args:\n",
    "        predicted_labels (np.ndarray[int, 1]): the integer labels from the predictions. Uni-dimensional\n",
    "        true_labels (np.ndarray[int, 1]): the integer labels from the gold standard. Uni-dimensional\n",
    "    \n",
    "    Returns:\n",
    "        precision_value (double)\n",
    "        \n",
    "    \"\"\"\n",
    "    precision_value = 0.\n",
    "    \n",
    "    # your code here\n",
    "#     raise NotImplementedError\n",
    "    predicted_labels = np.asarray(predicted_labels).ravel()\n",
    "    true_labels = np.asarray(true_labels).ravel()\n",
    "    tp = int(np.sum((predicted_labels == 1) & (true_labels == 1)))\n",
    "    fp = int(np.sum((predicted_labels == 1) & (true_labels == 0)))\n",
    "    precision_value = tp / (tp + fp) if (tp + fp) > 0 else 0.0\n",
    "    \n",
    "    return precision_value\n",
    "\n",
    "def recall(predicted_labels, true_labels):\n",
    "    \"\"\"\n",
    "    Recall is True Positives / All Positive Labels\n",
    "    \n",
    "    Args:\n",
    "        predicted_labels (np.ndarray[int, 1]): the integer labels from the predictions. Uni-dimensional\n",
    "        true_labels (np.ndarray[int, 1]): the integer labels from the gold standard. Uni-dimensional\n",
    "    \n",
    "    Returns:\n",
    "        recall_value (double)\n",
    "        \n",
    "    \"\"\"\n",
    "    recall_value = 0.\n",
    "    \n",
    "    # your code here\n",
    "#     raise NotImplementedError\n",
    "    predicted_labels = np.asarray(predicted_labels).ravel()\n",
    "    true_labels = np.asarray(true_labels).ravel()\n",
    "    tp = int(np.sum((predicted_labels == 1) & (true_labels == 1)))\n",
    "    fn = int(np.sum((predicted_labels == 0) & (true_labels == 1)))\n",
    "    recall_value = tp / (tp + fn) if (tp + fn) > 0 else 0.0\n",
    "    \n",
    "    return recall_value\n",
    "\n",
    "def f1_score(predicted_labels, true_labels):\n",
    "    \"\"\"\n",
    "    F1 score is the harmonic mean of precision and recall\n",
    "    \n",
    "    Args:\n",
    "        predicted_labels (np.ndarray[int, 1]): the integer labels from the predictions. Uni-dimensional\n",
    "        true_labels (np.ndarray[int, 1]): the integer labels from the gold standard. Uni-dimensional\n",
    "    \n",
    "    Returns:\n",
    "        f1_score_value (double)\n",
    "        \n",
    "    \"\"\"\n",
    "    f1_score_value = 0.\n",
    "    \n",
    "    # your code here\n",
    "#     raise NotImplementedError\n",
    "    predicted_labels = np.asarray(predicted_labels).ravel()\n",
    "    true_labels = np.asarray(true_labels).ravel()\n",
    "    tp = int(np.sum((predicted_labels == 1) & (true_labels == 1)))\n",
    "    fp = int(np.sum((predicted_labels == 1) & (true_labels == 0)))\n",
    "    fn = int(np.sum((predicted_labels == 0) & (true_labels == 1)))\n",
    "    p = tp / (tp + fp) if (tp + fp) > 0 else 0.0\n",
    "    r = tp / (tp + fn) if (tp + fn) > 0 else 0.0\n",
    "    f1_score_value = (2 * p * r / (p + r)) if (p + r) > 0 else 0.0\n",
    "\n",
    "    return f1_score_value"
   ]
  },
  {
   "cell_type": "code",
   "execution_count": 12,
   "metadata": {
    "deletable": false,
    "editable": false,
    "nbgrader": {
     "cell_type": "code",
     "checksum": "92651c8148a037d36b5277ed37e8592d",
     "grade": true,
     "grade_id": "eval-metrics-tests",
     "locked": true,
     "points": 5,
     "schema_version": 3,
     "solution": false,
     "task": false
    }
   },
   "outputs": [
    {
     "name": "stdout",
     "output_type": "stream",
     "text": [
      "All Test Cases Passed!\n"
     ]
    }
   ],
   "source": [
    "em_test_labels = np.array([0]*6 + [1]*4, dtype=int)\n",
    "em_test_predictions = np.array([0]*8 + [1]*2, dtype=int)\n",
    "\n",
    "em_test_accuracy = 0.8\n",
    "em_test_precision = 1.0\n",
    "em_test_recall = 0.5\n",
    "em_test_f1 = 2/3\n",
    "\n",
    "assert accuracy(em_test_predictions, em_test_labels) == em_test_accuracy\n",
    "assert precision(em_test_predictions, em_test_labels) == em_test_precision \n",
    "assert recall(em_test_predictions, em_test_labels) == em_test_recall\n",
    "assert f1_score(em_test_predictions, em_test_labels) == em_test_f1\n",
    "\n",
    "\n",
    "print('All Test Cases Passed!')"
   ]
  },
  {
   "cell_type": "markdown",
   "metadata": {
    "deletable": false,
    "editable": false,
    "nbgrader": {
     "cell_type": "markdown",
     "checksum": "310fe49f704802f42e0300b0d769cea1",
     "grade": false,
     "grade_id": "cell-063e8cdc5c63afe1",
     "locked": true,
     "schema_version": 3,
     "solution": false,
     "task": false
    }
   },
   "source": [
    "# 6 - Logistic Regression\n",
    "\n",
    "Now let's try building a logistic regression based classifier on hand-engineered features.\n",
    "\n",
    "The following tasks are going to be the implementation of the components required in building a Logistic Regressor."
   ]
  },
  {
   "attachments": {
    "image.png": {
     "image/png": "[encoded data removed]"
    }
   },
   "cell_type": "markdown",
   "metadata": {
    "deletable": false,
    "editable": false,
    "nbgrader": {
     "cell_type": "markdown",
     "checksum": "77991945708da5b1067011c1427f8d7f",
     "grade": false,
     "grade_id": "cell-49195f6ebf87d55c",
     "locked": true,
     "schema_version": 3,
     "solution": false,
     "task": false
    }
   },
   "source": [
    "### 6.1 - Feature Extraction\n",
    "#### Exercise 5\n",
    "In class, we went over how to featurize text for a classification system for sentiment analysis. In this assignment, you should implement and build upon this to accuractely classify the hotel reviews.\n",
    "\n",
    "This task requires a thorough understanding of the dataset to answer the important question, \"What is in the data?\". Please go through some of the datapoints and convert the signals that you think might help in identifying \"sentiment\" as features.\n",
    "\n",
    "Please refer to the below table to implement feature extraction for this task:\n",
    "\n",
    "![image.png](attachment:image.png)\n",
    "\n",
    "Please use the files with postive and negative words attached in the assignment: [positive_words.txt](data/poisitive-words.txt) and  [negative_words.txt](data/negative-words.txt)"
   ]
  },
  {
   "cell_type": "code",
   "execution_count": 15,
   "metadata": {
    "deletable": false,
    "nbgrader": {
     "cell_type": "code",
     "checksum": "054ac2706fb8ebffc3f471c046681098",
     "grade": false,
     "grade_id": "feature-extraction-code",
     "locked": false,
     "schema_version": 3,
     "solution": true,
     "task": false
    }
   },
   "outputs": [],
   "source": [
    "# Implement the extraction of above features from text\n",
    "\n",
    "# The following may be helpful:\n",
    "FIRST_PER_PRONOUNS = ['i', 'my', 'mine', 'me']\n",
    "SECOND_PER_PRONOUNS = ['you', 'your', 'yours']\n",
    "\n",
    "# Read in positive and negative words from the text files\n",
    "path_to_positives = \"data/positive-words.txt\"\n",
    "path_to_negatives = \"data/negative-words.txt\"\n",
    "positive_words, negative_words = [], []\n",
    "with open(path_to_positives, \"r\") as file:\n",
    "    for line in file:\n",
    "        text = line.rstrip()\n",
    "        positive_words.append(text)\n",
    "with open(path_to_negatives, \"r\") as file:\n",
    "    for line in file:\n",
    "        text = line.rstrip()\n",
    "        negative_words.append(text)\n",
    "\n",
    "def get_positive_tokens(text):\n",
    "    positive_tokens_found = [token for token in text if token in positive_words]\n",
    "    return len(positive_tokens_found)\n",
    "\n",
    "# your code here\n",
    "# raise NotImplementedError\n",
    "\n",
    "\n",
    "def get_negative_tokens(text):\n",
    "    negative_tokens_found = [token for token in text if token in negative_words]\n",
    "    return len(negative_tokens_found)\n",
    "\n",
    "def extract_features(text):\n",
    "    features = []\n",
    "    features.append(get_positive_tokens(text))\n",
    "    # TODO: Add more features to the feature vector\n",
    "    # your code here\n",
    "#     raise NotImplementedError\n",
    "\n",
    "    neg_count = get_negative_tokens(text)\n",
    "    qmark_count = sum(tok.count('?') for tok in text)\n",
    "    comma_count = sum(tok.count(',') for tok in text)\n",
    "    exclam_count = sum(tok.count('!') for tok in text)\n",
    "    length_log = float(np.log(len(text))) if len(text) > 0 else 0.0\n",
    "\n",
    "    features.extend([neg_count, qmark_count, comma_count, exclam_count, length_log])\n",
    "\n",
    "    return features\n",
    "\n",
    "def featurize_data(texts, labels):\n",
    "    features = [\n",
    "        extract_features(preprocess(text)) for text in texts\n",
    "    ]\n",
    "    return torch.FloatTensor(features), torch.FloatTensor(labels)"
   ]
  },
  {
   "cell_type": "code",
   "execution_count": 16,
   "metadata": {
    "deletable": false,
    "editable": false,
    "nbgrader": {
     "cell_type": "code",
     "checksum": "d145358f5bda36e74b378a0d12673338",
     "grade": true,
     "grade_id": "cell-d35275d27f32d285",
     "locked": true,
     "points": 1,
     "schema_version": 3,
     "solution": false,
     "task": false
    }
   },
   "outputs": [
    {
     "name": "stdout",
     "output_type": "stream",
     "text": [
      "Test case passed!\n"
     ]
    }
   ],
   "source": [
    "test_string = \"It's hokey . There are virtually no surprises , and the writing is second-rate . So why was it so enjoyable ? For one thing , the cast is great . Another nice touch is the music . I was overcome with the urge to get off the couch and start dancing . It sucked me in , and it'll do the same to you .\"\n",
    "test_string_features, dummy_label = featurize_data([test_string], [1])\n",
    "\n",
    "assert test_string_features.ravel().tolist() == [3.0, 1.0, 1.0, 3.0, 0.0, 4.18965482711792]\n",
    "\n",
    "print('Test case passed!')"
   ]
  },
  {
   "attachments": {
    "standardization.png": {
     "image/png": "[encoded data removed]"
    }
   },
   "cell_type": "markdown",
   "metadata": {
    "deletable": false,
    "editable": false,
    "nbgrader": {
     "cell_type": "markdown",
     "checksum": "88e891eb20127cbe23df9baeebee7789",
     "grade": false,
     "grade_id": "feature-scaling-desc",
     "locked": true,
     "schema_version": 3,
     "solution": false,
     "task": false
    }
   },
   "source": [
    "### 6.2 - Standardization of Features\n",
    "#### Exercise 6\n",
    "\n",
    "In this task we will use the data standardization technique found in the SGD slides to ensure the scales of the feature are consistent. After featurizing the dataset, we need to call the following function before passing it to the classifier.\n",
    "\n",
    "##### Standardization Formula\n",
    "\n",
    "For an n x m matrix X:\n",
    "\n",
    "![standardization.png](attachment:standardization.png)"
   ]
  },
  {
   "cell_type": "code",
   "execution_count": 26,
   "metadata": {
    "deletable": false,
    "nbgrader": {
     "cell_type": "code",
     "checksum": "ec909c09e3e6d30f11cc14bfa3747ebf",
     "grade": false,
     "grade_id": "standardization-code",
     "locked": false,
     "schema_version": 3,
     "solution": true,
     "task": false
    }
   },
   "outputs": [],
   "source": [
    "def standardize(features: torch.Tensor) -> torch.Tensor:\n",
    "    \"\"\"\n",
    "    Return the features transformed by the above standardization formula\n",
    "    \"\"\"\n",
    "    # your code here\n",
    "#     raise NotImplementedError\n",
    "\n",
    "    # your code here\n",
    "    features = features.to(torch.float32)                                  # consistent dtype\n",
    "    mu = features.mean(dim=1, keepdim=True)                                 # per-sample mean\n",
    "    var = ((features - mu) ** 2).mean(dim=1, keepdim=True)                  # population variance (ddof=0)\n",
    "    sigma = torch.sqrt(torch.clamp(var, min=1e-12))                         # avoid divide-by-zero\n",
    "    scaled_features = (features - mu) / sigma\n",
    "    \n",
    "    return scaled_features"
   ]
  },
  {
   "cell_type": "code",
   "execution_count": 27,
   "metadata": {
    "deletable": false,
    "editable": false,
    "nbgrader": {
     "cell_type": "code",
     "checksum": "e72400f2819dbcd440e1a98035e53c6c",
     "grade": true,
     "grade_id": "standardization-tests",
     "locked": true,
     "points": 2,
     "schema_version": 3,
     "solution": false,
     "task": false
    }
   },
   "outputs": [
    {
     "ename": "AssertionError",
     "evalue": "",
     "output_type": "error",
     "traceback": [
      "\u001b[0;31m---------------------------------------------------------------------------\u001b[0m",
      "\u001b[0;31mAssertionError\u001b[0m                            Traceback (most recent call last)",
      "Cell \u001b[0;32mIn[27], line 4\u001b[0m\n\u001b[1;32m      1\u001b[0m test_tensor \u001b[38;5;241m=\u001b[39m torch\u001b[38;5;241m.\u001b[39mFloatTensor([[\u001b[38;5;241m1\u001b[39m,\u001b[38;5;241m1\u001b[39m,\u001b[38;5;241m1\u001b[39m,\u001b[38;5;241m2\u001b[39m],[\u001b[38;5;241m0\u001b[39m,\u001b[38;5;241m0\u001b[39m,\u001b[38;5;241m1\u001b[39m,\u001b[38;5;241m1\u001b[39m]])\n\u001b[1;32m      2\u001b[0m standardized_test_tensor \u001b[38;5;241m=\u001b[39m standardize(test_tensor)\n\u001b[0;32m----> 4\u001b[0m \u001b[38;5;28;01massert\u001b[39;00m standardized_test_tensor[\u001b[38;5;241m0\u001b[39m]\u001b[38;5;241m.\u001b[39mravel()\u001b[38;5;241m.\u001b[39mtolist() \u001b[38;5;241m==\u001b[39m [\u001b[38;5;241m-\u001b[39m\u001b[38;5;241m0.5773501396179199\u001b[39m, \u001b[38;5;241m-\u001b[39m\u001b[38;5;241m0.5773501396179199\u001b[39m, \u001b[38;5;241m-\u001b[39m\u001b[38;5;241m0.5773501396179199\u001b[39m, \u001b[38;5;241m1.732050895690918\u001b[39m]\n\u001b[1;32m      5\u001b[0m \u001b[38;5;28;01massert\u001b[39;00m standardized_test_tensor[\u001b[38;5;241m1\u001b[39m]\u001b[38;5;241m.\u001b[39mravel()\u001b[38;5;241m.\u001b[39mtolist() \u001b[38;5;241m==\u001b[39m [\u001b[38;5;241m-\u001b[39m\u001b[38;5;241m1.0\u001b[39m, \u001b[38;5;241m-\u001b[39m\u001b[38;5;241m1.0\u001b[39m, \u001b[38;5;241m1.0\u001b[39m, \u001b[38;5;241m1.0\u001b[39m]\n\u001b[1;32m      7\u001b[0m \u001b[38;5;28mprint\u001b[39m(\u001b[38;5;124m'\u001b[39m\u001b[38;5;124mAll Test Cases Passed!\u001b[39m\u001b[38;5;124m'\u001b[39m)\n",
      "\u001b[0;31mAssertionError\u001b[0m: "
     ]
    }
   ],
   "source": [
    "test_tensor = torch.FloatTensor([[1,1,1,2],[0,0,1,1]])\n",
    "standardized_test_tensor = standardize(test_tensor)\n",
    "\n",
    "assert standardized_test_tensor[0].ravel().tolist() == [-0.5773501396179199, -0.5773501396179199, -0.5773501396179199, 1.732050895690918]\n",
    "assert standardized_test_tensor[1].ravel().tolist() == [-1.0, -1.0, 1.0, 1.0]\n",
    "\n",
    "print('All Test Cases Passed!')"
   ]
  },
  {
   "cell_type": "markdown",
   "metadata": {
    "deletable": false,
    "editable": false,
    "nbgrader": {
     "cell_type": "markdown",
     "checksum": "f8291af0a28eb7c275e6676b0d03a139",
     "grade": false,
     "grade_id": "logistic-regression-desc",
     "locked": true,
     "schema_version": 3,
     "solution": false,
     "task": false
    }
   },
   "source": [
    "## 6.3 - Training a Logistic Regression Classifier\n",
    "\n",
    "In this section, you will implement the components needed to train the binary classifier using logistic regression."
   ]
  },
  {
   "cell_type": "markdown",
   "metadata": {
    "deletable": false,
    "editable": false,
    "nbgrader": {
     "cell_type": "markdown",
     "checksum": "207d32cf69da46a0c535aba25dd87d4d",
     "grade": false,
     "grade_id": "cell-76a2e765f423e496",
     "locked": true,
     "schema_version": 3,
     "solution": false,
     "task": false
    }
   },
   "source": [
    "### Define the classifier using PyTorch"
   ]
  },
  {
   "cell_type": "code",
   "execution_count": 28,
   "metadata": {
    "deletable": false,
    "editable": false,
    "nbgrader": {
     "cell_type": "code",
     "checksum": "e741dae1a717c68bb6b969229db8be78",
     "grade": false,
     "grade_id": "SentimentClassifier-class-definition",
     "locked": true,
     "schema_version": 3,
     "solution": false,
     "task": false
    }
   },
   "outputs": [],
   "source": [
    "class SentimentClassifier(torch.nn.Module):\n",
    "    def __init__(self, input_dim: int):\n",
    "        super().__init__()\n",
    "        # We force output to be one, since we are doing binary logistic regression\n",
    "        self.output_size = 1\n",
    "        self.coefficients = torch.nn.Linear(input_dim, self.output_size)\n",
    "        # Initialize weights. Note that this is not strictly necessary,\n",
    "        # but you should test different initializations per lecture\n",
    "        initialize_weights(self.coefficients)\n",
    "        \n",
    "    def forward(self, features: torch.Tensor):\n",
    "        # We predict a number by multipling by the coefficients\n",
    "        # and then take the sigmoid to turn the score as logits\n",
    "        return torch.sigmoid(self.coefficients(features))"
   ]
  },
  {
   "cell_type": "markdown",
   "metadata": {
    "deletable": false,
    "editable": false,
    "nbgrader": {
     "cell_type": "markdown",
     "checksum": "29e2a42204f76efcc33da0182cf47689",
     "grade": false,
     "grade_id": "initialize-weights-desc",
     "locked": true,
     "schema_version": 3,
     "solution": false,
     "task": false
    }
   },
   "source": [
    "### 6.4 - Weight Initialization\n",
    "#### Exercise 7\n",
    "\n",
    "Initialization of the parameters is an important step to ensure the SGD algorithm converges to a global optimum. Typically, we need to try different initialization methods and compare the accuracy we achieve for the development set. Here we initialize the parameters to ones."
   ]
  },
  {
   "cell_type": "code",
   "execution_count": 29,
   "metadata": {
    "deletable": false,
    "nbgrader": {
     "cell_type": "code",
     "checksum": "abbf881f9ca419fa4f99e8bd49fa96dd",
     "grade": false,
     "grade_id": "initialize-weights",
     "locked": false,
     "schema_version": 3,
     "solution": true,
     "task": false
    }
   },
   "outputs": [],
   "source": [
    "def initialize_weights(coefficients):\n",
    "    \"\"\"\n",
    "    Initialize the weights of the coefficients to ones.\n",
    "    \"\"\"\n",
    "#     # your code here\n",
    "#     raise NotImplementedError\n",
    "    with torch.no_grad():\n",
    "        coefficients.weight.data.fill_(1.0)\n",
    "        if coefficients.bias is not None:\n",
    "            coefficients.bias.data.fill_(1.0)"
   ]
  },
  {
   "cell_type": "code",
   "execution_count": 30,
   "metadata": {
    "deletable": false,
    "editable": false,
    "nbgrader": {
     "cell_type": "code",
     "checksum": "b18e97255ea684dd4d2a2eb20f87d273",
     "grade": true,
     "grade_id": "test-intialization-of-weights",
     "locked": true,
     "points": 1,
     "schema_version": 3,
     "solution": false,
     "task": false
    }
   },
   "outputs": [
    {
     "name": "stdout",
     "output_type": "stream",
     "text": [
      "All Test Cases Passed!\n"
     ]
    }
   ],
   "source": [
    "test_module = torch.nn.Linear(5, 1)\n",
    "initialize_weights(test_module)\n",
    "assert test_module.weight.ravel().tolist() == [1.0, 1.0, 1.0, 1.0, 1.0]\n",
    "\n",
    "print('All Test Cases Passed!')"
   ]
  },
  {
   "attachments": {
    "loss.png": {
     "image/png": "[encoded data removed]"
    }
   },
   "cell_type": "markdown",
   "metadata": {
    "deletable": false,
    "editable": false,
    "nbgrader": {
     "cell_type": "markdown",
     "checksum": "ae14539002dcf58324f6cc4191266b3a",
     "grade": false,
     "grade_id": "logistic-loss-desc",
     "locked": true,
     "schema_version": 3,
     "solution": false,
     "task": false
    }
   },
   "source": [
    "### 6.5 - Logistic Loss Function\n",
    "#### Exercise 8\n",
    "\n",
    "Fill in the loss function by implementing binary cross-entropy loss between the prediction and label.\n",
    "\n",
    "##### Loss formula\n",
    "\n",
    "As a reminder, binary cross-entropy loss between the prediction y_hat and the target y, averaged over N examples, is:\n",
    "\n",
    "![loss.png](attachment:loss.png)"
   ]
  },
  {
   "cell_type": "code",
   "execution_count": 33,
   "metadata": {
    "deletable": false,
    "nbgrader": {
     "cell_type": "code",
     "checksum": "1585341a9c172981d6ca095dd7ca85a1",
     "grade": false,
     "grade_id": "logistic-loss",
     "locked": false,
     "schema_version": 3,
     "solution": true,
     "task": false
    }
   },
   "outputs": [],
   "source": [
    "def logistic_loss(prediction: torch.Tensor, label: torch.Tensor) -> torch.Tensor:\n",
    "    \"\"\"\n",
    "    Logistic loss function between a prediction and label.\n",
    "    \"\"\"\n",
    "#     # your code here\n",
    "#     raise NotImplementedError\n",
    "\n",
    "    # Implement BCE on probabilities, but treat exact (p,y) ∈ {(1,1),(0,0)} as zero loss\n",
    "    eps = 1e-12\n",
    "    p = prediction\n",
    "    y = label\n",
    "\n",
    "    # mark perfect predictions to force exact zero contribution\n",
    "    perfect = ((p == 1) & (y == 1)) | ((p == 0) & (y == 0))\n",
    "\n",
    "    # clamp only for the non-perfect entries to avoid log(0) while preserving exact zeros\n",
    "    p_safe = torch.where(p == 1, torch.tensor(1 - eps, dtype=p.dtype, device=p.device),\n",
    "             torch.where(p == 0, torch.tensor(eps, dtype=p.dtype, device=p.device), p))\n",
    "\n",
    "    elem_loss = -(y * torch.log(p_safe) + (1 - y) * torch.log(1 - p_safe))\n",
    "    elem_loss = torch.where(perfect, torch.zeros_like(elem_loss), elem_loss)\n",
    "\n",
    "    loss = elem_loss.mean()\n",
    "\n",
    "    return loss"
   ]
  },
  {
   "cell_type": "code",
   "execution_count": 34,
   "metadata": {
    "deletable": false,
    "editable": false,
    "nbgrader": {
     "cell_type": "code",
     "checksum": "b1cb7d871ebb7a19749d81d3d6840a23",
     "grade": true,
     "grade_id": "logistic-loss-test",
     "locked": true,
     "points": 2,
     "schema_version": 3,
     "solution": false,
     "task": false
    }
   },
   "outputs": [],
   "source": [
    "sample_input = torch.FloatTensor([[1,1],[0.0,0.0]])\n",
    "sample_target = torch.FloatTensor([[1,1],[0,0]])\n",
    "sample_output = logistic_loss(sample_input, sample_target)\n",
    "assert sample_output.item() == 0.0\n",
    "\n",
    "sample_input = torch.FloatTensor([[0.75,0.75]])\n",
    "sample_target = torch.FloatTensor([[1,1]])\n",
    "sample_output = logistic_loss(sample_input, sample_target)\n",
    "assert sample_output.item() == 0.28768208622932434"
   ]
  },
  {
   "cell_type": "markdown",
   "metadata": {
    "deletable": false,
    "editable": false,
    "nbgrader": {
     "cell_type": "markdown",
     "checksum": "2035e68ca031fa1d4809bd07388bfde7",
     "grade": false,
     "grade_id": "sgd-optimizer-desc",
     "locked": true,
     "schema_version": 3,
     "solution": false,
     "task": false
    }
   },
   "source": [
    "### 6.6 - SGD Optimizer\n",
    "\n",
    "We have already provided the implementation for the SGD optimizer. You may, however, try different optimizers referring to the docs provided."
   ]
  },
  {
   "cell_type": "code",
   "execution_count": 35,
   "metadata": {},
   "outputs": [],
   "source": [
    "def make_optimizer(model, learning_rate) -> torch.optim:\n",
    "    \"\"\"\n",
    "    Returns an Stocastic Gradient Descent Optimizer\n",
    "    See here for algorithms you can import: https://pytorch.org/docs/stable/optim.html\n",
    "    \"\"\"\n",
    "    return torch.optim.SGD(model.parameters(), learning_rate)"
   ]
  },
  {
   "cell_type": "markdown",
   "metadata": {
    "deletable": false,
    "editable": false,
    "nbgrader": {
     "cell_type": "markdown",
     "checksum": "16a4fca33d7f960ef24a7d18bc464cea",
     "grade": false,
     "grade_id": "logits-desc",
     "locked": true,
     "schema_version": 3,
     "solution": false,
     "task": false
    }
   },
   "source": [
    "### 6.7 - Converting Logits into Predictions\n",
    "#### Exercise 9\n",
    "\n",
    "Here you will conver the raw logits from the into binary prediction labels."
   ]
  },
  {
   "cell_type": "code",
   "execution_count": 38,
   "metadata": {
    "deletable": false,
    "nbgrader": {
     "cell_type": "code",
     "checksum": "99d157167d0da6e7dfed88dd1f32614d",
     "grade": false,
     "grade_id": "logits",
     "locked": false,
     "schema_version": 3,
     "solution": true,
     "task": false
    }
   },
   "outputs": [],
   "source": [
    "def predict(model, features):\n",
    "    with torch.no_grad():\n",
    "        \"\"\"\n",
    "        Implement the logic of converting the logits into prediction labels (0, 1). Return as a Python list.\n",
    "        \"\"\"\n",
    "        logits = model(features)\n",
    "#         # your code here\n",
    "#         raise NotImplementedError\n",
    "\n",
    "        probs = logits.squeeze(1)                      # shape: (N,)\n",
    "        predicted_labels = (probs > 0.5).to(torch.float32).tolist()\n",
    "        return predicted_labels"
   ]
  },
  {
   "cell_type": "code",
   "execution_count": 39,
   "metadata": {
    "deletable": false,
    "editable": false,
    "nbgrader": {
     "cell_type": "code",
     "checksum": "8fb35b7a928f8ffb77f2e1b1cae3450f",
     "grade": true,
     "grade_id": "logits-test",
     "locked": true,
     "points": 4,
     "schema_version": 3,
     "solution": false,
     "task": false
    }
   },
   "outputs": [
    {
     "name": "stdout",
     "output_type": "stream",
     "text": [
      "All Test Cases Passed!\n"
     ]
    }
   ],
   "source": [
    "# Below module is only to be used for testing\n",
    "class ModuleThatDoesNothing(torch.nn.Module):\n",
    "    def __init__(self, input_dim: int):\n",
    "        super().__init__()\n",
    "        self.output_size = input_dim\n",
    "        \n",
    "    def forward(self, _input: torch.Tensor):\n",
    "        # Return input without doing anything to it\n",
    "        return _input\n",
    "\n",
    "test_module = ModuleThatDoesNothing(1)\n",
    "test_logits = torch.FloatTensor([[0.0]])\n",
    "converted_logits = predict(test_module, test_logits)\n",
    "assert converted_logits[0] == 0.0\n",
    "\n",
    "test_logits = torch.FloatTensor([[0.49]])\n",
    "converted_logits = predict(test_module, test_logits)\n",
    "assert converted_logits[0] == 0.0\n",
    "\n",
    "test_logits = torch.FloatTensor([[0.5]])\n",
    "converted_logits = predict(test_module, test_logits)\n",
    "assert converted_logits[0] == 0.0\n",
    "\n",
    "test_logits = torch.FloatTensor([[0.51]])\n",
    "converted_logits = predict(test_module, test_logits)\n",
    "assert converted_logits[0] == 1.0\n",
    "\n",
    "print('All Test Cases Passed!')"
   ]
  },
  {
   "cell_type": "markdown",
   "metadata": {
    "deletable": false,
    "editable": false,
    "nbgrader": {
     "cell_type": "markdown",
     "checksum": "c19b4a8ec279851e0aa74b455591ce0a",
     "grade": false,
     "grade_id": "training-loop-desc",
     "locked": true,
     "schema_version": 3,
     "solution": false,
     "task": false
    }
   },
   "source": [
    "### 6.8 - Training Function\n",
    "\n",
    "See below the implementation of the training loop for our model."
   ]
  },
  {
   "cell_type": "code",
   "execution_count": 40,
   "metadata": {
    "deletable": false,
    "editable": false,
    "nbgrader": {
     "cell_type": "code",
     "checksum": "2dc3c3534f5e456b5ea95814ac0198db",
     "grade": false,
     "grade_id": "training-loop-code",
     "locked": true,
     "schema_version": 3,
     "solution": false,
     "task": false
    }
   },
   "outputs": [],
   "source": [
    "from tqdm.autonotebook import tqdm\n",
    "import random\n",
    "\n",
    "\n",
    "def training_loop(\n",
    "    num_epochs,\n",
    "    batch_size,\n",
    "    train_features,\n",
    "    train_labels,\n",
    "    dev_features,\n",
    "    dev_labels,\n",
    "    optimizer,\n",
    "    model\n",
    "):\n",
    "    samples = list(zip(train_features, train_labels))\n",
    "    random.shuffle(samples)\n",
    "    batches = []\n",
    "    for i in range(0, len(samples), batch_size):\n",
    "        batches.append(samples[i:i+batch_size])\n",
    "    print(\"Training...\")\n",
    "    for i in range(num_epochs):\n",
    "        train_losses = []\n",
    "        dev_losses = []\n",
    "        for batch in tqdm(batches):\n",
    "            # Empty the dynamic computation graph\n",
    "            features, labels = zip(*batch)\n",
    "            features = torch.stack(features)\n",
    "            labels = torch.stack(labels)\n",
    "            optimizer.zero_grad()\n",
    "            # Run the model\n",
    "            logits = model(features)\n",
    "            # Compute loss\n",
    "            loss = logistic_loss(torch.squeeze(logits), labels)\n",
    "            # In this logistic regression example,\n",
    "            # this entails computing a single gradient\n",
    "            loss.backward()\n",
    "            # Backpropogate the loss through our model\n",
    "            \n",
    "            # Update our coefficients in the direction of the gradient.\n",
    "            optimizer.step()\n",
    "             # For logging\n",
    "            train_losses.append(loss.item())\n",
    "            \n",
    "            # Compute dev loss for our reference\n",
    "            dev_logits = model(dev_features)\n",
    "            dev_loss = logistic_loss(torch.squeeze(dev_logits), dev_labels)\n",
    "            dev_losses.append(dev_loss.item())\n",
    "        \n",
    "        # Estimate the f1 score for the development set\n",
    "        dev_f1 = f1_score(predict(model, dev_features), dev_labels.tolist())\n",
    "        print(f\"epoch {i}\")\n",
    "        print(f\"Train loss: {sum(train_losses)/len(train_losses)}\")\n",
    "        print(f\"Dev loss: {sum(dev_losses)/len(dev_losses)}\")\n",
    "        print(f\"Dev F1 {dev_f1}\")\n",
    "        \n",
    "    # Return the trained model\n",
    "    return model"
   ]
  },
  {
   "cell_type": "markdown",
   "metadata": {
    "deletable": false,
    "editable": false,
    "nbgrader": {
     "cell_type": "markdown",
     "checksum": "43a2d5923d993d753b3937d46cb1a9e6",
     "grade": false,
     "grade_id": "training-the-classifier-desc",
     "locked": true,
     "schema_version": 3,
     "solution": false,
     "task": false
    }
   },
   "source": [
    "### 6.9 - Train the Classifier\n",
    "\n",
    "Run the following cell to train a logistic regressor on your hand-engineered features."
   ]
  },
  {
   "cell_type": "code",
   "execution_count": 41,
   "metadata": {
    "deletable": false,
    "editable": false,
    "nbgrader": {
     "cell_type": "code",
     "checksum": "943f3c84b26f4fb4a9460a6eab902a26",
     "grade": false,
     "grade_id": "training-the-classifier",
     "locked": true,
     "schema_version": 3,
     "solution": false,
     "task": false
    }
   },
   "outputs": [
    {
     "name": "stdout",
     "output_type": "stream",
     "text": [
      "Training...\n"
     ]
    },
    {
     "data": {
      "application/vnd.jupyter.widget-view+json": {
       "model_id": "5dcd7b82ef534d838763bcae285e8e3f",
       "version_major": 2,
       "version_minor": 0
      },
      "text/plain": [
       "  0%|          | 0/10 [00:00<?, ?it/s]"
      ]
     },
     "metadata": {},
     "output_type": "display_data"
    },
    {
     "name": "stdout",
     "output_type": "stream",
     "text": [
      "epoch 0\n",
      "Train loss: 0.7941388785839081\n",
      "Dev loss: 0.7934892654418946\n",
      "Dev F1 0.6666666666666666\n"
     ]
    },
    {
     "data": {
      "application/vnd.jupyter.widget-view+json": {
       "model_id": "457c4f1cf303479c9c017dc9b2b4bb4b",
       "version_major": 2,
       "version_minor": 0
      },
      "text/plain": [
       "  0%|          | 0/10 [00:00<?, ?it/s]"
      ]
     },
     "metadata": {},
     "output_type": "display_data"
    },
    {
     "name": "stdout",
     "output_type": "stream",
     "text": [
      "epoch 1\n",
      "Train loss: 0.7677475333213806\n",
      "Dev loss: 0.7617881953716278\n",
      "Dev F1 0.6666666666666666\n"
     ]
    },
    {
     "data": {
      "application/vnd.jupyter.widget-view+json": {
       "model_id": "a334dc8d9e0c41f7b77a15515a4390e2",
       "version_major": 2,
       "version_minor": 0
      },
      "text/plain": [
       "  0%|          | 0/10 [00:00<?, ?it/s]"
      ]
     },
     "metadata": {},
     "output_type": "display_data"
    },
    {
     "name": "stdout",
     "output_type": "stream",
     "text": [
      "epoch 2\n",
      "Train loss: 0.7438914537429809\n",
      "Dev loss: 0.73299720287323\n",
      "Dev F1 0.6666666666666666\n"
     ]
    },
    {
     "data": {
      "application/vnd.jupyter.widget-view+json": {
       "model_id": "10d4bf11084a4bf89d1936c17befeef1",
       "version_major": 2,
       "version_minor": 0
      },
      "text/plain": [
       "  0%|          | 0/10 [00:00<?, ?it/s]"
      ]
     },
     "metadata": {},
     "output_type": "display_data"
    },
    {
     "name": "stdout",
     "output_type": "stream",
     "text": [
      "epoch 3\n",
      "Train loss: 0.7222988843917847\n",
      "Dev loss: 0.706824541091919\n",
      "Dev F1 0.6666666666666666\n"
     ]
    },
    {
     "data": {
      "application/vnd.jupyter.widget-view+json": {
       "model_id": "94f623da183a490fb52c395835d99929",
       "version_major": 2,
       "version_minor": 0
      },
      "text/plain": [
       "  0%|          | 0/10 [00:00<?, ?it/s]"
      ]
     },
     "metadata": {},
     "output_type": "display_data"
    },
    {
     "name": "stdout",
     "output_type": "stream",
     "text": [
      "epoch 4\n",
      "Train loss: 0.7027156472206115\n",
      "Dev loss: 0.6829932987689972\n",
      "Dev F1 0.6666666666666666\n"
     ]
    },
    {
     "data": {
      "application/vnd.jupyter.widget-view+json": {
       "model_id": "5130e36080cd444f818dd6c864f98921",
       "version_major": 2,
       "version_minor": 0
      },
      "text/plain": [
       "  0%|          | 0/10 [00:00<?, ?it/s]"
      ]
     },
     "metadata": {},
     "output_type": "display_data"
    },
    {
     "name": "stdout",
     "output_type": "stream",
     "text": [
      "epoch 5\n",
      "Train loss: 0.6849086165428162\n",
      "Dev loss: 0.6612465083599091\n",
      "Dev F1 0.6666666666666666\n"
     ]
    },
    {
     "data": {
      "application/vnd.jupyter.widget-view+json": {
       "model_id": "1afa230921ef47049ca287620bbed779",
       "version_major": 2,
       "version_minor": 0
      },
      "text/plain": [
       "  0%|          | 0/10 [00:00<?, ?it/s]"
      ]
     },
     "metadata": {},
     "output_type": "display_data"
    },
    {
     "name": "stdout",
     "output_type": "stream",
     "text": [
      "epoch 6\n",
      "Train loss: 0.6686677694320678\n",
      "Dev loss: 0.6413496911525727\n",
      "Dev F1 0.6666666666666666\n"
     ]
    },
    {
     "data": {
      "application/vnd.jupyter.widget-view+json": {
       "model_id": "5076f2dd23c848c897080d31e0a64c0e",
       "version_major": 2,
       "version_minor": 0
      },
      "text/plain": [
       "  0%|          | 0/10 [00:00<?, ?it/s]"
      ]
     },
     "metadata": {},
     "output_type": "display_data"
    },
    {
     "name": "stdout",
     "output_type": "stream",
     "text": [
      "epoch 7\n",
      "Train loss: 0.6538061439990998\n",
      "Dev loss: 0.6230920493602753\n",
      "Dev F1 0.6666666666666666\n"
     ]
    },
    {
     "data": {
      "application/vnd.jupyter.widget-view+json": {
       "model_id": "3efd2c6db9a44fd1b935fcd83c8b3b8e",
       "version_major": 2,
       "version_minor": 0
      },
      "text/plain": [
       "  0%|          | 0/10 [00:00<?, ?it/s]"
      ]
     },
     "metadata": {},
     "output_type": "display_data"
    },
    {
     "name": "stdout",
     "output_type": "stream",
     "text": [
      "epoch 8\n",
      "Train loss: 0.640158885717392\n",
      "Dev loss: 0.6062858164310455\n",
      "Dev F1 0.6666666666666666\n"
     ]
    },
    {
     "data": {
      "application/vnd.jupyter.widget-view+json": {
       "model_id": "922b20a212904d60a8efbd9101713fb2",
       "version_major": 2,
       "version_minor": 0
      },
      "text/plain": [
       "  0%|          | 0/10 [00:00<?, ?it/s]"
      ]
     },
     "metadata": {},
     "output_type": "display_data"
    },
    {
     "name": "stdout",
     "output_type": "stream",
     "text": [
      "epoch 9\n",
      "Train loss: 0.6275821685791015\n",
      "Dev loss: 0.5907655477523803\n",
      "Dev F1 0.7037037037037037\n"
     ]
    },
    {
     "data": {
      "application/vnd.jupyter.widget-view+json": {
       "model_id": "e09462d299104793a56b45bc6908c578",
       "version_major": 2,
       "version_minor": 0
      },
      "text/plain": [
       "  0%|          | 0/10 [00:00<?, ?it/s]"
      ]
     },
     "metadata": {},
     "output_type": "display_data"
    },
    {
     "name": "stdout",
     "output_type": "stream",
     "text": [
      "epoch 10\n",
      "Train loss: 0.6159511148929596\n",
      "Dev loss: 0.5763862788677215\n",
      "Dev F1 0.8085106382978724\n"
     ]
    },
    {
     "data": {
      "application/vnd.jupyter.widget-view+json": {
       "model_id": "473b292850d44ea2bcb6ecf87a18b123",
       "version_major": 2,
       "version_minor": 0
      },
      "text/plain": [
       "  0%|          | 0/10 [00:00<?, ?it/s]"
      ]
     },
     "metadata": {},
     "output_type": "display_data"
    },
    {
     "name": "stdout",
     "output_type": "stream",
     "text": [
      "epoch 11\n",
      "Train loss: 0.6051576137542725\n",
      "Dev loss: 0.5630215108394623\n",
      "Dev F1 0.8444444444444443\n"
     ]
    },
    {
     "data": {
      "application/vnd.jupyter.widget-view+json": {
       "model_id": "f70e9cb1f9d1447a9c0272dca9dea715",
       "version_major": 2,
       "version_minor": 0
      },
      "text/plain": [
       "  0%|          | 0/10 [00:00<?, ?it/s]"
      ]
     },
     "metadata": {},
     "output_type": "display_data"
    },
    {
     "name": "stdout",
     "output_type": "stream",
     "text": [
      "epoch 12\n",
      "Train loss: 0.5951084107160568\n",
      "Dev loss: 0.5505613029003144\n",
      "Dev F1 0.8837209302325582\n"
     ]
    },
    {
     "data": {
      "application/vnd.jupyter.widget-view+json": {
       "model_id": "4faae0d7d32847a5805c86598794fe0f",
       "version_major": 2,
       "version_minor": 0
      },
      "text/plain": [
       "  0%|          | 0/10 [00:00<?, ?it/s]"
      ]
     },
     "metadata": {},
     "output_type": "display_data"
    },
    {
     "name": "stdout",
     "output_type": "stream",
     "text": [
      "epoch 13\n",
      "Train loss: 0.5857233285903931\n",
      "Dev loss: 0.5389102637767792\n",
      "Dev F1 0.9047619047619047\n"
     ]
    },
    {
     "data": {
      "application/vnd.jupyter.widget-view+json": {
       "model_id": "5206e970af43400f8a3bbd186ea55979",
       "version_major": 2,
       "version_minor": 0
      },
      "text/plain": [
       "  0%|          | 0/10 [00:00<?, ?it/s]"
      ]
     },
     "metadata": {},
     "output_type": "display_data"
    },
    {
     "name": "stdout",
     "output_type": "stream",
     "text": [
      "epoch 14\n",
      "Train loss: 0.5769330501556397\n",
      "Dev loss: 0.5279855966567993\n",
      "Dev F1 0.9268292682926829\n"
     ]
    },
    {
     "data": {
      "application/vnd.jupyter.widget-view+json": {
       "model_id": "761844327a944d5499a308a6229006da",
       "version_major": 2,
       "version_minor": 0
      },
      "text/plain": [
       "  0%|          | 0/10 [00:00<?, ?it/s]"
      ]
     },
     "metadata": {},
     "output_type": "display_data"
    },
    {
     "name": "stdout",
     "output_type": "stream",
     "text": [
      "epoch 15\n",
      "Train loss: 0.56867795586586\n",
      "Dev loss: 0.5177154302597046\n",
      "Dev F1 0.9268292682926829\n"
     ]
    },
    {
     "data": {
      "application/vnd.jupyter.widget-view+json": {
       "model_id": "947506876e4d4faf9cc6b5f7bc8cc7fe",
       "version_major": 2,
       "version_minor": 0
      },
      "text/plain": [
       "  0%|          | 0/10 [00:00<?, ?it/s]"
      ]
     },
     "metadata": {},
     "output_type": "display_data"
    },
    {
     "name": "stdout",
     "output_type": "stream",
     "text": [
      "epoch 16\n",
      "Train loss: 0.5609064191579819\n",
      "Dev loss: 0.5080373585224152\n",
      "Dev F1 0.9268292682926829\n"
     ]
    },
    {
     "data": {
      "application/vnd.jupyter.widget-view+json": {
       "model_id": "495b63bd1d03460a8979247ae0f82f4a",
       "version_major": 2,
       "version_minor": 0
      },
      "text/plain": [
       "  0%|          | 0/10 [00:00<?, ?it/s]"
      ]
     },
     "metadata": {},
     "output_type": "display_data"
    },
    {
     "name": "stdout",
     "output_type": "stream",
     "text": [
      "epoch 17\n",
      "Train loss: 0.5535737246274948\n",
      "Dev loss: 0.4988970190286636\n",
      "Dev F1 0.9268292682926829\n"
     ]
    },
    {
     "data": {
      "application/vnd.jupyter.widget-view+json": {
       "model_id": "82ce9255ab504b9ca3b63031b772af59",
       "version_major": 2,
       "version_minor": 0
      },
      "text/plain": [
       "  0%|          | 0/10 [00:00<?, ?it/s]"
      ]
     },
     "metadata": {},
     "output_type": "display_data"
    },
    {
     "name": "stdout",
     "output_type": "stream",
     "text": [
      "epoch 18\n",
      "Train loss: 0.5466409474611282\n",
      "Dev loss: 0.49024686217308044\n",
      "Dev F1 0.9268292682926829\n"
     ]
    },
    {
     "data": {
      "application/vnd.jupyter.widget-view+json": {
       "model_id": "1940f046716c43daaacf68e36a307314",
       "version_major": 2,
       "version_minor": 0
      },
      "text/plain": [
       "  0%|          | 0/10 [00:00<?, ?it/s]"
      ]
     },
     "metadata": {},
     "output_type": "display_data"
    },
    {
     "name": "stdout",
     "output_type": "stream",
     "text": [
      "epoch 19\n",
      "Train loss: 0.5400740683078766\n",
      "Dev loss: 0.482045179605484\n",
      "Dev F1 0.9268292682926829\n"
     ]
    },
    {
     "data": {
      "application/vnd.jupyter.widget-view+json": {
       "model_id": "381f6976d2664fa0b79f9950d50e3bd3",
       "version_major": 2,
       "version_minor": 0
      },
      "text/plain": [
       "  0%|          | 0/10 [00:00<?, ?it/s]"
      ]
     },
     "metadata": {},
     "output_type": "display_data"
    },
    {
     "name": "stdout",
     "output_type": "stream",
     "text": [
      "epoch 20\n",
      "Train loss: 0.5338433146476745\n",
      "Dev loss: 0.47425546050071715\n",
      "Dev F1 0.9268292682926829\n"
     ]
    },
    {
     "data": {
      "application/vnd.jupyter.widget-view+json": {
       "model_id": "2b68cc953816437d83ee786228a52771",
       "version_major": 2,
       "version_minor": 0
      },
      "text/plain": [
       "  0%|          | 0/10 [00:00<?, ?it/s]"
      ]
     },
     "metadata": {},
     "output_type": "display_data"
    },
    {
     "name": "stdout",
     "output_type": "stream",
     "text": [
      "epoch 21\n",
      "Train loss: 0.5279223769903183\n",
      "Dev loss: 0.4668452560901642\n",
      "Dev F1 0.9268292682926829\n"
     ]
    },
    {
     "data": {
      "application/vnd.jupyter.widget-view+json": {
       "model_id": "d07cf7e1d1ac4b369fadd4a4e900212f",
       "version_major": 2,
       "version_minor": 0
      },
      "text/plain": [
       "  0%|          | 0/10 [00:00<?, ?it/s]"
      ]
     },
     "metadata": {},
     "output_type": "display_data"
    },
    {
     "name": "stdout",
     "output_type": "stream",
     "text": [
      "epoch 22\n",
      "Train loss: 0.5222878873348236\n",
      "Dev loss: 0.4597858995199203\n",
      "Dev F1 0.9268292682926829\n"
     ]
    },
    {
     "data": {
      "application/vnd.jupyter.widget-view+json": {
       "model_id": "058f45f45e604c41be97cc0456563505",
       "version_major": 2,
       "version_minor": 0
      },
      "text/plain": [
       "  0%|          | 0/10 [00:00<?, ?it/s]"
      ]
     },
     "metadata": {},
     "output_type": "display_data"
    },
    {
     "name": "stdout",
     "output_type": "stream",
     "text": [
      "epoch 23\n",
      "Train loss: 0.516919219493866\n",
      "Dev loss: 0.4530518174171448\n",
      "Dev F1 0.9268292682926829\n"
     ]
    },
    {
     "data": {
      "application/vnd.jupyter.widget-view+json": {
       "model_id": "45f649ea73c34b8281aa96dd4b53bcf7",
       "version_major": 2,
       "version_minor": 0
      },
      "text/plain": [
       "  0%|          | 0/10 [00:00<?, ?it/s]"
      ]
     },
     "metadata": {},
     "output_type": "display_data"
    },
    {
     "name": "stdout",
     "output_type": "stream",
     "text": [
      "epoch 24\n",
      "Train loss: 0.5117977172136307\n",
      "Dev loss: 0.4466201364994049\n",
      "Dev F1 0.9268292682926829\n"
     ]
    },
    {
     "data": {
      "application/vnd.jupyter.widget-view+json": {
       "model_id": "6066f4f254f24659a9c3bcc3df9bc98c",
       "version_major": 2,
       "version_minor": 0
      },
      "text/plain": [
       "  0%|          | 0/10 [00:00<?, ?it/s]"
      ]
     },
     "metadata": {},
     "output_type": "display_data"
    },
    {
     "name": "stdout",
     "output_type": "stream",
     "text": [
      "epoch 25\n",
      "Train loss: 0.5069068372249603\n",
      "Dev loss: 0.44047040343284605\n",
      "Dev F1 0.9\n"
     ]
    },
    {
     "data": {
      "application/vnd.jupyter.widget-view+json": {
       "model_id": "6fdbfde684454361b78893d712dae8e3",
       "version_major": 2,
       "version_minor": 0
      },
      "text/plain": [
       "  0%|          | 0/10 [00:00<?, ?it/s]"
      ]
     },
     "metadata": {},
     "output_type": "display_data"
    },
    {
     "name": "stdout",
     "output_type": "stream",
     "text": [
      "epoch 26\n",
      "Train loss: 0.5022315561771393\n",
      "Dev loss: 0.4345841288566589\n",
      "Dev F1 0.9\n"
     ]
    },
    {
     "data": {
      "application/vnd.jupyter.widget-view+json": {
       "model_id": "f2d90fa440814559802cd84d1926dd2b",
       "version_major": 2,
       "version_minor": 0
      },
      "text/plain": [
       "  0%|          | 0/10 [00:00<?, ?it/s]"
      ]
     },
     "metadata": {},
     "output_type": "display_data"
    },
    {
     "name": "stdout",
     "output_type": "stream",
     "text": [
      "epoch 27\n",
      "Train loss: 0.497758162021637\n",
      "Dev loss: 0.4289444833993912\n",
      "Dev F1 0.9\n"
     ]
    },
    {
     "data": {
      "application/vnd.jupyter.widget-view+json": {
       "model_id": "560ec8c69dfc41a9a7af949ac3bbab77",
       "version_major": 2,
       "version_minor": 0
      },
      "text/plain": [
       "  0%|          | 0/10 [00:00<?, ?it/s]"
      ]
     },
     "metadata": {},
     "output_type": "display_data"
    },
    {
     "name": "stdout",
     "output_type": "stream",
     "text": [
      "epoch 28\n",
      "Train loss: 0.49347427785396575\n",
      "Dev loss: 0.42353624999523165\n",
      "Dev F1 0.9\n"
     ]
    },
    {
     "data": {
      "application/vnd.jupyter.widget-view+json": {
       "model_id": "d8c03757778d4123929f807eb7129354",
       "version_major": 2,
       "version_minor": 0
      },
      "text/plain": [
       "  0%|          | 0/10 [00:00<?, ?it/s]"
      ]
     },
     "metadata": {},
     "output_type": "display_data"
    },
    {
     "name": "stdout",
     "output_type": "stream",
     "text": [
      "epoch 29\n",
      "Train loss: 0.4893686532974243\n",
      "Dev loss: 0.4183455467224121\n",
      "Dev F1 0.9\n"
     ]
    },
    {
     "data": {
      "application/vnd.jupyter.widget-view+json": {
       "model_id": "27e97644e8d74073b227abce17377656",
       "version_major": 2,
       "version_minor": 0
      },
      "text/plain": [
       "  0%|          | 0/10 [00:00<?, ?it/s]"
      ]
     },
     "metadata": {},
     "output_type": "display_data"
    },
    {
     "name": "stdout",
     "output_type": "stream",
     "text": [
      "epoch 30\n",
      "Train loss: 0.4854308545589447\n",
      "Dev loss: 0.413359722495079\n",
      "Dev F1 0.9230769230769231\n"
     ]
    },
    {
     "data": {
      "application/vnd.jupyter.widget-view+json": {
       "model_id": "349c16f5f954479f922cfb7ca5e34cc6",
       "version_major": 2,
       "version_minor": 0
      },
      "text/plain": [
       "  0%|          | 0/10 [00:00<?, ?it/s]"
      ]
     },
     "metadata": {},
     "output_type": "display_data"
    },
    {
     "name": "stdout",
     "output_type": "stream",
     "text": [
      "epoch 31\n",
      "Train loss: 0.48165133893489837\n",
      "Dev loss: 0.4085670530796051\n",
      "Dev F1 0.9230769230769231\n"
     ]
    },
    {
     "data": {
      "application/vnd.jupyter.widget-view+json": {
       "model_id": "2bdec18579b84e8a90593b24ce3c4fe2",
       "version_major": 2,
       "version_minor": 0
      },
      "text/plain": [
       "  0%|          | 0/10 [00:00<?, ?it/s]"
      ]
     },
     "metadata": {},
     "output_type": "display_data"
    },
    {
     "name": "stdout",
     "output_type": "stream",
     "text": [
      "epoch 32\n",
      "Train loss: 0.47802130579948426\n",
      "Dev loss: 0.40395682752132417\n",
      "Dev F1 0.9230769230769231\n"
     ]
    },
    {
     "data": {
      "application/vnd.jupyter.widget-view+json": {
       "model_id": "086bb00a830b41d88c41ec086387f1c5",
       "version_major": 2,
       "version_minor": 0
      },
      "text/plain": [
       "  0%|          | 0/10 [00:00<?, ?it/s]"
      ]
     },
     "metadata": {},
     "output_type": "display_data"
    },
    {
     "name": "stdout",
     "output_type": "stream",
     "text": [
      "epoch 33\n",
      "Train loss: 0.47453261613845826\n",
      "Dev loss: 0.3995190769433975\n",
      "Dev F1 0.9230769230769231\n"
     ]
    },
    {
     "data": {
      "application/vnd.jupyter.widget-view+json": {
       "model_id": "f5717c6514864ad0b72cf2018e1eeb95",
       "version_major": 2,
       "version_minor": 0
      },
      "text/plain": [
       "  0%|          | 0/10 [00:00<?, ?it/s]"
      ]
     },
     "metadata": {},
     "output_type": "display_data"
    },
    {
     "name": "stdout",
     "output_type": "stream",
     "text": [
      "epoch 34\n",
      "Train loss: 0.4711777001619339\n",
      "Dev loss: 0.3952446699142456\n",
      "Dev F1 0.9230769230769231\n"
     ]
    },
    {
     "data": {
      "application/vnd.jupyter.widget-view+json": {
       "model_id": "6ac06bce971e47d89ffed6bf8e483274",
       "version_major": 2,
       "version_minor": 0
      },
      "text/plain": [
       "  0%|          | 0/10 [00:00<?, ?it/s]"
      ]
     },
     "metadata": {},
     "output_type": "display_data"
    },
    {
     "name": "stdout",
     "output_type": "stream",
     "text": [
      "epoch 35\n",
      "Train loss: 0.4679495841264725\n",
      "Dev loss: 0.39112505614757537\n",
      "Dev F1 0.8947368421052632\n"
     ]
    },
    {
     "data": {
      "application/vnd.jupyter.widget-view+json": {
       "model_id": "4f75d5151d0d43c98b9b4f25205ec310",
       "version_major": 2,
       "version_minor": 0
      },
      "text/plain": [
       "  0%|          | 0/10 [00:00<?, ?it/s]"
      ]
     },
     "metadata": {},
     "output_type": "display_data"
    },
    {
     "name": "stdout",
     "output_type": "stream",
     "text": [
      "epoch 36\n",
      "Train loss: 0.46484171152114867\n",
      "Dev loss: 0.387152361869812\n",
      "Dev F1 0.8947368421052632\n"
     ]
    },
    {
     "data": {
      "application/vnd.jupyter.widget-view+json": {
       "model_id": "4a0b88db42f842d2a29b9db1aaff8c22",
       "version_major": 2,
       "version_minor": 0
      },
      "text/plain": [
       "  0%|          | 0/10 [00:00<?, ?it/s]"
      ]
     },
     "metadata": {},
     "output_type": "display_data"
    },
    {
     "name": "stdout",
     "output_type": "stream",
     "text": [
      "epoch 37\n",
      "Train loss: 0.46184803247451783\n",
      "Dev loss: 0.3833191841840744\n",
      "Dev F1 0.8947368421052632\n"
     ]
    },
    {
     "data": {
      "application/vnd.jupyter.widget-view+json": {
       "model_id": "ee4db19967af4c54921374fb62165daf",
       "version_major": 2,
       "version_minor": 0
      },
      "text/plain": [
       "  0%|          | 0/10 [00:00<?, ?it/s]"
      ]
     },
     "metadata": {},
     "output_type": "display_data"
    },
    {
     "name": "stdout",
     "output_type": "stream",
     "text": [
      "epoch 38\n",
      "Train loss: 0.45896281599998473\n",
      "Dev loss: 0.37961863577365873\n",
      "Dev F1 0.8947368421052632\n"
     ]
    },
    {
     "data": {
      "application/vnd.jupyter.widget-view+json": {
       "model_id": "193cecd52b8a46a9aad07f8a41a6ba7a",
       "version_major": 2,
       "version_minor": 0
      },
      "text/plain": [
       "  0%|          | 0/10 [00:00<?, ?it/s]"
      ]
     },
     "metadata": {},
     "output_type": "display_data"
    },
    {
     "name": "stdout",
     "output_type": "stream",
     "text": [
      "epoch 39\n",
      "Train loss: 0.4561807543039322\n",
      "Dev loss: 0.37604430317878723\n",
      "Dev F1 0.8947368421052632\n"
     ]
    },
    {
     "data": {
      "application/vnd.jupyter.widget-view+json": {
       "model_id": "b39defc260c14a04bf8b860db24d4fa4",
       "version_major": 2,
       "version_minor": 0
      },
      "text/plain": [
       "  0%|          | 0/10 [00:00<?, ?it/s]"
      ]
     },
     "metadata": {},
     "output_type": "display_data"
    },
    {
     "name": "stdout",
     "output_type": "stream",
     "text": [
      "epoch 40\n",
      "Train loss: 0.4534968286752701\n",
      "Dev loss: 0.37259008288383483\n",
      "Dev F1 0.8947368421052632\n"
     ]
    },
    {
     "data": {
      "application/vnd.jupyter.widget-view+json": {
       "model_id": "3ae224e3c5ba42eaaac03775dd926c10",
       "version_major": 2,
       "version_minor": 0
      },
      "text/plain": [
       "  0%|          | 0/10 [00:00<?, ?it/s]"
      ]
     },
     "metadata": {},
     "output_type": "display_data"
    },
    {
     "name": "stdout",
     "output_type": "stream",
     "text": [
      "epoch 41\n",
      "Train loss: 0.45090641677379606\n",
      "Dev loss: 0.3692503869533539\n",
      "Dev F1 0.8947368421052632\n"
     ]
    },
    {
     "data": {
      "application/vnd.jupyter.widget-view+json": {
       "model_id": "1a5c076e97614bb6a65de4e5429af86e",
       "version_major": 2,
       "version_minor": 0
      },
      "text/plain": [
       "  0%|          | 0/10 [00:00<?, ?it/s]"
      ]
     },
     "metadata": {},
     "output_type": "display_data"
    },
    {
     "name": "stdout",
     "output_type": "stream",
     "text": [
      "epoch 42\n",
      "Train loss: 0.4484050840139389\n",
      "Dev loss: 0.3660199403762817\n",
      "Dev F1 0.8947368421052632\n"
     ]
    },
    {
     "data": {
      "application/vnd.jupyter.widget-view+json": {
       "model_id": "fd4de574c0734727b602b5bfb4971c03",
       "version_major": 2,
       "version_minor": 0
      },
      "text/plain": [
       "  0%|          | 0/10 [00:00<?, ?it/s]"
      ]
     },
     "metadata": {},
     "output_type": "display_data"
    },
    {
     "name": "stdout",
     "output_type": "stream",
     "text": [
      "epoch 43\n",
      "Train loss: 0.4459887474775314\n",
      "Dev loss: 0.36289370656013487\n",
      "Dev F1 0.8947368421052632\n"
     ]
    },
    {
     "data": {
      "application/vnd.jupyter.widget-view+json": {
       "model_id": "8ddc28352283413fbc6386c1f0677f3f",
       "version_major": 2,
       "version_minor": 0
      },
      "text/plain": [
       "  0%|          | 0/10 [00:00<?, ?it/s]"
      ]
     },
     "metadata": {},
     "output_type": "display_data"
    },
    {
     "name": "stdout",
     "output_type": "stream",
     "text": [
      "epoch 44\n",
      "Train loss: 0.4436534583568573\n",
      "Dev loss: 0.359867000579834\n",
      "Dev F1 0.8947368421052632\n"
     ]
    },
    {
     "data": {
      "application/vnd.jupyter.widget-view+json": {
       "model_id": "01a45dd853354d9b9b1dd6ab57febc68",
       "version_major": 2,
       "version_minor": 0
      },
      "text/plain": [
       "  0%|          | 0/10 [00:00<?, ?it/s]"
      ]
     },
     "metadata": {},
     "output_type": "display_data"
    },
    {
     "name": "stdout",
     "output_type": "stream",
     "text": [
      "epoch 45\n",
      "Train loss: 0.4413955271244049\n",
      "Dev loss: 0.3569354087114334\n",
      "Dev F1 0.8947368421052632\n"
     ]
    },
    {
     "data": {
      "application/vnd.jupyter.widget-view+json": {
       "model_id": "efb2c3d3112940fc8e2e1722cf4249d3",
       "version_major": 2,
       "version_minor": 0
      },
      "text/plain": [
       "  0%|          | 0/10 [00:00<?, ?it/s]"
      ]
     },
     "metadata": {},
     "output_type": "display_data"
    },
    {
     "name": "stdout",
     "output_type": "stream",
     "text": [
      "epoch 46\n",
      "Train loss: 0.4392115443944931\n",
      "Dev loss: 0.3540946513414383\n",
      "Dev F1 0.8947368421052632\n"
     ]
    },
    {
     "data": {
      "application/vnd.jupyter.widget-view+json": {
       "model_id": "c54db19e9e12462590faaca46f112a8e",
       "version_major": 2,
       "version_minor": 0
      },
      "text/plain": [
       "  0%|          | 0/10 [00:00<?, ?it/s]"
      ]
     },
     "metadata": {},
     "output_type": "display_data"
    },
    {
     "name": "stdout",
     "output_type": "stream",
     "text": [
      "epoch 47\n",
      "Train loss: 0.4370982199907303\n",
      "Dev loss: 0.35134094059467313\n",
      "Dev F1 0.8947368421052632\n"
     ]
    },
    {
     "data": {
      "application/vnd.jupyter.widget-view+json": {
       "model_id": "4d0f6930968d4b4cb7d3690cf9715ab2",
       "version_major": 2,
       "version_minor": 0
      },
      "text/plain": [
       "  0%|          | 0/10 [00:00<?, ?it/s]"
      ]
     },
     "metadata": {},
     "output_type": "display_data"
    },
    {
     "name": "stdout",
     "output_type": "stream",
     "text": [
      "epoch 48\n",
      "Train loss: 0.4350524812936783\n",
      "Dev loss: 0.348670506477356\n",
      "Dev F1 0.8947368421052632\n"
     ]
    },
    {
     "data": {
      "application/vnd.jupyter.widget-view+json": {
       "model_id": "2546697e3971430488404d69e88669c6",
       "version_major": 2,
       "version_minor": 0
      },
      "text/plain": [
       "  0%|          | 0/10 [00:00<?, ?it/s]"
      ]
     },
     "metadata": {},
     "output_type": "display_data"
    },
    {
     "name": "stdout",
     "output_type": "stream",
     "text": [
      "epoch 49\n",
      "Train loss: 0.4330714225769043\n",
      "Dev loss: 0.346079820394516\n",
      "Dev F1 0.8947368421052632\n"
     ]
    },
    {
     "data": {
      "application/vnd.jupyter.widget-view+json": {
       "model_id": "af52409e93f64546a655b09555f5d744",
       "version_major": 2,
       "version_minor": 0
      },
      "text/plain": [
       "  0%|          | 0/10 [00:00<?, ?it/s]"
      ]
     },
     "metadata": {},
     "output_type": "display_data"
    },
    {
     "name": "stdout",
     "output_type": "stream",
     "text": [
      "epoch 50\n",
      "Train loss: 0.43115229308605196\n",
      "Dev loss: 0.3435655295848846\n",
      "Dev F1 0.8947368421052632\n"
     ]
    },
    {
     "data": {
      "application/vnd.jupyter.widget-view+json": {
       "model_id": "d51e7f67a2b741ec9dce56d672b9bd7e",
       "version_major": 2,
       "version_minor": 0
      },
      "text/plain": [
       "  0%|          | 0/10 [00:00<?, ?it/s]"
      ]
     },
     "metadata": {},
     "output_type": "display_data"
    },
    {
     "name": "stdout",
     "output_type": "stream",
     "text": [
      "epoch 51\n",
      "Train loss: 0.429292431473732\n",
      "Dev loss: 0.34112455546855924\n",
      "Dev F1 0.8947368421052632\n"
     ]
    },
    {
     "data": {
      "application/vnd.jupyter.widget-view+json": {
       "model_id": "c2d8bb4491494134b237a0ad342e0d39",
       "version_major": 2,
       "version_minor": 0
      },
      "text/plain": [
       "  0%|          | 0/10 [00:00<?, ?it/s]"
      ]
     },
     "metadata": {},
     "output_type": "display_data"
    },
    {
     "name": "stdout",
     "output_type": "stream",
     "text": [
      "epoch 52\n",
      "Train loss: 0.4274894595146179\n",
      "Dev loss: 0.33875387012958524\n",
      "Dev F1 0.8947368421052632\n"
     ]
    },
    {
     "data": {
      "application/vnd.jupyter.widget-view+json": {
       "model_id": "4cc1270537c140dcaf42ea0439baefca",
       "version_major": 2,
       "version_minor": 0
      },
      "text/plain": [
       "  0%|          | 0/10 [00:00<?, ?it/s]"
      ]
     },
     "metadata": {},
     "output_type": "display_data"
    },
    {
     "name": "stdout",
     "output_type": "stream",
     "text": [
      "epoch 53\n",
      "Train loss: 0.4257409155368805\n",
      "Dev loss: 0.3364506185054779\n",
      "Dev F1 0.8947368421052632\n"
     ]
    },
    {
     "data": {
      "application/vnd.jupyter.widget-view+json": {
       "model_id": "ef51e2439bc345269d80c9389f33d0c1",
       "version_major": 2,
       "version_minor": 0
      },
      "text/plain": [
       "  0%|          | 0/10 [00:00<?, ?it/s]"
      ]
     },
     "metadata": {},
     "output_type": "display_data"
    },
    {
     "name": "stdout",
     "output_type": "stream",
     "text": [
      "epoch 54\n",
      "Train loss: 0.42404468953609464\n",
      "Dev loss: 0.3342120945453644\n",
      "Dev F1 0.8947368421052632\n"
     ]
    },
    {
     "data": {
      "application/vnd.jupyter.widget-view+json": {
       "model_id": "66388d0325994a74929b2e00323d1718",
       "version_major": 2,
       "version_minor": 0
      },
      "text/plain": [
       "  0%|          | 0/10 [00:00<?, ?it/s]"
      ]
     },
     "metadata": {},
     "output_type": "display_data"
    },
    {
     "name": "stdout",
     "output_type": "stream",
     "text": [
      "epoch 55\n",
      "Train loss: 0.422398579120636\n",
      "Dev loss: 0.3320357948541641\n",
      "Dev F1 0.8947368421052632\n"
     ]
    },
    {
     "data": {
      "application/vnd.jupyter.widget-view+json": {
       "model_id": "e74976c900dc48fa96aa4187466ff46b",
       "version_major": 2,
       "version_minor": 0
      },
      "text/plain": [
       "  0%|          | 0/10 [00:00<?, ?it/s]"
      ]
     },
     "metadata": {},
     "output_type": "display_data"
    },
    {
     "name": "stdout",
     "output_type": "stream",
     "text": [
      "epoch 56\n",
      "Train loss: 0.4208006262779236\n",
      "Dev loss: 0.32991926968097685\n",
      "Dev F1 0.8947368421052632\n"
     ]
    },
    {
     "data": {
      "application/vnd.jupyter.widget-view+json": {
       "model_id": "62abd4213abd4f9ca79c07f6ed28feb1",
       "version_major": 2,
       "version_minor": 0
      },
      "text/plain": [
       "  0%|          | 0/10 [00:00<?, ?it/s]"
      ]
     },
     "metadata": {},
     "output_type": "display_data"
    },
    {
     "name": "stdout",
     "output_type": "stream",
     "text": [
      "epoch 57\n",
      "Train loss: 0.4192489251494408\n",
      "Dev loss: 0.3278602033853531\n",
      "Dev F1 0.8947368421052632\n"
     ]
    },
    {
     "data": {
      "application/vnd.jupyter.widget-view+json": {
       "model_id": "df29fa47c5604c7b9ff160c3514a7201",
       "version_major": 2,
       "version_minor": 0
      },
      "text/plain": [
       "  0%|          | 0/10 [00:00<?, ?it/s]"
      ]
     },
     "metadata": {},
     "output_type": "display_data"
    },
    {
     "name": "stdout",
     "output_type": "stream",
     "text": [
      "epoch 58\n",
      "Train loss: 0.4177416518330574\n",
      "Dev loss: 0.32585641741752625\n",
      "Dev F1 0.8947368421052632\n"
     ]
    },
    {
     "data": {
      "application/vnd.jupyter.widget-view+json": {
       "model_id": "40427c97d0924413859adbdbc09c108a",
       "version_major": 2,
       "version_minor": 0
      },
      "text/plain": [
       "  0%|          | 0/10 [00:00<?, ?it/s]"
      ]
     },
     "metadata": {},
     "output_type": "display_data"
    },
    {
     "name": "stdout",
     "output_type": "stream",
     "text": [
      "epoch 59\n",
      "Train loss: 0.4162771120667458\n",
      "Dev loss: 0.32390580177307127\n",
      "Dev F1 0.8947368421052632\n"
     ]
    },
    {
     "data": {
      "application/vnd.jupyter.widget-view+json": {
       "model_id": "916aa52b020e4024bc6de086831783a9",
       "version_major": 2,
       "version_minor": 0
      },
      "text/plain": [
       "  0%|          | 0/10 [00:00<?, ?it/s]"
      ]
     },
     "metadata": {},
     "output_type": "display_data"
    },
    {
     "name": "stdout",
     "output_type": "stream",
     "text": [
      "epoch 60\n",
      "Train loss: 0.4148536130785942\n",
      "Dev loss: 0.32200637757778167\n",
      "Dev F1 0.8947368421052632\n"
     ]
    },
    {
     "data": {
      "application/vnd.jupyter.widget-view+json": {
       "model_id": "ab7552bd68a5495b879df396bd61b89b",
       "version_major": 2,
       "version_minor": 0
      },
      "text/plain": [
       "  0%|          | 0/10 [00:00<?, ?it/s]"
      ]
     },
     "metadata": {},
     "output_type": "display_data"
    },
    {
     "name": "stdout",
     "output_type": "stream",
     "text": [
      "epoch 61\n",
      "Train loss: 0.4134696677327156\n",
      "Dev loss: 0.3201562285423279\n",
      "Dev F1 0.8947368421052632\n"
     ]
    },
    {
     "data": {
      "application/vnd.jupyter.widget-view+json": {
       "model_id": "7b85624bd13f4ccb8c82e34c88eaad6c",
       "version_major": 2,
       "version_minor": 0
      },
      "text/plain": [
       "  0%|          | 0/10 [00:00<?, ?it/s]"
      ]
     },
     "metadata": {},
     "output_type": "display_data"
    },
    {
     "name": "stdout",
     "output_type": "stream",
     "text": [
      "epoch 62\n",
      "Train loss: 0.4121237576007843\n",
      "Dev loss: 0.31835359036922456\n",
      "Dev F1 0.8947368421052632\n"
     ]
    },
    {
     "data": {
      "application/vnd.jupyter.widget-view+json": {
       "model_id": "2e41c44a817d497ebd0663416c4b9c01",
       "version_major": 2,
       "version_minor": 0
      },
      "text/plain": [
       "  0%|          | 0/10 [00:00<?, ?it/s]"
      ]
     },
     "metadata": {},
     "output_type": "display_data"
    },
    {
     "name": "stdout",
     "output_type": "stream",
     "text": [
      "epoch 63\n",
      "Train loss: 0.4108144357800484\n",
      "Dev loss: 0.3165966898202896\n",
      "Dev F1 0.8947368421052632\n"
     ]
    },
    {
     "data": {
      "application/vnd.jupyter.widget-view+json": {
       "model_id": "a602bf5691f54e3e8856f263a35ff3f6",
       "version_major": 2,
       "version_minor": 0
      },
      "text/plain": [
       "  0%|          | 0/10 [00:00<?, ?it/s]"
      ]
     },
     "metadata": {},
     "output_type": "display_data"
    },
    {
     "name": "stdout",
     "output_type": "stream",
     "text": [
      "epoch 64\n",
      "Train loss: 0.4095404103398323\n",
      "Dev loss: 0.3148839145898819\n",
      "Dev F1 0.8947368421052632\n"
     ]
    },
    {
     "data": {
      "application/vnd.jupyter.widget-view+json": {
       "model_id": "870ffb7444be43d9b3f802f8ac52a0ec",
       "version_major": 2,
       "version_minor": 0
      },
      "text/plain": [
       "  0%|          | 0/10 [00:00<?, ?it/s]"
      ]
     },
     "metadata": {},
     "output_type": "display_data"
    },
    {
     "name": "stdout",
     "output_type": "stream",
     "text": [
      "epoch 65\n",
      "Train loss: 0.40830032229423524\n",
      "Dev loss: 0.3132136970758438\n",
      "Dev F1 0.8947368421052632\n"
     ]
    },
    {
     "data": {
      "application/vnd.jupyter.widget-view+json": {
       "model_id": "8057278bc6054112ae425a4322166b7f",
       "version_major": 2,
       "version_minor": 0
      },
      "text/plain": [
       "  0%|          | 0/10 [00:00<?, ?it/s]"
      ]
     },
     "metadata": {},
     "output_type": "display_data"
    },
    {
     "name": "stdout",
     "output_type": "stream",
     "text": [
      "epoch 66\n",
      "Train loss: 0.4070930272340775\n",
      "Dev loss: 0.3115845113992691\n",
      "Dev F1 0.8947368421052632\n"
     ]
    },
    {
     "data": {
      "application/vnd.jupyter.widget-view+json": {
       "model_id": "dc4eecd2b81b44cc82d53ecae1b10379",
       "version_major": 2,
       "version_minor": 0
      },
      "text/plain": [
       "  0%|          | 0/10 [00:00<?, ?it/s]"
      ]
     },
     "metadata": {},
     "output_type": "display_data"
    },
    {
     "name": "stdout",
     "output_type": "stream",
     "text": [
      "epoch 67\n",
      "Train loss: 0.40591728389263154\n",
      "Dev loss: 0.3099949359893799\n",
      "Dev F1 0.8947368421052632\n"
     ]
    },
    {
     "data": {
      "application/vnd.jupyter.widget-view+json": {
       "model_id": "f748cf147a2249e0b04725f35b1e208b",
       "version_major": 2,
       "version_minor": 0
      },
      "text/plain": [
       "  0%|          | 0/10 [00:00<?, ?it/s]"
      ]
     },
     "metadata": {},
     "output_type": "display_data"
    },
    {
     "name": "stdout",
     "output_type": "stream",
     "text": [
      "epoch 68\n",
      "Train loss: 0.40477203130722045\n",
      "Dev loss: 0.3084436297416687\n",
      "Dev F1 0.8947368421052632\n"
     ]
    },
    {
     "data": {
      "application/vnd.jupyter.widget-view+json": {
       "model_id": "9b981c6cc0b945d99ccd3fb9652dcd94",
       "version_major": 2,
       "version_minor": 0
      },
      "text/plain": [
       "  0%|          | 0/10 [00:00<?, ?it/s]"
      ]
     },
     "metadata": {},
     "output_type": "display_data"
    },
    {
     "name": "stdout",
     "output_type": "stream",
     "text": [
      "epoch 69\n",
      "Train loss: 0.4036561563611031\n",
      "Dev loss: 0.3069292426109314\n",
      "Dev F1 0.8947368421052632\n"
     ]
    },
    {
     "data": {
      "application/vnd.jupyter.widget-view+json": {
       "model_id": "7d259e8ce8da4acb8fbb2979cc095f5a",
       "version_major": 2,
       "version_minor": 0
      },
      "text/plain": [
       "  0%|          | 0/10 [00:00<?, ?it/s]"
      ]
     },
     "metadata": {},
     "output_type": "display_data"
    },
    {
     "name": "stdout",
     "output_type": "stream",
     "text": [
      "epoch 70\n",
      "Train loss: 0.4025686874985695\n",
      "Dev loss: 0.3054505854845047\n",
      "Dev F1 0.8947368421052632\n"
     ]
    },
    {
     "data": {
      "application/vnd.jupyter.widget-view+json": {
       "model_id": "af8a7d7542914b4ca8af3079b8ef7a30",
       "version_major": 2,
       "version_minor": 0
      },
      "text/plain": [
       "  0%|          | 0/10 [00:00<?, ?it/s]"
      ]
     },
     "metadata": {},
     "output_type": "display_data"
    },
    {
     "name": "stdout",
     "output_type": "stream",
     "text": [
      "epoch 71\n",
      "Train loss: 0.40150860846042635\n",
      "Dev loss: 0.30400640368461607\n",
      "Dev F1 0.8947368421052632\n"
     ]
    },
    {
     "data": {
      "application/vnd.jupyter.widget-view+json": {
       "model_id": "63f43d0691a34b55abaf0b5420b7af95",
       "version_major": 2,
       "version_minor": 0
      },
      "text/plain": [
       "  0%|          | 0/10 [00:00<?, ?it/s]"
      ]
     },
     "metadata": {},
     "output_type": "display_data"
    },
    {
     "name": "stdout",
     "output_type": "stream",
     "text": [
      "epoch 72\n",
      "Train loss: 0.4004749745130539\n",
      "Dev loss: 0.30259555876255034\n",
      "Dev F1 0.8947368421052632\n"
     ]
    },
    {
     "data": {
      "application/vnd.jupyter.widget-view+json": {
       "model_id": "387530c10be6478eb2408785bfd33024",
       "version_major": 2,
       "version_minor": 0
      },
      "text/plain": [
       "  0%|          | 0/10 [00:00<?, ?it/s]"
      ]
     },
     "metadata": {},
     "output_type": "display_data"
    },
    {
     "name": "stdout",
     "output_type": "stream",
     "text": [
      "epoch 73\n",
      "Train loss: 0.3994668900966644\n",
      "Dev loss: 0.30121696889400484\n",
      "Dev F1 0.8947368421052632\n"
     ]
    },
    {
     "data": {
      "application/vnd.jupyter.widget-view+json": {
       "model_id": "c72232ff91c14e909d6170efd2c06942",
       "version_major": 2,
       "version_minor": 0
      },
      "text/plain": [
       "  0%|          | 0/10 [00:00<?, ?it/s]"
      ]
     },
     "metadata": {},
     "output_type": "display_data"
    },
    {
     "name": "stdout",
     "output_type": "stream",
     "text": [
      "epoch 74\n",
      "Train loss: 0.39848353117704394\n",
      "Dev loss: 0.2998695373535156\n",
      "Dev F1 0.8947368421052632\n"
     ]
    },
    {
     "data": {
      "application/vnd.jupyter.widget-view+json": {
       "model_id": "79649db16c3a4b088a6c86c5dba3cfbc",
       "version_major": 2,
       "version_minor": 0
      },
      "text/plain": [
       "  0%|          | 0/10 [00:00<?, ?it/s]"
      ]
     },
     "metadata": {},
     "output_type": "display_data"
    },
    {
     "name": "stdout",
     "output_type": "stream",
     "text": [
      "epoch 75\n",
      "Train loss: 0.39752407670021056\n",
      "Dev loss: 0.2985523074865341\n",
      "Dev F1 0.8947368421052632\n"
     ]
    },
    {
     "data": {
      "application/vnd.jupyter.widget-view+json": {
       "model_id": "5f7cab08e3f0423bb9b3de14f5dda1bb",
       "version_major": 2,
       "version_minor": 0
      },
      "text/plain": [
       "  0%|          | 0/10 [00:00<?, ?it/s]"
      ]
     },
     "metadata": {},
     "output_type": "display_data"
    },
    {
     "name": "stdout",
     "output_type": "stream",
     "text": [
      "epoch 76\n",
      "Train loss: 0.3965876862406731\n",
      "Dev loss: 0.2972642958164215\n",
      "Dev F1 0.8947368421052632\n"
     ]
    },
    {
     "data": {
      "application/vnd.jupyter.widget-view+json": {
       "model_id": "16c2f7e86c0f4bf897c83668df76c039",
       "version_major": 2,
       "version_minor": 0
      },
      "text/plain": [
       "  0%|          | 0/10 [00:00<?, ?it/s]"
      ]
     },
     "metadata": {},
     "output_type": "display_data"
    },
    {
     "name": "stdout",
     "output_type": "stream",
     "text": [
      "epoch 77\n",
      "Train loss: 0.39567366391420367\n",
      "Dev loss: 0.29600456058979036\n",
      "Dev F1 0.8947368421052632\n"
     ]
    },
    {
     "data": {
      "application/vnd.jupyter.widget-view+json": {
       "model_id": "6ba38e8d12944b60af03cf40358c5fdf",
       "version_major": 2,
       "version_minor": 0
      },
      "text/plain": [
       "  0%|          | 0/10 [00:00<?, ?it/s]"
      ]
     },
     "metadata": {},
     "output_type": "display_data"
    },
    {
     "name": "stdout",
     "output_type": "stream",
     "text": [
      "epoch 78\n",
      "Train loss: 0.39478124380111695\n",
      "Dev loss: 0.2947722226381302\n",
      "Dev F1 0.8947368421052632\n"
     ]
    },
    {
     "data": {
      "application/vnd.jupyter.widget-view+json": {
       "model_id": "bdd06ae6467f4f93b7a39000944ef459",
       "version_major": 2,
       "version_minor": 0
      },
      "text/plain": [
       "  0%|          | 0/10 [00:00<?, ?it/s]"
      ]
     },
     "metadata": {},
     "output_type": "display_data"
    },
    {
     "name": "stdout",
     "output_type": "stream",
     "text": [
      "epoch 79\n",
      "Train loss: 0.3939097598195076\n",
      "Dev loss: 0.2935664117336273\n",
      "Dev F1 0.8947368421052632\n"
     ]
    },
    {
     "data": {
      "application/vnd.jupyter.widget-view+json": {
       "model_id": "c1048ab7fd9f40cbb78b01eb6cec10f7",
       "version_major": 2,
       "version_minor": 0
      },
      "text/plain": [
       "  0%|          | 0/10 [00:00<?, ?it/s]"
      ]
     },
     "metadata": {},
     "output_type": "display_data"
    },
    {
     "name": "stdout",
     "output_type": "stream",
     "text": [
      "epoch 80\n",
      "Train loss: 0.3930585771799088\n",
      "Dev loss: 0.29238635301589966\n",
      "Dev F1 0.8947368421052632\n"
     ]
    },
    {
     "data": {
      "application/vnd.jupyter.widget-view+json": {
       "model_id": "83bb1a6018f44815af822a5aa72cc3c6",
       "version_major": 2,
       "version_minor": 0
      },
      "text/plain": [
       "  0%|          | 0/10 [00:00<?, ?it/s]"
      ]
     },
     "metadata": {},
     "output_type": "display_data"
    },
    {
     "name": "stdout",
     "output_type": "stream",
     "text": [
      "epoch 81\n",
      "Train loss: 0.3922269806265831\n",
      "Dev loss: 0.29123117923736574\n",
      "Dev F1 0.8947368421052632\n"
     ]
    },
    {
     "data": {
      "application/vnd.jupyter.widget-view+json": {
       "model_id": "9da0648eca0245e09d073749acae145c",
       "version_major": 2,
       "version_minor": 0
      },
      "text/plain": [
       "  0%|          | 0/10 [00:00<?, ?it/s]"
      ]
     },
     "metadata": {},
     "output_type": "display_data"
    },
    {
     "name": "stdout",
     "output_type": "stream",
     "text": [
      "epoch 82\n",
      "Train loss: 0.39141441583633424\n",
      "Dev loss: 0.2901002198457718\n",
      "Dev F1 0.8947368421052632\n"
     ]
    },
    {
     "data": {
      "application/vnd.jupyter.widget-view+json": {
       "model_id": "6dbd2dad7ca74671b5615d902447ffe1",
       "version_major": 2,
       "version_minor": 0
      },
      "text/plain": [
       "  0%|          | 0/10 [00:00<?, ?it/s]"
      ]
     },
     "metadata": {},
     "output_type": "display_data"
    },
    {
     "name": "stdout",
     "output_type": "stream",
     "text": [
      "epoch 83\n",
      "Train loss: 0.3906202703714371\n",
      "Dev loss: 0.28899270594120025\n",
      "Dev F1 0.8947368421052632\n"
     ]
    },
    {
     "data": {
      "application/vnd.jupyter.widget-view+json": {
       "model_id": "23e8ac9e36b74542ace42fcbf7a45f49",
       "version_major": 2,
       "version_minor": 0
      },
      "text/plain": [
       "  0%|          | 0/10 [00:00<?, ?it/s]"
      ]
     },
     "metadata": {},
     "output_type": "display_data"
    },
    {
     "name": "stdout",
     "output_type": "stream",
     "text": [
      "epoch 84\n",
      "Train loss: 0.38984396159648893\n",
      "Dev loss: 0.28790789246559145\n",
      "Dev F1 0.8947368421052632\n"
     ]
    },
    {
     "data": {
      "application/vnd.jupyter.widget-view+json": {
       "model_id": "885fbdafa84348fcbf5deac2093260e0",
       "version_major": 2,
       "version_minor": 0
      },
      "text/plain": [
       "  0%|          | 0/10 [00:00<?, ?it/s]"
      ]
     },
     "metadata": {},
     "output_type": "display_data"
    },
    {
     "name": "stdout",
     "output_type": "stream",
     "text": [
      "epoch 85\n",
      "Train loss: 0.3890849858522415\n",
      "Dev loss: 0.2868451505899429\n",
      "Dev F1 0.8947368421052632\n"
     ]
    },
    {
     "data": {
      "application/vnd.jupyter.widget-view+json": {
       "model_id": "fd75a74812644d5281c742030fb7e5a2",
       "version_major": 2,
       "version_minor": 0
      },
      "text/plain": [
       "  0%|          | 0/10 [00:00<?, ?it/s]"
      ]
     },
     "metadata": {},
     "output_type": "display_data"
    },
    {
     "name": "stdout",
     "output_type": "stream",
     "text": [
      "epoch 86\n",
      "Train loss: 0.38834278434515\n",
      "Dev loss: 0.28580382168293\n",
      "Dev F1 0.8947368421052632\n"
     ]
    },
    {
     "data": {
      "application/vnd.jupyter.widget-view+json": {
       "model_id": "d3be338f96fc4b538602578fac858deb",
       "version_major": 2,
       "version_minor": 0
      },
      "text/plain": [
       "  0%|          | 0/10 [00:00<?, ?it/s]"
      ]
     },
     "metadata": {},
     "output_type": "display_data"
    },
    {
     "name": "stdout",
     "output_type": "stream",
     "text": [
      "epoch 87\n",
      "Train loss: 0.3876168832182884\n",
      "Dev loss: 0.28478331565856935\n",
      "Dev F1 0.8947368421052632\n"
     ]
    },
    {
     "data": {
      "application/vnd.jupyter.widget-view+json": {
       "model_id": "8e73ddcbce8e4c53a59638a002003fe0",
       "version_major": 2,
       "version_minor": 0
      },
      "text/plain": [
       "  0%|          | 0/10 [00:00<?, ?it/s]"
      ]
     },
     "metadata": {},
     "output_type": "display_data"
    },
    {
     "name": "stdout",
     "output_type": "stream",
     "text": [
      "epoch 88\n",
      "Train loss: 0.3869067817926407\n",
      "Dev loss: 0.28378299474716184\n",
      "Dev F1 0.8947368421052632\n"
     ]
    },
    {
     "data": {
      "application/vnd.jupyter.widget-view+json": {
       "model_id": "7ccea21e6977496a9f2eeb37697c6bc6",
       "version_major": 2,
       "version_minor": 0
      },
      "text/plain": [
       "  0%|          | 0/10 [00:00<?, ?it/s]"
      ]
     },
     "metadata": {},
     "output_type": "display_data"
    },
    {
     "name": "stdout",
     "output_type": "stream",
     "text": [
      "epoch 89\n",
      "Train loss: 0.38621202409267424\n",
      "Dev loss: 0.2828022867441177\n",
      "Dev F1 0.8947368421052632\n"
     ]
    },
    {
     "data": {
      "application/vnd.jupyter.widget-view+json": {
       "model_id": "800db095e79a4ad2aa362c791d3cc7c8",
       "version_major": 2,
       "version_minor": 0
      },
      "text/plain": [
       "  0%|          | 0/10 [00:00<?, ?it/s]"
      ]
     },
     "metadata": {},
     "output_type": "display_data"
    },
    {
     "name": "stdout",
     "output_type": "stream",
     "text": [
      "epoch 90\n",
      "Train loss: 0.3855321377515793\n",
      "Dev loss: 0.28184066116809847\n",
      "Dev F1 0.8947368421052632\n"
     ]
    },
    {
     "data": {
      "application/vnd.jupyter.widget-view+json": {
       "model_id": "7787f0bd7c0045d69a2a5b24f5ed8a9a",
       "version_major": 2,
       "version_minor": 0
      },
      "text/plain": [
       "  0%|          | 0/10 [00:00<?, ?it/s]"
      ]
     },
     "metadata": {},
     "output_type": "display_data"
    },
    {
     "name": "stdout",
     "output_type": "stream",
     "text": [
      "epoch 91\n",
      "Train loss: 0.3848667398095131\n",
      "Dev loss: 0.28089756667613985\n",
      "Dev F1 0.8947368421052632\n"
     ]
    },
    {
     "data": {
      "application/vnd.jupyter.widget-view+json": {
       "model_id": "8499f01614644483a88025cc194a6646",
       "version_major": 2,
       "version_minor": 0
      },
      "text/plain": [
       "  0%|          | 0/10 [00:00<?, ?it/s]"
      ]
     },
     "metadata": {},
     "output_type": "display_data"
    },
    {
     "name": "stdout",
     "output_type": "stream",
     "text": [
      "epoch 92\n",
      "Train loss: 0.38421537429094316\n",
      "Dev loss: 0.2799724847078323\n",
      "Dev F1 0.8947368421052632\n"
     ]
    },
    {
     "data": {
      "application/vnd.jupyter.widget-view+json": {
       "model_id": "d1cd8eacad5d4ac3a439e386d1714216",
       "version_major": 2,
       "version_minor": 0
      },
      "text/plain": [
       "  0%|          | 0/10 [00:00<?, ?it/s]"
      ]
     },
     "metadata": {},
     "output_type": "display_data"
    },
    {
     "name": "stdout",
     "output_type": "stream",
     "text": [
      "epoch 93\n",
      "Train loss: 0.3835776597261429\n",
      "Dev loss: 0.27906492352485657\n",
      "Dev F1 0.8947368421052632\n"
     ]
    },
    {
     "data": {
      "application/vnd.jupyter.widget-view+json": {
       "model_id": "8ed1e4a741194e5a97c8fa46aa7080f5",
       "version_major": 2,
       "version_minor": 0
      },
      "text/plain": [
       "  0%|          | 0/10 [00:00<?, ?it/s]"
      ]
     },
     "metadata": {},
     "output_type": "display_data"
    },
    {
     "name": "stdout",
     "output_type": "stream",
     "text": [
      "epoch 94\n",
      "Train loss: 0.3829531744122505\n",
      "Dev loss: 0.27817436754703523\n",
      "Dev F1 0.8947368421052632\n"
     ]
    },
    {
     "data": {
      "application/vnd.jupyter.widget-view+json": {
       "model_id": "ed744141917b4604b6c0800d1cd7706a",
       "version_major": 2,
       "version_minor": 0
      },
      "text/plain": [
       "  0%|          | 0/10 [00:00<?, ?it/s]"
      ]
     },
     "metadata": {},
     "output_type": "display_data"
    },
    {
     "name": "stdout",
     "output_type": "stream",
     "text": [
      "epoch 95\n",
      "Train loss: 0.3823415756225586\n",
      "Dev loss: 0.2773003727197647\n",
      "Dev F1 0.8947368421052632\n"
     ]
    },
    {
     "data": {
      "application/vnd.jupyter.widget-view+json": {
       "model_id": "ecede5379cc340e2bef8fa7fa931813b",
       "version_major": 2,
       "version_minor": 0
      },
      "text/plain": [
       "  0%|          | 0/10 [00:00<?, ?it/s]"
      ]
     },
     "metadata": {},
     "output_type": "display_data"
    },
    {
     "name": "stdout",
     "output_type": "stream",
     "text": [
      "epoch 96\n",
      "Train loss: 0.38174251466989517\n",
      "Dev loss: 0.27644251883029936\n",
      "Dev F1 0.8947368421052632\n"
     ]
    },
    {
     "data": {
      "application/vnd.jupyter.widget-view+json": {
       "model_id": "08e60802d0da447094349d0236f1f8e2",
       "version_major": 2,
       "version_minor": 0
      },
      "text/plain": [
       "  0%|          | 0/10 [00:00<?, ?it/s]"
      ]
     },
     "metadata": {},
     "output_type": "display_data"
    },
    {
     "name": "stdout",
     "output_type": "stream",
     "text": [
      "epoch 97\n",
      "Train loss: 0.3811556100845337\n",
      "Dev loss: 0.2756003439426422\n",
      "Dev F1 0.8947368421052632\n"
     ]
    },
    {
     "data": {
      "application/vnd.jupyter.widget-view+json": {
       "model_id": "02a77c15f2de4ae598fcce3d880ffb9d",
       "version_major": 2,
       "version_minor": 0
      },
      "text/plain": [
       "  0%|          | 0/10 [00:00<?, ?it/s]"
      ]
     },
     "metadata": {},
     "output_type": "display_data"
    },
    {
     "name": "stdout",
     "output_type": "stream",
     "text": [
      "epoch 98\n",
      "Train loss: 0.3805805891752243\n",
      "Dev loss: 0.274773433804512\n",
      "Dev F1 0.8947368421052632\n"
     ]
    },
    {
     "data": {
      "application/vnd.jupyter.widget-view+json": {
       "model_id": "2e454e867b174fee9509cf232d70f13f",
       "version_major": 2,
       "version_minor": 0
      },
      "text/plain": [
       "  0%|          | 0/10 [00:00<?, ?it/s]"
      ]
     },
     "metadata": {},
     "output_type": "display_data"
    },
    {
     "name": "stdout",
     "output_type": "stream",
     "text": [
      "epoch 99\n",
      "Train loss: 0.3800170347094536\n",
      "Dev loss: 0.27396138608455656\n",
      "Dev F1 0.8947368421052632\n"
     ]
    }
   ],
   "source": [
    "num_epochs = 100\n",
    "\n",
    "train_features, train_labels_tensor = featurize_data(train_texts, train_labels)\n",
    "train_features = standardize(train_features)\n",
    "dev_features, dev_labels_tensor = featurize_data(dev_texts, dev_labels)\n",
    "dev_features = standardize(dev_features)\n",
    "model = SentimentClassifier(train_features.shape[1]) \n",
    "optimizer = make_optimizer(model, learning_rate=0.01)\n",
    "\n",
    "trained_model = training_loop(\n",
    "    num_epochs,\n",
    "    16,\n",
    "    train_features,\n",
    "    train_labels_tensor,\n",
    "    dev_features,\n",
    "    dev_labels_tensor,\n",
    "    optimizer,\n",
    "    model\n",
    ")"
   ]
  },
  {
   "cell_type": "markdown",
   "metadata": {
    "deletable": false,
    "editable": false,
    "nbgrader": {
     "cell_type": "markdown",
     "checksum": "87d1e5ed402779595d9ba082c5578ab3",
     "grade": false,
     "grade_id": "predict-test-set-desc",
     "locked": true,
     "schema_version": 3,
     "solution": false,
     "task": false
    }
   },
   "source": [
    "# 7 - Predict on the Test Set\n",
    "### Exercise 10\n",
    "Now, let's see how our model did. We'll predict using the trained model and print the F1 score.\n",
    "\n",
    "Test the results you achieve with the two baselines by running the following cells:"
   ]
  },
  {
   "cell_type": "code",
   "execution_count": 42,
   "metadata": {
    "deletable": false,
    "editable": false,
    "nbgrader": {
     "cell_type": "code",
     "checksum": "8590b09c6e3eaa2c527969a55e3f6b71",
     "grade": true,
     "grade_id": "dev-random-results",
     "locked": true,
     "points": 1,
     "schema_version": 3,
     "solution": false,
     "task": false
    }
   },
   "outputs": [
    {
     "name": "stdout",
     "output_type": "stream",
     "text": [
      "Random Chance F1: 0.631578947368421\n",
      "All Test Cases Passed!\n"
     ]
    }
   ],
   "source": [
    "### DEV SET RESULTS - RANDOM CHANCE\n",
    "\n",
    "devset_prediction_random = predict_random(train_labels, num_samples=len(dev_labels))\n",
    "dev_random_f1 = f1_score(devset_prediction_random, dev_labels)\n",
    "print('Random Chance F1:', dev_random_f1)\n",
    "\n",
    "assert dev_random_f1 > 0\n",
    "\n",
    "print('All Test Cases Passed!')"
   ]
  },
  {
   "cell_type": "code",
   "execution_count": 43,
   "metadata": {
    "deletable": false,
    "editable": false,
    "nbgrader": {
     "cell_type": "code",
     "checksum": "3872658cf8be8253cb886209c6ee5e93",
     "grade": true,
     "grade_id": "dev-logistic-results",
     "locked": true,
     "points": 2,
     "schema_version": 3,
     "solution": false,
     "task": false
    }
   },
   "outputs": [
    {
     "name": "stdout",
     "output_type": "stream",
     "text": [
      "Logistic Regression Results:\n",
      "Accuracy: 0.8947368421052632\n",
      "F1-score 0.8947368421052632\n",
      "All Test Cases Passed!\n"
     ]
    }
   ],
   "source": [
    "### DEV SET RESULTS - LOGISTIC REGRESSION\n",
    "\n",
    "dev_features, dev_labels = featurize_data(dev_texts, dev_labels)\n",
    "dev_features = standardize(dev_features)\n",
    "dev_logistic_accuracy = accuracy(predict(trained_model, dev_features), dev_labels.tolist())\n",
    "dev_logistic_f1 = f1_score(predict(trained_model, dev_features), dev_labels.tolist())\n",
    "print('Logistic Regression Results:')\n",
    "print('Accuracy:', dev_logistic_accuracy)\n",
    "print('F1-score', dev_logistic_f1)\n",
    "\n",
    "assert dev_logistic_accuracy > 0.8\n",
    "assert dev_logistic_f1 > 0.8\n",
    "print('All Test Cases Passed!')"
   ]
  },
  {
   "cell_type": "code",
   "execution_count": 44,
   "metadata": {
    "deletable": false,
    "editable": false,
    "nbgrader": {
     "cell_type": "code",
     "checksum": "e6d5ec5824d1a318ebdea60d5b0731a4",
     "grade": true,
     "grade_id": "test-random-results",
     "locked": true,
     "points": 1,
     "schema_version": 3,
     "solution": false,
     "task": false
    }
   },
   "outputs": [
    {
     "name": "stdout",
     "output_type": "stream",
     "text": [
      "Testing on the hidden test set...\n"
     ]
    }
   ],
   "source": [
    "### TEST SET RESULTS - RANDOM CHANCE\n",
    "### Run the below code to test our random classifier on the hidden test set\n",
    "\n",
    "print(\"Testing on the hidden test set...\")\n"
   ]
  },
  {
   "cell_type": "code",
   "execution_count": 45,
   "metadata": {
    "deletable": false,
    "editable": false,
    "nbgrader": {
     "cell_type": "code",
     "checksum": "c8e7063294ebbaf98dfe7049396406a9",
     "grade": true,
     "grade_id": "test-logistic-results",
     "locked": true,
     "points": 4,
     "schema_version": 3,
     "solution": false,
     "task": false
    }
   },
   "outputs": [
    {
     "name": "stdout",
     "output_type": "stream",
     "text": [
      "Testing on the hidden test set...\n"
     ]
    }
   ],
   "source": [
    "### TEST SET RESULTS - LOGISTIC REGRESSION\n",
    "### Run the below code to test our logistic regression classifier on the hidden test set\n",
    "\n",
    "print(\"Testing on the hidden test set...\")\n"
   ]
  },
  {
   "cell_type": "code",
   "execution_count": null,
   "metadata": {},
   "outputs": [],
   "source": []
  }
 ],
 "metadata": {
  "kernelspec": {
   "display_name": "Python 3 (ipykernel)",
   "language": "python",
   "name": "python3"
  },
  "language_info": {
   "codemirror_mode": {
    "name": "ipython",
    "version": 3
   },
   "file_extension": ".py",
   "mimetype": "text/x-python",
   "name": "python",
   "nbconvert_exporter": "python",
   "pygments_lexer": "ipython3",
   "version": "3.10.6"
  }
 },
 "nbformat": 4,
 "nbformat_minor": 4
}
