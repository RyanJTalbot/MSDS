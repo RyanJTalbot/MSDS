{
 "cells": [
  {
   "cell_type": "markdown",
   "metadata": {
    "deletable": false,
    "editable": false,
    "nbgrader": {
     "cell_type": "markdown",
     "checksum": "23d3cad639a33ac44080342d86f03a79",
     "grade": false,
     "grade_id": "cell-52f5559d92887e3c",
     "locked": true,
     "schema_version": 3,
     "solution": false,
     "task": false
    }
   },
   "source": [
    "# Probabilistic Language Modeling\n",
    "\n",
    "## Conditional Probability\n",
    "\n",
    "$P(A \\mid B)=\\frac{P(A \\cap B)}{P(B)}$\n",
    "\n",
    "$P(A \\cap B)=P(B \\mid A) * P(A)$"
   ]
  },
  {
   "cell_type": "code",
   "execution_count": 2,
   "metadata": {},
   "outputs": [],
   "source": [
    "from collections import Counter\n",
    "from typing import List, Union, Tuple"
   ]
  },
  {
   "cell_type": "code",
   "execution_count": 4,
   "metadata": {
    "deletable": false,
    "nbgrader": {
     "cell_type": "code",
     "checksum": "1bd36b873a23cc73f679913a88626fbe",
     "grade": false,
     "grade_id": "cell-b028f34ad0c3f8f5",
     "locked": false,
     "schema_version": 3,
     "solution": true,
     "task": false
    }
   },
   "outputs": [
    {
     "name": "stdout",
     "output_type": "stream",
     "text": [
      "0.25\n"
     ]
    }
   ],
   "source": [
    "def prob(word: str, corpus: List[str]) -> float:\n",
    "    \"\"\"Return the probability of `word` in `corpus`.\n",
    "    P(w_1) = count(w_1) / N\n",
    "    \"\"\"\n",
    "    \n",
    "    # Below gives you a list of whitespace-separated tokens for all sentences\n",
    "    # in the corpus, and a dictionary of counts for each unique word.\n",
    "    tokens = [token for sentence in corpus for token in sentence.split()]\n",
    "    counts = Counter(tokens)\n",
    "    \n",
    "    # Find the probability of word given these counts\n",
    "    # your code here\n",
    "#     raise NotImplementedError\n",
    "    \n",
    "    total_words = len(tokens)\n",
    "    word_count = counts[word] if word in counts else 0\n",
    "    probability = word_count / total_words if total_words > 0 else 0\n",
    "    \n",
    "    return probability\n",
    "\n",
    "print(prob(\"this\", [\"this is a corpus\"]))  # 0.25\n",
    "\n",
    "\n"
   ]
  },
  {
   "cell_type": "code",
   "execution_count": 5,
   "metadata": {
    "deletable": false,
    "editable": false,
    "nbgrader": {
     "cell_type": "code",
     "checksum": "b6339ce4e345ad477518f232b78b6294",
     "grade": true,
     "grade_id": "cell-ec7859188373645f",
     "locked": true,
     "points": 5,
     "schema_version": 3,
     "solution": false,
     "task": false
    }
   },
   "outputs": [
    {
     "name": "stdout",
     "output_type": "stream",
     "text": [
      "All Test Cases Have Passed!\n"
     ]
    }
   ],
   "source": [
    "\"\"\"Test cases\"\"\"\n",
    "assert prob(\"this\", [\"this is a corpus\"]) == 0.25\n",
    "print('All Test Cases Have Passed!')"
   ]
  },
  {
   "cell_type": "code",
   "execution_count": null,
   "metadata": {},
   "outputs": [],
   "source": []
  }
 ],
 "metadata": {
  "kernelspec": {
   "display_name": "Python 3",
   "language": "python",
   "name": "python3"
  },
  "language_info": {
   "codemirror_mode": {
    "name": "ipython",
    "version": 3
   },
   "file_extension": ".py",
   "mimetype": "text/x-python",
   "name": "python",
   "nbconvert_exporter": "python",
   "pygments_lexer": "ipython3",
   "version": "3.7.6"
  }
 },
 "nbformat": 4,
 "nbformat_minor": 4
}
