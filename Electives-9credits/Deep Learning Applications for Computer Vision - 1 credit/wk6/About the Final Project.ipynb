{
 "cells": [
  {
   "cell_type": "markdown",
   "id": "4f6effbe-344d-44ae-aec3-1002ad53902c",
   "metadata": {},
   "source": [
    "# About the Final Project\n",
    "\n",
    "For the Final Project we will explore algorithms used in Facial Recognition. As recent research pointed out (The Gender Shades project: [gendershades](http://gendershades.org)  , current face recognition systems have substantial disparities in accuracy when applied to pictures of darker females, lighter females, darker males, and lighter males. \n",
    "\n",
    "The Final Project is providing the learner with two possible solutions to address the skin-based and gender-based disparities in face recognition systems. The solutions are trying to address the lack of data which leads to the low representation of some categories, as evidenced by the disparities in accuracy. One choice uses a classic Computer Vision algorithm (Viola & Jones [approach](https://www.cs.cmu.edu/~efros/courses/LBMV07/Papers/viola-cvpr-01.pdf) ). The other choice is Deep Learning based (Deep Face Recognition [model](https://www.robots.ox.ac.uk/~vgg/publications/2015/Parkhi15/parkhi15.pdf) ). \n",
    "\n",
    "You will be asked to choose one option and argument your choice, contrasting it with the other approach. \n",
    "\n",
    "# Readings and Resources for the Final Project\n",
    "\n",
    "Reading articles and resources for the Facial Recognition topic and for the Final Project:\n",
    "\n",
    "- Viola & Jones Facial Recognition [paper](https://www.cs.cmu.edu/~efros/courses/LBMV07/Papers/viola-cvpr-01.pdf): “Rapid Object Detection using a Boosted Cascade of Simple Features.”\n",
    "\n",
    "- Deep Face Recognition [paper](https://www.robots.ox.ac.uk/~vgg/publications/2015/Parkhi15/parkhi15.pdf): Parkhi, O.P., Vedaldi, A., Zisserman A. \"Deep Face Recognition\", 2015\n",
    "\n",
    "- The Gender Shades project: [gendershades](http://gendershades.org) \n",
    "\n",
    "- Gender Shades [research paper](http://proceedings.mlr.press/v81/buolamwini18a/buolamwini18a.pdf)"
   ]
  },
  {
   "cell_type": "code",
   "execution_count": null,
   "id": "a0cc858f-37ef-4cf0-8d60-19ba1282ab32",
   "metadata": {},
   "outputs": [],
   "source": []
  },
  {
   "cell_type": "markdown",
   "id": "d684cab8-188d-4c93-b92b-c84be39c4c44",
   "metadata": {},
   "source": [
    "1. **Introduction and Background**: Start by introducing the issue of disparities in facial recognition accuracy based on skin color and gender. Mention the Gender Shades project, which highlighted how existing systems often underperform when recognizing darker-skinned individuals, especially women. This sets the context for the two proposed solutions in the Final Project: the classic Viola-Jones Computer Vision algorithm and the Deep Learning-based Deep Face Recognition model.\n",
    "\n",
    "2. **Viola-Jones Algorithm**: Briefly explain the Viola-Jones approach, focusing on its use of simple Haar-like features and a cascade of classifiers to detect faces. Discuss its efficiency in real-time applications, but also its limitations in handling complex variations in lighting, pose, and diverse skin tones, which contribute to accuracy disparities in recognizing underrepresented groups.\n",
    "\n",
    "3. **Deep Face Recognition Model**: Introduce the Deep Learning-based approach, emphasizing the use of large-scale datasets and convolutional neural networks (CNNs). Highlight its ability to learn deep features that improve accuracy across a wider range of facial variations, including different skin tones and genders. Contrast this with Viola-Jones, noting the benefit of end-to-end learning in addressing bias through more representative data.\n",
    "\n",
    "4. **Argument and Conclusion**: Conclude by stating your choice between the two approaches. For example, if choosing Deep Face Recognition, argue that its capacity to scale with diverse data makes it a better solution for addressing skin-based and gender-based disparities. Contrast this with the more traditional and less flexible Viola-Jones approach, acknowledging its simplicity but ultimately favoring the deeper, data-driven capabilities of CNNs."
   ]
  },
  {
   "cell_type": "markdown",
   "id": "46aee3c9-2595-4fd7-b9ba-a3aea1f0c142",
   "metadata": {},
   "source": [
    "Facial recognition technology has been found to exhibit significant disparities in accuracy across different skin tones and genders, as highlighted by the Gender Shades project, which revealed that existing systems often underperform when recognizing darker-skinned individuals, particularly women. Addressing these biases is crucial for developing more equitable and reliable recognition systems. In response, the Final Project explores two distinct approaches: the classic Viola-Jones computer vision algorithm, renowned for its rapid object detection capabilities using a boosted cascade of simple features, and the Deep Learning-based Deep Face Recognition model, which leverages convolutional neural networks and large-scale datasets to enhance recognition performance. By comparing these methodologies, the project aims to identify effective strategies for mitigating bias and improving the overall accuracy of facial recognition systems across diverse demographic groups.\n",
    "\n",
    "The Viola-Jones algorithm revolutionized face detection by leveraging simple Haar-like features combined with a cascade of classifiers to efficiently identify faces in images. By utilizing an integral image representation, the algorithm rapidly computes these Haar-like features, enabling real-time performance at speeds such as 15 frames per second on standard hardware. The cascade structure enhances efficiency by quickly eliminating regions of an image that are unlikely to contain faces, thereby concentrating computational efforts on more promising areas. Despite its impressive speed and effectiveness in controlled environments, the Viola-Jones approach encounters limitations when confronted with complex variations in lighting, facial poses, and diverse skin tones. These factors can degrade detection accuracy, particularly for underrepresented groups, highlighting the algorithm's challenges in handling the nuanced diversity present in real-world scenarios.\n",
    "\n",
    "Deep Face Recognition models leverage deep learning techniques, particularly convolutional neural networks (CNNs), trained on expansive datasets comprising millions of facial images. This approach enables the extraction of intricate deep features that enhance recognition accuracy across diverse facial variations, including different skin tones, genders, and poses. Unlike the Viola-Jones framework, which relies on handcrafted features and a cascade of classifiers, deep learning-based methods employ end-to-end learning, allowing the model to automatically learn and optimize feature representations from data. This comprehensive learning process not only improves robustness and precision but also mitigates biases by utilizing more representative and varied datasets. Consequently, deep face recognition models offer superior performance in real-world scenarios, addressing limitations inherent in earlier methods like Viola-Jones by ensuring more equitable and accurate detection and identification across a broader spectrum of individuals.\n",
    "\n",
    "When comparing the Viola-Jones framework with modern Deep Face Recognition approaches, it becomes evident that each has its distinct strengths and limitations. The Viola-Jones method, renowned for its simplicity and real-time performance, relies on handcrafted features and a boosted cascade classifier, making it highly efficient for tasks like face detection in controlled environments. However, its reliance on predefined features limits its adaptability to diverse and unconstrained settings, potentially exacerbating skin-based and gender-based disparities due to its less flexible feature representation. In contrast, Deep Face Recognition leverages convolutional neural networks (CNNs) to automatically learn rich, hierarchical feature representations from vast and diverse datasets. This data-driven approach not only enhances accuracy and robustness across varying conditions but also offers greater scalability and adaptability, enabling the model to generalize better across different skin tones and genders. Consequently, despite the Viola-Jones method's computational efficiency and simplicity, the superior scalability and inclusive capabilities of Deep Face Recognition make it a more effective solution for addressing disparities and achieving high-performance face recognition in diverse real-world applications."
   ]
  },
  {
   "cell_type": "markdown",
   "id": "4c1676d3-47cd-42bb-b101-ee30edbbc445",
   "metadata": {},
   "source": [
    "---\n",
    "\n",
    "### To address disparities in facial recognition accuracy across different skin tones and genders, the Deep Face Recognition model from the Parkhi et al. paper would be more suitable than the Viola-Jones method. Here’s why:\n",
    "\n",
    "---"
   ]
  },
  {
   "cell_type": "markdown",
   "id": "29d9cf9a-71a5-4f88-86ab-69ca64f4ae65",
   "metadata": {},
   "source": [
    "# New Version Below"
   ]
  },
  {
   "cell_type": "markdown",
   "id": "9359b3ff-adfa-436c-9bcf-c1dabfe89d1f",
   "metadata": {},
   "source": [
    "The Gender Shades project brought to light critical disparities in facial recognition technology's accuracy across various skin tones and genders. Their findings underscore a significant issue: many facial recognition systems struggle, particularly in recognizing darker-skinned individuals, especially women. Tackling these biases is essential to building fairer and more reliable recognition systems. In response to this, my final project compares two distinct approaches: the classic Viola-Jones computer vision algorithm, known for its fast object detection using a boosted cascade of simple features, and a deep learning-based Deep Face Recognition model that leverages convolutional neural networks (CNNs) trained on extensive datasets to improve recognition accuracy. This paper critically evaluates the Viola-Jones algorithm and Deep Face Recognition models in addressing biases in facial recognition technology, arguing that while Viola-Jones is efficient in controlled settings, Deep Face Recognition's adaptability, scalability, and ability to leverage diverse datasets make it a superior solution for achieving fair, inclusive, and accurate performance across diverse demographic groups.\n",
    "\n",
    "The Viola-Jones algorithm was groundbreaking in the field of face detection due to its use of simple Haar-like features and a cascade of classifiers, allowing for efficient face identification in images. By employing an \"integral image\" representation, it computes these features with efficiency, achieving real-time performance at about 15 frames per second on standard hardware. Its cascade structure further boosts efficiency by disregarding parts of an image that are unlikely to contain faces, which allows computational power to focus on regions of interest. Viola-Jones is fast and effective in controlled settings, it faces challenges in real-world environments where variations in lighting, facial poses, and skin tones are common. These limitations can greatly impact detection accuracy, particularly for underrepresented groups, leading to the algorithm’s difficulty in accommodating the nuanced diversity in real-world scenarios.\n",
    "\n",
    "Unlike the Viola-Jones algorithm, which depends on handcrafted features and a set cascade of classifiers, deep learning models perform end-to-end learning. This enables them to learn and refine feature representations from the data itself, which improves robustness and precision. By using diverse, representative datasets, these deep learning methods can also help mitigate biases inherent in earlier approaches. Deep Face Recognition, therefore, offers superior performance in real-world settings, addressing many limitations of the Viola-Jones method and enabling more fair and accurate detection across a wider range of individuals.\n",
    "\n",
    "Comparing the Viola-Jones framework with contemporary Deep Face Recognition models highlights their distinct advantages and drawbacks. The Viola-Jones method, with its simplicity and real-time performance, is effective for basic face detection tasks in controlled environments. Yet, its reliance on predefined, handcrafted features limits its flexibility and adaptability in diverse or unconstrained scenarios, which may exacerbate skin- and gender-based biases due to its rigid feature representation. Deep Face Recognition employs CNNs to learn rich, hierarchical feature representations from large and diverse datasets, without the need for manual feature selection. This data-driven approach improves accuracy and robustness across a range of conditions and offers greater scalability, allowing the model to generalize better across different demographics. While the Viola-Jones method is computationally efficient, Deep Face Recognition's adaptability, scalability, and inclusivity make it a more promising solution for reducing disparities and achieving high-performance facial recognition in diverse real-world applications.\n",
    "\n",
    "\n"
   ]
  },
  {
   "cell_type": "markdown",
   "id": "3e72fcc7-cd74-4bac-98f2-cd4937c2ed94",
   "metadata": {},
   "source": [
    "---"
   ]
  },
  {
   "cell_type": "markdown",
   "id": "d88fe0f0-b539-484f-b5f3-278f7e66136a",
   "metadata": {},
   "source": [
    "Peer-graded Assignment: DTSA 5707 Deep Learning Applications for Computer Vision Final Project\n",
    "DeadlineDec 10, 11:50 PM CET\n",
    "Ready for the assignment?\n",
    "You will find instructions below to submit.\n",
    "Project Title *\n",
    "\n",
    "For the Final Project we will explore algorithms used in Facial Recognition. As recent research pointed out (The Gender Shades project: http://gendershades.org\n",
    "\n",
    "), current face recognition systems have substantial disparities in accuracy when applied to pictures of darker females, lighter females, darker males, and lighter males. \n",
    "\n",
    "In the paper\n",
    "\n",
    " published in 2018,  researchers Joy Buolamwini from MIT Media and Timnit Gebru from Microsoft Research, analyzed three commercially available gender classification software systems. They discovered that the databases used to train these systems consisted primarily in lighter-skinned subjects (from 79.6% to 86.2% of training images). The lower representation of images of darker-skinned subjects was the reason for the disparities in gender classification: darker-skinned females were the most misclassified group (with the lowest accuracy of 65.3%), while the lighter-skinned males achieved an accuracy as high as 99.8%.\n",
    "\n",
    "The Final Project is providing the learner with two possible solutions to address the skin-based and gender-based disparities in face recognition systems. The solutions are trying to address the lack of data which leads to the low representation of some categories, and as a consequence it leads to low recognition accuracy. One choice uses a classic algorithm (Viola & Jones approach\n",
    "). The other choice is Deep Learning based (Deep Face Recognition model\n",
    "\n",
    "). Here are the possible solutions below:\n",
    "\n",
    "Option A: To solve the skin and gender disparity in face recognition you choose to use the classic approach outlined in the Viola & Jones paper\n",
    "\n",
    ". The algorithm uses machine learning but relies on image features (here the features used are called Haar features). A model needs to be trained for faces in the frontal view, and a separate model needs to be trained for faces in the profile view, as the collection and hierarchy of Haar features will be different in each situation. Separate training data sets are needed as well.\n",
    "\n",
    "The original algorithm trained on approximately 20 000 images, 10 000 of them containing faces and the other 10 000 being images of non-faces. In order to improve this face detection algorithm you will create four separate training datasets (containing 10 000 new images each), and train separate models for each of these categories:\n",
    "\n",
    "    darker-skinned males\n",
    "\n",
    "    darker-skinned females\n",
    "\n",
    "    lighter-skinned males\n",
    "\n",
    "    lighter-skinned females\n",
    "\n",
    "When presented with a new image, you will apply each of the four models, and choose the answer with the highest probability value.\n",
    "\n",
    "Option B: To solve the skin and gender disparity in face recognition you choose the Deep Learning approach outlined in the Deep Face Recognition paper\n",
    "\n",
    ". This paper discusses a novel approach for generating a training dataset, in which multiple stages are being followed, which results in a set with almost 1 million images, from 2622 subjects. Approximately 95% are frontal and 5% are profile. The very deep architecture consists of 37 layers, organized in 11 blocks, where the first 8 blocks are convolutional, and the last 3 blocks are fully connected (more details in the paper).\n",
    "\n",
    "In order to improve this face detection algorithm you will augment the training data set with an extra 1 million images of darker-skinned subjects, effectively doubling the size of the training dataset. Half of the new images will be of male subjects and half will be of female subjects. In the database creation, you will use the same stages outlined in the original paper. The model will be trained to detect and recognize at least 5000 subjects, where half should be darker-skinned subjects. When presented with a new image (of one of the 5000 subjects), the model will be able to identify the correct person.\n",
    "\n",
    "Final Project task: Which option (A or B) do you think will be best suited to improve the skin and gender based disparities in face recognition? Choose one of the options and answer the following questions:\n",
    "\n",
    "Q1: Which option did you choose?\n",
    "\n",
    "Q2: Why did you choose this option? Argument your choice by writing one paragraph in support of the option you selected.\n",
    "\n",
    "Q3: Why did you think the other option was less likely to succeed? Write one paragraph focusing on the drawbacks of the option you did not select."
   ]
  },
  {
   "cell_type": "markdown",
   "id": "abb5a6f3-ba55-4083-90ea-52f0b7e2b9b8",
   "metadata": {},
   "source": [
    "Q1: I chose The Deep Learning approach paper.\n",
    "\n",
    "\n",
    "Q2: I chose the The Deep Learning approach because it offers a more robust and scalable solution to addressing the skin and gender disparities in facial recognition. By leveraging a large and diverse training dataset and a sophisticated neural network architecture, this method has the ability to learn complex facial features that account for variations in skin tone, gender, pose, etc. The augmentation of the dataset with an additional 1 million images specifically focused on darker-skinned individuals helps directly address the under-representation identified in previous studies like the Gender Shades paper. Also, the model's end-to-end learning process allows it to generalize better across diverse demographic groups, allowing for higher accuracy and fairness compared to classic approaches. This approach is also more adaptable to real-world applications, where uncontrolled conditions such as lighting and pose variability are common.\n",
    "\n",
    "\n",
    "\n",
    "\n",
    "Q3: I found that Option A, the Viola-Jones approach, is less likely to succeed because it relies on handcrafted features and separate models for each demographic group, which limits its adaptability and scalability. Training four distinct models for different demographic groups requires careful curation of datasets and could introduce inconsistencies or biases in the decision-making process when combining the outputs. Also, Viola-Jones is primarily a detection algorithm rather than a recognition system, meaning it lacks the sophistication to learn the complex feature representations required for fair and accurate facial recognition across diverse groups. Its reliance on Haar features and the lack of an end-to-end learning process make it less effective in handling real-world variability and addressing biases comprehensively.\n",
    "\n",
    "\n",
    "\n",
    "\n"
   ]
  },
  {
   "cell_type": "code",
   "execution_count": null,
   "id": "d2f7aad5-002b-439f-94c4-68bac06d27ef",
   "metadata": {},
   "outputs": [],
   "source": []
  }
 ],
 "metadata": {
  "kernelspec": {
   "display_name": "Python 3 (ipykernel)",
   "language": "python",
   "name": "python3"
  },
  "language_info": {
   "codemirror_mode": {
    "name": "ipython",
    "version": 3
   },
   "file_extension": ".py",
   "mimetype": "text/x-python",
   "name": "python",
   "nbconvert_exporter": "python",
   "pygments_lexer": "ipython3",
   "version": "3.8.18"
  }
 },
 "nbformat": 4,
 "nbformat_minor": 5
}
