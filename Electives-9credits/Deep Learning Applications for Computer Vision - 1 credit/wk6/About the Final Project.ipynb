{
 "cells": [
  {
   "cell_type": "markdown",
   "id": "4f6effbe-344d-44ae-aec3-1002ad53902c",
   "metadata": {},
   "source": [
    "# About the Final Project\n",
    "\n",
    "For the Final Project we will explore algorithms used in Facial Recognition. As recent research pointed out (The Gender Shades project: [gendershades](http://gendershades.org)  , current face recognition systems have substantial disparities in accuracy when applied to pictures of darker females, lighter females, darker males, and lighter males. \n",
    "\n",
    "The Final Project is providing the learner with two possible solutions to address the skin-based and gender-based disparities in face recognition systems. The solutions are trying to address the lack of data which leads to the low representation of some categories, as evidenced by the disparities in accuracy. One choice uses a classic Computer Vision algorithm (Viola & Jones [approach](https://www.cs.cmu.edu/~efros/courses/LBMV07/Papers/viola-cvpr-01.pdf) ). The other choice is Deep Learning based (Deep Face Recognition [model](https://www.robots.ox.ac.uk/~vgg/publications/2015/Parkhi15/parkhi15.pdf) ). \n",
    "\n",
    "You will be asked to choose one option and argument your choice, contrasting it with the other approach. \n",
    "\n",
    "# Readings and Resources for the Final Project\n",
    "\n",
    "Reading articles and resources for the Facial Recognition topic and for the Final Project:\n",
    "\n",
    "- Viola & Jones Facial Recognition [paper](https://www.cs.cmu.edu/~efros/courses/LBMV07/Papers/viola-cvpr-01.pdf): “Rapid Object Detection using a Boosted Cascade of Simple Features.”\n",
    "\n",
    "- Deep Face Recognition [paper](https://www.robots.ox.ac.uk/~vgg/publications/2015/Parkhi15/parkhi15.pdf): Parkhi, O.P., Vedaldi, A., Zisserman A. \"Deep Face Recognition\", 2015\n",
    "\n",
    "- The Gender Shades project: [gendershades](http://gendershades.org) \n",
    "\n",
    "- Gender Shades [research paper](http://proceedings.mlr.press/v81/buolamwini18a/buolamwini18a.pdf)"
   ]
  },
  {
   "cell_type": "code",
   "execution_count": null,
   "id": "a0cc858f-37ef-4cf0-8d60-19ba1282ab32",
   "metadata": {},
   "outputs": [],
   "source": []
  },
  {
   "cell_type": "markdown",
   "id": "d684cab8-188d-4c93-b92b-c84be39c4c44",
   "metadata": {},
   "source": [
    "1. **Introduction and Background**: Start by introducing the issue of disparities in facial recognition accuracy based on skin color and gender. Mention the Gender Shades project, which highlighted how existing systems often underperform when recognizing darker-skinned individuals, especially women. This sets the context for the two proposed solutions in the Final Project: the classic Viola-Jones Computer Vision algorithm and the Deep Learning-based Deep Face Recognition model.\n",
    "\n",
    "2. **Viola-Jones Algorithm**: Briefly explain the Viola-Jones approach, focusing on its use of simple Haar-like features and a cascade of classifiers to detect faces. Discuss its efficiency in real-time applications, but also its limitations in handling complex variations in lighting, pose, and diverse skin tones, which contribute to accuracy disparities in recognizing underrepresented groups.\n",
    "\n",
    "3. **Deep Face Recognition Model**: Introduce the Deep Learning-based approach, emphasizing the use of large-scale datasets and convolutional neural networks (CNNs). Highlight its ability to learn deep features that improve accuracy across a wider range of facial variations, including different skin tones and genders. Contrast this with Viola-Jones, noting the benefit of end-to-end learning in addressing bias through more representative data.\n",
    "\n",
    "4. **Argument and Conclusion**: Conclude by stating your choice between the two approaches. For example, if choosing Deep Face Recognition, argue that its capacity to scale with diverse data makes it a better solution for addressing skin-based and gender-based disparities. Contrast this with the more traditional and less flexible Viola-Jones approach, acknowledging its simplicity but ultimately favoring the deeper, data-driven capabilities of CNNs."
   ]
  },
  {
   "cell_type": "markdown",
   "id": "46aee3c9-2595-4fd7-b9ba-a3aea1f0c142",
   "metadata": {},
   "source": [
    "Facial recognition technology has been found to exhibit significant disparities in accuracy across different skin tones and genders, as highlighted by the Gender Shades project, which revealed that existing systems often underperform when recognizing darker-skinned individuals, particularly women. Addressing these biases is crucial for developing more equitable and reliable recognition systems. In response, the Final Project explores two distinct approaches: the classic Viola-Jones computer vision algorithm, renowned for its rapid object detection capabilities using a boosted cascade of simple features, and the Deep Learning-based Deep Face Recognition model, which leverages convolutional neural networks and large-scale datasets to enhance recognition performance. By comparing these methodologies, the project aims to identify effective strategies for mitigating bias and improving the overall accuracy of facial recognition systems across diverse demographic groups."
   ]
  },
  {
   "cell_type": "code",
   "execution_count": null,
   "id": "047b7c9e-1d79-4b8c-894c-5c0d4723e5bb",
   "metadata": {},
   "outputs": [],
   "source": []
  }
 ],
 "metadata": {
  "kernelspec": {
   "display_name": "Python 3 (ipykernel)",
   "language": "python",
   "name": "python3"
  },
  "language_info": {
   "codemirror_mode": {
    "name": "ipython",
    "version": 3
   },
   "file_extension": ".py",
   "mimetype": "text/x-python",
   "name": "python",
   "nbconvert_exporter": "python",
   "pygments_lexer": "ipython3",
   "version": "3.8.18"
  }
 },
 "nbformat": 4,
 "nbformat_minor": 5
}
