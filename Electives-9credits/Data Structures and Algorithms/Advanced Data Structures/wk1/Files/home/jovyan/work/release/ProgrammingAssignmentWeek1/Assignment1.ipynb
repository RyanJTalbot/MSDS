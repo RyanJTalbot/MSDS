{
 "cells": [
  {
   "cell_type": "markdown",
   "id": "83e76ccd",
   "metadata": {
    "deletable": false,
    "editable": false,
    "nbgrader": {
     "cell_type": "markdown",
     "checksum": "bfb3fe8a72b78ee1f738af8b430d4eb7",
     "grade": false,
     "grade_id": "cell-8fdb2c1e5f4ad299",
     "locked": true,
     "schema_version": 3,
     "solution": false,
     "task": false
    }
   },
   "source": [
    "# Factoring for Breaking RSA\n",
    "\n",
    "In this assignment, we will explore first hand why factoring a number  is difficult. We will assume that the number $n$ to be factored is _semi-prime_, i.e, it is the product of two prime factors ($n = p \\times q$ where $p, q$ are both prime).\n",
    "\n",
    "First,  we will explore _trial division_ factoring. The algorithm is very simple.\n",
    "\n",
    "### Brute Force Algorithm to Find Smaller Factor\n",
    "```\n",
    "function find_smaller_factor(n)\n",
    "   for i = 2 to n-1\n",
    "      if i divides n \n",
    "          return i\n",
    "    end \n",
    "   return None\n",
    "```\n",
    "\n",
    "### (A) Running Time.\n",
    "\n",
    "Let $n$ be a number whose binary representation has $k$ bits. What is a bound on the running time of the brute-force factoring algorithm above as a function of $k$, in the worst-case?"
   ]
  },
  {
   "cell_type": "markdown",
   "id": "fc984292",
   "metadata": {
    "deletable": false,
    "nbgrader": {
     "cell_type": "markdown",
     "checksum": "6caeb71294d70ad4ebc330e276ea25c9",
     "grade": true,
     "grade_id": "cell-7ceaf65d1a3329d6",
     "locked": false,
     "points": 0,
     "schema_version": 3,
     "solution": true,
     "task": false
    }
   },
   "source": [
    "YOUR ANSWER HERE"
   ]
  },
  {
   "cell_type": "markdown",
   "id": "b52785f9",
   "metadata": {
    "deletable": false,
    "editable": false,
    "nbgrader": {
     "cell_type": "markdown",
     "checksum": "a34b165c5ddfe6118ad9cba66d49a72f",
     "grade": false,
     "grade_id": "cell-6d7d09f7e8998a1a",
     "locked": true,
     "schema_version": 3,
     "solution": false,
     "task": false
    }
   },
   "source": [
    "### (B)  Brute-Force with Sieving\n",
    "\n",
    "We can improve the brute-force algorithm considerably as follows. \n",
    "\n",
    "  1. The brute force algorithm checks if $n$ is divisible by $2$ at the very first step. Doing so, precludes to need to check all even numbers.\n",
    "  2. Once it checks that $n$ is not divisible by $3$, the algorithm does not need to check multiples of $3$.\n",
    "  3. Once it checks that $n$ is not divisible by $5$, the algorithm does not need to check multiples of $5$.\n",
    "  4. Once it checks that $n$ is not divisible by $7$, the algorithm does not need to check multiples of $7$.\n",
    " \n",
    "We can keep going for more primes but we will need to check the utilitiy of doing so.\n",
    "\n",
    "  \n",
    "Modify the brute force algorithm above to check if $n$ is divsible by $2, 3$ or $5$ in the first place and then skip all multiples of $2, 3, 5, 7$.\n",
    "\n",
    "Here is the pseudocode\n",
    "\n",
    "```\n",
    "1. check if n is divisible by 2\n",
    "2. check if n is divisible by 3\n",
    "3. check if n is divisible by 5\n",
    "4. check if n is divisible by 7\n",
    "5. i = 11\n",
    "6. mod_values = [i%2, i%3, i%5, i%7] # this list stores the values of i %2, .., i%7 respectively\n",
    "7. while i < n\n",
    "   7.1  i = i + 2 # increment i to the next odd number\n",
    "   7.3. # TODO update the mod_values list\n",
    "   7.4  # if all the numbers in mod_values are non-zero then \n",
    "           7.4.1 check if n is divisible by i (if yes then we are done).\n",
    "8. No factors found -- the number is  prime.\n",
    "```\n",
    "   \n",
    "Complete the missing portion for the code below. "
   ]
  },
  {
   "cell_type": "code",
   "execution_count": 1,
   "id": "7962993b",
   "metadata": {
    "ExecuteTime": {
     "end_time": "2024-02-11T17:10:43.538693Z",
     "start_time": "2024-02-11T17:10:43.522792Z"
    },
    "deletable": false,
    "nbgrader": {
     "cell_type": "code",
     "checksum": "208a6a5b35e4f572bbbe8de00a005f69",
     "grade": false,
     "grade_id": "cell-542bdc55435740ce",
     "locked": false,
     "schema_version": 3,
     "solution": true,
     "task": false
    }
   },
   "outputs": [],
   "source": [
    "# Check if n is divisible by i : Also keep a counter that checks how many times we call this function.\n",
    "# Important: in your code you must use this function to check divisibility.\n",
    "def count_calls(f):\n",
    "    def inner_fun(*args, **kwargs):\n",
    "        inner_fun.num_calls += 1\n",
    "        return f(*args, **kwargs)\n",
    "    inner_fun.num_calls = 0\n",
    "    return inner_fun\n",
    "\n",
    "@count_calls\n",
    "def is_divisible(n, i):\n",
    "    if n % i == 0:\n",
    "        return True\n",
    "    else: \n",
    "        return False \n",
    "\n",
    "    \n",
    "def find_smallest_factor(n):\n",
    "    is_divisible.num_calls = 0 # reset the counter\n",
    "    # check divisibility by 2\n",
    "    if is_divisible(n, 2):\n",
    "        print('Divisible by 2')\n",
    "        return 2\n",
    "    # check if divisible by 3\n",
    "    if is_divisible(n, 3):\n",
    "        print('Divisible by 3')\n",
    "        return 3\n",
    "    # check if divisible by 5\n",
    "    if is_divisible(n, 5):\n",
    "        print('Divisible by 5')\n",
    "        return 5\n",
    "    # check if divisible by 7\n",
    "    if is_divisible(n, 7):\n",
    "        print('Divisible by 7')\n",
    "        return 7\n",
    "    # Let's start our search for factors at i = 11\n",
    "    i = 11\n",
    "    # We will sieve using primes 3, 5, 7. In other words factors of these numbers will be \"skipped\"\n",
    "    primes = [3, 5, 7] \n",
    "    mod_values = [ i % p for p in primes] # compute i mod p for each p in the list of prime numbers above\n",
    "    while i < n:\n",
    "        # your code here\n",
    "#         raise NotImplementedError\n",
    "\n",
    "        i += 2  # move to next odd candidate\n",
    "\n",
    "        # 7.3 update the mod_values list for i := i + 2\n",
    "        for idx, p in enumerate(primes):\n",
    "            mod_values[idx] = (mod_values[idx] + 2) % p\n",
    "\n",
    "        # 7.4 if all the numbers in mod_values are non-zero then i is not a multiple of 3,5,7\n",
    "        if all(m != 0 for m in mod_values):\n",
    "            if is_divisible(n, i):\n",
    "                print(f'Divisible by {i}')\n",
    "                return i\n",
    "            \n",
    "    return None # We did not find a factor. n is prime"
   ]
  },
  {
   "cell_type": "code",
   "execution_count": 2,
   "id": "5c9ccacc",
   "metadata": {
    "ExecuteTime": {
     "end_time": "2024-02-11T17:15:06.876358Z",
     "start_time": "2024-02-11T17:15:06.872054Z"
    },
    "deletable": false,
    "editable": false,
    "nbgrader": {
     "cell_type": "code",
     "checksum": "bd2ce98eef527ecca3326886ed7af43f",
     "grade": true,
     "grade_id": "cell-5e1793626cd2fab4",
     "locked": true,
     "points": 2,
     "schema_version": 3,
     "solution": false,
     "task": false
    }
   },
   "outputs": [
    {
     "name": "stdout",
     "output_type": "stream",
     "text": [
      "Divisible by 7\n",
      "Number of calls to is_divisible = 4\n"
     ]
    }
   ],
   "source": [
    "p = find_smallest_factor(77)\n",
    "print(f'Number of calls to is_divisible = {is_divisible.num_calls}')\n",
    "assert p == 7, f'Did not find prime factor 7, instead your algorithm finds {p}'\n",
    "assert is_divisible.num_calls <= 5, f'Your algorithm must find a prime factor for 77 using less than 5 divisibility checks'"
   ]
  },
  {
   "cell_type": "code",
   "execution_count": 3,
   "id": "f795ad5b",
   "metadata": {
    "ExecuteTime": {
     "end_time": "2024-02-11T17:15:10.529508Z",
     "start_time": "2024-02-11T17:15:10.524998Z"
    },
    "deletable": false,
    "editable": false,
    "nbgrader": {
     "cell_type": "code",
     "checksum": "243057d859e6ee7145c658562920794f",
     "grade": true,
     "grade_id": "cell-2cf355528c7fbdca",
     "locked": true,
     "points": 2,
     "schema_version": 3,
     "solution": false,
     "task": false
    }
   },
   "outputs": [
    {
     "name": "stdout",
     "output_type": "stream",
     "text": [
      "Divisible by 37\n",
      "Found prime factor 37\n",
      "Number of calls to is_divisible = 11\n"
     ]
    }
   ],
   "source": [
    "p = find_smallest_factor(3589)\n",
    "print(f'Found prime factor {p}')\n",
    "print(f'Number of calls to is_divisible = {is_divisible.num_calls}')\n",
    "assert p == 37, f'Did not find prime factor 37, instead your algorithm finds {p}'\n",
    "assert is_divisible.num_calls <= 13, f'Your algorithm must find a prime factor for 3689 with less than 13 divisibility checks' "
   ]
  },
  {
   "cell_type": "code",
   "execution_count": 4,
   "id": "42eaa565",
   "metadata": {
    "ExecuteTime": {
     "end_time": "2024-02-11T17:15:11.991227Z",
     "start_time": "2024-02-11T17:15:11.982592Z"
    },
    "deletable": false,
    "editable": false,
    "nbgrader": {
     "cell_type": "code",
     "checksum": "24a3547ddc039cf7d752eeded8a6faa3",
     "grade": true,
     "grade_id": "cell-60ea4869f54bc717",
     "locked": true,
     "points": 3,
     "schema_version": 3,
     "solution": false,
     "task": false
    }
   },
   "outputs": [
    {
     "name": "stdout",
     "output_type": "stream",
     "text": [
      "Divisible by 7607\n",
      "Found factor = 7607\n",
      "Number of calls to is_divisible = 1742\n"
     ]
    }
   ],
   "source": [
    "n = 7907 * 7607\n",
    "p = find_smallest_factor(n)\n",
    "print(f'Found factor = {p}')\n",
    "print(f'Number of calls to is_divisible = {is_divisible.num_calls}')\n",
    "assert p == 7607, f'Did not find prime factor 7607, instead your algorithm finds {p}'\n",
    "assert is_divisible.num_calls <= 1743, f'Your algorithm must find a prime factor with <= 1745 divisibility checks'"
   ]
  },
  {
   "cell_type": "markdown",
   "id": "85538399",
   "metadata": {
    "deletable": false,
    "editable": false,
    "nbgrader": {
     "cell_type": "markdown",
     "checksum": "06d03dbfdd59c0f14c0a506d17b76cc4",
     "grade": false,
     "grade_id": "cell-7a4dea3e9b2c76b4",
     "locked": true,
     "schema_version": 3,
     "solution": false,
     "task": false
    }
   },
   "source": [
    "Here is a list of numbers below. How many can we factor within a minute using trial division?"
   ]
  },
  {
   "cell_type": "code",
   "execution_count": 5,
   "id": "804c141c",
   "metadata": {
    "ExecuteTime": {
     "end_time": "2024-02-12T18:08:06.885168Z",
     "start_time": "2024-02-12T18:08:06.877738Z"
    },
    "deletable": false,
    "editable": false,
    "nbgrader": {
     "cell_type": "code",
     "checksum": "e7a29101a1b57f6939f9c84c2b70fb55",
     "grade": false,
     "grade_id": "cell-8f9eaa9a772fcdc4",
     "locked": true,
     "schema_version": 3,
     "solution": false,
     "task": false
    }
   },
   "outputs": [],
   "source": [
    "list_of_semiprimes = [\n",
    "1401,\n",
    "3748486951520329,\n",
    "3752606281089349,\n",
    "3754961171936341,\n",
    "3756235832941861,\n",
    "3758054142736489,\n",
    "3768343025255113,\n",
    "3770908285338889,\n",
    "3789270035360209,\n",
    "3792097195306729,\n",
    "3804080660868409,\n",
    "3809734753698301,\n",
    "3816606928381453,\n",
    "3818949174736609,\n",
    "3820870509943561,\n",
    "3822840857074201,\n",
    "3852076309133401,\n",
    "3876127995012697,\n",
    "3892629672990589,\n",
    "3910648469842633,\n",
    "3920999805125773,\n",
    "3921744925134109,\n",
    "3924792228588397,\n",
    "3931145554413457,\n",
    "3932125632305329,\n",
    "3935928816760081,\n",
    "3961247632016713,\n",
    "3975676605218881,\n",
    "3982569750752293,\n",
    "3982848113442193,\n",
    "3985942367371729,\n",
    "3986200067461861,\n",
    "3990055553157829,\n",
    "3993390558390133,\n",
    "3997252998788437,\n",
    "3998135901643693,\n",
    "4005313130491789,\n",
    "4024933426550977,\n",
    "4036354165122421,\n",
    "4038083373106021,\n",
    "4053866502851821,\n",
    "4067306572005253,\n",
    "4078847544271369,\n",
    "4091861946912889,\n",
    "4099243035596617,\n",
    "4133788979088253,\n",
    "4134939693320221,\n",
    "4142398487623213,\n",
    "4144730958670993,\n",
    "4148739776756977,\n",
    "4179773852763409,\n",
    "4185730146333961,\n",
    "4190837552528629,\n",
    "4194890965293781,\n",
    "4244075651161417,\n",
    "4254595003500757,\n",
    "4299385948797673,\n",
    "4301923741074121,\n",
    "]"
   ]
  },
  {
   "cell_type": "code",
   "execution_count": 6,
   "id": "7e931cb3",
   "metadata": {
    "ExecuteTime": {
     "end_time": "2024-02-12T18:08:07.499026Z",
     "start_time": "2024-02-12T18:08:07.489533Z"
    },
    "deletable": false,
    "editable": false,
    "nbgrader": {
     "cell_type": "code",
     "checksum": "4c65cdd5cf6510ef2e5cf713b1332570",
     "grade": false,
     "grade_id": "cell-10b0221d166f1430",
     "locked": true,
     "schema_version": 3,
     "solution": false,
     "task": false
    }
   },
   "outputs": [],
   "source": [
    "larger_semi_primes = [\n",
    "4071703230088892412366704577889,\n",
    "4077174487336878066180156420913,\n",
    "4094053397286698473482654556417,\n",
    "4101876962280933133784935032973,\n",
    "4116768008174075554551440212201,\n",
    "4118464001488599202933342898101,\n",
    "4147085054282417178385925839741,\n",
    "4199520374935874060660037429949,\n",
    "4201447187669181909345465904081,\n",
    "4217217968185891042690716122269,\n",
    "4265982215678833109847267374413,\n",
    "4276960721039381017538437010893,\n",
    "4297398117491445477141849264433,\n",
    "4308457471676254441614141320113,\n",
    "4318665979975433623121333937613,\n",
    "4348710387247934840196147567301,\n",
    "4350469859956397881296464755633,\n",
    "4350669852395136207796749980041,\n",
    "4353730632166509178471552272853,\n",
    "4364934958079531247768600411733,\n",
    "4382709417960973622364224001181,\n",
    "4407498066449976017490450452053,\n",
    "4440160237236695033093738571121,\n",
    "4470812069786707724589790729261,\n",
    "4473006685447434203417464362073,\n",
    "4505947174116305550519770328493,\n",
    "4506331456206035322582257570713,\n",
    "4517928500344319701290035655193,\n",
    "4561983470742935330053812453913,\n",
    "4565013457567637164614733701313,\n",
    "4585984733863428686341532085817,\n",
    "4595790469861510232344852519141,\n",
    "4632858772095739089669904044193,\n",
    "4644781434285276832768688669473,\n",
    "4690073365881777841992076399393,\n",
    "4724829586977992218263840967501,\n",
    "4725019869133272424776227424373,\n",
    "4752205923965383286154190304221,\n",
    "4764435726053852491938895756381,\n",
    "4810894423853388847508420758621,\n",
    "4846546000539238086954089595097,\n",
    "4857687447489856168024833391453,\n",
    "4982826414605095363428438838441,   \n",
    "840859136266769099141989302482624329,\n",
    "855840576930709266373830586282510261,\n",
    "861027643819701747204277038854579437,\n",
    "871088939311601502891140633368224049,\n",
    "876368423267217465769505759705453833,\n",
    "881679905047142429320588481793680161,\n",
    "890602367374517342786818324571162281,\n",
    "906470074516552795312247312092686229,\n",
    "911963995973572045327359020360210893,\n",
    "943288289991838283035476860320576009,\n",
    "944620452012152541642183718962300277,\n",
    "951576904681254216823623938605652857,\n",
    "961450589952491983605797195651089393,\n",
    "964050666357935817212991539150079037,\n",
    "967277736567145456860165852623284681,\n",
    "968530984526246510271322149219288613,\n",
    "974401043899706344247628066690771421,\n",
    "981226989040468082025646298671070233,\n",
    "987173996184825146489940827731158961,\n",
    "997841210268749097520592503932722977,\n",
    "1000501956329468604835922515785485653,\n",
    "1007869936230522070333869756933805273,\n",
    "1015619573182240460998581330755083693,\n",
    "1021081616047239545075046410122475293,\n",
    "1021775026431207868994862533142687781,\n",
    "1025858272761026148288194223137761897,\n",
    "1044135810793395910631723670369957973,\n",
    "1050464094866115488123433406654950541,\n",
    "1052285424785035861934473489954661509,\n",
    "1056871128349446787904114073964205953,\n",
    "1061185827535031736307801328720295601,\n",
    "1069000700658564288092454421383559141,\n",
    "1071033810778602088143562927009490881,\n",
    "1076873124722141688255023066895194281,\n",
    "1077525117882554594882117042968349977,\n",
    "1083013714117195009506742364666379481,\n",
    "1086545613773109355669486533232229833,\n",
    "1090989333982502939305859595662258221,\n",
    "1105290585806660853359903340831677761,\n",
    "1114536133398125730413308227140211301,\n",
    "1120973982949479306414447845294990701,\n",
    "1129229152990601938966431970922508241,\n",
    "1144031672118032879334904524493262581,\n",
    "1152448327573964768581549093344816661,\n",
    "1160935283607233600257774502082792601,\n",
    "1176153423075023766144324998701733341,\n",
    "1182136568105127912702737426360063617,\n",
    "1184130656332325894986471332077695801,\n",
    "1190842156753902813738209189933879797,\n",
    "1206452330965591330037140781149281577,\n",
    "1217378293587704976714062276054717761,\n",
    "1248739196053094798290642127417720317,\n",
    "1251559447239398891630697146072701321,\n",
    "1283800890972422255210765041023225637,\n",
    "1316872907073608066468826571215294289]"
   ]
  },
  {
   "cell_type": "code",
   "execution_count": 7,
   "id": "1373eb9a",
   "metadata": {
    "ExecuteTime": {
     "end_time": "2024-02-12T18:09:25.763770Z",
     "start_time": "2024-02-12T18:08:08.309324Z"
    },
    "deletable": false,
    "editable": false,
    "nbgrader": {
     "cell_type": "code",
     "checksum": "58bd2e19cc58f39ef30f15434d9d199e",
     "grade": false,
     "grade_id": "cell-022714d31cdadf3c",
     "locked": true,
     "schema_version": 3,
     "solution": false,
     "task": false
    }
   },
   "outputs": [],
   "source": [
    "import time\n",
    "## This is commented out because it takes too long to run. \n",
    "## Uncomment it (copy into new cell and uncomment?)\n",
    "## Increase this to 60 seconds when you are trying the code out to see. But for the testing, we have to disable this cell. \n",
    "#timeout = 5 # seconds \n",
    "#orig_timeout=timeout\n",
    "#num_factored = 0\n",
    "#for n in list_of_semiprimes:\n",
    "#    t0 = time.perf_counter()\n",
    "#    p = find_smallest_factor(n)\n",
    "#    num_factored += 1\n",
    "#    t1 = time.perf_counter()\n",
    "#    print(f'{n} = {p} * {n//p}')\n",
    "#    timeout = timeout - (t1 - t0)\n",
    "#    if timeout < 0:\n",
    "#        break\n",
    "\n",
    "#print(f'{num_factored} numbers were factored within {orig_timeout} seconds')"
   ]
  },
  {
   "cell_type": "markdown",
   "id": "83342c15",
   "metadata": {
    "deletable": false,
    "editable": false,
    "nbgrader": {
     "cell_type": "markdown",
     "checksum": "cc9bc5e04fac4f950e1e25da68eaba9d",
     "grade": false,
     "grade_id": "cell-f5dc7aae3c07c7a5",
     "locked": true,
     "schema_version": 3,
     "solution": false,
     "task": false
    }
   },
   "source": [
    "## Pollard's Rho Algorithm \n",
    "\n",
    "Pollard's rho algorithm is a very interesting approach that can factor numbers faster than trial division. Nevertheless, it is exponential time in practice and falls short of factoring really large numbers.\n",
    "\n",
    "## Basic Ideas\n",
    "\n",
    "We are attempting to find the prime factors of a  large semi-prime number $n$. Trial division runs over numbers $2, 3, 5, \\ldots$ and tests each of them for divisibility by $n$. \n",
    "\n",
    "For Pollard's rho algorithm, we will instead switch to computing $GCD(k_i, n)$ for a series of numbers $k_1, \\ldots, k_m$ that we will generate in a careful manner. \n",
    "\n",
    "__Observation:__ If $k \\not= n$ and $GCD(k, n) \\not= 1$ then $GCD(k, n)$ is a factor of $n$.\n",
    "\n",
    "Clearly, $GCD(k, n)$ is divisible by $n$ (as well as $k$). However, computing GCD is more expensive than computing if $k$ is divisible by $n$. What is the advantage?\n",
    "\n",
    "### Example\n",
    "\n",
    "Let's take $n= 77$. There are exactly two numbers in the range $[2, 76]$ that divide $n$ (viz. $7, 11$). However, if we chose the number $ k \\in \\{ 7, 14, 21, 28, 35, 42, 49, 56, 63, 70, 11, 22, 33, 44, 55, 66 \\}$ all have $GCD(k, n) \\not= 1$ and furthermore, the GCD reveals the factor. \n",
    "\n",
    "\n",
    "In general, if $n = p q$, there are exactly two numbers in the range $[2, n-1]$ that divide $n$ (viz $p, q$) write down a formula for the count of the numbers $k \\in [2, n-1]$ such that $GCD(k, n) \\not= 1$."
   ]
  },
  {
   "cell_type": "markdown",
   "id": "57f93b63",
   "metadata": {
    "deletable": false,
    "nbgrader": {
     "cell_type": "markdown",
     "checksum": "6075b9cc8062b18ed805e64118bec114",
     "grade": true,
     "grade_id": "cell-9369ba5e2f2a553d",
     "locked": false,
     "points": 0,
     "schema_version": 3,
     "solution": true,
     "task": false
    }
   },
   "source": [
    "YOUR ANSWER HERE"
   ]
  },
  {
   "cell_type": "markdown",
   "id": "2a97de21",
   "metadata": {
    "deletable": false,
    "editable": false,
    "nbgrader": {
     "cell_type": "markdown",
     "checksum": "b5262df0e095385055d0cac5740c26e5",
     "grade": false,
     "grade_id": "cell-c3bf9e10c5bd6f1e",
     "locked": true,
     "schema_version": 3,
     "solution": false,
     "task": false
    }
   },
   "source": [
    "## Searching for a factor: version 1\n",
    "\n",
    "Let's try to find a factor by generating (pseudo) random numbers $k_1, \\ldots, k_m$ and checking of $GCD(k_i, n) \\not= 1$ for any $k$. For simplicity, we will provide $m$ as an input.\n",
    "\n",
    "\n",
    "Pseudorandom sequencs can be generated in many ways. A simple approach is to use a polynomial $f(x) = (x^2 + c) \\bmod n$ for a small number $c$, typically $c = 1$. Our pseudo random sequence is typically given by \n",
    " \n",
    " $$ f(2), f(f(2)), f(f(f(2))), ... , f^{(m)}(2) $$\n",
    "\n",
    "where $f^{m}(2)$ is the result of applying the function $f$ to $2$, $m$ times.\n",
    "\n",
    "Do not forget to run the cell below."
   ]
  },
  {
   "cell_type": "code",
   "execution_count": 11,
   "id": "1413b63e",
   "metadata": {
    "deletable": false,
    "editable": false,
    "nbgrader": {
     "cell_type": "code",
     "checksum": "ed1eee25f2973cf07fd79ed6167c92e8",
     "grade": false,
     "grade_id": "cell-1502a51ecaaddc31",
     "locked": true,
     "schema_version": 3,
     "solution": false,
     "task": false
    }
   },
   "outputs": [],
   "source": [
    "# here is the code for GCD\n",
    "def gcd(m, n):\n",
    "    if (m < n):\n",
    "        (m, n) = (n, m)\n",
    "    while n > 0:\n",
    "        (m, n) = (n, m%n)\n",
    "    return m\n",
    "\n",
    "# use f to generate pseudo random number\n",
    "# it requires the number n as an input as well \n",
    "def f(x, n): \n",
    "    return (x * x + 1) % n\n"
   ]
  },
  {
   "cell_type": "markdown",
   "id": "04e37624",
   "metadata": {
    "deletable": false,
    "editable": false,
    "nbgrader": {
     "cell_type": "markdown",
     "checksum": "55494a83c2feabd51008dc8c8020c06c",
     "grade": false,
     "grade_id": "cell-8b371450a6728d3f",
     "locked": true,
     "schema_version": 3,
     "solution": false,
     "task": false
    }
   },
   "source": [
    "Implement a function: `pseudo_random_gcd_factorization(n, m=100000)`, where `n` is the number to factorize and `m` is the number of random numbers we will try.\n",
    "\n",
    "The pseudo code is shown below\n",
    "```\n",
    "    initialize x to 2\n",
    "    iterate m times\n",
    "       Test if GCD(x, n) reveals a prime factor of n\n",
    "            if yes, return prime factor.\n",
    "       x = f(x, n) # compute f(x,n) -- f is defined in the previous cell\n",
    "    return None if no prime factor found\n",
    "```"
   ]
  },
  {
   "cell_type": "code",
   "execution_count": 12,
   "id": "d0f861fc",
   "metadata": {
    "ExecuteTime": {
     "end_time": "2024-02-12T18:27:54.992951Z",
     "start_time": "2024-02-12T18:27:54.988079Z"
    },
    "deletable": false,
    "nbgrader": {
     "cell_type": "code",
     "checksum": "b121037b7b913defb49cf490af005016",
     "grade": false,
     "grade_id": "cell-fa389fe424f6f9a2",
     "locked": false,
     "schema_version": 3,
     "solution": true,
     "task": false
    }
   },
   "outputs": [],
   "source": [
    "\n",
    "def pseudo_random_gcd_factorization(n, m=100000): \n",
    "    # by default try 100,000 numbers\n",
    "    \n",
    "    # your code here\n",
    "#     raise NotImplementedError\n",
    "    x = 2\n",
    "    for _ in range(m):\n",
    "        d = gcd(x, n)\n",
    "        if d != 1 and d != n:\n",
    "            return d\n",
    "        x = f(x, n)\n",
    "    return None\n",
    "    "
   ]
  },
  {
   "cell_type": "code",
   "execution_count": 13,
   "id": "0e4d2513",
   "metadata": {
    "ExecuteTime": {
     "end_time": "2024-02-12T18:30:34.429106Z",
     "start_time": "2024-02-12T18:30:18.602703Z"
    },
    "deletable": false,
    "editable": false,
    "nbgrader": {
     "cell_type": "code",
     "checksum": "e31f30af90870560f9170db95c2f4ae4",
     "grade": true,
     "grade_id": "cell-67d60e863da746f3",
     "locked": true,
     "points": 5,
     "schema_version": 3,
     "solution": false,
     "task": false
    }
   },
   "outputs": [
    {
     "name": "stdout",
     "output_type": "stream",
     "text": [
      "Failed to factor 1401\n",
      "Failed to factor 3748486951520329\n",
      "Failed to factor 3752606281089349\n",
      "Failed to factor 3754961171936341\n",
      "Failed to factor 3756235832941861\n",
      "Failed to factor 3758054142736489\n",
      "Failed to factor 3768343025255113\n",
      "Failed to factor 3770908285338889\n",
      "Failed to factor 3789270035360209\n",
      "Failed to factor 3792097195306729\n",
      "Failed to factor 3804080660868409\n",
      "Failed to factor 3809734753698301\n",
      "Failed to factor 3816606928381453\n",
      "Failed to factor 3818949174736609\n",
      "Failed to factor 3820870509943561\n",
      "Failed to factor 3822840857074201\n",
      "Failed to factor 3852076309133401\n",
      "Failed to factor 3876127995012697\n",
      "Failed to factor 3892629672990589\n",
      "Failed to factor 3910648469842633\n",
      "Failed to factor 3920999805125773\n",
      "Failed to factor 3921744925134109\n",
      "Failed to factor 3924792228588397\n",
      "Failed to factor 3931145554413457\n",
      "Failed to factor 3932125632305329\n",
      "Failed to factor 3935928816760081\n",
      "Failed to factor 3961247632016713\n",
      "Failed to factor 3975676605218881\n",
      "Failed to factor 3982569750752293\n",
      "Failed to factor 3982848113442193\n",
      "Failed to factor 3985942367371729\n",
      "Failed to factor 3986200067461861\n",
      "Failed to factor 3990055553157829\n",
      "Failed to factor 3993390558390133\n",
      "Failed to factor 3997252998788437\n",
      "Failed to factor 3998135901643693\n",
      "Failed to factor 4005313130491789\n",
      "Failed to factor 4024933426550977\n",
      "Failed to factor 4036354165122421\n",
      "Failed to factor 4038083373106021\n",
      "Failed to factor 4053866502851821\n",
      "Failed to factor 4067306572005253\n",
      "Failed to factor 4078847544271369\n",
      "Failed to factor 4091861946912889\n",
      "Failed to factor 4099243035596617\n",
      "0 numbers were factored within 15 seconds\n"
     ]
    }
   ],
   "source": [
    "import time\n",
    "\n",
    "timeout = 15 # seconds \n",
    "num_factored = 0\n",
    "for n in list_of_semiprimes:\n",
    "    t0 = time.perf_counter()\n",
    "    p = pseudo_random_gcd_factorization(n)\n",
    "    if p != None:\n",
    "        assert n % p == 0, f'prime factor {p} is incorrect'\n",
    "        assert p != 1 and p != n, f'factor {p} cannot be trivial'\n",
    "        print(f'{n} = {p} * {n//p}')\n",
    "        num_factored += 1\n",
    "    else:\n",
    "        print(f'Failed to factor {n}')\n",
    "    t1 = time.perf_counter()\n",
    "    timeout = timeout - (t1 - t0)\n",
    "    if timeout < 0:\n",
    "        break\n",
    "\n",
    "print(f'{num_factored} numbers were factored within 15 seconds')"
   ]
  },
  {
   "cell_type": "markdown",
   "id": "ffa445c6",
   "metadata": {
    "deletable": false,
    "editable": false,
    "nbgrader": {
     "cell_type": "markdown",
     "checksum": "40d3dc35d8c283d0be6142280d3b3380",
     "grade": false,
     "grade_id": "cell-c2c6670978752f31",
     "locked": true,
     "schema_version": 3,
     "solution": false,
     "task": false
    }
   },
   "source": [
    "If you got the same result that we got, you will see that no numbers were factored by our approach, which is quite disappointing. Let's try the next trick. \n",
    "\n",
    "Suppose we generated pairs of random numbers at each step $(k_i, l_i)$ and computed \n",
    "$GCD(|k_i - l_i|, n)$. This is different from the previous attempt, wherein we simply tried $GCD(k_i, n)$. The idea here is that if \n",
    "\n",
    "$$k_i \\mod p = l_i \\mod p\\ \\mbox{or}\\ k_i \\mod q = l_i \\mod q$$ \n",
    "\n",
    "$|k_i - l_i|$ is divisible by one of the prime factors and will have $GCD(|k_i - l_i|, n) \\geq 1$. Why is it easier to find a pair $k_i, l_i$ with the property $GCD(|k_i - l_i|, n) > 1$ than a single $k_i$ with the property $GCD(k_i, n) > 1$? The answer is in the so-called birthday paradox.\n",
    "\n",
    " - If you took a class of roughly 25 students and asked if there is someone in the class whose birthday falls on a  particular day of the year? Say Feb. 13th. The chances are quite low given that people's birthdays are essentially randomly distributed.\n",
    " - However, if we asked the question whether there exists two students who have the same birthday (regardless of which day it falls on)? The chances rise substantially to roughly $\\frac{1}{2}$ for a class with $25$ students. \n",
    " \n",
    "By the same analogy, if we asked whether a randomly chosen number belongs to the set $S = \\{ p, 2p, \\ldots, (q-1)p, q, 2q, \\ldots, (p-1)q\\}$ of numbers  $k$ which have $GCD(k, n) > 1$, the chances are roughly $\\frac{1}{p+q}$. Therefore, we will need to generate $p+q $ numbers on the avergage before we see such a number. However, if we ask for randomly generated pairs of numbers $(k_i, l_i)$ whether the difference $|k_i - l_i|$ falls in the set, then we find that the chances of finding such a pair within a given collection of randomly selected number is higher due to the birthday paradox.\n",
    "\n",
    "\n",
    "Let's try the same idea but with two randomly generated sequence. This works particularly well when the first sequence is given by \n",
    "$$ x, f(x), f(f(x)), \\cdots, f^m(x) $$\n",
    "and the second sequence by \n",
    "$$ y, f(f(y)), f^4(y), \\cdots, f^{2m}(y)$$\n",
    "In other words, the second sequence simply applies the function $f$ twice.\n",
    "\n",
    "First do not forget to run the cell below.\n"
   ]
  },
  {
   "cell_type": "code",
   "execution_count": 15,
   "id": "fa805ab4",
   "metadata": {
    "deletable": false,
    "editable": false,
    "nbgrader": {
     "cell_type": "code",
     "checksum": "17bbd33820e66727876d7f8af9185a7f",
     "grade": false,
     "grade_id": "cell-dc13974ad68664aa",
     "locked": true,
     "schema_version": 3,
     "solution": false,
     "task": false
    }
   },
   "outputs": [],
   "source": [
    "from random import randrange, getrandbits\n",
    "# here is the code for GCD\n",
    "def gcd(m, n):\n",
    "    if (m < n):\n",
    "        (m, n) = (n, m)\n",
    "    while n > 0:\n",
    "        (m, n) = (n, m%n)\n",
    "    return m\n",
    "\n",
    "# use f to generate pseudo random number\n",
    "# it requires the number n as an input as well \n",
    "def f(x, n): \n",
    "    return (x*x+1)%n\n",
    "\n",
    "# use g to generate a second pseudo random sequence\n",
    "\n",
    "def g(y, n):\n",
    "    return f(f(y,n),n)\n",
    "\n",
    "# pseudo random GCD-based factorization"
   ]
  },
  {
   "cell_type": "markdown",
   "id": "77294150",
   "metadata": {
    "deletable": false,
    "editable": false,
    "nbgrader": {
     "cell_type": "markdown",
     "checksum": "e04020693f28c80779d50db4b01fe17d",
     "grade": false,
     "grade_id": "cell-b9e6e49afe0dda8f",
     "locked": true,
     "schema_version": 3,
     "solution": false,
     "task": false
    }
   },
   "source": [
    "Implement a function `pseudo_random_difference_gcd_factorization(n, m=100000)`. It should run the following pseudocode:\n",
    "\n",
    "```\n",
    "    initialize x to 2 and y to 2\n",
    "    iterate m times\n",
    "       x = f(x,n)\n",
    "       y = g(y, n)\n",
    "       Test if GCD(|x-y|, n) reveals a prime factor of n\n",
    "            if yes, return prime factor.\n",
    "    return None if no prime factor found\n",
    "```\n",
    "\n",
    "The functions `gcd`, `f` and `g` are implemented in the cell above. "
   ]
  },
  {
   "cell_type": "code",
   "execution_count": 16,
   "id": "b8eda71e",
   "metadata": {
    "ExecuteTime": {
     "end_time": "2024-02-12T20:54:25.177879Z",
     "start_time": "2024-02-12T20:54:25.172327Z"
    },
    "deletable": false,
    "nbgrader": {
     "cell_type": "code",
     "checksum": "0591740e28e0e5e90653e0c593d38450",
     "grade": false,
     "grade_id": "cell-dcf7800195337611",
     "locked": false,
     "schema_version": 3,
     "solution": true,
     "task": false
    }
   },
   "outputs": [],
   "source": [
    "def pseudo_random_difference_gcd_factorization(n, m=100000): \n",
    "    # by default try 100,000 numbers\n",
    "   \n",
    "    # your code here\n",
    "#     raise NotImplementedError\n",
    "    x, y = 2, 2\n",
    "    for _ in range(m):\n",
    "        x = f(x, n)\n",
    "        y = g(y, n)\n",
    "        d = gcd(abs(x - y), n)\n",
    "        if d != 1 and d != n:\n",
    "            return d\n",
    "    return None    "
   ]
  },
  {
   "cell_type": "code",
   "execution_count": 17,
   "id": "6414c34e",
   "metadata": {
    "ExecuteTime": {
     "end_time": "2024-02-12T20:54:26.396684Z",
     "start_time": "2024-02-12T20:54:25.825482Z"
    },
    "deletable": false,
    "editable": false,
    "nbgrader": {
     "cell_type": "code",
     "checksum": "f8a8d7acb01cbc024edbedbc8d2d264e",
     "grade": true,
     "grade_id": "cell-fe463473b247c3f8",
     "locked": true,
     "points": 5,
     "schema_version": 3,
     "solution": false,
     "task": false
    }
   },
   "outputs": [
    {
     "name": "stdout",
     "output_type": "stream",
     "text": [
      "1401 = 3 * 467\n",
      "3748486951520329 = 57142403 * 65599043\n",
      "3752606281089349 = 926867 * 4048699847\n",
      "3754961171936341 = 61797647 * 60762203\n",
      "3756235832941861 = 926867 * 4052615783\n",
      "3758054142736489 = 971207 * 3869467727\n",
      "3768343025255113 = 64697219 * 58245827\n",
      "3770908285338889 = 1035107 * 3643013027\n",
      "3789270035360209 = 61557047 * 61557047\n",
      "3792097195306729 = 57807203 * 65599043\n",
      "3804080660868409 = 61797647 * 61557047\n",
      "3809734753698301 = 984563 * 3869467727\n",
      "3816606928381453 = 986339 * 3869467727\n",
      "3818949174736609 = 61797647 * 61797647\n",
      "3820870509943561 = 65599043 * 58245827\n",
      "3822840857074201 = 64697219 * 59088179\n",
      "3852076309133401 = 926867 * 4156018403\n",
      "3876127995012697 = 65599043 * 59088179\n",
      "3892629672990589 = 926867 * 4199771567\n",
      "3910648469842633 = 968459 * 4038011387\n",
      "3920999805125773 = 968459 * 4048699847\n",
      "3921744925134109 = 971207 * 4038011387\n",
      "3924792228588397 = 968459 * 4052615783\n",
      "3931145554413457 = 64697219 * 60762203\n",
      "3932125632305329 = 971207 * 4048699847\n",
      "3935928816760081 = 971207 * 4052615783\n",
      "3961247632016713 = 1023719 * 3869467727\n",
      "3975676605218881 = 984563 * 4038011387\n",
      "3982569750752293 = 64697219 * 61557047\n",
      "3982848113442193 = 986339 * 4038011387\n",
      "3985942367371729 = 65599043 * 60762203\n",
      "3986200067461861 = 984563 * 4048699847\n",
      "3990055553157829 = 984563 * 4052615783\n",
      "3993390558390133 = 986339 * 4048699847\n",
      "3997252998788437 = 986339 * 4052615783\n",
      "3998135901643693 = 64697219 * 61797647\n",
      "4005313130491789 = 1035107 * 3869467727\n",
      "4024933426550977 = 968459 * 4156018403\n",
      "4036354165122421 = 971207 * 4156018403\n",
      "4038083373106021 = 65599043 * 61557047\n",
      "4053866502851821 = 65599043 * 61797647\n",
      "4067306572005253 = 968459 * 4199771567\n",
      "4078847544271369 = 971207 * 4199771567\n",
      "4091861946912889 = 984563 * 4156018403\n",
      "4099243035596617 = 986339 * 4156018403\n",
      "4133788979088253 = 1023719 * 4038011387\n",
      "4134939693320221 = 984563 * 4199771567\n",
      "4142398487623213 = 986339 * 4199771567\n",
      "4144730958670993 = 1023719 * 4048699847\n",
      "4148739776756977 = 1023719 * 4052615783\n",
      "4179773852763409 = 1035107 * 4038011387\n",
      "4185730146333961 = 64697219 * 64697219\n",
      "4190837552528629 = 1035107 * 4048699847\n",
      "4194890965293781 = 1035107 * 4052615783\n",
      "4244075651161417 = 65599043 * 64697219\n",
      "4254595003500757 = 1023719 * 4156018403\n",
      "4299385948797673 = 1023719 * 4199771567\n",
      "4301923741074121 = 1035107 * 4156018403\n",
      "58 numbers were factored within 15 seconds\n"
     ]
    }
   ],
   "source": [
    "import time\n",
    "\n",
    "timeout = 15 # seconds \n",
    "num_factored = 0\n",
    "for n in list_of_semiprimes:\n",
    "    t0 = time.perf_counter()\n",
    "    p = pseudo_random_difference_gcd_factorization(n)\n",
    "    if p != None:\n",
    "        assert n % p == 0, f'prime factor {p} is incorrect'\n",
    "        assert p > 1 and p < n, f'factor {p} cannot be trivial'\n",
    "        print(f'{n} = {p} * {n//p}')\n",
    "        num_factored += 1\n",
    "    else:\n",
    "        print(f'Failed to factor {n}')\n",
    "    t1 = time.perf_counter()\n",
    "    timeout = timeout - (t1 - t0)\n",
    "    if timeout < 0:\n",
    "        break\n",
    "\n",
    "print(f'{num_factored} numbers were factored within 15 seconds')"
   ]
  },
  {
   "cell_type": "markdown",
   "id": "d5fcd0ad",
   "metadata": {
    "deletable": false,
    "editable": false,
    "nbgrader": {
     "cell_type": "markdown",
     "checksum": "704e2e5c71a880b9178937cb3573d6af",
     "grade": false,
     "grade_id": "cell-83ea5ee2fbaeda3d",
     "locked": true,
     "schema_version": 3,
     "solution": false,
     "task": false
    }
   },
   "source": [
    "If you got the code right, then a very interesting thing happens. All the numbers are factored almost instantly!! \n",
    "\n",
    "The only last kink is the need to run this $m$ times where $m$ is the input. Why not let it run forever?\n",
    "Unfortunately, it will not terminate if the algorithm fails to find a factor. One way to terminate is to \n",
    "check if the repeated application of $f$ cycles back to a number previously seen. The difficulty is that we are not storing the number that we have seen before. To avoid this difficulty, we use a cycle-finding \n",
    "algorithm called Floyd's cycle detection algorithm. It will successfully detect if the sequence of applications\n",
    "$$ x, f(x), f^2(x), \\ldots, f^{m}(x) = f^{m-j}(x), \\ldots $$\n",
    "has in-fact cycled back. \n",
    "\n",
    "The trick of Floyd's cycle detection algorithm is that it uses two sequences\n",
    "$$x_0, x_1 = f(x_0), x_2 = f(x_1), x_3 = f(x_2), \\ldots, $$\n",
    "and another sequence that is moving at \"twice\" the rate:\n",
    "$$y_0 = x_0, y_1 = f(f(y_0)), y_2 = f(f(y_1)), \\ldots, $$\n",
    "\n",
    "We stop and declare a cycle as soon as $x_i = y_i$. This means that the algorithm at any point just needs to store two numbers in memory to detect a cycle.\n",
    "See the wikipedia article for further details and illustration. https://en.wikipedia.org/wiki/Cycle_detection\n",
    "\n",
    "Implement the missing portions of the code for `pollards_rho_factor` below. The main difference with the previously programmed `pseudo_random_difference_gcd_factorization` is that we no longer iterate a fixed number of times. Instead we iterate until $x \\not= y$. See pseudo code provided."
   ]
  },
  {
   "cell_type": "code",
   "execution_count": 19,
   "id": "4e82e68c",
   "metadata": {
    "ExecuteTime": {
     "end_time": "2024-02-12T21:20:52.687362Z",
     "start_time": "2024-02-12T21:20:52.681983Z"
    },
    "deletable": false,
    "nbgrader": {
     "cell_type": "code",
     "checksum": "2291fe862b934fe58573e776a87db63c",
     "grade": false,
     "grade_id": "cell-70839004a52a0d13",
     "locked": false,
     "schema_version": 3,
     "solution": true,
     "task": false
    }
   },
   "outputs": [],
   "source": [
    "def gcd(m, n):\n",
    "    if (m < n):\n",
    "        (m, n) = (n, m)\n",
    "    while n > 0:\n",
    "        (m, n) = (n, m%n)\n",
    "    return m\n",
    "\n",
    "def pollards_rho_factor(n, a=1):\n",
    "    def f(x):\n",
    "        return (x*x + a)%n\n",
    "    x = f(2) # initialize x and y\n",
    "    y = f(f(2))\n",
    "    \n",
    "    # while x != y\n",
    "    #   compute gcd of |x-y| and n, check if a prime factor is found\n",
    "    #   x = f(x)\n",
    "    #   y = f(f(y))\n",
    "    # return None \n",
    "    \n",
    "    # your code here\n",
    "#     raise NotImplementedError\n",
    "    while x != y:\n",
    "        d = gcd(abs(x - y), n)\n",
    "        if d != 1 and d != n:\n",
    "            return d\n",
    "        x = f(x)\n",
    "        y = f(f(y))\n",
    "    return None\n",
    "    print('Failed')\n",
    "    return None"
   ]
  },
  {
   "cell_type": "code",
   "execution_count": 20,
   "id": "ab2a252f",
   "metadata": {
    "ExecuteTime": {
     "end_time": "2024-02-12T21:21:09.389182Z",
     "start_time": "2024-02-12T21:21:08.858036Z"
    },
    "deletable": false,
    "editable": false,
    "nbgrader": {
     "cell_type": "code",
     "checksum": "7b6bd35307333d4470274414b451810d",
     "grade": true,
     "grade_id": "cell-760c8ff1b11df113",
     "locked": true,
     "points": 8,
     "schema_version": 3,
     "solution": false,
     "task": false
    }
   },
   "outputs": [
    {
     "name": "stdout",
     "output_type": "stream",
     "text": [
      "1401 = 3 * 467\n",
      "3748486951520329 = 57142403 * 65599043\n",
      "3752606281089349 = 926867 * 4048699847\n",
      "3754961171936341 = 61797647 * 60762203\n",
      "3756235832941861 = 926867 * 4052615783\n",
      "3758054142736489 = 971207 * 3869467727\n",
      "3768343025255113 = 64697219 * 58245827\n",
      "3770908285338889 = 1035107 * 3643013027\n",
      "3789270035360209 = 61557047 * 61557047\n",
      "3792097195306729 = 57807203 * 65599043\n",
      "3804080660868409 = 61797647 * 61557047\n",
      "3809734753698301 = 984563 * 3869467727\n",
      "3816606928381453 = 986339 * 3869467727\n",
      "3818949174736609 = 61797647 * 61797647\n",
      "3820870509943561 = 65599043 * 58245827\n",
      "3822840857074201 = 64697219 * 59088179\n",
      "3852076309133401 = 926867 * 4156018403\n",
      "3876127995012697 = 65599043 * 59088179\n",
      "3892629672990589 = 926867 * 4199771567\n",
      "3910648469842633 = 968459 * 4038011387\n",
      "3920999805125773 = 968459 * 4048699847\n",
      "3921744925134109 = 971207 * 4038011387\n",
      "3924792228588397 = 968459 * 4052615783\n",
      "3931145554413457 = 64697219 * 60762203\n",
      "3932125632305329 = 971207 * 4048699847\n",
      "3935928816760081 = 971207 * 4052615783\n",
      "3961247632016713 = 1023719 * 3869467727\n",
      "3975676605218881 = 984563 * 4038011387\n",
      "3982569750752293 = 64697219 * 61557047\n",
      "3982848113442193 = 986339 * 4038011387\n",
      "3985942367371729 = 65599043 * 60762203\n",
      "3986200067461861 = 984563 * 4048699847\n",
      "3990055553157829 = 984563 * 4052615783\n",
      "3993390558390133 = 986339 * 4048699847\n",
      "3997252998788437 = 986339 * 4052615783\n",
      "3998135901643693 = 64697219 * 61797647\n",
      "4005313130491789 = 1035107 * 3869467727\n",
      "4024933426550977 = 968459 * 4156018403\n",
      "4036354165122421 = 971207 * 4156018403\n",
      "4038083373106021 = 65599043 * 61557047\n",
      "4053866502851821 = 65599043 * 61797647\n",
      "4067306572005253 = 968459 * 4199771567\n",
      "4078847544271369 = 971207 * 4199771567\n",
      "4091861946912889 = 984563 * 4156018403\n",
      "4099243035596617 = 986339 * 4156018403\n",
      "4133788979088253 = 1023719 * 4038011387\n",
      "4134939693320221 = 984563 * 4199771567\n",
      "4142398487623213 = 986339 * 4199771567\n",
      "4144730958670993 = 1023719 * 4048699847\n",
      "4148739776756977 = 1023719 * 4052615783\n",
      "4179773852763409 = 1035107 * 4038011387\n",
      "4185730146333961 = 64697219 * 64697219\n",
      "4190837552528629 = 1035107 * 4048699847\n",
      "4194890965293781 = 1035107 * 4052615783\n",
      "4244075651161417 = 65599043 * 64697219\n",
      "4254595003500757 = 1023719 * 4156018403\n",
      "4299385948797673 = 1023719 * 4199771567\n",
      "4301923741074121 = 1035107 * 4156018403\n",
      "58 numbers were factored within 15 seconds\n"
     ]
    }
   ],
   "source": [
    "import time\n",
    "\n",
    "timeout = 15 # seconds \n",
    "num_factored = 0\n",
    "for n in list_of_semiprimes:\n",
    "    t0 = time.perf_counter()\n",
    "    p = pollards_rho_factor(n)\n",
    "    if p != None:\n",
    "        assert n%p == 0, f'{p} is not a factor of {n}'\n",
    "        print(f'{n} = {p} * {n//p}')\n",
    "        num_factored += 1\n",
    "    t1 = time.perf_counter()\n",
    "    timeout = timeout - (t1 - t0)\n",
    "    if timeout < 0:\n",
    "        break\n",
    "\n",
    "print(f'{num_factored} numbers were factored within 15 seconds')"
   ]
  },
  {
   "cell_type": "markdown",
   "id": "988fa090",
   "metadata": {
    "deletable": false,
    "editable": false,
    "nbgrader": {
     "cell_type": "markdown",
     "checksum": "fd35eb478d6912e242cd1cd6e876762f",
     "grade": false,
     "grade_id": "cell-7bb3b84853c73bf0",
     "locked": true,
     "schema_version": 3,
     "solution": false,
     "task": false
    }
   },
   "source": [
    "The resulting algorithm is called Pollard's Rho algorithm. It is a very fast algorithm especially when one of the factors is small. In practice, it is much faster than trial division. However, many aspects of the algorithm are quite mysterious and not well understood. For instance, the algorithm depends very much on the pseudorandom generator and some of them are much better than the others. It is not clear why this is so. "
   ]
  },
  {
   "cell_type": "code",
   "execution_count": null,
   "id": "ed580087",
   "metadata": {
    "ExecuteTime": {
     "end_time": "2024-02-12T21:24:36.205539Z",
     "start_time": "2024-02-12T21:23:21.514624Z"
    },
    "deletable": false,
    "editable": false,
    "nbgrader": {
     "cell_type": "code",
     "checksum": "8914b74f169f3da65ca38f4c412ddb32",
     "grade": false,
     "grade_id": "cell-1683c956f3b8309a",
     "locked": true,
     "schema_version": 3,
     "solution": false,
     "task": false
    }
   },
   "outputs": [],
   "source": [
    "## We commented out this cell since it will take forever to run. Please uncomment and try out. \n",
    "# You may have to cut and paste it into a new cell to do that. \n",
    "#import time\n",
    "\n",
    "#timeout = 15 # seconds -- increase the timeout if you wish\n",
    "#num_factored = 0\n",
    "#for n in larger_semi_primes:\n",
    "#    t0 = time.perf_counter()\n",
    "#    p = pollards_rho_factor(n)\n",
    "#    if p != None:\n",
    "#        assert n%p == 0, f'{p} is not a factor of {n}'\n",
    "#        print(f'{n} = {p} * {n//p}')\n",
    "#        num_factored += 1\n",
    "#    t1 = time.perf_counter()\n",
    "#    timeout = timeout - (t1 - t0)\n",
    "#    if timeout < 0:\n",
    "#        break\n",
    "\n",
    "#print(f'{num_factored} numbers were factored within 15 seconds')"
   ]
  },
  {
   "cell_type": "markdown",
   "id": "4c12e906",
   "metadata": {
    "deletable": false,
    "editable": false,
    "nbgrader": {
     "cell_type": "markdown",
     "checksum": "297f8ee88506177fba8242ee002fa9d5",
     "grade": false,
     "grade_id": "cell-c373858e96979349",
     "locked": true,
     "schema_version": 3,
     "solution": false,
     "task": false
    }
   },
   "source": [
    "Notice that even Pollard's Rho algorithm will struggle to factor really large numbers."
   ]
  }
 ],
 "metadata": {
  "kernelspec": {
   "display_name": "Python 3 (ipykernel)",
   "language": "python",
   "name": "python3"
  },
  "language_info": {
   "codemirror_mode": {
    "name": "ipython",
    "version": 3
   },
   "file_extension": ".py",
   "mimetype": "text/x-python",
   "name": "python",
   "nbconvert_exporter": "python",
   "pygments_lexer": "ipython3",
   "version": "3.10.6"
  }
 },
 "nbformat": 4,
 "nbformat_minor": 5
}
