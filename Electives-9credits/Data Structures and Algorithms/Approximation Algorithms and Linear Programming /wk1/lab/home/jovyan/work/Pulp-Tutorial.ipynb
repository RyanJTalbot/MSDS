{
 "cells": [
  {
   "cell_type": "markdown",
   "metadata": {},
   "source": [
    "# Tutorial on PuLP\n",
    "\n",
    "We will provide a brief tutorial on the PuLP package - a simple python based package that allows us to formulate and solve linear (and integer) programs. \n",
    "\n",
    "\n",
    "We import the package as follows:"
   ]
  },
  {
   "cell_type": "code",
   "execution_count": 1,
   "metadata": {
    "ExecuteTime": {
     "end_time": "2023-08-09T13:06:26.406590Z",
     "start_time": "2023-08-09T13:06:26.344682Z"
    }
   },
   "outputs": [],
   "source": [
    "from pulp import *"
   ]
  },
  {
   "cell_type": "markdown",
   "metadata": {},
   "source": [
    "**Step 1:** Creating a problem data-structure.\n",
    "\n",
    "The 'name' provided is simply a descriptive name whereas the second argument specifies whether we seek to minimize or maximize an objective function."
   ]
  },
  {
   "cell_type": "code",
   "execution_count": 2,
   "metadata": {
    "ExecuteTime": {
     "end_time": "2023-08-09T13:06:26.419983Z",
     "start_time": "2023-08-09T13:06:26.412997Z"
    }
   },
   "outputs": [],
   "source": [
    "problem = LpProblem('name', LpMinimize) # Use LpMaximize if you are maximizing an objective function"
   ]
  },
  {
   "cell_type": "markdown",
   "metadata": {},
   "source": [
    "**Step 2:** Create decision variables. \n",
    "\n",
    "We will declare a bunch of decision variables.\n",
    "Let us create a variable named `x_1`."
   ]
  },
  {
   "cell_type": "code",
   "execution_count": 3,
   "metadata": {
    "ExecuteTime": {
     "end_time": "2023-08-09T13:06:26.427598Z",
     "start_time": "2023-08-09T13:06:26.423173Z"
    }
   },
   "outputs": [],
   "source": [
    "x_1 = LpVariable('x_1')"
   ]
  },
  {
   "cell_type": "markdown",
   "metadata": {},
   "source": [
    "We now create variable `x_2`, `x_3`, `x_4` with lower bounds 0. In other words, as we create these variables, we also add the constraints `x_2 >= 0, x_3 >= 0 ` and `x_4 >= 0` to our problem."
   ]
  },
  {
   "cell_type": "code",
   "execution_count": 4,
   "metadata": {
    "ExecuteTime": {
     "end_time": "2023-08-09T13:06:26.438905Z",
     "start_time": "2023-08-09T13:06:26.432072Z"
    }
   },
   "outputs": [],
   "source": [
    "x_2 = LpVariable('x_2', 0)\n",
    "x_3 = LpVariable('x_3', 0)\n",
    "x_4 = LpVariable('x_4', 0)"
   ]
  },
  {
   "cell_type": "markdown",
   "metadata": {},
   "source": [
    "We now create a variable `x_5` with lower bound -1 and upper bound +1. In other words, we would like to create `x_5` and at the same time add the constraints `x_5 >= -1 `, `x_5 <= 1` to the problem."
   ]
  },
  {
   "cell_type": "code",
   "execution_count": 5,
   "metadata": {
    "ExecuteTime": {
     "end_time": "2023-08-09T13:06:26.445296Z",
     "start_time": "2023-08-09T13:06:26.441334Z"
    }
   },
   "outputs": [],
   "source": [
    "x_5 = LpVariable('x_5', -1, 1)"
   ]
  },
  {
   "cell_type": "markdown",
   "metadata": {},
   "source": [
    "**Step 3:** Set the objective function.\n",
    "\n",
    "We would like our objective function to be `x_1 + x_2 - x_3 + 2 * x_4 - 3 * x_5`. Note that we already specified that we are minimizing it when we created the problem."
   ]
  },
  {
   "cell_type": "code",
   "execution_count": 6,
   "metadata": {
    "ExecuteTime": {
     "end_time": "2023-08-09T13:06:26.453839Z",
     "start_time": "2023-08-09T13:06:26.447884Z"
    }
   },
   "outputs": [],
   "source": [
    "problem += (x_1 + x_2 - x_3 + 2*x_4 - 3 * x_5)"
   ]
  },
  {
   "cell_type": "markdown",
   "metadata": {},
   "source": [
    "**Step 6:** We would like to add constraints\n",
    "\n",
    "Constraint # 1:  ` x_1 - 2 * x_2 + x_3 <= 5 `\n",
    "Constraint # 2:  ` 2 x_2 - x_4 + x_5 <= 7 `\n",
    "Constraint # 3: ` x_1 - x_5 + 2 * x_4 <= 8`"
   ]
  },
  {
   "cell_type": "code",
   "execution_count": 8,
   "metadata": {
    "ExecuteTime": {
     "end_time": "2023-08-09T13:09:28.737314Z",
     "start_time": "2023-08-09T13:09:28.733712Z"
    }
   },
   "outputs": [],
   "source": [
    "problem += (x_1 - 2 * x_2 + x_3 <= 5)\n",
    "problem += (2* x_2 - x_4 + x_5  <= 7)\n",
    "problem += (x_1 - x_5 + 2 * x_4 <= 8)\n"
   ]
  },
  {
   "cell_type": "markdown",
   "metadata": {},
   "source": [
    "**Step 5:** Solve the problem and extract the solution."
   ]
  },
  {
   "cell_type": "code",
   "execution_count": 9,
   "metadata": {
    "ExecuteTime": {
     "end_time": "2023-08-09T13:10:12.058318Z",
     "start_time": "2023-08-09T13:10:12.003686Z"
    }
   },
   "outputs": [
    {
     "name": "stdout",
     "output_type": "stream",
     "text": [
      "Welcome to the CBC MILP Solver \n",
      "Version: 2.10.3 \n",
      "Build Date: Dec 15 2019 \n",
      "\n",
      "command line - /usr/local/lib/python3.11/site-packages/pulp/solverdir/cbc/osx/64/cbc /var/folders/50/3l1vyzp13ss44tvgw3b1vw3c0000gn/T/fe9100956ca74ec49c842f007274157a-pulp.mps timeMode elapsed branch printingOptions all solution /var/folders/50/3l1vyzp13ss44tvgw3b1vw3c0000gn/T/fe9100956ca74ec49c842f007274157a-pulp.sol (default strategy 1)\n",
      "At line 2 NAME          MODEL\n",
      "At line 3 ROWS\n",
      "At line 9 COLUMNS\n",
      "At line 27 RHS\n",
      "At line 32 BOUNDS\n",
      "At line 36 ENDATA\n",
      "Problem MODEL has 4 rows, 5 columns and 12 elements\n",
      "Coin0008I MODEL read with 0 errors\n",
      "Option for timeMode changed from cpu to elapsed\n",
      "Presolve thinks problem is unbounded\n",
      "Analysis indicates model infeasible or unbounded\n",
      "0  Obj 3 Dual inf 4.0099997 (3) w.o. free dual inf (2)\n",
      "0  Obj 3 Dual inf 4.0099997 (3) w.o. free dual inf (2)\n",
      "0  Obj 3 Dual inf 4.0099997 (3) w.o. free dual inf (2)\n",
      "Dual infeasible - objective value 3\n",
      "DualInfeasible objective 3 - 0 iterations time 0.002\n",
      "\n",
      "Result - Linear relaxation unbounded\n",
      "\n",
      "Enumerated nodes:           0\n",
      "Total iterations:           0\n",
      "Time (CPU seconds):         0.00\n",
      "Time (Wallclock Seconds):   0.01\n",
      "\n",
      "Option for printingOptions changed from normal to all\n",
      "Total time (CPU seconds):       0.00   (Wallclock seconds):       0.01\n",
      "\n"
     ]
    },
    {
     "data": {
      "text/plain": [
       "-2"
      ]
     },
     "execution_count": 9,
     "metadata": {},
     "output_type": "execute_result"
    }
   ],
   "source": [
    "problem.solve() # solve the problem"
   ]
  },
  {
   "cell_type": "code",
   "execution_count": 10,
   "metadata": {
    "ExecuteTime": {
     "end_time": "2023-08-09T13:10:49.015148Z",
     "start_time": "2023-08-09T13:10:49.011171Z"
    }
   },
   "outputs": [
    {
     "name": "stdout",
     "output_type": "stream",
     "text": [
      "Status is : Unbounded\n"
     ]
    }
   ],
   "source": [
    "print('Status is :', LpStatus[problem.status])"
   ]
  },
  {
   "cell_type": "markdown",
   "metadata": {},
   "source": [
    "**Step 6:** Check the status and do the appropriate things."
   ]
  },
  {
   "cell_type": "code",
   "execution_count": 11,
   "metadata": {
    "ExecuteTime": {
     "end_time": "2023-08-09T13:13:59.759123Z",
     "start_time": "2023-08-09T13:13:59.754385Z"
    }
   },
   "outputs": [
    {
     "name": "stdout",
     "output_type": "stream",
     "text": [
      "Unbounded solution -- need more constraints\n"
     ]
    }
   ],
   "source": [
    "if problem.status == constants.LpStatusOptimal:\n",
    "    print('Optimal Solution Found!!')\n",
    "    # Extract the values of the decision variables.\n",
    "    v_1 = x_1.varValue\n",
    "    v_2 = x_2.varValue\n",
    "    v_3 = x_3.varValue\n",
    "    v_4 = x_4.varValue\n",
    "    v_5 = x_5.varValue\n",
    "    print('x_1 = {v_1}, x_2 = {v_2}, x_3 = {v_3}, x_4 = {v_4}, x_5={v_5}')\n",
    "elif problem.status == constants.LpStatusUnbounded:\n",
    "    print('Unbounded solution -- need more constraints')\n",
    "elif problem.status == constants.LpStatusInfeasible:\n",
    "    print('Problem has no feasible solution')\n",
    "else: \n",
    "    print('Problem has an undefined status -- something went wrong.')"
   ]
  },
  {
   "cell_type": "markdown",
   "metadata": {},
   "source": [
    "Ooops: our problem is unbounded. We need more constraints to make it bounded. Let's add constraints\n",
    "\n",
    "`x_1 >= -5` and  `x_3 <= 15`. We could have added these as bounds when we created the variables `x_1, x_2` but we can also add them as constraints."
   ]
  },
  {
   "cell_type": "code",
   "execution_count": 20,
   "metadata": {
    "ExecuteTime": {
     "end_time": "2023-08-09T13:20:56.220443Z",
     "start_time": "2023-08-09T13:20:56.214751Z"
    }
   },
   "outputs": [],
   "source": [
    "problem2 = LpProblem('name', LpMinimize) # Use LpMaximize if you are maximizing an objective function\n",
    "x_1 = LpVariable('x_1')\n",
    "x_2 = LpVariable('x_2', 0)\n",
    "x_3 = LpVariable('x_3', 0)\n",
    "x_4 = LpVariable('x_4', 0)\n",
    "x_5 = LpVariable('x_5', -1, 1)\n",
    "problem2 += (x_1 + x_2 - x_3 + 2*x_4 - 3 * x_5)\n",
    "problem2 += (x_1 - 2 * x_2 + x_3 <= 5)\n",
    "problem2 += (2* x_2 - x_4 + x_5  <= 7)\n",
    "problem2 += (x_1 - x_5 + 2 * x_4 <= 8)\n",
    "problem2 += x_1 >= -5\n",
    "problem2 += x_3 <= 15\n"
   ]
  },
  {
   "cell_type": "markdown",
   "metadata": {},
   "source": [
    "Let's make a nice function to solve our problem and extract the solution as a list."
   ]
  },
  {
   "cell_type": "code",
   "execution_count": 37,
   "metadata": {
    "ExecuteTime": {
     "end_time": "2023-08-09T13:35:31.506013Z",
     "start_time": "2023-08-09T13:35:31.498857Z"
    }
   },
   "outputs": [],
   "source": [
    "def solve_and_extract_solution(problem, list_of_vars):\n",
    "    ## Solve and check status again\n",
    "    problem.solve() # solve the problem\n",
    "    print('Status is :', LpStatus[problem.status])\n",
    "    if problem.status == constants.LpStatusOptimal:\n",
    "        print('Optimal Solution Found!!')\n",
    "        sols = [x.varValue for x in list_of_vars]\n",
    "        ## Alternatively you could write a for loop \n",
    "        ## sols = []\n",
    "        ## for x in list_of_vars:\n",
    "        ##    sols.append(x.varValue)\n",
    "        print('Solution:',sols)\n",
    "        print('Objective Value:', problem.objective.value())\n",
    "        return sols\n",
    "    elif problem.status == constants.LpStatusUnbounded:\n",
    "        print('Unbounded solution -- need more constraints')\n",
    "        return None\n",
    "    elif problem.status == constants.LpStatusInfeasible:\n",
    "        print('Problem has no feasible solution')\n",
    "        return None\n",
    "    else: \n",
    "        print('Problem has an undefined status -- something went wrong.')\n",
    "        return None"
   ]
  },
  {
   "cell_type": "code",
   "execution_count": null,
   "metadata": {
    "ExecuteTime": {
     "end_time": "2023-08-09T13:35:32.361920Z",
     "start_time": "2023-08-09T13:35:32.341256Z"
    }
   },
   "outputs": [],
   "source": [
    "solve_and_extract_solution(problem2, [x_1, x_2, x_3, x_4, x_5])"
   ]
  },
  {
   "cell_type": "markdown",
   "metadata": {},
   "source": [
    "Often, we do not have the LP in the form above. We instead have some data from which we need to formulate the problem (see the notes on network flow problem) for an example. Let's solve some examples. \n",
    "\n",
    "Consider the LP of the form \n",
    "\n",
    "$$ \\begin{array}{lrl}\n",
    "\\max& x_1 + x_2 + \\cdots + x_n \\\\ \n",
    "\\mathsf{s.t.}& x_{i} - x_{i+1} & \\leq c_{i}, \\ i = 1, \\ldots, n-1 \\\\ \n",
    "& x_j & \\leq d_j, & j = 1, \\ldots, n \\\\ \n",
    "& x_j & \\geq 0 & j = 1, \\ldots, n \\\\ \n",
    "\\end{array}$$\n",
    "\n",
    "You are given the value of $n \\geq 1$ and a lists $[d_1, \\ldots, d_n ]$ of upper bounds and \n",
    "$[c_1, \\ldots, c_{n-1}]$. \n",
    "\n",
    "Let's formulate and solve this problem."
   ]
  },
  {
   "cell_type": "code",
   "execution_count": 57,
   "metadata": {
    "ExecuteTime": {
     "end_time": "2023-08-09T13:57:02.382037Z",
     "start_time": "2023-08-09T13:57:02.376819Z"
    }
   },
   "outputs": [],
   "source": [
    "def formulate_and_solve(c_list, d_list):\n",
    "    n = len(d_list)\n",
    "    assert len(c_list) == n-1\n",
    "    prob = LpProblem('special_problem', LpMaximize) # set it to maximize the objective\n",
    "    # 1. Create Decision Variables\n",
    "    ## option 1\n",
    "    ## list_of_vars = []\n",
    "    ## for i in range(n):\n",
    "    ##     new_var = LpVariable(f'x_{i+1}', 0, d_list[i]) # create a variable named x_{i} with lower bound 0 \n",
    "    ##     list_of_vars.append(new_var)\n",
    "    ## more elegant one liner in python\n",
    "    list_of_vars = [LpVariable(f'x_{j+1}', 0, d_list[j]) for j in range(n) ]\n",
    "    # Note that the constraints x_j >= 0 and x_j <= d_j are taken care of already.\n",
    "    print(f'Created list of variables: {list_of_vars}')\n",
    "    # 2. Set the objective\n",
    "    ## option 1\n",
    "    ## e = 0\n",
    "    ## for x in list_of_vars:\n",
    "    ##     e = e + x\n",
    "    ## prob += e\n",
    "    ## More elegant option 2\n",
    "    prob += lpSum(list_of_vars) ## sum up all the elements in list to create an expression\n",
    "    # 3. Add constraints\n",
    "    for i in range(n-1):\n",
    "        prob += list_of_vars[i] - list_of_vars[i+1] <= c_list[i] # x_i - x_{i+1} <= c_i\n",
    "    \n",
    "    # 4. Solve and extract solution\n",
    "    sol_list = solve_and_extract_solution(prob, list_of_vars)\n",
    "    return sol_list "
   ]
  },
  {
   "cell_type": "code",
   "execution_count": 56,
   "metadata": {
    "ExecuteTime": {
     "end_time": "2023-08-09T13:56:42.085563Z",
     "start_time": "2023-08-09T13:56:42.065976Z"
    }
   },
   "outputs": [
    {
     "name": "stdout",
     "output_type": "stream",
     "text": [
      "Created list of variables: [x_1, x_2, x_3, x_4, x_5, x_6]\n",
      "Welcome to the CBC MILP Solver \n",
      "Version: 2.10.3 \n",
      "Build Date: Dec 15 2019 \n",
      "\n",
      "command line - /usr/local/lib/python3.11/site-packages/pulp/solverdir/cbc/osx/64/cbc /var/folders/50/3l1vyzp13ss44tvgw3b1vw3c0000gn/T/a156f3263d50464e8cb7e2ef116f2ece-pulp.mps max timeMode elapsed branch printingOptions all solution /var/folders/50/3l1vyzp13ss44tvgw3b1vw3c0000gn/T/a156f3263d50464e8cb7e2ef116f2ece-pulp.sol (default strategy 1)\n",
      "At line 2 NAME          MODEL\n",
      "At line 3 ROWS\n",
      "At line 10 COLUMNS\n",
      "At line 27 RHS\n",
      "At line 33 BOUNDS\n",
      "At line 40 ENDATA\n",
      "Problem MODEL has 5 rows, 6 columns and 10 elements\n",
      "Coin0008I MODEL read with 0 errors\n",
      "Option for timeMode changed from cpu to elapsed\n",
      "Presolve 0 (-5) rows, 0 (-6) columns and 0 (-10) elements\n",
      "Empty problem - 0 rows, 0 columns and 0 elements\n",
      "Optimal - objective value 16\n",
      "After Postsolve, objective 16, infeasibilities - dual 0 (0), primal 0 (0)\n",
      "Optimal objective 16 - 0 iterations time 0.002, Presolve 0.00\n",
      "Option for printingOptions changed from normal to all\n",
      "Total time (CPU seconds):       0.00   (Wallclock seconds):       0.00\n",
      "\n",
      "Status is : Optimal\n",
      "Optimal Solution Found!!\n",
      "Solution: [2.0, 1.0, 2.0, 3.0, 2.0, 6.0]\n",
      "Objective Value: 16.0\n"
     ]
    },
    {
     "data": {
      "text/plain": [
       "[2.0, 1.0, 2.0, 3.0, 2.0, 6.0]"
      ]
     },
     "execution_count": 56,
     "metadata": {},
     "output_type": "execute_result"
    }
   ],
   "source": [
    "formulate_and_solve([1, 4, 6, 8, 0], [5, 1, 2, 3, 2, 6])"
   ]
  }
 ],
 "metadata": {
  "kernelspec": {
   "display_name": "Python 3",
   "language": "python",
   "name": "python3"
  },
  "language_info": {
   "codemirror_mode": {
    "name": "ipython",
    "version": 3
   },
   "file_extension": ".py",
   "mimetype": "text/x-python",
   "name": "python",
   "nbconvert_exporter": "python",
   "pygments_lexer": "ipython3",
   "version": "3.11.4"
  }
 },
 "nbformat": 4,
 "nbformat_minor": 5
}
