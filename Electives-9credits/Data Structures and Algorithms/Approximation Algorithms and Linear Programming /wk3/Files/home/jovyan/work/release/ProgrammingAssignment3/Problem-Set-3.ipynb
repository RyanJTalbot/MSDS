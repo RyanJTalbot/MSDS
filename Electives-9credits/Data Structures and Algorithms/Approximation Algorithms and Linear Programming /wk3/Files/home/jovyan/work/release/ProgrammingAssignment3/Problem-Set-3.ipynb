{
 "cells": [
  {
   "cell_type": "markdown",
   "metadata": {
    "deletable": false,
    "editable": false,
    "nbgrader": {
     "cell_type": "markdown",
     "checksum": "dc1f6b240395d6d6f5f6b6c5b6ad4189",
     "grade": false,
     "grade_id": "cell-1043811ccaac044b",
     "locked": true,
     "schema_version": 3,
     "solution": false,
     "task": false
    }
   },
   "source": [
    "## P1:  Max-Cut Problem\n",
    "\n",
    "We will guide you through the design of a factor-2 approximation algorithm for the Max-Cut problem. You are given an undirected  graph $G$ with $n$ vertices and $m$ edges. \n",
    "\n",
    "The maxcut problem asks you to partition the vertices into two subsets $S^+$ and $S^-$ such that the total number of edges crossing the cut is as large as possible.\n",
    "$$ \\mathsf{max}\\ \\left| \\left\\{ (i,j) \\in E\\ |\\ i \\in S^+,\\ j \\in S^-,\\ S^+ \\cap S^- = \\emptyset, S^+ \\cup S^- = V \\right\\} \\right|$$\n",
    "\n"
   ]
  },
  {
   "cell_type": "markdown",
   "metadata": {
    "deletable": false,
    "editable": false,
    "nbgrader": {
     "cell_type": "markdown",
     "checksum": "25128c946b0a6339cf1a59c5820beb42",
     "grade": false,
     "grade_id": "cell-364d227ccfebb211",
     "locked": true,
     "schema_version": 3,
     "solution": false,
     "task": false
    }
   },
   "source": [
    "### Example\n",
    "\n",
    "Consider the graph below: \n",
    "\n"
   ]
  },
  {
   "cell_type": "code",
   "execution_count": null,
   "metadata": {
    "ExecuteTime": {
     "end_time": "2023-09-02T15:22:03.220143Z",
     "start_time": "2023-09-02T15:22:03.061510Z"
    },
    "deletable": false,
    "editable": false,
    "nbgrader": {
     "cell_type": "code",
     "checksum": "818c591531b9e528881a1a028c109dd1",
     "grade": false,
     "grade_id": "cell-eb2b64cefee77918",
     "locked": true,
     "schema_version": 3,
     "solution": false,
     "task": false
    }
   },
   "outputs": [],
   "source": [
    "import networkx as nx\n",
    "from matplotlib import pyplot as plt \n",
    "\n",
    "def draw_graph(n, edge_list, node_set_flag, set1_color='lightblue', set2_color='red'):\n",
    "    # get the list of nodes in various sets and edges that are cut and uncut\n",
    "    set1_nodes = [i for i in range(1, n+1) if node_set_flag[i-1] == True]\n",
    "    set2_nodes = [i for i in range(1, n+1) if node_set_flag[i-1] == False]\n",
    "    edge_list_not_cut = [(i,j) for (i,j) in edge_list if node_set_flag[i-1] == node_set_flag[j-1] ]\n",
    "    edge_list_cut = [(i,j) for (i,j) in edge_list if node_set_flag[i-1] != node_set_flag[j-1] ]\n",
    "    # now draw the graph\n",
    "    G = nx.Graph()\n",
    "    G.add_edges_from(edge_list)\n",
    "    pos = nx.spring_layout(G, seed=1234)\n",
    "    plt.figure()\n",
    "    nx.draw_networkx_nodes(G, pos, nodelist=set1_nodes, node_color=set1_color)\n",
    "    if len(set2_nodes) >= 1:\n",
    "        nx.draw_networkx_nodes(G, pos, nodelist=set2_nodes, node_color=set2_color, alpha=0.5)\n",
    "    \n",
    "    labels = {i:i for i in range(1, n+1)}\n",
    "    nx.draw_networkx_labels(G, pos,  labels=labels)\n",
    "    \n",
    "    nx.draw_networkx_edges(G, pos, width=2, edgelist = edge_list_not_cut)\n",
    "    nx.draw_networkx_edges(G, pos, width=2, edgelist = edge_list_cut, edge_color='red')\n",
    "    plt.show()\n",
    "    \n",
    "\n",
    "n = 5\n",
    "edges = [(1,2),(1,3),(1,4),(1,5), (2,3),(2,4),(3,5),(4,5)]\n",
    "node_set_flag = [True, True, True, True, True] # all nodes are in set1\n",
    "draw_graph(5, edges, node_set_flag)\n"
   ]
  },
  {
   "cell_type": "markdown",
   "metadata": {
    "deletable": false,
    "editable": false,
    "nbgrader": {
     "cell_type": "markdown",
     "checksum": "20b84cfc04819423f4cb47999bdb74a5",
     "grade": false,
     "grade_id": "cell-2b51d76d174bd028",
     "locked": true,
     "schema_version": 3,
     "solution": false,
     "task": false
    }
   },
   "source": [
    "We would like to partition the set $\\{ 1, \\ldots, 5 \\}$ into two subsets $S_1, S_2$ so that the number of edges going from a vertex in $S_1$ to a vertex in $S_2$ is as large as possible. \n",
    "\n",
    "#### First Cut\n",
    "Suppose we set $S_1 = \\{ 1, 2, 3\\}$ and therefore, $S_2 = \\{4, 5\\}$, we have a cut with $4$ edges crossing it."
   ]
  },
  {
   "cell_type": "code",
   "execution_count": null,
   "metadata": {
    "ExecuteTime": {
     "end_time": "2023-09-02T15:22:05.137898Z",
     "start_time": "2023-09-02T15:22:04.987101Z"
    },
    "deletable": false,
    "editable": false,
    "nbgrader": {
     "cell_type": "code",
     "checksum": "144f813f2a0dc3ceaedc2e92b317ec28",
     "grade": false,
     "grade_id": "cell-811b0455d02a0e17",
     "locked": true,
     "schema_version": 3,
     "solution": false,
     "task": false
    }
   },
   "outputs": [],
   "source": [
    "n = 5\n",
    "edges = [(1,2),(1,3),(1,4),(1,5), (2,3),(2,4),(3,5),(4,5)]\n",
    "node_set_flag = [True, True, True, False, False] # 1, 2, 3 are in set1\n",
    "draw_graph(5, edges, node_set_flag)\n"
   ]
  },
  {
   "cell_type": "markdown",
   "metadata": {
    "deletable": false,
    "editable": false,
    "nbgrader": {
     "cell_type": "markdown",
     "checksum": "8b2c01be70b3994b033c87dd31e6f6af",
     "grade": false,
     "grade_id": "cell-3ab7acd73efd7bda",
     "locked": true,
     "schema_version": 3,
     "solution": false,
     "task": false
    }
   },
   "source": [
    "#### Second Cut\n",
    "We can do better by setting $S_1 = \\{ 1,2,5\\}$ and $S_2 = \\{3, 4\\}$ with $6$ edges crossing the cut. "
   ]
  },
  {
   "cell_type": "code",
   "execution_count": null,
   "metadata": {
    "ExecuteTime": {
     "end_time": "2023-09-02T15:23:10.338076Z",
     "start_time": "2023-09-02T15:23:10.179859Z"
    },
    "deletable": false,
    "editable": false,
    "nbgrader": {
     "cell_type": "code",
     "checksum": "6e52e065ebb9682433ab9e9997e48007",
     "grade": false,
     "grade_id": "cell-f5ea86e6753dffae",
     "locked": true,
     "schema_version": 3,
     "solution": false,
     "task": false
    }
   },
   "outputs": [],
   "source": [
    "n = 5\n",
    "edges = [(1,2),(1,3),(1,4),(1,5), (2,3),(2,4),(3,5),(4,5)]\n",
    "node_set_flag = [True, True, False, False, True] # 1, 2, 5 are in set1\n",
    "draw_graph(5, edges, node_set_flag)"
   ]
  },
  {
   "cell_type": "markdown",
   "metadata": {
    "deletable": false,
    "editable": false,
    "nbgrader": {
     "cell_type": "markdown",
     "checksum": "462f003f59d93cb471fde39fec9e6398",
     "grade": false,
     "grade_id": "cell-f040e57d41bbb0bb",
     "locked": true,
     "schema_version": 3,
     "solution": false,
     "task": false
    }
   },
   "source": [
    "Therefore, the MAXCUT problem asks you to find a cut with as many edges as possible crossing the cut. This problem is often encountered in applications such as circuit layout in chip design where we have a graph between the circuit components and the edges are formed by wires going between these components. \n",
    "\n",
    "MAXCUT is known to be NP-complete though we will not ask you to prove it here.  The goal of this problem is to design a greedy algorithm and prove an approximation guarantee.\n",
    "\n",
    "## Greedy Algorithm \n",
    "\n",
    "Suppose you have a graph $G$ and we propose a partition of the vertices $S_1, S_2$. We say that a node $v$ is _imbalanced_ if it has strictly more number of edges  to other nodes within its  partition than edges crossing the cut. \n",
    "\n",
    "#### Examples \n",
    "\n",
    "As an example, consider the graphs shown above and the _first_ cut we showed above with $S_1 = \\{1, 2, 3\\}$ and $S_2 = \\{4, 5\\}$. Notice that vertices $2$ and $3$ are imbalanced.\n",
    "\n",
    "However, if we consider the _second_ cut of the graph above, we have $S_1 = \\{ 1, 2, 5\\}$ and $S_2 = \\{3, 4\\}$ we see that all nodes are balanced in this cut.\n",
    "\n",
    "\n",
    "### P1: Design a Greedy Algorithm\n",
    "\n",
    "Design a greedy algorithm that starts from an arbitrary (random?) initial partition, detects if there are imbalanced vertices and uses that information to find a partition with a better cut.  Your algorithm should yield a partition with no imabalanced nodes in the final result.\n",
    "\n",
    "Write down the pseudocode and prove that the algorithm terminates/find its time complexity.\n",
    "\n",
    "__Note__ These problems are meant for you to develop your own thinking/problem solving and will not be graded due to the online nature of this class. We will be grading just the programming assignments based on test cases. The answers to select questions are given at the end of the notebook."
   ]
  },
  {
   "cell_type": "markdown",
   "metadata": {
    "deletable": false,
    "nbgrader": {
     "cell_type": "markdown",
     "checksum": "e8aa08cf5a926bae382eaaa5df0770be",
     "grade": true,
     "grade_id": "cell-ac5d3da7a4ba9813",
     "locked": false,
     "points": 0,
     "schema_version": 3,
     "solution": true,
     "task": false
    }
   },
   "source": [
    "YOUR ANSWER HERE"
   ]
  },
  {
   "cell_type": "markdown",
   "metadata": {
    "deletable": false,
    "editable": false,
    "nbgrader": {
     "cell_type": "markdown",
     "checksum": "af6815b298b70eff98928b3efc51beee",
     "grade": false,
     "grade_id": "cell-74d4c78af4df4219",
     "locked": true,
     "schema_version": 3,
     "solution": false,
     "task": false
    }
   },
   "source": [
    "### P2:  Implement the Greedy Algorithm \n",
    "\n",
    "Now let's implement the greedy algorithm to find a cut of the graph with no imbalanced vertices.\n",
    "\n",
    "The graph will be given as an `adjacency list` representation. \n",
    "\n",
    "  - Vertex set will be $\\{0, \\ldots, n-1\\}$ where $n$ (the number of vertices) is a input parameter.\n",
    "  - `adj_list` is an adjacency list which is given as a list of sts. For instance `adj_list[i]` for a vertex $i$ is a _set_ to all vertices connected to vertex $i$. \n",
    "     - Note that since the graph is undirected, if $j$ lies in `adj_list[i]`, we know that $i$ will be in `adjacency_list[j]`.\n",
    "     - You can assume that the graph has no self loops or multiple edges between same pairs of nodes.\n",
    "  - We will specify a cut as a list of $n$ boolean values `[b0, b1,...bn-1]` wherein `bi` is `True` if $i \\in S_1$, and `False` if vertex $i \\in S_2$.\n",
    "  \n",
    "\n",
    "Implement the overall function `find_balanced_cut` that takes a graph as input and returns a list of Booleans specifying the final cut obtained by running the greedy algorithm. Please pay attention to efficiency, we will be running some large graphs through your code and it should run within a few seconds on graphs with thousands of nodes. "
   ]
  },
  {
   "cell_type": "code",
   "execution_count": null,
   "metadata": {
    "ExecuteTime": {
     "end_time": "2023-09-02T18:53:33.825765Z",
     "start_time": "2023-09-02T18:53:33.817052Z"
    },
    "deletable": false,
    "nbgrader": {
     "cell_type": "code",
     "checksum": "cee58373fd4ca7f4323cd5c9974c9860",
     "grade": false,
     "grade_id": "cell-9fd989cb1b865da1",
     "locked": false,
     "schema_version": 3,
     "solution": true,
     "task": false
    }
   },
   "outputs": [],
   "source": [
    "# This is the function that you will implement the greedy algorithm\n",
    "# It should input a graph as an adjacency list and return a partition where \n",
    "# every vertex is balanced, as described above.\n",
    "# Return a list of Booleans of size n, wherein for any vertex v, if list[v] = True then \n",
    "# it belongs to partition S1 otherwise to partition S2.\n",
    "def find_balanced_cut(n, adj_list): \n",
    "    assert n >= 1\n",
    "    assert len(adj_list) == n\n",
    "    # Check that the adjacency list makes sense and represents a directed graph\n",
    "    for (i, neighbors) in enumerate(adj_list):\n",
    "        assert all( 0 <= j < n for j in neighbors )\n",
    "        assert i not in neighbors # no self loops allowed\n",
    "        for j in neighbors: \n",
    "            assert i in adj_list[j]\n",
    "    # just start with an initial cut tthat places first n/2 nodes in S1 and rest in S2.\n",
    "    cut = [True if i < n/2 else False for i in range(n)]\n",
    "    ## TODO: now run the greedy algorithm. It will be helpful to have helper functions to find \n",
    "    ## imbalanced_vertices, maintain an array with the number of edges for each node that are cut and so on.\n",
    "    ## Note: your algorithm must return a cut where all nodes are balanced.\n",
    "    # your code here\n",
    "    raise NotImplementedError\n"
   ]
  },
  {
   "cell_type": "code",
   "execution_count": null,
   "metadata": {
    "ExecuteTime": {
     "end_time": "2023-09-02T18:53:39.505618Z",
     "start_time": "2023-09-02T18:53:39.500637Z"
    },
    "deletable": false,
    "editable": false,
    "nbgrader": {
     "cell_type": "code",
     "checksum": "28e440b4584014cac2dfaf1348448b79",
     "grade": false,
     "grade_id": "cell-43d97b820fd33f91",
     "locked": true,
     "schema_version": 3,
     "solution": false,
     "task": false
    }
   },
   "outputs": [],
   "source": [
    "#These  are useful functions for the test cases\n",
    "# IMPORTANT: \n",
    "# Please ensure that you run these cells before running test cases or else you may get unknown function errors.\n",
    "\n",
    "# Make an adjacency list out of a list of edges.\n",
    "def mk_adjacency_list(n, edge_list):\n",
    "    adj_list = [set() for i in range(n)]\n",
    "    for (i,j) in edge_list:\n",
    "        adj_list[i].add(j)\n",
    "        adj_list[j].add(i)\n",
    "    return adj_list\n",
    "\n",
    "# Test Partition\n",
    "def test_cut(n, adj_list, cut):\n",
    "    num_edges_crossing_cut = [0]*n\n",
    "    for (i, neighbors) in enumerate(adj_list):\n",
    "        num_edges_crossing_cut[i] = sum([cut[i] != cut[j] for j in neighbors])\n",
    "        if 2 * num_edges_crossing_cut[i] < len(neighbors):\n",
    "            assert False, f'Test Failed: In your cut, vertex {i} has {len(neighbors)} edges incident on it but only {num_edges_crossing_cut[i]} edges cross the cut'\n",
    "    return \n",
    "    "
   ]
  },
  {
   "cell_type": "code",
   "execution_count": null,
   "metadata": {
    "ExecuteTime": {
     "end_time": "2023-09-02T18:53:41.045414Z",
     "start_time": "2023-09-02T18:53:41.040271Z"
    },
    "deletable": false,
    "editable": false,
    "nbgrader": {
     "cell_type": "code",
     "checksum": "2decb85fcdcb2713b0fba12b564d58e7",
     "grade": true,
     "grade_id": "cell-b9c2b3506fb8af35",
     "locked": true,
     "points": 5,
     "schema_version": 3,
     "solution": false,
     "task": false
    }
   },
   "outputs": [],
   "source": [
    "n = 5\n",
    "edge_list =  [(0,1),(0,2),(0,3),(0,4), (1,2),(1,3),(2,4),(3,4)]\n",
    "adj_list = mk_adjacency_list(n, edge_list)\n",
    "print(f'Adjacency list is {adj_list}')\n",
    "cut = find_balanced_cut(n, adj_list)\n",
    "test_cut(n, adj_list, cut)\n",
    "print('Tests Passed (5 points)')"
   ]
  },
  {
   "cell_type": "code",
   "execution_count": null,
   "metadata": {
    "ExecuteTime": {
     "end_time": "2023-09-02T18:53:42.254267Z",
     "start_time": "2023-09-02T18:53:42.248304Z"
    },
    "deletable": false,
    "editable": false,
    "nbgrader": {
     "cell_type": "code",
     "checksum": "e46edf108757208b954758fa8c12deab",
     "grade": true,
     "grade_id": "cell-6c4e28f7b2d0ac2c",
     "locked": true,
     "points": 5,
     "schema_version": 3,
     "solution": false,
     "task": false
    }
   },
   "outputs": [],
   "source": [
    "n = 8\n",
    "edge_list = [ (0,1), (0,2), (0,3), (0,4), (0,5), (0,6),\n",
    "               (1, 2), (1,3), (1,4), (1,5), (1, 6), (1,7),\n",
    "                 (2, 3), (2, 5), (2, 7), \n",
    "                   (3,4), (3, 6), (3, 7),\n",
    "                     (4,6), (4, 6), (4, 7),\n",
    "                        (5,6), (5,7),\n",
    "                         (6,7)]\n",
    "adj_list = mk_adjacency_list(n, edge_list)\n",
    "print(f'Adjacency list is {adj_list}')\n",
    "cut = find_balanced_cut(n, adj_list)\n",
    "test_cut(n, adj_list, cut)\n",
    "\n",
    "print('Tests Passed (5 points)')"
   ]
  },
  {
   "cell_type": "code",
   "execution_count": null,
   "metadata": {
    "ExecuteTime": {
     "end_time": "2023-09-02T18:59:13.942657Z",
     "start_time": "2023-09-02T18:59:13.839786Z"
    },
    "deletable": false,
    "editable": false,
    "nbgrader": {
     "cell_type": "code",
     "checksum": "aefc3539fb6035b608a898597cfe1c3b",
     "grade": true,
     "grade_id": "cell-28885f6849fcc290",
     "locked": true,
     "points": 15,
     "schema_version": 3,
     "solution": false,
     "task": false
    }
   },
   "outputs": [],
   "source": [
    "## WARNING: these graphs are going to be large. Make sure that your code is efficient enough to finish running this cell\n",
    "## within 1 minute at worst.\n",
    "## Our referene solution finishes in nearly 100 milli seconds on a macbook pro laptop\n",
    "# running intel core i7 3.1 GHz processor\n",
    "# if you are curious.\n",
    "from random import randint\n",
    "def mk_random_graph(n, m):\n",
    "    adj_list = [set() for i in range(n)]\n",
    "    for k in range(m):\n",
    "        i = randint(0, n-1)\n",
    "        j = randint(0, n-1)\n",
    "        if i == j: \n",
    "            continue\n",
    "        adj_list[i].add(j)\n",
    "        adj_list[j].add(i)\n",
    "    return adj_list\n",
    "\n",
    "\n",
    "adj_list = mk_random_graph(100, 1000) # making random graph with 100 nodes and 10000 edges\n",
    "cut = find_balanced_cut(100, adj_list)\n",
    "test_cut(100, adj_list, cut)\n",
    "\n",
    "\n",
    "adj_list = mk_random_graph(100, 1000) # making random graph with 100 nodes and 1000 edges\n",
    "cut = find_balanced_cut(100, adj_list)\n",
    "test_cut(100, adj_list, cut)\n",
    "\n",
    "\n",
    "adj_list = mk_random_graph(250, 2500) # making random graph with 250 nodes and 2500 edges\n",
    "cut = find_balanced_cut(250, adj_list)\n",
    "test_cut(250, adj_list, cut)\n",
    "\n",
    "\n",
    "\n",
    "adj_list = mk_random_graph(500, 10000) # making random graph with 250 nodes and 2500 edges\n",
    "cut = find_balanced_cut(500, adj_list)\n",
    "test_cut(500, adj_list, cut)\n",
    "\n",
    "print('Test Passed (15 points)')\n"
   ]
  },
  {
   "cell_type": "markdown",
   "metadata": {
    "deletable": false,
    "editable": false,
    "nbgrader": {
     "cell_type": "markdown",
     "checksum": "55bdb885c2a9200a4fde6e942323a5a3",
     "grade": false,
     "grade_id": "cell-29f461634acb5504",
     "locked": true,
     "schema_version": 3,
     "solution": false,
     "task": false
    }
   },
   "source": [
    "### Q3. Approximation Guarantee\n",
    "\n",
    "Suppose we have a graph $G$ and a partition $S_1, S_2$ of its vertices such that there are no imbalanced vertices. Show that at least half the edges in the graph must connect a node from $S_1$ to one in $S_2$. \n",
    "\n",
    "Therefore, show that the greedy algorithm is a factor-2 approximation algorithm: I.e, if OPT is the optimal cut and $C$ is that of the greedy algorithm, we have: \n",
    "\n",
    "$$ \\frac{1}{2} \\text{OPT} \\leq C \\leq OPT $$"
   ]
  },
  {
   "cell_type": "markdown",
   "metadata": {
    "deletable": false,
    "nbgrader": {
     "cell_type": "markdown",
     "checksum": "986c3c362420d573df55663571adf352",
     "grade": true,
     "grade_id": "cell-bec15d914c3d550a",
     "locked": false,
     "points": 0,
     "schema_version": 3,
     "solution": true,
     "task": false
    }
   },
   "source": [
    "YOUR ANSWER HERE"
   ]
  },
  {
   "cell_type": "markdown",
   "metadata": {
    "deletable": false,
    "editable": false,
    "nbgrader": {
     "cell_type": "markdown",
     "checksum": "8c44efe963634a5dc33c896932cb84b5",
     "grade": false,
     "grade_id": "cell-f53816e8a8802c09",
     "locked": true,
     "schema_version": 3,
     "solution": false,
     "task": false
    }
   },
   "source": [
    "# P2: k-Centers Clustering Problem\n",
    "\n",
    "You are given a set of points $P_1, \\ldots, P_n$ on a plane where for each point $P_i$ we provide its coordinates $(x_i, y_i)$. The goal is to select $k$ points out of $n$ as _centers_. Once we select $k$ such centers $C_1, \\ldots, C_k$ from among the points $P_1, \\ldots, P_n$, we define for every point $P_i$ the distance $r_i$ as the distance from $P_i$ to its nearest center: \n",
    "$$ r_i = \\min_{j=1}^k \\mathsf{distance}(P_i, C_j) \\,.$$\n",
    "\n",
    "Here we use Euclidean distance: $\\mathsf{distance}( (x_1, y_1), (x_2, y_2) ) = \\sqrt{ (x_2 - x_1)^2 + (y_2 - y_1)^2 }$. Also note that the distance $r_i$ depends on which points we choose as centers. \n",
    "For instance, if a point $P_i$ is chosen as one of the centers, then its distance $r_i = 0$.\n",
    "\n",
    "Having chosen $k$ centers $C_1, \\ldots, C_k$,  we define $R(C_1, \\ldots, C_k) = \\max ( r_1, \\cdots, r_n )$ as the maximum distance from any point to its nearest center. It is clear then that if we placed a circle of radius $R(C_1, \\ldots, C_k)$ around every center, then all points belong to the circle. \n",
    "\n",
    "\n",
    "Our goal is to choose $k$ centers such that we minimize the value of $R$ as defined above.\n",
    "$$ \\mathsf{find\\ centers}\\ C_1, \\ldots, C_k \\ \\mathsf{s.t.}\\ R(C_1, \\ldots, C_k)\\ \\mathsf{is\\ minimized} $$\n",
    "\n",
    "\n",
    "## Example\n",
    "\n",
    "Suppose we have $10$ points $P_1, \\ldots, P_{10}$ with the coordinates: \n",
    "$$P_1: (1,2),\\ P_2:(3,5),\\ P_3:(4,7),\\ P_4:(8, 14),\\ P_5:(9,3),\\ P_6:(7,7),\\ P_7:(6,5),\\ P_8:(4, 6),\\ P_9:(5,2),\\ P_{10}:(1,8)\\,.$$\n",
    "We choose $k=2$ centers whose indices are in the list `center_indices`. In this instance, we have chosen  $P_3$ and $P_7$. The calculation of $R(C_1, C_2)$ proceeds as shown below to obtain the value $R = 8.062$."
   ]
  },
  {
   "cell_type": "code",
   "execution_count": null,
   "metadata": {
    "ExecuteTime": {
     "end_time": "2023-09-03T01:07:47.956096Z",
     "start_time": "2023-09-03T01:07:47.777420Z"
    },
    "deletable": false,
    "editable": false,
    "nbgrader": {
     "cell_type": "code",
     "checksum": "f0937aa1eec25f7ce78aa45df2e348ac",
     "grade": false,
     "grade_id": "cell-b9643ea6a38d84ae",
     "locked": true,
     "schema_version": 3,
     "solution": false,
     "task": false
    }
   },
   "outputs": [],
   "source": [
    "from math import sqrt \n",
    "from matplotlib import pyplot as plt \n",
    "\n",
    "\n",
    "def euclidean_distance(a, b):\n",
    "    (xa, ya) = a\n",
    "    (xb, yb) = b\n",
    "    return sqrt( (xb - xa)**2 + (yb - ya)**2)\n",
    "\n",
    "def calculate_R(coords, center_indices):\n",
    "    n = len(coords)\n",
    "    assert all( 0 <= j < n for j in center_indices)\n",
    "    rj_values = [ min([euclidean_distance(xj, coords[j]) for j in center_indices]) for xj in coords]\n",
    "    return max(rj_values)\n",
    "\n",
    "def plot_coords(coords, center_indices):\n",
    "    R = calculate_R(coords, center_indices)\n",
    "    coords_x = [x for (x,y) in coords]\n",
    "    coords_y = [y for (x, y) in coords]\n",
    "    centers_x = [coords_x[j] for j in center_indices]\n",
    "    centers_y = [coords_y[j] for j in center_indices]\n",
    "    figure, axes = plt.subplots()\n",
    "    axes.axis('equal')\n",
    "    for k in center_indices:\n",
    "        c = plt.Circle(coords[k], R, fill=True, alpha=0.5, facecolor='lightblue', clip_on=False, edgecolor='black', linewidth=1, linestyle='dashed')\n",
    "        axes.add_artist(c)\n",
    "    plt.scatter(coords_x, coords_y, s=30, marker='x' )\n",
    "    plt.scatter(centers_x, centers_y, s=50, marker='o')\n",
    "    plt.show()\n",
    "    \n",
    "coords = [(1,2), (3,5), (4,7), (8, 14), (9,3), (7,7), (6,5), (4, 6), (5,2), (1,8)]\n",
    "center_indices = [2, 6] # remember indexing starts from 0 in python arrays\n",
    "R = calculate_R(coords, center_indices)\n",
    "print(f'R = {R}')\n",
    "plot_coords(coords, center_indices)\n",
    "    "
   ]
  },
  {
   "cell_type": "markdown",
   "metadata": {
    "deletable": false,
    "editable": false,
    "nbgrader": {
     "cell_type": "markdown",
     "checksum": "89c8d675483faa017a86631c7c0fc339",
     "grade": false,
     "grade_id": "cell-473219acd1894c62",
     "locked": true,
     "schema_version": 3,
     "solution": false,
     "task": false
    }
   },
   "source": [
    "However, if we instead chose centers: $P_2$ and $P_{6}$, we obtain a smaller $R = 7.071$."
   ]
  },
  {
   "cell_type": "code",
   "execution_count": null,
   "metadata": {
    "ExecuteTime": {
     "end_time": "2023-09-03T01:12:41.465564Z",
     "start_time": "2023-09-03T01:12:41.277517Z"
    },
    "deletable": false,
    "editable": false,
    "nbgrader": {
     "cell_type": "code",
     "checksum": "d14144d2913f22d4d86f0eab4a42bdc9",
     "grade": false,
     "grade_id": "cell-d9c06f699dc19d19",
     "locked": true,
     "schema_version": 3,
     "solution": false,
     "task": false
    }
   },
   "outputs": [],
   "source": [
    "coords = [(1,2), (3,5), (4,7), (8, 14), (9,3), (7,7), (6,5), (4, 6), (5,2), (1,8)]\n",
    "center_indices = [1, 5] # remember indexing starts from 0 in python arrays\n",
    "R = calculate_R(coords, center_indices)\n",
    "print(f'R = {R}')\n",
    "plot_coords(coords, center_indices)"
   ]
  },
  {
   "cell_type": "markdown",
   "metadata": {
    "deletable": false,
    "editable": false,
    "nbgrader": {
     "cell_type": "markdown",
     "checksum": "ecc0cbff6eef8fff2908c094ffd7c08f",
     "grade": false,
     "grade_id": "cell-db803dd63abb6db9",
     "locked": true,
     "schema_version": 3,
     "solution": false,
     "task": false
    }
   },
   "source": [
    "In the example above, we are asking which set of $k=2$ centers will yield the minimum radius $R$. \n",
    "\n",
    "## Solving the k-center problem\n",
    "\n",
    "The k-center problem is well known to be NP-complete. The obvious algorithm of running through all possible $k$ combinations out of the given set of $n$ points has a complexity $O(n^k)$ which is exponential in $k$.\n",
    "\n",
    "How do we solve the $k$-center problem in a greedy manner? Here is a simple algorithm:\n",
    "\n",
    "<div class=\"alert alert-info\" style=\" border-width:2px;border-color:black white black white;\">\n",
    "    <ol>\n",
    "        <li> $C = \\{ P_1 \\} $. <i> Just add the first point to the list of centers </i>\n",
    "        <li> for j = 2 to k\n",
    "            <ol>\n",
    "                <li> $(P_j, r_j) = \\mathit{find\\_farthest\\_point\\_from\\_current\\_centers}( [P_1, \\ldots, P_n], C ) $\n",
    "                <li> $C = C \\cup \\{ P_j \\}$\n",
    "            </ol>  \n",
    "        <li> $ (P_{k+1}, R) = \\mathit{find\\_farthest\\_point\\_from\\_current\\_centers}( [P_1, \\ldots, P_n], C ) $\n",
    "        <li> return set of centers $C$, radius $R$\n",
    "    </ol>\n",
    "</div>\n",
    "\n",
    "The function $\\mathit{find\\_farthest\\_point\\_from\\_current\\_centers}$ goes over all points in the list and returns the point $P_j$ whose distance from its closest center $r_j$ is the maximum amongst all points. Although the function just needs to return this point $P_j$, we will also make it return $r_j$. Similarly the call to this function after the loop has finished is not needed but it will be useful to our analysis of this algorithm later on. "
   ]
  },
  {
   "cell_type": "code",
   "execution_count": null,
   "metadata": {
    "ExecuteTime": {
     "end_time": "2023-09-03T03:05:35.854733Z",
     "start_time": "2023-09-03T03:05:35.846781Z"
    },
    "deletable": false,
    "nbgrader": {
     "cell_type": "code",
     "checksum": "221edab1fbe94f34bd80e8f851759ab4",
     "grade": false,
     "grade_id": "cell-1ae63dbc996166bd",
     "locked": false,
     "schema_version": 3,
     "solution": true,
     "task": false
    }
   },
   "outputs": [],
   "source": [
    "def euclidean_distance(a, b):\n",
    "    (xa, ya) = a\n",
    "    (xb, yb) = b\n",
    "    return sqrt( (xb - xa)**2 + (yb - ya)**2)\n",
    "\n",
    "\n",
    "# Function find_farthest_point_from_current_centers\n",
    "# returns a pair (j, rj) where \n",
    "# - 0 <= j < len(coords) is the index of the farthest point P_j\n",
    "# - rj is the distance of the point P_j from its nearest center\n",
    "def find_farthest_point_from_current_centers(coords, center_indices):\n",
    "    n = len(coords)\n",
    "    assert all( 0 <= j < n for j in center_indices)\n",
    "    rj_values = [ (min([euclidean_distance(xi, coords[j]) for j in center_indices]), i) for (i, xi) in enumerate(coords)]\n",
    "    (rj, j) = max(rj_values)\n",
    "    return (j, rj)\n",
    "\n",
    "## Implement a function greedy_k_centers that given a list of coordinates `coords`, returns center_list, R\n",
    "##   - centers_list is a list of indices [j1,..., jk]. Note that coords[j1], ..., coords[jk] will yield coordinates of the actual centetr.\n",
    "##   - R is the radius resulting from the choice of the k centers\n",
    "## Please use the implementation of find_farthest_point_from_current_centers above.\n",
    "def greedy_k_centers(coords, k, debug=True): ## Please print messages from this function only if debug flag is True\n",
    "    centers = [0] # Add the very first point \n",
    "    if debug:\n",
    "        print(f'Initial center: {coords[0]}')\n",
    "    # your code here\n",
    "    raise NotImplementedError"
   ]
  },
  {
   "cell_type": "code",
   "execution_count": null,
   "metadata": {
    "ExecuteTime": {
     "end_time": "2023-09-03T03:05:38.483012Z",
     "start_time": "2023-09-03T03:05:38.282485Z"
    },
    "deletable": false,
    "editable": false,
    "nbgrader": {
     "cell_type": "code",
     "checksum": "7a5574ecabc710da2a27f275671d949e",
     "grade": true,
     "grade_id": "cell-16bb51e6fbb65cc4",
     "locked": true,
     "points": 5,
     "schema_version": 3,
     "solution": false,
     "task": false
    }
   },
   "outputs": [],
   "source": [
    "coords = [(1,2), (3,5), (4,7), (8, 14), (9,3), (7,7), (6,5), (4, 6), (5,2), (1,8)]\n",
    "(center_indices, R) = greedy_k_centers(coords, 2)\n",
    "plot_coords(coords, center_indices)\n",
    "def calculate_R(coords, center_indices):\n",
    "    n = len(coords)\n",
    "    assert all( 0 <= j < n for j in center_indices)\n",
    "    rj_values = [ min([euclidean_distance(xj, coords[j]) for j in center_indices]) for xj in coords]\n",
    "    return max(rj_values)\n",
    "\n",
    "assert len(center_indices) == 2\n",
    "assert abs(R - calculate_R(coords, center_indices)) <= 1E-06, f'The returned value of R={R} from your function does not match with my computation. Something is wrong in your calculations'\n",
    "assert 4 <= R <= 16.2\n",
    "print('Passed test (5 points)')"
   ]
  },
  {
   "cell_type": "code",
   "execution_count": null,
   "metadata": {
    "ExecuteTime": {
     "end_time": "2023-09-03T03:04:24.576524Z",
     "start_time": "2023-09-03T03:04:24.389112Z"
    },
    "deletable": false,
    "editable": false,
    "nbgrader": {
     "cell_type": "code",
     "checksum": "dc7ff17f014a35495be2a2837f64db16",
     "grade": true,
     "grade_id": "cell-54095268474d3995",
     "locked": true,
     "points": 5,
     "schema_version": 3,
     "solution": false,
     "task": false
    }
   },
   "outputs": [],
   "source": [
    "coords = [(1,2), (3,5), (4,7), (8, 14), (9,3), (7,7), (6,5), (4, 6), (5,2), (1,8)]\n",
    "(center_indices, R) = greedy_k_centers(coords, 3)\n",
    "plot_coords(coords, center_indices)\n",
    "def calculate_R(coords, center_indices):\n",
    "    n = len(coords)\n",
    "    assert all( 0 <= j < n for j in center_indices)\n",
    "    rj_values = [ min([euclidean_distance(xj, coords[j]) for j in center_indices]) for xj in coords]\n",
    "    return max(rj_values)\n",
    "\n",
    "assert len(center_indices) == 3\n",
    "assert abs(R - calculate_R(coords, center_indices)) <= 1E-06, f'The returned value of R={R} from your function does not match with my computation. Something is wrong in your calculations'\n",
    "assert 3 <= R <= 12.0\n",
    "print('Passed test (5 points)')"
   ]
  },
  {
   "cell_type": "code",
   "execution_count": null,
   "metadata": {
    "ExecuteTime": {
     "end_time": "2023-09-03T03:15:23.321922Z",
     "start_time": "2023-09-03T03:15:22.743429Z"
    },
    "deletable": false,
    "editable": false,
    "nbgrader": {
     "cell_type": "code",
     "checksum": "f1c283259aa7a82f796a0286fc0a855d",
     "grade": true,
     "grade_id": "cell-d52e3403bcc76d90",
     "locked": true,
     "points": 5,
     "schema_version": 3,
     "solution": false,
     "task": false
    }
   },
   "outputs": [],
   "source": [
    "from random import uniform\n",
    "## Generate 1000 points\n",
    "n = 1000\n",
    "k = 12\n",
    "coords = [(uniform(-2,-1), uniform(-2,2)) for i in range(n//4)] + [(uniform(-1,1), uniform(-1,1)) for i in range(n//4)] +  [(uniform(1,2), uniform(-2,0)) for i in range(n//4)] +  [(uniform(1,2), uniform(0,2)) for i in range(n//4)] \n",
    "            \n",
    "(center_indices, R) = greedy_k_centers(coords, k, debug=False)\n",
    "plot_coords(coords, center_indices)\n",
    "def calculate_R(coords, center_indices):\n",
    "    n = len(coords)\n",
    "    assert all( 0 <= j < n for j in center_indices)\n",
    "    rj_values = [ min([euclidean_distance(xj, coords[j]) for j in center_indices]) for xj in coords]\n",
    "    return max(rj_values)\n",
    "\n",
    "assert len(center_indices) == k\n",
    "assert abs(R - calculate_R(coords, center_indices)) <= 1E-06, f'The returned value of R={R} from your function does not match with my computation. Something is wrong in your calculations'\n",
    "print('Test Passed (5 points)')"
   ]
  },
  {
   "cell_type": "markdown",
   "metadata": {
    "deletable": false,
    "editable": false,
    "nbgrader": {
     "cell_type": "markdown",
     "checksum": "d8817eb782711396828616d21cd12c48",
     "grade": false,
     "grade_id": "cell-4798899ca4986ec1",
     "locked": true,
     "schema_version": 3,
     "solution": false,
     "task": false
    }
   },
   "source": [
    "## Analysis\n",
    "\n",
    "Let's recall the greedy algorithm again. \n",
    "\n",
    "\n",
    "<div class=\"alert alert-info\" style=\" border-width:2px;border-color:black white black white;\">\n",
    "    <ol>\n",
    "        <li> $C = \\{ P_1 \\} $. <i> Just add the first point to the list of centers </i>\n",
    "        <li> for j = 2 to k\n",
    "            <ol>\n",
    "                <li> $(C_j, r_j) = \\mathit{find\\_farthest\\_point\\_from\\_current\\_centers}( [P_1, \\ldots, P_n], C ) $\n",
    "                <li> $C = C \\cup \\{ C_j \\}$\n",
    "            </ol>  \n",
    "        <li> $ (P_{k+1}, R) = \\mathit{find\\_farthest\\_point\\_from\\_current\\_centers}( [P_1, \\ldots, P_n], C ) $\n",
    "        <li> return set of centers $C$, radius $R$\n",
    "    </ol>\n",
    "</div>\n",
    "\n",
    "\n",
    "Let $C_1, C_2, \\ldots, C_k$ be the set of centers it returns and $P_{k+1}$ be the point returned by the call to $ \\mathit{find\\_farthest\\_point\\_from\\_current\\_centers}$ in line 3 of the algorithm. Note that $C_1 = P_1$ the way we have written the algorithm.\n",
    "\n",
    "\n",
    "#### Q1\n",
    "\n",
    "How do the radii $r_2, \\ldots, r_k$ obtained in the main for-loop of the algorithm and the final value $R$ compare with each other?\n",
    "\n"
   ]
  },
  {
   "cell_type": "markdown",
   "metadata": {
    "deletable": false,
    "nbgrader": {
     "cell_type": "markdown",
     "checksum": "f70e36c938b9a92b1a1043cdb23f2c51",
     "grade": true,
     "grade_id": "cell-be2721df8fbb3d03",
     "locked": false,
     "points": 0,
     "schema_version": 3,
     "solution": true,
     "task": false
    }
   },
   "source": [
    "YOUR ANSWER HERE"
   ]
  },
  {
   "cell_type": "markdown",
   "metadata": {
    "deletable": false,
    "editable": false,
    "nbgrader": {
     "cell_type": "markdown",
     "checksum": "2017f3be29683e1143a801025707ede3",
     "grade": false,
     "grade_id": "cell-2475fc8706e1d4d7",
     "locked": true,
     "schema_version": 3,
     "solution": false,
     "task": false
    }
   },
   "source": [
    "Let us suppose the optimal algorithm chose centers $O_1, \\ldots, O_k$ which yielded radius $R^*$. In other words every point can be found within $R^*$ circle around the centers $O_1, \\ldots, O_k$. \n",
    "\n",
    "If we consider the points chosen by the greedy algorithm and the point $P_{k+1}$ generated after the $k$ centers are found, these $k+1$ points must also be covered by the $k$ optimal centers and the circles of radius $R^*$ around these. Therefore, by pigeon hole principle at least $2$ of the points in the set \n",
    " $$ \\{ C_1, \\ldots, C_k, P_{k+1} \\}$$ \n",
    " must lie within the same circle centered around some optimal center $O_i$. \n",
    " \n",
    " __Q2__\n",
    " \n",
    " What is the farthest possible distance between any two points in a circle of radius $2 R^*$?"
   ]
  },
  {
   "cell_type": "markdown",
   "metadata": {
    "deletable": false,
    "nbgrader": {
     "cell_type": "markdown",
     "checksum": "93c0df274fd8a2a510d9a65be66c8e72",
     "grade": true,
     "grade_id": "cell-dfea01cd6937c603",
     "locked": false,
     "points": 0,
     "schema_version": 3,
     "solution": true,
     "task": false
    }
   },
   "source": [
    "YOUR ANSWER HERE"
   ]
  },
  {
   "cell_type": "markdown",
   "metadata": {
    "deletable": false,
    "editable": false,
    "nbgrader": {
     "cell_type": "markdown",
     "checksum": "4c8ebfe37ec6406cb8371f5b403b9f98",
     "grade": false,
     "grade_id": "cell-e7ec33e0af219f6f",
     "locked": true,
     "schema_version": 3,
     "solution": false,
     "task": false
    }
   },
   "source": [
    "__Q3__\n",
    "\n",
    "Suppose we take any two distinct points in the set $ \\{ C_1, \\ldots, C_k, P_{k+1} \\}$. What can you say about the distance between them?"
   ]
  },
  {
   "cell_type": "markdown",
   "metadata": {
    "deletable": false,
    "nbgrader": {
     "cell_type": "markdown",
     "checksum": "93c9da774aeb49bd81d46eaefb8112c3",
     "grade": true,
     "grade_id": "cell-ac09c46005b1bb75",
     "locked": false,
     "points": 0,
     "schema_version": 3,
     "solution": true,
     "task": false
    }
   },
   "source": [
    "YOUR ANSWER HERE"
   ]
  },
  {
   "cell_type": "markdown",
   "metadata": {
    "deletable": false,
    "editable": false,
    "nbgrader": {
     "cell_type": "markdown",
     "checksum": "0d2f5d85b11dc3c8f91d2705b7ff1361",
     "grade": false,
     "grade_id": "cell-fa8e178f08908837",
     "locked": true,
     "schema_version": 3,
     "solution": false,
     "task": false
    }
   },
   "source": [
    "Show that the radius $R$ found by the greedy algorithm and the optimal radius $R^*$ must satisfy the inequality \n",
    "$ R^* \\leq R \\leq 2 R^* $. And therefore, the greedy algorithm is a factor $2$ approximation.\n"
   ]
  },
  {
   "cell_type": "markdown",
   "metadata": {
    "deletable": false,
    "nbgrader": {
     "cell_type": "markdown",
     "checksum": "69d76e95667e1138139c641ee16aadff",
     "grade": true,
     "grade_id": "cell-9993ca1b4a58cf03",
     "locked": false,
     "points": 0,
     "schema_version": 3,
     "solution": true,
     "task": false
    }
   },
   "source": [
    "YOUR ANSWER HERE"
   ]
  },
  {
   "cell_type": "markdown",
   "metadata": {
    "deletable": false,
    "editable": false,
    "nbgrader": {
     "cell_type": "markdown",
     "checksum": "9ed98f1bb56b5a020ae17bc7c4c50fc7",
     "grade": false,
     "grade_id": "cell-54b2d7eec7fa70bd",
     "locked": true,
     "schema_version": 3,
     "solution": false,
     "task": false
    }
   },
   "source": [
    "# Answers to Manually Graded Problems\n",
    "\n",
    "### P1: Design a Greedy Algorithm\n",
    "\n",
    "The pseudo code goes like this\n",
    "\n",
    "<div class=\"alert alert-block alert-info\" style=\"border-width:2px; border-color: black white black white \">\n",
    "    <ol>\n",
    "        <li> Start by assigning first $n/2$ nodes to $S_1$ and remaining to $S_2$ (or some arbitrary initial partition).\n",
    "        <li> while <i> there exists an imbalanced node in partition $(S_1, S_2)$ </i> \n",
    "            <ol>\n",
    "                <li> $v\\ :=\\ \\textit{findImbalancedNode}(G, S_1, S_2) $\n",
    "                <li> Flip the current partition that $v$ is in (i.e, if $v \\in S_1$ then move $v$ to $S_2$ or vice-versa).\n",
    "            </ol>\n",
    "         <li> return $(S_1, S_2)$\n",
    "    </ol>\n",
    "</div>\n",
    "\n",
    "The algorithm terminates because at each step, it moves when it moves an imbalanced node from one partition to another, the number of edges that are currently crossing the cut strictly increases. Since the maximum number of edges is limited by total number of edges in the graph, the algorithm must terminate. \n",
    "\n",
    "The time complexity of the algorithm is $ O(|E| \\times (|V| + |E|))$. The greedy algorithm runs for at most $|E|$ steps and each iteration searches over the graph to find an imbalanced node. Obviously we can improve this with some better data-structures that can do the book keeping efficiently.\n",
    "    \n",
    "### P1: MaxCut, Q3. Approximation Guarantee\n",
    "\n",
    "Suppose the partition has the property that no node is imbalanced. Then for every node, let $\\text{ncut}(v)$ represent the number of edges incident on $v$ that cross the cut and $\\delta(v)$ reprent the number of edges incident on $v$. We know that for all $v$, \n",
    "\n",
    "$$  \\text{ncut}(v) \\geq \\frac{1}{2} \\delta(v) $$\n",
    "\n",
    "Summing over all nodes $v$, \n",
    "\n",
    "$$ \\sum_{v \\in V} \\text{ncut}(v) \\geq \\frac{1}{2} \\sum_{v \\in V} \\delta(v) $$\n",
    "\n",
    "The LHS of the summation is twice the size of the cut because every edge $(u,v)$ is counted twice once as part of $\\text{ncut}(u)$ and once more as part of $\\text{ncut}(v)$. The RHS is the number of edges in the graph. Therefore, if $C$ is the size of the cut, we have\n",
    "\n",
    "$$ 2  C \\geq |E|,\\ \\text{or}\\ C \\geq \\frac{1}{2} |E|$$\n",
    "\n",
    "However, the optimal cut OPT cannot exceed $|E|$ in the first place. Hence we have\n",
    "\n",
    "$$ \\frac{1}{2} \\text{OPT} \\leq C \\leq OPT $$\n",
    "\n",
    "\n",
    "### P2: k-center, Q1\n",
    "\n",
    "Note that each $r_j$ is the distance of the point in the list that is farthest from the current set of centers $C_1, \\ldots, C_{j-1}$. Therefore, we have\n",
    "\n",
    "$$r_2 \\geq r_3 \\geq \\cdots \\geq r_k \\geq R $$\n",
    "\n",
    "I.e, as the algorithm runs, each new center is closer to the previously generated set of centers.\n",
    "\n",
    "### Q2\n",
    "\n",
    "Answer $2 R^*$: two points along some diameter.\n",
    "\n",
    "### Q3\n",
    "Suppose we chose two points $C_i, C_j$ that are centers chosen by the greedy algorithm and $i < j$. We know that $C_j$ was the farthest points from any of the centers $C_1, \\ldots, C_{j-1}$. Therefore, the distance between $C_i, C_j$ must be _at least_ $r_j$ and which is at least $R$.\n",
    "\n",
    "Similarly if we chose points $C_i, P_{k+1}$ the same fact holds. Distance between the points must be _at least_ at least $R$.\n",
    "\n",
    "### Q4\n",
    "\n",
    "By pigeon hole principle at least two of the points in the set  $ \\{ C_1, \\ldots, C_k, P_{k+1} \\}$ must lie inside a circle of radius $R^*$. However, any two points in the set must have a distance of at least $R$. Hence, \n",
    "$$ R \\leq 2 R^*$$.\n",
    "\n",
    "Showing $R^* \\leq R$ is obvious by assumption that $R^*$ is an optimal radius for the k-center problem and $R$ is some sub-optimal solution.\n"
   ]
  },
  {
   "cell_type": "code",
   "execution_count": null,
   "metadata": {},
   "outputs": [],
   "source": []
  }
 ],
 "metadata": {
  "kernelspec": {
   "display_name": "Python 3",
   "language": "python",
   "name": "python3"
  },
  "language_info": {
   "codemirror_mode": {
    "name": "ipython",
    "version": 3
   },
   "file_extension": ".py",
   "mimetype": "text/x-python",
   "name": "python",
   "nbconvert_exporter": "python",
   "pygments_lexer": "ipython3",
   "version": "3.7.6"
  }
 },
 "nbformat": 4,
 "nbformat_minor": 5
}
