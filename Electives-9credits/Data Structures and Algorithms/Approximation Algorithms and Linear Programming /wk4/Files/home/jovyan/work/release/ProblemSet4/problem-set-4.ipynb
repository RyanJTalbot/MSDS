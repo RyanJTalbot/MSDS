{
 "cells": [
  {
   "cell_type": "markdown",
   "metadata": {
    "deletable": false,
    "editable": false,
    "nbgrader": {
     "cell_type": "markdown",
     "checksum": "7625d35c9626fb8cb6c157fe83ca2dce",
     "grade": false,
     "grade_id": "cell-83efaf4bf0fe0cda",
     "locked": true,
     "schema_version": 3,
     "solution": false,
     "task": false
    }
   },
   "source": [
    "# Problem 1\n",
    "\n",
    "We saw how to solve TSPs in this module and in particular presented two approaches to encode a TSP as an integer linear program. In this problem, we will ask you to adapt the TSP solution to the related problem of $k$ Travelling Salespeople Problem ($k$-TSP).\n",
    "\n",
    "Let $G$ be a complete graph with $n$ vertices that we will label $0, \\ldots, n-1$ (keeping Python array indexing in mind). Our costs are specified using a matrix $C$ wherein $C_{i,j}$ is the cost of the edge from vertex $i$ to $j$ for $i \\not= j$.\n",
    "\n",
    "In this problem, we have $k \\geq 1$ salespeople who must  start from vertex $0$ of the graph (presumably the location of the sales office) and together visit every location in the graph,  each returning back to vertex $0$. Each location must be visited exactly once by some salesperson in the team. Therefore, other than vertex $0$ (the start/end vertex of every salesperson's tour), no two salesperson tours have a vertex in common. Notice that for $k=1$, this is just the regular TSP problem we have studied. \n",
    "\n",
    "Also, all $k$ salespeople must be employed in the tour. In other words, if we have $k=3$ then each salesperson must start at $0$ and visit a sequence of one or more vertices and come back to $0$. No salesperson can be \"idle\".\n",
    "\n",
    "## Example-1\n",
    "\n",
    "Consider a graph with $5$ nodes and the following cost matrix:\n",
    "\n",
    "$$ \\begin{array}{c|ccccc}\n",
    "  \\text{Vertices} & 0 & 1 & 2 & 3 & 4 \\\\ \n",
    "   \\hline\n",
    " 0 & - & 3 & 4 & 3 & 5 \\\\ \n",
    " 1 & 1 & - & 2 & 4 & 1 \\\\ \n",
    " 2 & 2 & 1 & - & 5 & 4 \\\\ \n",
    " 3 & 1 & 1 & 5 & - & 4 \\\\ \n",
    " 4 & 2 & 1 & 3 & 5 & - \\\\ \n",
    " \\end{array}$$\n",
    " \n",
    " For instance $C_{2,3}$ the cost of edge from vertex $2$ to $3$ is $5$. The $-$ in the diagonal entries simply tells us that we do not care what goes in there since we do not have self-loops in the graph.\n",
    " \n",
    "The optimal $2$-TSP tour for $k=2$ salespeople is shown below.\n",
    "  - Salesperson # 1: $0 \\rightarrow 2 \\rightarrow 1 \\rightarrow 4 \\rightarrow 0$.\n",
    "  - Salesperson # 2: $0 \\rightarrow 3 \\rightarrow 0$.\n",
    "  \n",
    "The total cost of the edges traversed by the two salespeople equals $12$.\n",
    "\n",
    "For $k=3$, the optimal $3-$ TSP tour is as shown below.\n",
    "  - Salesperson # 1: $0 \\rightarrow 1 \\rightarrow 4$, \n",
    "  - Salesperson # 2: $0 \\rightarrow 2$, \n",
    "  - Salesperson # 3: $0 \\rightarrow 3$.\n",
    "\n",
    "The total cost is $16$.\n",
    "\n",
    "The objective of this problem is to formulate an ILP using the MTZ approach."
   ]
  },
  {
   "cell_type": "markdown",
   "metadata": {
    "deletable": false,
    "editable": false,
    "nbgrader": {
     "cell_type": "markdown",
     "checksum": "f537fe515e16f99980b2dd51ad5dd4e5",
     "grade": false,
     "grade_id": "cell-e5adf3a54fd8e409",
     "locked": true,
     "schema_version": 3,
     "solution": false,
     "task": false
    }
   },
   "source": [
    "### Problem 1A (MTZ approach)\n",
    "\n",
    "We will use the same ILP setup as in our notes (see the notes on Exact Approaches to TSP that includes the ILP encodings we will use in this problem).\n",
    "  - Decision variables $x_{i,j}$ for $i \\not= j$ denoting that the tour traverses the edge from $i$ to $j$.\n",
    "  - Time stamps $t_1, \\ldots, t_{n-1}$. The start/end vertex $0$ does not get a time stamp.\n",
    "  \n",
    "Modify the MTZ approach to incorporate the fact that $k$ salespeople are going to traverse the graph.\n",
    "\n",
    "#### (A) Degree Constraints\n",
    "\n",
    "What do the new degree constraints look like? Think about how many edges in the tour will need to enter/leave each vertex? Note that you may have to treat vertex $0$ differently from the other vertices of the graph.\n",
    "\n",
    "Your answer below is not graded. However you are encouraged to write it down and check with the answers to select problems provided at the end."
   ]
  },
  {
   "cell_type": "markdown",
   "metadata": {
    "deletable": false,
    "nbgrader": {
     "cell_type": "markdown",
     "checksum": "51df109ad038cafc4cdd91d50de4160b",
     "grade": true,
     "grade_id": "cell-469333c8fa8d139c",
     "locked": false,
     "points": 0,
     "schema_version": 3,
     "solution": true,
     "task": false
    }
   },
   "source": [
    "YOUR ANSWER HERE"
   ]
  },
  {
   "cell_type": "markdown",
   "metadata": {
    "deletable": false,
    "editable": false,
    "nbgrader": {
     "cell_type": "markdown",
     "checksum": "97c5975ab5b88bb808c813c0e42837aa",
     "grade": false,
     "grade_id": "cell-6619b581a4f8a728",
     "locked": true,
     "schema_version": 3,
     "solution": false,
     "task": false
    }
   },
   "source": [
    "### (B) Time Stamp Constraints \n",
    "\n",
    "Formulate the time stamp constraints for the $k$-TSP problem. Think about how you would need to change them to eliminate subtour.\n",
    "\n",
    "Your answer below is not graded. However you are encouraged to write it down and check with the answers to select problems provided at the end.\n"
   ]
  },
  {
   "cell_type": "markdown",
   "metadata": {
    "deletable": false,
    "nbgrader": {
     "cell_type": "markdown",
     "checksum": "dd1e0a0057f62cabbcb1b4d149c75961",
     "grade": true,
     "grade_id": "cell-0b4f5483ef383bbc",
     "locked": false,
     "points": 0,
     "schema_version": 3,
     "solution": true,
     "task": false
    }
   },
   "source": [
    "YOUR ANSWER HERE"
   ]
  },
  {
   "cell_type": "markdown",
   "metadata": {
    "deletable": false,
    "editable": false,
    "nbgrader": {
     "cell_type": "markdown",
     "checksum": "c872ab21895be7481b3186f3b0fd1e1a",
     "grade": false,
     "grade_id": "cell-39f03286cc2bc135",
     "locked": true,
     "schema_version": 3,
     "solution": false,
     "task": false
    }
   },
   "source": [
    "### (C) Implement\n",
    "\n",
    "Complete the implementation of the function `k_tsp_mtz_encoding(n, k, cost_matrix)` below. It follows the same input convention as the code supplied in the notes. The input `n` denotes the size of the graph with vertices labeled `0`,.., `n-1`, `k` is the number of salespeople, and `cost_matrix` is a list of lists wherein `cost_matrix[i][j]` is the edge cost to go from `i` to `j` for `i != j`. Your code must avoid accessing `cost_matrix[i][i]` to avoid bugs. These entries will be supplied as `None` in the test cases.\n",
    "\n",
    "Your code must return a list `lst` that has exactly $k$ lists in it, wherein `lst[j]` represents the locations visited by the $j^{th}$ salesperson. \n",
    "\n",
    "For the example above, for $k=2$, your code must return \n",
    "~~~\n",
    "[ [0, 2, 1, 4], [0, 3] ]\n",
    "~~~\n",
    "For the example above, for $k=3$, your code must return\n",
    "~~~\n",
    "[ [0, 1, 4], [0, 2], [0, 3] ]\n",
    "~~~"
   ]
  },
  {
   "cell_type": "code",
   "execution_count": null,
   "metadata": {
    "ExecuteTime": {
     "end_time": "2023-10-15T04:15:35.901697Z",
     "start_time": "2023-10-15T04:15:35.887931Z"
    },
    "deletable": false,
    "nbgrader": {
     "cell_type": "code",
     "checksum": "b4e7701d14a23e70b18a56ee6e0aa6c9",
     "grade": false,
     "grade_id": "cell-e47dd4e03762d02c",
     "locked": false,
     "schema_version": 3,
     "solution": true,
     "task": false
    }
   },
   "outputs": [],
   "source": [
    "from pulp import *\n",
    "def k_tsp_mtz_encoding(n, k, cost_matrix):\n",
    "    # check inputs are OK\n",
    "    assert 1 <= k < n\n",
    "    assert len(cost_matrix) == n, f'Cost matrix is not {n}x{n}'\n",
    "    assert all(len(cj) == n for cj in cost_matrix), f'Cost matrix is not {n}x{n}'\n",
    "    prob = LpProblem('kTSP', LpMinimize)\n",
    "    # finish your implementation here\n",
    "    # your code must return a list of k-lists [ [0, i1, ..., il], [0, j1,...,jl],...] wherein \n",
    "    # the ith entry in our list of lists represents the \n",
    "    # tour undertaken by the ith salesperson\n",
    "    # your code here\n",
    "    raise NotImplementedError"
   ]
  },
  {
   "cell_type": "code",
   "execution_count": null,
   "metadata": {
    "ExecuteTime": {
     "end_time": "2023-10-15T04:15:36.532103Z",
     "start_time": "2023-10-15T04:15:36.478051Z"
    },
    "deletable": false,
    "editable": false,
    "nbgrader": {
     "cell_type": "code",
     "checksum": "5eb3c719d97578ce25c85ff206070b72",
     "grade": true,
     "grade_id": "cell-f102dee236a23785",
     "locked": true,
     "points": 3,
     "schema_version": 3,
     "solution": false,
     "task": false
    }
   },
   "outputs": [],
   "source": [
    "cost_matrix=[ [None,3,4,3,5],\n",
    "             [1, None, 2,4, 1],\n",
    "             [2, 1, None, 5, 4],\n",
    "             [1, 1, 5, None, 4],\n",
    "             [2, 1, 3, 5, None] ]\n",
    "n=5\n",
    "k=2\n",
    "all_tours = k_tsp_mtz_encoding(n, k, cost_matrix)\n",
    "print(f'Your code returned tours: {all_tours}')\n",
    "assert len(all_tours) == k, f'k={k} must yield two tours -- your code returns {len(all_tours)} tours instead'\n",
    "\n",
    "tour_cost = 0\n",
    "for tour in all_tours:\n",
    "    assert tour[0] == 0, 'Each salesperson tour must start from vertex 0'\n",
    "    i = 0\n",
    "    for j in tour[1:]:\n",
    "        tour_cost += cost_matrix[i][j]\n",
    "        i = j\n",
    "    tour_cost += cost_matrix[i][0]\n",
    "\n",
    "print(f'Tour cost obtained by your code: {tour_cost}')\n",
    "assert abs(tour_cost - 12) <= 0.001, f'Expected tour cost is 12, your code returned {tour_cost}'\n",
    "for i in range(1, n):\n",
    "    is_in_tour = [ 1 if i in tour else 0 for tour in all_tours]\n",
    "    assert sum(is_in_tour) == 1, f' vertex {i} is in {sum(is_in_tour)} tours -- this is incorrect'\n",
    "\n",
    "print('test passed: 3 points')\n"
   ]
  },
  {
   "cell_type": "code",
   "execution_count": null,
   "metadata": {
    "ExecuteTime": {
     "end_time": "2023-10-15T04:15:37.047759Z",
     "start_time": "2023-10-15T04:15:37.020831Z"
    },
    "deletable": false,
    "editable": false,
    "nbgrader": {
     "cell_type": "code",
     "checksum": "d80dd9c8300f0b2321688d0a765b270d",
     "grade": true,
     "grade_id": "cell-8f9a204f86c84b7f",
     "locked": true,
     "points": 2,
     "schema_version": 3,
     "solution": false,
     "task": false
    }
   },
   "outputs": [],
   "source": [
    "cost_matrix=[ [None,3,4,3,5],\n",
    "             [1, None, 2,4, 1],\n",
    "             [2, 1, None, 5, 4],\n",
    "             [1, 1, 5, None, 4],\n",
    "             [2, 1, 3, 5, None] ]\n",
    "n=5\n",
    "k=3\n",
    "all_tours = k_tsp_mtz_encoding(n, k, cost_matrix)\n",
    "print(f'Your code returned tours: {all_tours}')\n",
    "assert len(all_tours) == k, f'k={k} must yield two tours -- your code returns {len(all_tours)} tours instead'\n",
    "\n",
    "tour_cost = 0\n",
    "for tour in all_tours:\n",
    "    assert tour[0] == 0, 'Each salesperson tour must start from vertex 0'\n",
    "    i = 0\n",
    "    for j in tour[1:]:\n",
    "        tour_cost += cost_matrix[i][j]\n",
    "        i = j\n",
    "    tour_cost += cost_matrix[i][0]\n",
    "\n",
    "print(f'Tour cost obtained by your code: {tour_cost}')\n",
    "assert abs(tour_cost - 16) <= 0.001, f'Expected tour cost is 16, your code returned {tour_cost}'\n",
    "for i in range(1, n):\n",
    "    is_in_tour = [ 1 if i in tour else 0 for tour in all_tours]\n",
    "    assert sum(is_in_tour) == 1, f' vertex {i} is in {sum(is_in_tour)} tours -- this is incorrect'\n",
    "\n",
    "print('test passed: 2 points')"
   ]
  },
  {
   "cell_type": "code",
   "execution_count": null,
   "metadata": {
    "deletable": false,
    "editable": false,
    "nbgrader": {
     "cell_type": "code",
     "checksum": "30b3b6c1cf584c39c08409add6fff2d5",
     "grade": true,
     "grade_id": "cell-b8417f007421c582",
     "locked": true,
     "points": 3,
     "schema_version": 3,
     "solution": false,
     "task": false
    }
   },
   "outputs": [],
   "source": [
    "cost_matrix = [ \n",
    " [None, 1, 1, 1, 1, 1, 1, 1],\n",
    "    [0, None, 1, 2, 1, 1, 1, 1],\n",
    "    [1, 0, None, 1, 2, 2, 2, 1],\n",
    "    [1, 2, 2, None, 0, 1, 2, 1],\n",
    "    [1, 1, 1, 1, None, 1, 1, 1],\n",
    "    [0,  1, 2, 1, 1, None, 1, 1],\n",
    "    [1, 0,  1, 2, 2, 2,None, 1],\n",
    "    [1, 2, 2, 0, 1, 2, 1, None],\n",
    "]\n",
    "n = 8\n",
    "k = 2\n",
    "\n",
    "all_tours = k_tsp_mtz_encoding(n, k, cost_matrix)\n",
    "print(f'Your code returned tours: {all_tours}')\n",
    "assert len(all_tours) == k, f'k={k} must yield two tours -- your code returns {len(all_tours)} tours instead'\n",
    "\n",
    "tour_cost = 0\n",
    "for tour in all_tours:\n",
    "    assert tour[0] == 0, 'Each salesperson tour must start from vertex 0'\n",
    "    i = 0\n",
    "    for j in tour[1:]:\n",
    "        tour_cost += cost_matrix[i][j]\n",
    "        i = j\n",
    "    tour_cost += cost_matrix[i][0]\n",
    "\n",
    "print(f'Tour cost obtained by your code: {tour_cost}')\n",
    "assert abs(tour_cost - 4) <= 0.001, f'Expected tour cost is 4, your code returned {tour_cost}'\n",
    "for i in range(1, n):\n",
    "    is_in_tour = [ 1 if i in tour else 0 for tour in all_tours]\n",
    "    assert sum(is_in_tour) == 1, f' vertex {i} is in {sum(is_in_tour)} tours -- this is incorrect'\n",
    "\n",
    "print('test passed: 3 points')"
   ]
  },
  {
   "cell_type": "code",
   "execution_count": null,
   "metadata": {
    "deletable": false,
    "editable": false,
    "nbgrader": {
     "cell_type": "code",
     "checksum": "fc6aebcb676ada2dbe7a29f20c4e4e71",
     "grade": true,
     "grade_id": "cell-03146af7d96a27d5",
     "locked": true,
     "points": 2,
     "schema_version": 3,
     "solution": false,
     "task": false
    }
   },
   "outputs": [],
   "source": [
    "cost_matrix = [ \n",
    " [None, 1, 1, 1, 1, 1, 1, 1],\n",
    "    [0, None, 1, 2, 1, 1, 1, 1],\n",
    "    [1, 0, None, 1, 2, 2, 2, 1],\n",
    "    [1, 2, 2, None, 0, 1, 2, 1],\n",
    "    [1, 1, 1, 1, None, 1, 1, 1],\n",
    "    [0,  1, 2, 1, 1, None, 1, 1],\n",
    "    [1, 0,  1, 2, 2, 2,None, 1],\n",
    "    [1, 2, 2, 0, 1, 2, 1, None],\n",
    "]\n",
    "n = 8\n",
    "k = 4\n",
    "\n",
    "all_tours = k_tsp_mtz_encoding(n, k, cost_matrix)\n",
    "print(f'Your code returned tours: {all_tours}')\n",
    "assert len(all_tours) == k, f'k={k} must yield two tours -- your code returns {len(all_tours)} tours instead'\n",
    "\n",
    "tour_cost = 0\n",
    "for tour in all_tours:\n",
    "    assert tour[0] == 0, 'Each salesperson tour must start from vertex 0'\n",
    "    i = 0\n",
    "    for j in tour[1:]:\n",
    "        tour_cost += cost_matrix[i][j]\n",
    "        i = j\n",
    "    tour_cost += cost_matrix[i][0]\n",
    "\n",
    "print(f'Tour cost obtained by your code: {tour_cost}')\n",
    "assert abs(tour_cost - 6) <= 0.001, f'Expected tour cost is 6, your code returned {tour_cost}'\n",
    "for i in range(1, n):\n",
    "    is_in_tour = [ 1 if i in tour else 0 for tour in all_tours]\n",
    "    assert sum(is_in_tour) == 1, f' vertex {i} is in {sum(is_in_tour)} tours -- this is incorrect'\n",
    "\n",
    "print('test passed: 2 points')"
   ]
  },
  {
   "cell_type": "code",
   "execution_count": null,
   "metadata": {
    "ExecuteTime": {
     "end_time": "2023-10-15T04:15:38.017559Z",
     "start_time": "2023-10-15T04:15:37.819749Z"
    },
    "deletable": false,
    "editable": false,
    "nbgrader": {
     "cell_type": "code",
     "checksum": "eaa225468818eb4468a7c53e97d7dbb5",
     "grade": true,
     "grade_id": "cell-f903e8e7ad9e3b86",
     "locked": true,
     "points": 15,
     "schema_version": 3,
     "solution": false,
     "task": false
    }
   },
   "outputs": [],
   "source": [
    "from random import uniform, randint\n",
    "\n",
    "def create_cost(n):\n",
    "    return [ [uniform(0, 5) if i != j else None for j in range(n)] for i in range(n)]\n",
    "\n",
    "for trial in range(5):\n",
    "    print(f'Trial # {trial}')\n",
    "    n = randint(5, 11)\n",
    "    k = randint(2, n//2)\n",
    "    print(f' n= {n}, k={k}')\n",
    "    cost_matrix = create_cost(n)\n",
    "    print('cost_matrix = ')\n",
    "    print(cost_matrix)\n",
    "    all_tours = k_tsp_mtz_encoding(n, k, cost_matrix)\n",
    "    print(f'Your code returned tours: {all_tours}')\n",
    "    assert len(all_tours) == k, f'k={k} must yield two tours -- your code returns {len(all_tours)} tours instead'\n",
    "\n",
    "    tour_cost = 0\n",
    "    for tour in all_tours:\n",
    "        assert tour[0] == 0, 'Each salesperson tour must start from vertex 0'\n",
    "        i = 0\n",
    "        for j in tour[1:]:\n",
    "            tour_cost += cost_matrix[i][j]\n",
    "            i = j\n",
    "        tour_cost += cost_matrix[i][0]\n",
    "\n",
    "    print(f'Tour cost obtained by your code: {tour_cost}')\n",
    "    #assert abs(tour_cost - 6) <= 0.001, f'Expected tour cost is 6, your code returned {tour_cost}'\n",
    "    for i in range(1, n):\n",
    "        is_in_tour = [ 1 if i in tour else 0 for tour in all_tours]\n",
    "        assert sum(is_in_tour) == 1, f' vertex {i} is in {sum(is_in_tour)} tours -- this is incorrect'\n",
    "    print('------')\n",
    "print('test passed: 15 points')"
   ]
  },
  {
   "cell_type": "markdown",
   "metadata": {
    "deletable": false,
    "editable": false,
    "nbgrader": {
     "cell_type": "markdown",
     "checksum": "7855e72aee3778160b355d2d302d981f",
     "grade": false,
     "grade_id": "cell-8027c3c55a58ac38",
     "locked": true,
     "schema_version": 3,
     "solution": false,
     "task": false
    }
   },
   "source": [
    "## Problem 1 B\n",
    "\n",
    "Notice that in previous part, it happens that with $k=4$ salespeople, we actually get a worse cost than using $k=3$ people. You can try out a few examples to convince yourself as to why this happens. \n",
    "\n",
    "We wish to modify the problem to allow salespeople to idle. In other words, although we input $k$ salespeople, the tour we construct may involve $1 \\leq l \\leq k$ salespeople. \n",
    "\n",
    "Modify the ILP formulation from the previous problem to solve the problem of up to $k$ people rather than exactly $k$ salespeople. Note that we still require that every vertex be visited exactly once by some salesperson. \n",
    "\n",
    "Complete the implementation of the function `upto_k_tsp_mtz_encoding(n, k, cost_matrix)` below. It follows the same input convention as previous problem but note that we are now computing a tour with at most $k$ salespeople. In other words, not all salespeople need be employed in the tour.\n",
    "\n",
    "Your code must return a list `lst` that has less than or equal to  $k$ lists, wherein `lst[j]` represents the locations visited by the $j^{th}$ salesperson. \n",
    "\n",
    "For Example-1 from the previous part above, for $k=2$ or $k=3$, your code must return \n",
    "~~~\n",
    "[ [0, 3, 1, 4, 2] ]\n",
    "~~~\n",
    "As it turns out, in this example a single salesperson suffices to yield optimal cost."
   ]
  },
  {
   "cell_type": "code",
   "execution_count": null,
   "metadata": {
    "ExecuteTime": {
     "end_time": "2023-10-15T04:21:27.375137Z",
     "start_time": "2023-10-15T04:21:27.364415Z"
    },
    "deletable": false,
    "nbgrader": {
     "cell_type": "code",
     "checksum": "15095744c72bd15c0ae23243082461f0",
     "grade": false,
     "grade_id": "cell-b42d80235b921c86",
     "locked": false,
     "schema_version": 3,
     "solution": true,
     "task": false
    }
   },
   "outputs": [],
   "source": [
    "from pulp import *\n",
    "def upto_k_tsp_mtz_encoding(n, k, cost_matrix):\n",
    "    # check inputs are OK\n",
    "    assert 1 <= k < n\n",
    "    assert len(cost_matrix) == n, f'Cost matrix is not {n}x{n}'\n",
    "    assert all(len(cj) == n for cj in cost_matrix), f'Cost matrix is not {n}x{n}'\n",
    "    prob = LpProblem('kTSP', LpMinimize)\n",
    "    # finish your implementation here\n",
    "    # your code must return a list of k-lists [ [0, i1, ..., il], [0, j1,...,jl],...] wherein \n",
    "    # the ith entry in our list of lists represents the \n",
    "    # tour undertaken by the ith salesperson\n",
    "    # your code here\n",
    "    raise NotImplementedError"
   ]
  },
  {
   "cell_type": "code",
   "execution_count": null,
   "metadata": {
    "ExecuteTime": {
     "end_time": "2023-10-15T04:23:20.468966Z",
     "start_time": "2023-10-15T04:23:20.409463Z"
    },
    "deletable": false,
    "editable": false,
    "nbgrader": {
     "cell_type": "code",
     "checksum": "89522fac9cb884347d53c143ef2bbddb",
     "grade": true,
     "grade_id": "cell-934ddb639bc6c01d",
     "locked": true,
     "points": 3,
     "schema_version": 3,
     "solution": false,
     "task": false
    }
   },
   "outputs": [],
   "source": [
    "cost_matrix=[ [None,3,4,3,5],\n",
    "             [1, None, 2,4, 1],\n",
    "             [2, 1, None, 5, 4],\n",
    "             [1, 1, 5, None, 4],\n",
    "             [2, 1, 3, 5, None] ]\n",
    "n=5\n",
    "k=3\n",
    "all_tours = upto_k_tsp_mtz_encoding(n, k, cost_matrix)\n",
    "print(f'Your code returned tours: {all_tours}')\n",
    "assert len(all_tours) <= k, f'<= {k} tours -- your code returns {len(all_tours)} tours instead'\n",
    "\n",
    "tour_cost = 0\n",
    "for tour in all_tours:\n",
    "    assert tour[0] == 0, 'Each salesperson tour must start from vertex 0'\n",
    "    i = 0\n",
    "    for j in tour[1:]:\n",
    "        tour_cost += cost_matrix[i][j]\n",
    "        i = j\n",
    "    tour_cost += cost_matrix[i][0]\n",
    "\n",
    "assert len(all_tours) == 1, f'In this example, just one salesperson is needed to optimally visit all vertices. Your code returns {len(all_tours)}'\n",
    "print(f'Tour cost obtained by your code: {tour_cost}')\n",
    "assert abs(tour_cost - 10) <= 0.001, f'Expected tour cost is 10, your code returned {tour_cost}'\n",
    "for i in range(1, n):\n",
    "    is_in_tour = [ 1 if i in tour else 0 for tour in all_tours]\n",
    "    assert sum(is_in_tour) == 1, f' vertex {i} is in {sum(is_in_tour)} tours -- this is incorrect'\n",
    "\n",
    "print('test passed: 3 points')"
   ]
  },
  {
   "cell_type": "code",
   "execution_count": null,
   "metadata": {
    "ExecuteTime": {
     "end_time": "2023-10-15T04:23:21.399058Z",
     "start_time": "2023-10-15T04:23:21.349141Z"
    },
    "deletable": false,
    "editable": false,
    "nbgrader": {
     "cell_type": "code",
     "checksum": "3c0af62f53ac2b3906bdf1c4e1ae190a",
     "grade": true,
     "grade_id": "cell-17fd7b9a31ded1eb",
     "locked": true,
     "points": 3,
     "schema_version": 3,
     "solution": false,
     "task": false
    }
   },
   "outputs": [],
   "source": [
    "cost_matrix = [ \n",
    " [None, 1, 1, 1, 1, 1, 1, 1],\n",
    "    [0, None, 1, 2, 1, 1, 1, 1],\n",
    "    [1, 0, None, 1, 2, 2, 2, 1],\n",
    "    [1, 2, 2, None, 0, 1, 2, 1],\n",
    "    [1, 1, 1, 1, None, 1, 1, 1],\n",
    "    [0,  1, 2, 1, 1, None, 1, 1],\n",
    "    [1, 0,  1, 2, 2, 2,None, 1],\n",
    "    [1, 2, 2, 0, 1, 2, 1, None],\n",
    "]\n",
    "n = 8\n",
    "k = 5\n",
    "\n",
    "all_tours = upto_k_tsp_mtz_encoding(n, k, cost_matrix)\n",
    "print(f'Your code returned tours: {all_tours}')\n",
    "assert len(all_tours) <= k, f'k={k} must yield two tours -- your code returns {len(all_tours)} tours instead'\n",
    "\n",
    "tour_cost = 0\n",
    "for tour in all_tours:\n",
    "    assert tour[0] == 0, 'Each salesperson tour must start from vertex 0'\n",
    "    i = 0\n",
    "    for j in tour[1:]:\n",
    "        tour_cost += cost_matrix[i][j]\n",
    "        i = j\n",
    "    tour_cost += cost_matrix[i][0]\n",
    "\n",
    "print(f'Tour cost obtained by your code: {tour_cost}')\n",
    "assert abs(tour_cost - 4) <= 0.001, f'Expected tour cost is 4, your code returned {tour_cost}'\n",
    "for i in range(1, n):\n",
    "    is_in_tour = [ 1 if i in tour else 0 for tour in all_tours]\n",
    "    assert sum(is_in_tour) == 1, f' vertex {i} is in {sum(is_in_tour)} tours -- this is incorrect'\n",
    "\n",
    "print('test passed: 3 points')"
   ]
  },
  {
   "cell_type": "code",
   "execution_count": null,
   "metadata": {
    "ExecuteTime": {
     "end_time": "2023-10-15T04:25:04.327060Z",
     "start_time": "2023-10-15T04:25:03.253506Z"
    },
    "deletable": false,
    "editable": false,
    "nbgrader": {
     "cell_type": "code",
     "checksum": "c8c22495acd3dc320309609c785c0f3c",
     "grade": true,
     "grade_id": "cell-4910fe35d0e1c603",
     "locked": true,
     "points": 4,
     "schema_version": 3,
     "solution": false,
     "task": false
    }
   },
   "outputs": [],
   "source": [
    "from random import uniform, randint\n",
    "\n",
    "def create_cost(n):\n",
    "    return [ [uniform(0, 5) if i != j else None for j in range(n)] for i in range(n)]\n",
    "\n",
    "for trial in range(20):\n",
    "    print(f'Trial # {trial}')\n",
    "    n = randint(5, 11)\n",
    "    k = randint(2, n//2)\n",
    "    print(f' n= {n}, k={k}')\n",
    "    cost_matrix = create_cost(n)\n",
    "    print('cost_matrix = ')\n",
    "    print(cost_matrix)\n",
    "    all_tours = upto_k_tsp_mtz_encoding(n, k, cost_matrix)\n",
    "    print(f'Your code returned tours: {all_tours}')\n",
    "    assert len(all_tours) <= k, f'k={k} must yield two tours -- your code returns {len(all_tours)} tours instead'\n",
    "\n",
    "    tour_cost = 0\n",
    "    for tour in all_tours:\n",
    "        assert tour[0] == 0, 'Each salesperson tour must start from vertex 0'\n",
    "        i = 0\n",
    "        for j in tour[1:]:\n",
    "            tour_cost += cost_matrix[i][j]\n",
    "            i = j\n",
    "        tour_cost += cost_matrix[i][0]\n",
    "\n",
    "    print(f'Tour cost obtained by your code: {tour_cost}')\n",
    "    #assert abs(tour_cost - 6) <= 0.001, f'Expected tour cost is 6, your code returned {tour_cost}'\n",
    "    for i in range(1, n):\n",
    "        is_in_tour = [ 1 if i in tour else 0 for tour in all_tours]\n",
    "        assert sum(is_in_tour) == 1, f' vertex {i} is in {sum(is_in_tour)} tours -- this is incorrect'\n",
    "    print('------')\n",
    "print('test passed: 4 points')"
   ]
  },
  {
   "cell_type": "markdown",
   "metadata": {
    "deletable": false,
    "editable": false,
    "nbgrader": {
     "cell_type": "markdown",
     "checksum": "d1aaa1df13b9d1c99d03f15154c09be7",
     "grade": false,
     "grade_id": "cell-da7b363d5bac322b",
     "locked": true,
     "schema_version": 3,
     "solution": false,
     "task": false
    }
   },
   "source": [
    "## Problem 2 (10 points)\n",
    "\n",
    "We noted the use of Christofides algorithm for metric TSP. We noted that for non-metric TSPs it does not work. \n",
    "In fact, the shortcutting used in Christofides algorithm can be _arbitrarily_ bad for a TSP that is symmetric but fails to be a metric TSP.\n",
    "\n",
    "In this example, we would like you to frame a symmetric TSP instance ($C_{ij} = C_{ji}$) with $5$ vertices wherein the algorithm obtained by \"shortcutting\" the minimum spanning tree (MST), that would be a 2-factor approximation for metric TSP, yields an answer that can be quite \"far off\" from the optimal solution.\n",
    "\n",
    "Enter a __symmetric__ cost-matrix for the TSP below as a 5x5 matrix as a list of lists following convention in our notes. such that the optimal answer is at least $10^6$ times smaller than that obtained by the TSP-based approximation. We will test your answer by running the TSP with shortcutting algorithm.\n",
    "\n",
    "__Hint:__ Force the edges $(0,1), (1,2), (2,3)$ and $(3,4)$ to be the minimum spanning tree. But make the weight of the edge form $4$ back to $0$ very high.\n",
    "\n",
    "\n",
    "__Note:__ this problem is tricky and requires you to be very familiar with how Christofides algorithm works. It may be wise to attempt the remaining problems first before this one. Do not worry about the diagonal entry of your matrices.\n"
   ]
  },
  {
   "cell_type": "code",
   "execution_count": null,
   "metadata": {
    "ExecuteTime": {
     "end_time": "2023-10-15T04:56:12.253057Z",
     "start_time": "2023-10-15T04:56:12.248620Z"
    },
    "deletable": false,
    "nbgrader": {
     "cell_type": "code",
     "checksum": "cb0a19d102b7947454c4149cb42aa540",
     "grade": false,
     "grade_id": "cell-6e3b113678e2fe36",
     "locked": false,
     "schema_version": 3,
     "solution": true,
     "task": false
    }
   },
   "outputs": [],
   "source": [
    "# Write down the cost matrix as a list of lists. Remember, we want an example with $5$ vertices\n",
    "# cost_matrix = [[..], [...],[...]]\n",
    "# The cost matrix should represent a TSP instance such that the optimal answer is 10^6 smaller than the \n",
    "# answer obtained by shortcutting a minimum spanning tree.\n",
    "# your code here\n",
    "raise NotImplementedError"
   ]
  },
  {
   "cell_type": "code",
   "execution_count": null,
   "metadata": {
    "ExecuteTime": {
     "end_time": "2023-10-15T04:56:13.341873Z",
     "start_time": "2023-10-15T04:56:13.336477Z"
    },
    "deletable": false,
    "editable": false,
    "nbgrader": {
     "cell_type": "code",
     "checksum": "703a1cf7175a7beda1a0c50dea81112d",
     "grade": true,
     "grade_id": "cell-62a3ff5de5ea71ff",
     "locked": true,
     "points": 3,
     "schema_version": 3,
     "solution": false,
     "task": false
    }
   },
   "outputs": [],
   "source": [
    "# check that the cost matrix is symmetric.\n",
    "assert len(cost_matrix) == 5, f'Cost matrix must have 5 rows. Yours has {len(cost_matrix)} rows'\n",
    "assert all(len(cj) == 5 for cj in cost_matrix), f'Each row of the cost matrix must have 5 entries.'\n",
    "for i in range(5):\n",
    "    for j in range(i):\n",
    "        assert cost_matrix[i][j] == cost_matrix[j][i], f'Cost matrix fails to be symmetric at entries {(i,j)} and {(j,i)}'\n",
    "print('Structure of your cost matrix looks OK (3 points).')"
   ]
  },
  {
   "cell_type": "markdown",
   "metadata": {
    "deletable": false,
    "editable": false,
    "nbgrader": {
     "cell_type": "markdown",
     "checksum": "4efc070c9f6bf59f5eaca4c9306a07e3",
     "grade": false,
     "grade_id": "cell-82ad268179f6cf16",
     "locked": true,
     "schema_version": 3,
     "solution": false,
     "task": false
    }
   },
   "source": [
    "Please ensure that you run the two cells below or else, your tests will fail."
   ]
  },
  {
   "cell_type": "code",
   "execution_count": null,
   "metadata": {
    "ExecuteTime": {
     "end_time": "2023-10-15T05:06:50.077598Z",
     "start_time": "2023-10-15T05:06:50.069418Z"
    },
    "deletable": false,
    "editable": false,
    "nbgrader": {
     "cell_type": "code",
     "checksum": "26614c7d750153806201ebf472e0a55d",
     "grade": false,
     "grade_id": "cell-71018aa2381f7212",
     "locked": true,
     "schema_version": 3,
     "solution": false,
     "task": false
    }
   },
   "outputs": [],
   "source": [
    "# MST based tsp approximation\n",
    "import networkx as nx\n",
    "\n",
    "# This code implements the simple MST based shortcutting approach that would yield factor of 2\n",
    "# approximation for metric TSPs.\n",
    "def minimum_spanning_tree_tsp(n, cost_matrix):\n",
    "    G = nx.Graph()\n",
    "    for i in range(n):\n",
    "        for j in range(i):\n",
    "            G.add_edge(i, j, weight=cost_matrix[i][j])\n",
    "    T = nx.minimum_spanning_tree(G)\n",
    "    print(f'MST for your graph has the edges {T.edges}')\n",
    "    mst_cost = 0\n",
    "    mst_dict = {} # store mst as a dictionary\n",
    "    for (i,j) in T.edges:\n",
    "        mst_cost += cost_matrix[i][j]\n",
    "        if i in mst_dict:\n",
    "            mst_dict[i].append(j)\n",
    "        else:\n",
    "            mst_dict[i] = [j]\n",
    "        if j in mst_dict:\n",
    "            mst_dict[j].append(i)\n",
    "        else:\n",
    "            mst_dict[j] = [i]\n",
    "    print(f'MST cost: {mst_cost}')\n",
    "    print(mst_dict)\n",
    "    # Let's form a tour with short cutting\n",
    "    def traverse_mst(tour_so_far, cur_node):\n",
    "        assert cur_node in mst_dict\n",
    "        next_nodes = mst_dict[cur_node]\n",
    "        for j in next_nodes:\n",
    "            if j in tour_so_far:\n",
    "                continue\n",
    "            tour_so_far.append(j)\n",
    "            traverse_mst(tour_so_far, j)\n",
    "        return\n",
    "    tour = [0]\n",
    "    traverse_mst(tour, 0)\n",
    "    i = 0\n",
    "    tour_cost = 0\n",
    "    for j in tour[1:]:\n",
    "        tour_cost += cost_matrix[i][j]\n",
    "        i = j\n",
    "    tour_cost += cost_matrix[i][0]\n",
    "    return tour, tour_cost"
   ]
  },
  {
   "cell_type": "code",
   "execution_count": null,
   "metadata": {
    "ExecuteTime": {
     "end_time": "2023-10-15T05:06:59.658969Z",
     "start_time": "2023-10-15T05:06:59.647931Z"
    },
    "deletable": false,
    "editable": false,
    "nbgrader": {
     "cell_type": "code",
     "checksum": "8a2c3f9de1f1e6a0c99b39b4ce6ae57d",
     "grade": false,
     "grade_id": "cell-f6059309c78781bd",
     "locked": true,
     "schema_version": 3,
     "solution": false,
     "task": false
    }
   },
   "outputs": [],
   "source": [
    "# optimal TSP tour taken from our notes using MTZ encoding\n",
    "from pulp import *\n",
    "\n",
    "def mtz_encoding_tsp(n, cost_matrix):\n",
    "    assert len(cost_matrix) == n, f'Cost matrix is not {n}x{n}'\n",
    "    assert all(len(cj) == n for cj in cost_matrix), f'Cost matrix is not {n}x{n}'\n",
    "    # create our encoding variables\n",
    "    binary_vars = [ # add a binary variable x_{ij} if i not = j else simply add None\n",
    "        [ LpVariable(f'x_{i}_{j}', cat='Binary') if i != j else None for j in range(n)] \n",
    "        for i in range(n) ]\n",
    "    # add time stamps for ranges 1 .. n (skip vertex 0 for timestamps)\n",
    "    time_stamps = [LpVariable(f't_{j}', lowBound=0, upBound=n, cat='Continuous') for j in range(1, n)]\n",
    "    # create the problem\n",
    "    prob = LpProblem('TSP-MTZ', LpMinimize)\n",
    "    # create add the objective function \n",
    "    objective_function = lpSum( [ lpSum([xij*cj if xij != None else 0 for (xij, cj) in zip(brow, crow) ])\n",
    "                           for (brow, crow) in zip(binary_vars, cost_matrix)] )\n",
    "    \n",
    "    prob += objective_function \n",
    "    \n",
    "    # add the degree constraints\n",
    "    for i in range(n):\n",
    "        # Exactly one leaving variable\n",
    "        prob += lpSum([xj for xj in binary_vars[i] if xj != None]) == 1\n",
    "        # Exactly one entering\n",
    "        prob += lpSum([binary_vars[j][i] for j in range(n) if j != i]) == 1\n",
    "    # add time stamp constraints\n",
    "    for i in range(1,n):\n",
    "        for j in range(1, n):\n",
    "            if i == j: \n",
    "                continue\n",
    "            xij = binary_vars[i][j]\n",
    "            ti = time_stamps[i-1]\n",
    "            tj = time_stamps[j -1]\n",
    "            prob += tj >= ti + xij - (1-xij)*(n+1) # add the constraint\n",
    "    # Done: solve the problem\n",
    "    status = prob.solve(PULP_CBC_CMD(msg=False)) # turn off messages\n",
    "    assert status == constants.LpStatusOptimal, f'Unexpected non-optimal status {status}'\n",
    "    # Extract the tour\n",
    "    tour = [0]\n",
    "    tour_cost = 0\n",
    "    while len(tour) < n:\n",
    "        i = tour[-1]\n",
    "        # find all indices j such that x_ij >= 0.999 \n",
    "        sols = [j for (j, xij) in enumerate(binary_vars[i]) if xij != None and xij.varValue >= 0.999]\n",
    "        assert len(sols) == 1, f'{sols}' # there better be just one such vertex or something has gone quite wrong\n",
    "        j = sols[0] # extract the lone solutio \n",
    "        tour_cost = tour_cost + cost_matrix[i][j] # add to the tour cost\n",
    "        tour.append(j) # append to the tour\n",
    "        assert j != 0\n",
    "    i = tour[-1]\n",
    "    tour_cost = tour_cost + cost_matrix[i][0]\n",
    "    return tour, tour_cost\n",
    "        "
   ]
  },
  {
   "cell_type": "code",
   "execution_count": null,
   "metadata": {
    "ExecuteTime": {
     "end_time": "2023-10-15T04:56:37.160661Z",
     "start_time": "2023-10-15T04:56:37.113817Z"
    },
    "deletable": false,
    "editable": false,
    "nbgrader": {
     "cell_type": "code",
     "checksum": "d43db69420cb630560808d02595b2ec0",
     "grade": true,
     "grade_id": "cell-43ec31eff68e08e6",
     "locked": true,
     "points": 7,
     "schema_version": 3,
     "solution": false,
     "task": false
    }
   },
   "outputs": [],
   "source": [
    "#test that exact answer is 10^6 times smaller than approximate answer.\n",
    "# compute MST based approximation\n",
    "tour, tour_cost = minimum_spanning_tree_tsp(5, cost_matrix)\n",
    "print(f'MST approximation yields tour is {tour} with cost {tour_cost}')\n",
    "# compute exact answer\n",
    "opt_tour, opt_tour_cost = mtz_encoding_tsp(5, cost_matrix)\n",
    "print(f'Optimal tour is {opt_tour} with cost {opt_tour_cost}')\n",
    "# check that the fraction is 1million times apart.\n",
    "assert tour_cost/opt_tour_cost >= 1E+06, 'The TSP + shortcutting tour must be at least 10^6 times costlier than optimum. In your case, the ratio is {tour_cost/opt_tour_cost}'\n",
    "print('Test passed: 7 points')"
   ]
  },
  {
   "cell_type": "markdown",
   "metadata": {
    "deletable": false,
    "editable": false,
    "nbgrader": {
     "cell_type": "markdown",
     "checksum": "8d485a614c611ced41114f8578f55465",
     "grade": false,
     "grade_id": "cell-4466e347a5255d40",
     "locked": true,
     "schema_version": 3,
     "solution": false,
     "task": false
    }
   },
   "source": [
    "## Problem 3\n",
    "\n",
    "In this problem, we wish to solve TSP with additional constraints. Suppose we are given a TSP instance in the form of a $n\\times n$ matrix $C$ representing a complete graph. \n",
    "\n",
    "We wish to solve a TSP but with additional constraints specified as a list $[(i_0, j_0), \\ldots, (i_k, j_k)]$ wherein each pair $(i_l, j_l)$ in the list specifies that vertex $i_l$ must be visited in the tour before vertex $j_l$. Assume that the tour starts/ends at vertex $0$ and none of the vertices in the constraint list is $0$. I.e, $i_l\\not= 0, j_l \\not= 0$ for all $0 \\leq l \\leq k$.\n",
    "\n",
    "Modify one of the ILP encodings we have presented to solve TSP with extra constraints. Implement your solution in the function `tsp_with_extra_constraints(n, cost_matrix, constr_list)` where the extra argument `constr_list` is a list of pairs `[(i0,j0),...., (ik, jk)]` that specify for each pair `(il,jl)` that vertex `il` must be visited before `jl`. Assume that the problem is feasible (no need to handle infeasible instances). \n",
    "Your code should output the optimal tour as a list.\n",
    "\n",
    "## Example\n",
    "\n",
    "Consider again the graph with $5$ nodes and the following cost matrix from problem 1:\n",
    "\n",
    "$$ \\begin{array}{c|ccccc}\n",
    "  \\text{Vertices} & 0 & 1 & 2 & 3 & 4 \\\\ \n",
    "   \\hline\n",
    " 0 & - & 3 & 4 & 3 & 5 \\\\ \n",
    " 1 & 1 & - & 2 & 4 & 1 \\\\ \n",
    " 2 & 2 & 1 & - & 5 & 4 \\\\ \n",
    " 3 & 1 & 1 & 5 & - & 4 \\\\ \n",
    " 4 & 2 & 1 & 3 & 5 & - \\\\ \n",
    " \\end{array}$$\n",
    " \n",
    "The optimal TSP tour will be $[0, 3, 1, 4, 2]$ with total cost $10$.\n",
    "\n",
    "Suppose we added the constraints $[(4, 3), (1, 2)]$ we note that the tour satisfies the constraint $(1, 2)$ since it visits vertex $1$ before vertex $2$ but it unfortunately, $(4,3)$ is violated since vetex $3$ is visited before $4$ in the tour.\n"
   ]
  },
  {
   "cell_type": "code",
   "execution_count": null,
   "metadata": {
    "ExecuteTime": {
     "end_time": "2023-10-15T05:19:36.624259Z",
     "start_time": "2023-10-15T05:19:36.611763Z"
    },
    "deletable": false,
    "nbgrader": {
     "cell_type": "code",
     "checksum": "15adb99491c3bd71b058757b5c12073d",
     "grade": false,
     "grade_id": "cell-c71192789edb33c4",
     "locked": false,
     "schema_version": 3,
     "solution": true,
     "task": false
    }
   },
   "outputs": [],
   "source": [
    "def tsp_with_extra_constraints(n, cost_matrix, constraints):\n",
    "    assert len(cost_matrix) == n, f'Cost matrix is not {n}x{n}'\n",
    "    assert all(len(cj) == n for cj in cost_matrix), f'Cost matrix is not {n}x{n}'\n",
    "    assert all( 1 <= i < n and 1 <= j < n and i != j for (i,j) in constraints)\n",
    "    # TODO: encode the problem in pulp (a) decision variables; (b) constraints; (c) objective; (d) solve and extract\n",
    "    #       solution. This is going to be very close to the MTZ encoding that we have presented in our notes. You can use\n",
    "    #       our code as a starting point.\n",
    "    # your code here\n",
    "    raise NotImplementedError\n",
    "       "
   ]
  },
  {
   "cell_type": "code",
   "execution_count": null,
   "metadata": {
    "ExecuteTime": {
     "end_time": "2023-10-15T05:24:11.545263Z",
     "start_time": "2023-10-15T05:24:11.512466Z"
    },
    "deletable": false,
    "editable": false,
    "nbgrader": {
     "cell_type": "code",
     "checksum": "d9e9a8ef73ddbbddb5b378a7a6dbff5f",
     "grade": true,
     "grade_id": "cell-6d36c6539b102ad2",
     "locked": true,
     "points": 3,
     "schema_version": 3,
     "solution": false,
     "task": false
    }
   },
   "outputs": [],
   "source": [
    "cost_matrix=[ [None,3,4,3,5],\n",
    "             [1, None, 2,4, 1],\n",
    "             [2, 1, None, 5, 4],\n",
    "             [1, 1, 5, None, 4],\n",
    "             [2, 1, 3, 5, None] ]\n",
    "n=5\n",
    "constraints = [(3,4),(1,2)]\n",
    "tour = tsp_with_extra_constraints(n, cost_matrix, constraints)\n",
    "i = 0\n",
    "tour_cost = 0\n",
    "for j in tour[1:]:\n",
    "    tour_cost += cost_matrix[i][j]\n",
    "    i = j\n",
    "tour_cost += cost_matrix[i][0]\n",
    "print(f'Tour:{tour}')\n",
    "print(f'Cost of your tour: {tour_cost}')\n",
    "assert abs(tour_cost-10) <= 0.001, 'Expected cost was 10'\n",
    "for i in range(n):\n",
    "    num = sum([1 if j == i else 0 for j in tour])\n",
    "    assert  num == 1, f'Vertex {i} repeats {num} times in tour'\n",
    "for (i, j) in constraints:\n",
    "    assert tour.index(i) < tour.index(j), f'Tour does not respect constraint {(i,j)}'\n",
    "print('Test Passed (3 points)')"
   ]
  },
  {
   "cell_type": "code",
   "execution_count": null,
   "metadata": {
    "ExecuteTime": {
     "end_time": "2023-10-15T05:24:42.003281Z",
     "start_time": "2023-10-15T05:24:41.945027Z"
    },
    "deletable": false,
    "editable": false,
    "nbgrader": {
     "cell_type": "code",
     "checksum": "edd31c4ed64921cde8b5d2b55a6d7337",
     "grade": true,
     "grade_id": "cell-6efd9b8c3a4a7996",
     "locked": true,
     "points": 2,
     "schema_version": 3,
     "solution": false,
     "task": false
    }
   },
   "outputs": [],
   "source": [
    "cost_matrix=[ [None,3,4,3,5],\n",
    "             [1, None, 2,4, 1],\n",
    "             [2, 1, None, 5, 4],\n",
    "             [1, 1, 5, None, 4],\n",
    "             [2, 1, 3, 5, None] ]\n",
    "n=5\n",
    "constraints = [(4,3),(1,2)]\n",
    "tour = tsp_with_extra_constraints(n, cost_matrix, constraints)\n",
    "i = 0\n",
    "tour_cost = 0\n",
    "for j in tour[1:]:\n",
    "    tour_cost += cost_matrix[i][j]\n",
    "    i = j\n",
    "tour_cost += cost_matrix[i][0]\n",
    "print(f'Tour:{tour}')\n",
    "print(f'Cost of your tour: {tour_cost}')\n",
    "assert abs(tour_cost-13) <= 0.001, 'Expected cost was 13'\n",
    "for i in range(n):\n",
    "    num = sum([1 if j == i else 0 for j in tour])\n",
    "    assert  num == 1, f'Vertex {i} repeats {num} times in tour'\n",
    "for (i, j) in constraints:\n",
    "    assert tour.index(i) < tour.index(j), f'Tour does not respect constraint {(i,j)}'\n",
    "print('Test Passed (3 points)')"
   ]
  },
  {
   "cell_type": "code",
   "execution_count": null,
   "metadata": {
    "ExecuteTime": {
     "end_time": "2023-10-15T05:27:53.121803Z",
     "start_time": "2023-10-15T05:27:47.308766Z"
    },
    "deletable": false,
    "editable": false,
    "nbgrader": {
     "cell_type": "code",
     "checksum": "2a97d835311b91236657e24944b0b607",
     "grade": true,
     "grade_id": "cell-474fa5a6876c7de0",
     "locked": true,
     "points": 10,
     "schema_version": 3,
     "solution": false,
     "task": false
    }
   },
   "outputs": [],
   "source": [
    "from random import uniform, randint\n",
    "\n",
    "def create_cost(n):\n",
    "    return [ [uniform(0, 5) if i != j else None for j in range(n)] for i in range(n)]\n",
    "\n",
    "for trial in range(20):\n",
    "    print(f'Trial # {trial}')\n",
    "    n = randint(6, 11)\n",
    "    cost_matrix = create_cost(n)\n",
    "    constraints = [(1, 3), (4, 2), (n-1, 1), (n-2, 2)]\n",
    "    tour = tsp_with_extra_constraints(n, cost_matrix, constraints)\n",
    "    i = 0\n",
    "    tour_cost = 0\n",
    "    for j in tour[1:]:\n",
    "        tour_cost += cost_matrix[i][j]\n",
    "        i = j\n",
    "    tour_cost += cost_matrix[i][0]\n",
    "    print(f'Tour:{tour}')\n",
    "    print(f'Cost of your tour: {tour_cost}')\n",
    "    for i in range(n):\n",
    "        num = sum([1 if j == i else 0 for j in tour])\n",
    "        assert  num == 1, f'Vertex {i} repeats {num} times in tour'\n",
    "    for (i, j) in constraints:\n",
    "        assert tour.index(i) < tour.index(j), f'Tour does not respect constraint {(i,j)}'\n",
    "print('Test Passed (10 points)')"
   ]
  },
  {
   "cell_type": "markdown",
   "metadata": {
    "deletable": false,
    "editable": false,
    "nbgrader": {
     "cell_type": "markdown",
     "checksum": "190693d55308cde180115bd430bc3eaf",
     "grade": false,
     "grade_id": "cell-6ea801ecafe10722",
     "locked": true,
     "schema_version": 3,
     "solution": false,
     "task": false
    }
   },
   "source": [
    "## Answers to Select Problems\n",
    "\n",
    "### 1A part A\n",
    "\n",
    "- Vertex 0: $k$ edges leave and $k$ edges enter.\n",
    "- Vertex 1, ..., n-1: 1 edge leaves and 1 edge enters (same as TSP).\n",
    "\n",
    "### 1A part B\n",
    "\n",
    "This is a trick question. There is no need to change any of the time stamp related constraints.\n"
   ]
  },
  {
   "cell_type": "markdown",
   "metadata": {
    "deletable": false,
    "editable": false,
    "nbgrader": {
     "cell_type": "markdown",
     "checksum": "a1dcc96f17cdedf717d7a923915117c3",
     "grade": false,
     "grade_id": "cell-e31b1cce9d75b156",
     "locked": true,
     "schema_version": 3,
     "solution": false,
     "task": false
    }
   },
   "source": [
    "## That's All Folks!"
   ]
  }
 ],
 "metadata": {
  "kernelspec": {
   "display_name": "Python 3",
   "language": "python",
   "name": "python3"
  },
  "language_info": {
   "codemirror_mode": {
    "name": "ipython",
    "version": 3
   },
   "file_extension": ".py",
   "mimetype": "text/x-python",
   "name": "python",
   "nbconvert_exporter": "python",
   "pygments_lexer": "ipython3",
   "version": "3.7.6"
  }
 },
 "nbformat": 4,
 "nbformat_minor": 5
}
