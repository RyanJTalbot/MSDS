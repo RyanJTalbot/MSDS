{
 "cells": [
  {
   "cell_type": "markdown",
   "metadata": {
    "deletable": false,
    "editable": false,
    "nbgrader": {
     "cell_type": "markdown",
     "checksum": "a275db8dfe7dc9a2adbd6b7983ae03c2",
     "grade": false,
     "grade_id": "cell-ead5075ae2ebd282",
     "locked": true,
     "schema_version": 3,
     "solution": false,
     "task": false
    }
   },
   "source": [
    "## Problem Set 2\n",
    "\n",
    "This problem set will focus on setting up and solving integer linear programming problems. Before starting this problem, we assume that you have already studied the tutorial on setting up  integer linear programming problems in pulp."
   ]
  },
  {
   "cell_type": "code",
   "execution_count": null,
   "metadata": {
    "ExecuteTime": {
     "end_time": "2023-08-08T21:39:16.562843Z",
     "start_time": "2023-08-08T21:39:16.423178Z"
    },
    "deletable": false,
    "editable": false,
    "nbgrader": {
     "cell_type": "code",
     "checksum": "0ed93818bc563224c4b39537c4038067",
     "grade": false,
     "grade_id": "cell-b9d2bb4acec066f9",
     "locked": true,
     "schema_version": 3,
     "solution": false,
     "task": false
    }
   },
   "outputs": [],
   "source": [
    "# Important: please run this cell before working on the rest of the notebook\n",
    "from pulp import *"
   ]
  },
  {
   "cell_type": "markdown",
   "metadata": {
    "deletable": false,
    "editable": false,
    "nbgrader": {
     "cell_type": "markdown",
     "checksum": "a61570d67af73affe7c1aadabe4c9c1d",
     "grade": false,
     "grade_id": "cell-f1f700844c4d30e5",
     "locked": true,
     "schema_version": 3,
     "solution": false,
     "task": false
    }
   },
   "source": [
    "## Problem 1\n",
    "\n",
    "In this problem, you will setup and solve the three coloring problem as a integer linear programming problem.\n",
    "\n",
    "The three coloring problem inputs an undirected graph $G$ with vertices $V = \\{ 0, \\ldots, n-1\\}$ and undirected edges $E$. We are looking to color each vertex one of three colors red, green or blue such that for any edge \n",
    "$(i, j)$ the nodes $i, j$ have different colors. \n",
    "\n",
    "Given a graph, we wish to know if a three coloring is possible and if so, we wish to find the three coloring. Although this problem seems like a toy problem, it has applications to many practical problems in resource allocation and other areas. \n",
    "\n",
    "\n",
    "First, we ask you to setup the three coloring problem as an integer linear program.\n",
    "\n",
    "### Decision variables\n",
    "\n",
    "For each vertex $i \\in V$, we will use three decision variables $x_i^R, x_i^G$ and $x_i^B$ that \n",
    "indicate whether the vertex if colored red, green or blue, respectively. Note that these are all \n",
    "_binary_ variables taking on $0, 1$ values.\n",
    "\n",
    "\n",
    "### (A) Each vertex can take just one color\n",
    "\n",
    "Write down a constraint that says that each vertex must be colored exactly one of three colors: red, green or blue in terms of $x_i^R, x_i^G$ and $x_i^B$.\n",
    "\n"
   ]
  },
  {
   "cell_type": "markdown",
   "metadata": {
    "deletable": false,
    "nbgrader": {
     "cell_type": "markdown",
     "checksum": "bca3ee349770901818d0ce685fb336ac",
     "grade": true,
     "grade_id": "cell-f1544f5457ac8290",
     "locked": false,
     "points": 0,
     "schema_version": 3,
     "solution": true,
     "task": false
    }
   },
   "source": [
    "YOUR ANSWER HERE"
   ]
  },
  {
   "cell_type": "markdown",
   "metadata": {
    "deletable": false,
    "editable": false,
    "nbgrader": {
     "cell_type": "markdown",
     "checksum": "d4451df647762624d3ec9f0fa9411afd",
     "grade": false,
     "grade_id": "cell-25541681ada6704c",
     "locked": true,
     "schema_version": 3,
     "solution": false,
     "task": false
    }
   },
   "source": [
    "### (B) Adjacent vertices cannot be the same color.\n",
    "\n",
    "Write down constraints for each edge $(i, j) \\in E$ that they  cannot be the same color. **Hint** Write down three constraints that express that the vertices $i,j$ cannot both be green, cannot both be red and cannot both be blue respectively. Translate these requirements into constraints involving $x_i^G, x_j^G$,  $x_i^R, x_j^R$ and \n",
    "$x_i^B, x_j^B$.\n"
   ]
  },
  {
   "cell_type": "markdown",
   "metadata": {
    "deletable": false,
    "nbgrader": {
     "cell_type": "markdown",
     "checksum": "23823a9efb94f359dcdfdd6518659e6d",
     "grade": true,
     "grade_id": "cell-91bf1e078efba57f",
     "locked": false,
     "points": 0,
     "schema_version": 3,
     "solution": true,
     "task": false
    }
   },
   "source": [
    "YOUR ANSWER HERE"
   ]
  },
  {
   "cell_type": "markdown",
   "metadata": {
    "deletable": false,
    "editable": false,
    "nbgrader": {
     "cell_type": "markdown",
     "checksum": "524415f8641b81ec8ec443924d88f0c8",
     "grade": false,
     "grade_id": "cell-2be6c6ba62741014",
     "locked": true,
     "schema_version": 3,
     "solution": false,
     "task": false
    }
   },
   "source": [
    "Write a function `encodeAndSolveThreeColoring(n, edge_list)` that given the number of vertices $n \\geq 1$ and the list of edges as a list of pairs of vertices `[ (i1, j1), (i2, j2) ..., (im, jm) ] ` returns a tuple  `(flag, color_assignment)` consisting of boolean `flag` and a list `color_assignment`, wherein \n",
    "   - `flag` is `True` if the graph is three colorable and `False` if not.\n",
    "   - `color_assignment` is a list of n colors `r`, `g`, or `b` (standing for red, green or blue) where the $i^{th}$ element of the list stands for the color assigned to vertex $i$.\n",
    "   \n",
    " Note that the `color_assignment` component of the return value is ignored if `flag` is set to `False`."
   ]
  },
  {
   "cell_type": "code",
   "execution_count": null,
   "metadata": {
    "ExecuteTime": {
     "end_time": "2023-08-08T21:39:16.572065Z",
     "start_time": "2023-08-08T21:39:16.565638Z"
    },
    "deletable": false,
    "nbgrader": {
     "cell_type": "code",
     "checksum": "2c84a71ce2d13934318e0ae5948ab97f",
     "grade": false,
     "grade_id": "cell-986553eb7833f8ad",
     "locked": false,
     "schema_version": 3,
     "solution": true,
     "task": false
    }
   },
   "outputs": [],
   "source": [
    "from pulp import *\n",
    "\n",
    "def encode_and_solve_three_coloring(n, edge_list):\n",
    "    assert n >= 1, 'Graph must have at least one vertex'\n",
    "    assert all( 0 <= i and i < n and 0 <= j and j < n and i != j for (i,j) in edge_list ), 'Edge list is not well formed'\n",
    "    prob = LpProblem('Three Color', LpMinimize)\n",
    "    #1. Formulate the decision variables\n",
    "    #2. Add the constraints for each vertex and edge in the graph.\n",
    "    #3. Solve and interpret the status of the solution.\n",
    "    #4. Return the result in the required form to pass the tests below.\n",
    "    # your code here\n",
    "    raise NotImplementedError\n",
    "    "
   ]
  },
  {
   "cell_type": "code",
   "execution_count": null,
   "metadata": {
    "ExecuteTime": {
     "end_time": "2023-08-08T21:39:16.630464Z",
     "start_time": "2023-08-08T21:39:16.578157Z"
    },
    "deletable": false,
    "editable": false,
    "nbgrader": {
     "cell_type": "code",
     "checksum": "c1a81290a5917627760d6f100defd9f5",
     "grade": true,
     "grade_id": "cell-a3533d1016c024e3",
     "locked": true,
     "points": 10,
     "schema_version": 3,
     "solution": false,
     "task": false
    }
   },
   "outputs": [],
   "source": [
    "n = 4\n",
    "edge_list = [(0,1), (0, 2), (0,3), (1, 3), (2,3)]\n",
    "(flag, color_assign) = encode_and_solve_three_coloring(n, edge_list)\n",
    "assert flag == True, 'Error: Graph is three colorable but your code wrongly returns flag = False'\n",
    "print(f'Three color assignment: {color_assign}')\n",
    "def check_three_color_assign(n, edge_list, color_assign):\n",
    "    assert len(color_assign) == n, f'Error: The list of color assignments has {len(color_assign)} entries but must be same as number of vertices {n}'\n",
    "    assert all( col == 'r' or col == 'b' or col == 'g' for col in color_assign), f'Error: Each entry in color assignment list must be r, g or b. Your code returned: {color_assign}'\n",
    "    for (i, j) in edge_list:\n",
    "        ci = color_assign[i]\n",
    "        cj = color_assign[j]\n",
    "        assert ci != cj, f' Error: For edge ({i,j}) we have same color assignment ({ci, cj})'\n",
    "    print('Success: Three coloring assignment checks out!!')\n",
    "        \n",
    "check_three_color_assign(n, edge_list, color_assign)\n",
    "print('Passed: 10 points!')"
   ]
  },
  {
   "cell_type": "code",
   "execution_count": null,
   "metadata": {
    "ExecuteTime": {
     "end_time": "2023-08-08T21:39:16.654971Z",
     "start_time": "2023-08-08T21:39:16.635387Z"
    },
    "deletable": false,
    "editable": false,
    "nbgrader": {
     "cell_type": "code",
     "checksum": "bee03170e8bc8f24fa7ec6b354b009c2",
     "grade": true,
     "grade_id": "cell-7a7a466dfada2b21",
     "locked": true,
     "points": 5,
     "schema_version": 3,
     "solution": false,
     "task": false
    }
   },
   "outputs": [],
   "source": [
    "n = 4\n",
    "edge_list = [(0,1), (0, 2), (0,3), (1,2), (1, 3), (2,3)]\n",
    "(flag, color_assign) = encode_and_solve_three_coloring(n, edge_list)\n",
    "assert flag == False, 'Error: Graph is NOT three colorable but your code wrongly returns flag = True'\n",
    "print('Passed: 5 points!')"
   ]
  },
  {
   "cell_type": "code",
   "execution_count": null,
   "metadata": {
    "ExecuteTime": {
     "end_time": "2023-08-08T21:39:16.689296Z",
     "start_time": "2023-08-08T21:39:16.661554Z"
    },
    "deletable": false,
    "editable": false,
    "nbgrader": {
     "cell_type": "code",
     "checksum": "95d6127aa39235e0bd2ab7e39197bd76",
     "grade": true,
     "grade_id": "cell-f8b0cfdfe79af117",
     "locked": true,
     "points": 5,
     "schema_version": 3,
     "solution": false,
     "task": false
    }
   },
   "outputs": [],
   "source": [
    "n = 9\n",
    "edge_list = [ (0, 4), (0, 6), (0, 8), (1, 3), (1, 4), (1, 8), (2, 3), (2, 5), (2,6), (2,7), (3, 4), (3,5), (3,6), (3,8),(4,5), (4,6),(5,7),(6,8),(7,8)]\n",
    "(flag, color_assign) = encode_and_solve_three_coloring(n, edge_list)\n",
    "assert flag == True, 'Error: Graph is three colorable but your code wrongly returns flag = False'\n",
    "print(f'Three color assignment: {color_assign}')\n",
    "def check_three_color_assign(n, edge_list, color_assign):\n",
    "    assert len(color_assign) == n, f'Error: The list of color assignments has {len(color_assign)} entries but must be same as number of vertices {n}'\n",
    "    assert all( col == 'r' or col == 'b' or col == 'g' for col in color_assign), f'Error: Each entry in color assignment list must be r, g or b. Your code returned: {color_assign}'\n",
    "    for (i, j) in edge_list:\n",
    "        ci = color_assign[i]\n",
    "        cj = color_assign[j]\n",
    "        assert ci != cj, f' Error: For edge ({i,j}) we have same color assignment ({ci, cj})'\n",
    "    print('Success: Three coloring assignment checks out!!')\n",
    "        \n",
    "check_three_color_assign(n, edge_list, color_assign)\n",
    "print('Passed: 5 points!')"
   ]
  },
  {
   "cell_type": "markdown",
   "metadata": {
    "deletable": false,
    "editable": false,
    "nbgrader": {
     "cell_type": "markdown",
     "checksum": "2a581acd05c6b96cee32739676bad3ea",
     "grade": false,
     "grade_id": "cell-5ae11d8c7eb2c212",
     "locked": true,
     "schema_version": 3,
     "solution": false,
     "task": false
    }
   },
   "source": [
    "## Problem 2\n",
    "\n",
    "Imagine you are operating a bunch of grocery stores across the country with $n$ store locations numbered $0, \\ldots, n-1$ wherein each location $i$ has coordinates $(x_i, y_i)$. The travel distance between locations $i$ and $j$ is given by $d_{i,j} = \\sqrt{ (x_i - x_j)^2 + (y_i - y_j)^2 } $ (the Euclidean distance). \n",
    "\n",
    "You are asked to locate warehouses among these $n$ locations so that for each location $j$, the distance to the closest warehouse is less than some specified limit $R \\geq 0$. Of course, you need to minimize the number of warehouses since warehouses are expensive to create and operate.\n",
    "\n",
    "\n",
    "In this problem, we will formulate an integer linear program that will solve the problem of finding the minimum number or warehouses and their locations given inputs:\n",
    "  - $[ (x_0, y_0), \\ldots, (x_{n-1}, y_{n-1}) ]$: the list of coordinates of the locations;\n",
    "  - $R > 0$ : the acceptable distance limit from each location to its nearest warehouse.\n"
   ]
  },
  {
   "attachments": {
    "facility-location-ex-1.png": {
     "image/png": "[encoded data removed]"
    }
   },
   "cell_type": "markdown",
   "metadata": {
    "deletable": false,
    "editable": false,
    "nbgrader": {
     "cell_type": "markdown",
     "checksum": "083163d8a1b6ea9c52239deb38df29e9",
     "grade": false,
     "grade_id": "cell-2e21db4327622c3c",
     "locked": true,
     "schema_version": 3,
     "solution": false,
     "task": false
    }
   },
   "source": [
    "### Example\n",
    "\n",
    "Consider the following data for the locations:\n",
    "\n",
    "$$\\begin{array}{ll}\n",
    "\\text{Loc.} & \\text{Coord} \\\\ \n",
    "\\hline\n",
    "0 & (1, 1) \\\\ \n",
    "1 & (1, 2) \\\\ \n",
    "2 & (2, 3) \\\\ \n",
    "3 & (1, 4) \\\\ \n",
    "4 & (5, 1) \\\\ \n",
    "5 & (3, 3) \\\\ \n",
    "6 & (4, 4) \\\\ \n",
    "7  & (1,6) \\\\ \n",
    "8 & (0,3) \\\\ \n",
    "9 & (3,5)\\\\\n",
    "10 & (2,4)\\\\ \n",
    "\\end{array}$$\n",
    "\n",
    "Suppose we wanted to have $R = 2$ as the distance limit. The optimal solution is to choose locations\n",
    "$1, 4, 6, 7$ as the warehouse locations. We show below the four circles of radius $2$ around the \n",
    "chosen locations. Notice that they cover all the points in our dataset.\n",
    "\n",
    "![facility-location-ex-1.png](attachment:facility-location-ex-1.png)\n",
    "\n"
   ]
  },
  {
   "attachments": {
    "facility-location-ex-2.png": {
     "image/png": "[encoded data removed]"
    }
   },
   "cell_type": "markdown",
   "metadata": {
    "deletable": false,
    "editable": false,
    "nbgrader": {
     "cell_type": "markdown",
     "checksum": "49214b49aa0fbb1ea5fae14b13eefc41",
     "grade": false,
     "grade_id": "cell-dd16ec749b089a94",
     "locked": true,
     "schema_version": 3,
     "solution": false,
     "task": false
    }
   },
   "source": [
    "However, no set of three warehouse locations will cover all points for $R = 2$. Suppose we chose the locations\n",
    "$3, 5, 9$ for our warehouse locations, notice that there are uncovered locations.\n",
    "![facility-location-ex-2.png](attachment:facility-location-ex-2.png)"
   ]
  },
  {
   "cell_type": "markdown",
   "metadata": {
    "deletable": false,
    "editable": false,
    "nbgrader": {
     "cell_type": "markdown",
     "checksum": "c68918a48a5ae050442a9dca9fc773d1",
     "grade": false,
     "grade_id": "cell-c60cfccda6c39a44",
     "locked": true,
     "schema_version": 3,
     "solution": false,
     "task": false
    }
   },
   "source": [
    "Let's begin to formulate an ILP to compute the minimum number of warehouses.\n",
    "\n",
    "# (A) Identifying Decision Variables\n",
    "\n",
    "We will have binary decision variable $w_i$ corresponding to each location $i \\in \\{ 0, \\ldots, n-1\\}$ wherein \n",
    "\n",
    "$$ w_i = \\begin{cases} 1, & \\text{if we locate a warehouse at location}\\ i \\\\ 0, & \\text{otherwise} \\\\ \\end{cases}$$\n",
    "\n",
    "### (B) Objective function\n",
    "\n",
    "Express the number of warehouses created in terms of the decision variables $w_0, \\ldots, w_{n-1}$. This will give us the objective that we will minimize.\n"
   ]
  },
  {
   "cell_type": "markdown",
   "metadata": {
    "deletable": false,
    "nbgrader": {
     "cell_type": "markdown",
     "checksum": "39c20b6152af75bb985ee66639aec1f5",
     "grade": true,
     "grade_id": "cell-152b67e9dd87b2ac",
     "locked": false,
     "points": 0,
     "schema_version": 3,
     "solution": true,
     "task": false
    }
   },
   "source": [
    "YOUR ANSWER HERE"
   ]
  },
  {
   "cell_type": "markdown",
   "metadata": {
    "deletable": false,
    "editable": false,
    "nbgrader": {
     "cell_type": "markdown",
     "checksum": "d00f20a536486ca359833aa12bba743c",
     "grade": false,
     "grade_id": "cell-5ca0a8960a0881d2",
     "locked": true,
     "schema_version": 3,
     "solution": false,
     "task": false
    }
   },
   "source": [
    "## (C) Constraints\n",
    "\n",
    "Let's consider from the point of view of each location $j$ in our list. We would like at least one warehouse to be located at a location $i$ where $d_{i,j} \\leq R$. \n",
    "\n",
    "Define the set  $D_j = \\{ i \\ |\\ d_{i,j} \\leq R \\}$ to be all locations within distance $R$ from $j$ (this set includes $j$ as well since $d_{j,j} = 0$).\n",
    "\n",
    "Write down the constraint that at least one warehouse must be located  among the locations in the set $D_j$."
   ]
  },
  {
   "cell_type": "markdown",
   "metadata": {
    "deletable": false,
    "nbgrader": {
     "cell_type": "markdown",
     "checksum": "f21b4b0227ee45072fc5be4888405617",
     "grade": true,
     "grade_id": "cell-21f0dcb7984acab2",
     "locked": false,
     "points": 0,
     "schema_version": 3,
     "solution": true,
     "task": false
    }
   },
   "source": [
    "YOUR ANSWER HERE"
   ]
  },
  {
   "cell_type": "markdown",
   "metadata": {
    "deletable": false,
    "editable": false,
    "nbgrader": {
     "cell_type": "markdown",
     "checksum": "475e06d9109a2b957eb5e8e9e2bdcc83",
     "grade": false,
     "grade_id": "cell-08d88b7802a3c95a",
     "locked": true,
     "schema_version": 3,
     "solution": false,
     "task": false
    }
   },
   "source": [
    "### (D) Formulate and solve the ILP given data.\n",
    "\n",
    "Write a function `solve_warehouse_location(location_coords, R)` wherein `location_coords` is a list of coordinates\n",
    "$[(x_0,y_0), \\ldots, (x_{n-1},y_{n-1})]$ and $R > 0$ is the distance limit.  For your convenience, the `euclidean_distance` between two points is implemented. Setup and solve the ILP using PULP.\n",
    "\n",
    "Your code should return a list of indices $[i_1, i_2, ..., i_k]$ which are the optimal locations for the warehouses to be located minimizing the number of warehouses and ensuring that every point is within distance $d$ of a warehouse."
   ]
  },
  {
   "cell_type": "code",
   "execution_count": null,
   "metadata": {
    "ExecuteTime": {
     "end_time": "2023-08-08T21:39:16.699475Z",
     "start_time": "2023-08-08T21:39:16.692470Z"
    },
    "deletable": false,
    "nbgrader": {
     "cell_type": "code",
     "checksum": "a909e6e965b0ee58fa8926e23d82bb00",
     "grade": false,
     "grade_id": "cell-d21e4232cd14acd5",
     "locked": false,
     "schema_version": 3,
     "solution": true,
     "task": false
    }
   },
   "outputs": [],
   "source": [
    "from pulp import *\n",
    "from math import sqrt \n",
    "\n",
    "def euclidean_distance(location_coords, i, j):\n",
    "    assert 0 <= i and i < len(location_coords)\n",
    "    assert 0 <= j and j < len(location_coords)\n",
    "    if i == j: \n",
    "        return 0.0\n",
    "    (xi, yi) = location_coords[i] # unpack coordinate\n",
    "    (xj, yj) = location_coords[j]\n",
    "    return sqrt( (xj - xi)**2 + (yj - yi)**2 )\n",
    "\n",
    "    \n",
    "def solve_warehouse_location(location_coords, R):\n",
    "    assert R > 0.0, 'radius must be positive'\n",
    "    n = len(location_coords)\n",
    "    prob = LpProblem('Warehouselocation', LpMinimize)\n",
    "    #1. Formulate the decision variables\n",
    "    #2. Add the constraints for each vertex and edge in the graph.\n",
    "    #3. Solve and interpret the status of the solution.\n",
    "    #4. Return the result in the required form to pass the tests below.\n",
    "    # your code here\n",
    "    raise NotImplementedError\n",
    "    "
   ]
  },
  {
   "cell_type": "code",
   "execution_count": null,
   "metadata": {
    "ExecuteTime": {
     "end_time": "2023-08-08T21:40:45.414909Z",
     "start_time": "2023-08-08T21:40:45.197317Z"
    },
    "deletable": false,
    "editable": false,
    "nbgrader": {
     "cell_type": "code",
     "checksum": "125836974d58be9c84675f4722975d88",
     "grade": true,
     "grade_id": "cell-2b688665b4cedcbf",
     "locked": true,
     "points": 5,
     "schema_version": 3,
     "solution": false,
     "task": false
    }
   },
   "outputs": [],
   "source": [
    "from matplotlib import pyplot as plt \n",
    "\n",
    "def check_solution(location_coords, R, warehouse_locs):\n",
    "    # for each location i, calculate all locations j within distance R of location i\n",
    "    # use list comprehension instead of accumulating using a nested for loop.\n",
    "    n = len(location_coords)\n",
    "    assert all(j >= 0 and j < n for j in warehouse_locs), f'Warehouse locations must be between 0 and {n-1}'\n",
    "    neighborhoods = [ [j for j in range(n) if euclidean_distance(location_coords, i, j) <= R] for i in range(n)]\n",
    "    W = set(warehouse_locs)\n",
    "    for (i, n_list)  in enumerate(neighborhoods):\n",
    "        assert any(j in W for j in n_list), f'Location # {i} has no warehouse within distance {R}. The locations within distance {R} are {n_list}'\n",
    "    print('Your solution passed test')\n",
    "    \n",
    "def visualize_solution(location_coords, R, warehouse_locs):\n",
    "    n = len(location_coords)\n",
    "    (xCoords, yCoords) = zip(*location_coords)\n",
    "    warehouse_x, warehouse_y = [xCoords[j] for j in warehouse_locs], [yCoords[j] for j in warehouse_locs]\n",
    "    fig, ax = plt.subplots()\n",
    "    ax.set_aspect('equal')\n",
    "    plt.scatter(xCoords, yCoords)\n",
    "    for j in warehouse_locs: \n",
    "        circ = plt.Circle(location_coords[j], R, alpha=0.5, color='g',ls='--',lw=2,ec='k')\n",
    "        ax.add_patch(circ)\n",
    "    \n",
    "    for i in range(n):\n",
    "        (x,y) = location_coords[i]\n",
    "        ax.annotate(f'{i}', location_coords[i])\n",
    "    \n",
    "    plt.scatter(warehouse_x, warehouse_y, marker='x',c='r', s=30)\n",
    "        \n",
    "    \n",
    "    \n",
    "    \n",
    "location_coords = [(1,2), (3, 5), (4, 7), (5, 1), (6, 8), (7, 9), (8,14), (13,6)]\n",
    "R = 5\n",
    "locs = solve_warehouse_location(location_coords, R )\n",
    "print(f'Your code returned warehouse locatitons: {locs}')\n",
    "assert len(locs) <= 4, f'Error: There is an solution involving just 4 locations whereas your code returns {len(locs)}'\n",
    "visualize_solution(location_coords, R, locs)\n",
    "\n",
    "\n",
    "check_solution(location_coords, R, locs)"
   ]
  },
  {
   "cell_type": "code",
   "execution_count": null,
   "metadata": {
    "ExecuteTime": {
     "end_time": "2023-08-08T21:55:35.142856Z",
     "start_time": "2023-08-08T21:55:34.724432Z"
    },
    "deletable": false,
    "editable": false,
    "nbgrader": {
     "cell_type": "code",
     "checksum": "9b5a6cbcd2936c44dd4efddbbc7376bf",
     "grade": true,
     "grade_id": "cell-0b8d9511fd6a614f",
     "locked": true,
     "points": 10,
     "schema_version": 3,
     "solution": false,
     "task": false
    }
   },
   "outputs": [],
   "source": [
    "from matplotlib import pyplot as plt \n",
    "\n",
    "def check_solution(location_coords, R, warehouse_locs):\n",
    "    # for each location i, calculate all locations j within distance R of location i\n",
    "    # use list comprehension instead of accumulating using a nested for loop.\n",
    "    n = len(location_coords)\n",
    "    assert all(j >= 0 and j < n for j in warehouse_locs), f'Warehouse locations must be between 0 and {n-1}'\n",
    "    neighborhoods = [ [j for j in range(n) if euclidean_distance(location_coords, i, j) <= R] for i in range(n)]\n",
    "    W = set(warehouse_locs)\n",
    "    for (i, n_list)  in enumerate(neighborhoods):\n",
    "        assert any(j in W for j in n_list), f'Location # {i} has no warehouse within distance {R}. The locations within distance {R} are {n_list}'\n",
    "    print('Your solution passed test')\n",
    "    \n",
    "def visualize_solution(location_coords, R, warehouse_locs):\n",
    "    n = len(location_coords)\n",
    "    (xCoords, yCoords) = zip(*location_coords)\n",
    "    warehouse_x, warehouse_y = [xCoords[j] for j in warehouse_locs], [yCoords[j] for j in warehouse_locs]\n",
    "    fig, ax = plt.subplots()\n",
    "    ax.set_aspect('equal')\n",
    "    plt.scatter(xCoords, yCoords)\n",
    "    for j in warehouse_locs: \n",
    "        circ = plt.Circle(location_coords[j], R, alpha=0.5, color='g',ls='--',lw=2,ec='k')\n",
    "        ax.add_patch(circ)\n",
    "    \n",
    "    for i in range(n):\n",
    "        (x,y) = location_coords[i]\n",
    "        ax.annotate(f'{i}', location_coords[i])\n",
    "    \n",
    "    plt.scatter(warehouse_x, warehouse_y, marker='x',c='r', s=30)\n",
    "        \n",
    "    \n",
    "    \n",
    "    \n",
    "location_coords = [(1,1), (1, 2), (2, 3), (1, 4), (5, 1), (3, 3), (4,4), (1,6), (0,3), (3,5), (2,4)]\n",
    "\n",
    "## TEST 1\n",
    "R = 2\n",
    "print(\"R = 2 Test:\")\n",
    "locs = solve_warehouse_location(location_coords, R )\n",
    "print(f'Your code returned warehouse locatitons: {locs}')\n",
    "assert len(locs) <= 4, f'Error: There is an solution involving just 4 locations whereas your code returns {len(locs)}'\n",
    "visualize_solution(location_coords, R, locs)\n",
    "check_solution(location_coords, R, locs)\n",
    "print('Test with R= 2 has passed')\n",
    "## TEST 2\n",
    "print(\"R=3 Test:\")\n",
    "R = 3\n",
    "locs3 = solve_warehouse_location(location_coords, R )\n",
    "print(f'Your code returned warehouse locatitons: {locs3}')\n",
    "assert len(locs3) <= 2, f'Error: There is an solution involving just 4 locations whereas your code returns {len(locs)}'\n",
    "visualize_solution(location_coords, R, locs3)\n",
    "check_solution(location_coords, R, locs3)\n",
    "print(\"Test with R = 3 has passed.\")\n"
   ]
  },
  {
   "cell_type": "markdown",
   "metadata": {
    "deletable": false,
    "editable": false,
    "nbgrader": {
     "cell_type": "markdown",
     "checksum": "ca5f1d16536258181741338a28fb3b51",
     "grade": false,
     "grade_id": "cell-542658bf1066c8ac",
     "locked": true,
     "schema_version": 3,
     "solution": false,
     "task": false
    }
   },
   "source": [
    "## That's all folks"
   ]
  }
 ],
 "metadata": {
  "kernelspec": {
   "display_name": "Python 3",
   "language": "python",
   "name": "python3"
  },
  "language_info": {
   "codemirror_mode": {
    "name": "ipython",
    "version": 3
   },
   "file_extension": ".py",
   "mimetype": "text/x-python",
   "name": "python",
   "nbconvert_exporter": "python",
   "pygments_lexer": "ipython3",
   "version": "3.7.6"
  }
 },
 "nbformat": 4,
 "nbformat_minor": 5
}
