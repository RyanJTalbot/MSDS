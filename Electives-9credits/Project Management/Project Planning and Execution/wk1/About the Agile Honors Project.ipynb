{
 "cells": [
  {
   "cell_type": "markdown",
   "id": "8abbb21d-12d6-4510-bb87-6ccfea0d4ca3",
   "metadata": {},
   "source": [
    "About the Agile Honors Project\n",
    "\n",
    "Throughout Agile Project Management, the third course in the Project Management specialization, you will be introduced to the concepts of Agile project management. In the first two courses, you learned the formal project management process, which includes tools that are commonly used in the predictive project management methodology. Now we will look at your project through the lens of the Agile methodology. You will use your previous project plan to guide you through the Honors Projects in this course, which will invite you to compare and contrast your previous project based on the methodology. These assignments are organized in \"Honors Lessons\" and completion is optional, but recommended. \n",
    "\n",
    "A Review of The Virtual Project\n",
    "\n",
    "In the first two courses in the specialization Project Management: Foundations and Initiation and Project Planning and Execution, you chose your own project that is simplified, yet detailed enough to apply the previous course concepts. At the end of the previous courses, you produced a formal project plan that spanned the process groups of initiation, planning, execution, monitoring, and closing. You didn’t have to actually complete the project. \n",
    "\n",
    "Note: If you haven't taken the first two courses, the details for the project are below.\n",
    "\n",
    "To complete the Honors Lessons for this course, imagine that you produced the following documents for your Home Improvement Project:\n",
    "\n",
    "    Project Charter\n",
    "\n",
    "    Stakeholder Analysis\n",
    "\n",
    "    Resource Requirements\n",
    "\n",
    "    Project Schedule\n",
    "\n",
    "    Project Budget\n",
    "\n",
    "    Risk Register\n",
    "\n",
    "    Project Post Mortem\n",
    "\n",
    "Review of Project Details\n",
    "\n",
    "Everyone lives somewhere. Whether you’re a homeowner or a renter, have you ever wanted to improve your home or apartment? A simple, yet comprehensive virtual project would be to plan just such a home improvement project.  Again, you don’t have to actually complete the project, just follow the steps of the course to develop the plan. \n",
    "\n",
    "Some ideas for a project could be:\n",
    "\n",
    "    Renovate a kitchen or bathroom\n",
    "\n",
    "    Build a deck\n",
    "\n",
    "    Plant a garden \n",
    "\n",
    "    Paint the house"
   ]
  },
  {
   "cell_type": "code",
   "execution_count": null,
   "id": "b0746f4a-0c49-48f0-b3e0-33ac8f54368a",
   "metadata": {},
   "outputs": [],
   "source": []
  }
 ],
 "metadata": {
  "kernelspec": {
   "display_name": "Python 3 (ipykernel)",
   "language": "python",
   "name": "python3"
  },
  "language_info": {
   "codemirror_mode": {
    "name": "ipython",
    "version": 3
   },
   "file_extension": ".py",
   "mimetype": "text/x-python",
   "name": "python",
   "nbconvert_exporter": "python",
   "pygments_lexer": "ipython3",
   "version": "3.8.18"
  }
 },
 "nbformat": 4,
 "nbformat_minor": 5
}
