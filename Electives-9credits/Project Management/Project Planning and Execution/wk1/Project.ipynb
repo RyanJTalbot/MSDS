{
 "cells": [
  {
   "cell_type": "markdown",
   "id": "9c670e74-2bec-47b1-8719-44d32ab03a93",
   "metadata": {},
   "source": [
    "Agile project management is all about creating value early and often through short iterations and releases. In the first two courses of this specialization, you followed a predictive framework for your home improvement project. Do you think predictive project management works best for this type of project? If you were to apply Agile to your project, what would it look like? Is it better or not? Why? Write 300-500 words."
   ]
  },
  {
   "cell_type": "code",
   "execution_count": null,
   "id": "36d16800-f2b9-4276-ac85-09737998ccf4",
   "metadata": {},
   "outputs": [],
   "source": []
  }
 ],
 "metadata": {
  "kernelspec": {
   "display_name": "Python 3 (ipykernel)",
   "language": "python",
   "name": "python3"
  },
  "language_info": {
   "codemirror_mode": {
    "name": "ipython",
    "version": 3
   },
   "file_extension": ".py",
   "mimetype": "text/x-python",
   "name": "python",
   "nbconvert_exporter": "python",
   "pygments_lexer": "ipython3",
   "version": "3.8.18"
  }
 },
 "nbformat": 4,
 "nbformat_minor": 5
}
