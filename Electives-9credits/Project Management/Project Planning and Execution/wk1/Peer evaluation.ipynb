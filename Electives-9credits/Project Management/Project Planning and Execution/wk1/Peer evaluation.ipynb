{
 "cells": [
  {
   "cell_type": "markdown",
   "id": "605bbe54-ecab-4122-81b5-606347649e7b",
   "metadata": {},
   "source": [
    "Peer evaluation\n",
    "\n",
    "Honors Lessons and projects will be evaluated by other students in this course through a peer evaluation process.  After you submit your honors lesson, you will be asked to provide an evaluation of other students’ work. \n",
    "\n",
    "As part of this course you will be expected to provide constructive feedback to your peers. During the peer evaluation process you will learn to develop assessment and analysis skills by reading and offering feedback to other students. \n",
    "\n",
    "Peer evaluation is a skill that takes practice.  Each assignment will have a well-defined evaluation rubric for you to follow as a reviewer.  You will provide written feedback to students to help them improve their project management skills.  Please take your responsibility as a peer evaluator seriously. The evaluation process not only helps the student improve their work, but it also benefits you by giving you practice at providing constructive feedback - an important characteristic for a project manager.  \n",
    "\n",
    "Ten Guidelines for Peer Evaluation\n",
    "\n",
    "    Read through the entire document once before offering any feedback.  This will help you see the project’s goals and may answer some of your initial questions.\n",
    "\n",
    "    Point out the strengths as well as the weaknesses of the assignment.\n",
    "\n",
    "    Offer suggestions on areas that the peer has specifically requested.\n",
    "\n",
    "    Review the entire document.\n",
    "\n",
    "    Be appropriate and constructive, not rude or disrespectful. \n",
    "\n",
    "    Be clear but concise. Don’t overwhelm the peer with too much commentary. \n",
    "\n",
    "    Don’t let your own opinion bias your review. \n",
    "\n",
    "    Review your comments before submitting.  Make sure everything makes sense and suggestions are easy to follow. \n",
    "\n",
    "    Be careful not to plagiarize your own work based on something you read in previous peer evaluations. (Don’t make your peer’s work become your work).\n",
    "\n",
    "    When in doubt, refer back to the rubric for guidance. \n",
    "\n",
    "Specific Feedback\n",
    "\n",
    "Every Honors peer-review assignment includes a prompt that asks you to request specific feedback from your peer reviewers. This is a required component of the assignment that I expect you to take seriously. Please be thoughtful about the feedback you request, because you will use your peer reviewers’ comments to revise and resubmit your work at the end of the course.\n",
    "\n",
    "As a peer reviewer, also please take your peers’ requests for specific feedback seriously. Address their concerns thoughtfully and with compassion, but offer the most comprehensive feedback you can."
   ]
  },
  {
   "cell_type": "code",
   "execution_count": null,
   "id": "57d643c0-fe9c-42a8-8edf-17f2a77c9546",
   "metadata": {},
   "outputs": [],
   "source": []
  }
 ],
 "metadata": {
  "kernelspec": {
   "display_name": "Python 3 (ipykernel)",
   "language": "python",
   "name": "python3"
  },
  "language_info": {
   "codemirror_mode": {
    "name": "ipython",
    "version": 3
   },
   "file_extension": ".py",
   "mimetype": "text/x-python",
   "name": "python",
   "nbconvert_exporter": "python",
   "pygments_lexer": "ipython3",
   "version": "3.8.18"
  }
 },
 "nbformat": 4,
 "nbformat_minor": 5
}
