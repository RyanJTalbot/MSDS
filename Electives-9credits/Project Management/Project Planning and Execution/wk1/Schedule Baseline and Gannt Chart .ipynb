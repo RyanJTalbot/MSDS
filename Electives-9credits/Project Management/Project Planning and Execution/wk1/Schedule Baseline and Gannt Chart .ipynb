{
 "cells": [
  {
   "cell_type": "markdown",
   "id": "70d8188b-d898-41fe-a24e-b91dc09f8477",
   "metadata": {},
   "source": [
    "Now that we have determined the project’s critical path, durations, and slack, it is time to develop the project schedule baseline. According to PMI, the schedule baseline is, “the approved version of a schedule model that can be changed only through formal change control procedures and is used as a basis for comparison to actual results.  It is accepted and approved by the appropriate stakeholders as the schedule baseline with baseline start dates and baseline finish dates.” \n",
    "\n",
    "This schedule that is shared with stakeholders is usually communicated through a tool called a Gantt chart.  A Gantt chart is a graphical representation that clearly communicates the activities of the project including their start and finish dates, duration, and any project milestones.  \n",
    "\n",
    "Gantt charts are usually developed through project management software programs or through spreadsheet applications.  \n",
    "\n",
    "Please watch the following video that describes the GANTT chart: "
   ]
  },
  {
   "cell_type": "markdown",
   "id": "4498e9ff-17ba-4473-b20b-163fda71962f",
   "metadata": {},
   "source": [
    "---"
   ]
  },
  {
   "cell_type": "markdown",
   "id": "0c7171b9-be83-446a-85fe-7b2f721c4511",
   "metadata": {},
   "source": [
    "Project Schedule Template"
   ]
  },
  {
   "cell_type": "markdown",
   "id": "2c78ce8d-d329-4c39-a192-ddee713c2970",
   "metadata": {},
   "source": [
    "You may be wondering\n",
    "where to even start in building\n",
    "your own Gantt chart. I wanted to record this quick\n",
    "video to show you how to access Gantt chart\n",
    "using Google Sheets. As you can see, I've got\n",
    "a Google page open here, and all you will do is go to Google Sheets and\n",
    "open up a new sheet. Actually it'll take\n",
    "you to Google Sheets. On the upper right-hand\n",
    "side you'll see template gallery, so hit that. Go to your general templates. If you scroll all the way down, you'll see there are four different project\n",
    "management templates on Google Sheets for you. First one is Gantt\n",
    "chart project timeline, project tracking, and\n",
    "event marketing timeline. Any of those will work for\n",
    "setting up a Gantt chart. I'm going to just open up a\n",
    "project timeline sheet here. Once you see that it's open, all of these cells,\n",
    "everything is customizable. Edit a bowl so you can put\n",
    "your project name here, like I'm building a deck. Then all of these\n",
    "specific cells here are also edit a bowl,\n",
    "you can change them. If we cut and paste that, we know that we're\n",
    "going to start our charter early and\n",
    "move things around. All of these are available to\n",
    "you to edit and update and use for either your project for any courses or project\n",
    "timeline for any courses, or for your personal use or\n",
    "professional use as well, so those are available on\n",
    "Google Sheets templates."
   ]
  },
  {
   "cell_type": "code",
   "execution_count": null,
   "id": "389e7eb1-b2dd-4aa6-b095-eb6424cdb38a",
   "metadata": {},
   "outputs": [],
   "source": []
  }
 ],
 "metadata": {
  "kernelspec": {
   "display_name": "Python 3 (ipykernel)",
   "language": "python",
   "name": "python3"
  },
  "language_info": {
   "codemirror_mode": {
    "name": "ipython",
    "version": 3
   },
   "file_extension": ".py",
   "mimetype": "text/x-python",
   "name": "python",
   "nbconvert_exporter": "python",
   "pygments_lexer": "ipython3",
   "version": "3.8.18"
  }
 },
 "nbformat": 4,
 "nbformat_minor": 5
}
