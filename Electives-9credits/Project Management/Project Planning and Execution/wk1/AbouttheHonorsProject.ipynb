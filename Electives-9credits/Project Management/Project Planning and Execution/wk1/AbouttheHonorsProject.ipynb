{
 "cells": [
  {
   "cell_type": "markdown",
   "id": "7c72d0d2-fd90-4ffb-ba41-dedeb39e2449",
   "metadata": {},
   "source": [
    "About the Honors Project\n",
    "\n",
    "Throughout Project Planning and Execution, you will be introduced to the concepts of project management. You will learn the formal project management process which includes tools that are commonly used in the predictive project management methodology. Since this is a course about planning and executing projects, it is appropriate to apply these tools to manage a small “virtual” project. Thus, you will be invited to develop and submit small components of a project plan each week. These assignments are organized in \"Honors Lessons\" and completion is optional, but recommended.\n",
    "\n",
    "This project should be the same one you completed in the first course, Project Management: Foundations and Initiation. Upon completion of both courses, you should have the basis for a comprehensive final project plan. \n",
    "\n",
    "The Virtual Project\n",
    "\n",
    "Since this is an introductory course to project management, you will choose your own project that is simplified, yet detailed enough to apply the course concepts. The goal is to plan the project through the formal project management phases of project initiation, planning, execution, monitoring, and closing. You don’t have to actually complete the project. \n",
    "\n",
    "Everyone lives somewhere. Whether you’re a homeowner or a renter, have you ever wanted to improve your home or apartment? A simple, yet comprehensive virtual project would be to plan just such a home improvement project.  Again, you don’t have to actually complete the project, just follow the steps of the course to develop the plan. \n",
    "\n",
    "Some ideas for a project could be:\n",
    "\n",
    "    Renovate a kitchen or bathroom\n",
    "\n",
    "    Build a deck\n",
    "\n",
    "    Plant a garden \n",
    "\n",
    "    Paint the house\n",
    "\n",
    "    Build a shed or garage\n",
    "\n",
    "You don’t have to choose one of the above projects. Choose any home improvement project you would like. Get creative!"
   ]
  },
  {
   "cell_type": "code",
   "execution_count": null,
   "id": "6a1e60a4-c271-4eda-8259-f51c4d5d1645",
   "metadata": {},
   "outputs": [],
   "source": []
  }
 ],
 "metadata": {
  "kernelspec": {
   "display_name": "tf2",
   "language": "python",
   "name": "tf2"
  },
  "language_info": {
   "codemirror_mode": {
    "name": "ipython",
    "version": 3
   },
   "file_extension": ".py",
   "mimetype": "text/x-python",
   "name": "python",
   "nbconvert_exporter": "python",
   "pygments_lexer": "ipython3",
   "version": "3.8.18"
  }
 },
 "nbformat": 4,
 "nbformat_minor": 5
}
