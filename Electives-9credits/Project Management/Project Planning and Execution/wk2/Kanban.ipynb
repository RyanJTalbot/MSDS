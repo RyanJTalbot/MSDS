{
 "cells": [
  {
   "cell_type": "markdown",
   "id": "5bd444f9-1a07-4dfe-ab20-4a0a5751f99b",
   "metadata": {},
   "source": [
    "Develop a Kanban board for your Home Improvement Project. Please review the reading assignment Kanban Board for examples of how to organize your assignment. You do not have to follow any specific format. It could be on a slide or an excel sheet. It could be from a software program, or hand drawn, or completed on a white board. It is more important that you adequately identify all the workflow columns and tasks/user stories appropriate for your project. "
   ]
  },
  {
   "cell_type": "code",
   "execution_count": null,
   "id": "d4fc6961-3953-46f1-bcb0-cbbc89e492c3",
   "metadata": {},
   "outputs": [],
   "source": []
  }
 ],
 "metadata": {
  "kernelspec": {
   "display_name": "Python 3 (ipykernel)",
   "language": "python",
   "name": "python3"
  },
  "language_info": {
   "codemirror_mode": {
    "name": "ipython",
    "version": 3
   },
   "file_extension": ".py",
   "mimetype": "text/x-python",
   "name": "python",
   "nbconvert_exporter": "python",
   "pygments_lexer": "ipython3",
   "version": "3.8.18"
  }
 },
 "nbformat": 4,
 "nbformat_minor": 5
}
