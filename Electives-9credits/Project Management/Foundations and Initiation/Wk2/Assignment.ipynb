{
 "cells": [
  {
   "cell_type": "markdown",
   "id": "829fa825-5f7c-4248-94cf-c22f8727c6b9",
   "metadata": {},
   "source": [
    "Develop a project charter for your Home Improvement Project.  Please review the reading assignment Charter Templates and Resources for examples of how to organize your charter."
   ]
  },
  {
   "cell_type": "code",
   "execution_count": null,
   "id": "8136cff0-c10d-4dac-8e18-fc3e97ce4e3d",
   "metadata": {},
   "outputs": [],
   "source": []
  }
 ],
 "metadata": {
  "kernelspec": {
   "display_name": "Python 3 (ipykernel)",
   "language": "python",
   "name": "python3"
  },
  "language_info": {
   "codemirror_mode": {
    "name": "ipython",
    "version": 3
   },
   "file_extension": ".py",
   "mimetype": "text/x-python",
   "name": "python",
   "nbconvert_exporter": "python",
   "pygments_lexer": "ipython3",
   "version": "3.8.18"
  }
 },
 "nbformat": 4,
 "nbformat_minor": 5
}
