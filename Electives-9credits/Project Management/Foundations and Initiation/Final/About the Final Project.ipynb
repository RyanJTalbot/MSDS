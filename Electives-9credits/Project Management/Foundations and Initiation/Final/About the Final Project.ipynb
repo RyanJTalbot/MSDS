{
 "cells": [
  {
   "cell_type": "markdown",
   "id": "1b3f8518-9ee2-4147-8d10-e8b97560449a",
   "metadata": {},
   "source": [
    "About the Final Project\n",
    "\n",
    "Throughout this course, you have applied some of the tools of project management to develop a Project Charter, a Stakeholder Analysis, and a Resource Requirements document. These important documents are small components that contribute to a larger project plan. \n",
    "\n",
    "Each week you have analyzed your peers’ project documents and have also received valuable feedback to make improvements to your project plan. For your final project, you will revise and resubmit your first three Honors Lessons Projects based on the feedback you have received. \n",
    "\n",
    "Begin by reviewing the suggestions from your evaluators. Then, decide what you should revise. You will also be asked to reflect upon these revisions or suggestions. Be open to their suggestions, but perhaps you may disagree with your peers' analysis.  That is ok. If you don’t feel that their suggestion is appropriate to your project, provide justification in the summary.  \n",
    "\n",
    "It is also important to take some time to reflect upon what you have learned in this course.  How will you apply the concepts to your current or future career?  In this assignment you will also discuss your two key takeaways from the course.  What has impacted you the most?  What will you incorporate into your work or personal life?  \n",
    "\n",
    "Prompts for Final Project\n",
    "\n",
    "Prompt 1\n",
    "\n",
    "Review the feedback you received from your peers on your first three course project assignments. Revise what you wrote and combine all three assignments into one PDF document. \n",
    "\n",
    "Prompt 2\n",
    "\n",
    "Write a 300-700 word reflection on the revisions you made to your project documents. Cite specific feedback you received and explain why you did or didn’t incorporate that feedback. Please also reflect on two key takeaways from the course that you can apply to your career."
   ]
  },
  {
   "cell_type": "markdown",
   "id": "0cffc417-46f5-4912-91bc-fef62a2aadfe",
   "metadata": {},
   "source": [
    "re-submit all assignments with corrections"
   ]
  },
  {
   "cell_type": "code",
   "execution_count": null,
   "id": "0a8d8c50-e740-49a0-8330-f0b66da48286",
   "metadata": {},
   "outputs": [],
   "source": []
  }
 ],
 "metadata": {
  "kernelspec": {
   "display_name": "Python 3 (ipykernel)",
   "language": "python",
   "name": "python3"
  },
  "language_info": {
   "codemirror_mode": {
    "name": "ipython",
    "version": 3
   },
   "file_extension": ".py",
   "mimetype": "text/x-python",
   "name": "python",
   "nbconvert_exporter": "python",
   "pygments_lexer": "ipython3",
   "version": "3.8.18"
  }
 },
 "nbformat": 4,
 "nbformat_minor": 5
}
